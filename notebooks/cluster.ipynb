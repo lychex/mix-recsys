{
 "cells": [
  {
   "cell_type": "code",
   "execution_count": 6,
   "metadata": {},
   "outputs": [],
   "source": [
    "import pandas as pd\n",
    "import numpy as np\n",
    "import sys\n",
    "\n",
    "sys.path.append('./../modules')\n",
    "\n",
    "from visual import *\n",
    "from data import PageData, ActivityData"
   ]
  },
  {
   "cell_type": "code",
   "execution_count": 13,
   "metadata": {},
   "outputs": [],
   "source": [
    "data = pd.read_csv('./../databases/csv-data/basic_data.csv')\n",
    "\n",
    "page_df = PageData(data).cleaned\n",
    "activity_df = ActivityData(page_df)"
   ]
  },
  {
   "cell_type": "code",
   "execution_count": 14,
   "metadata": {},
   "outputs": [],
   "source": [
    "activity_df.cleaned"
   ]
  },
  {
   "cell_type": "code",
   "execution_count": null,
   "metadata": {},
   "outputs": [
    {
     "data": {
      "text/html": [
       "<div>\n",
       "<style scoped>\n",
       "    .dataframe tbody tr th:only-of-type {\n",
       "        vertical-align: middle;\n",
       "    }\n",
       "\n",
       "    .dataframe tbody tr th {\n",
       "        vertical-align: top;\n",
       "    }\n",
       "\n",
       "    .dataframe thead th {\n",
       "        text-align: right;\n",
       "    }\n",
       "</style>\n",
       "<table border=\"1\" class=\"dataframe\">\n",
       "  <thead>\n",
       "    <tr style=\"text-align: right;\">\n",
       "      <th></th>\n",
       "      <th>uid</th>\n",
       "      <th>page</th>\n",
       "    </tr>\n",
       "  </thead>\n",
       "  <tbody>\n",
       "    <tr>\n",
       "      <th>0</th>\n",
       "      <td>000708d176f8010cb95adfa271ad797d</td>\n",
       "      <td>being taken to small claims court</td>\n",
       "    </tr>\n",
       "    <tr>\n",
       "      <th>1</th>\n",
       "      <td>000708d176f8010cb95adfa271ad797d</td>\n",
       "      <td>taking someone to small claims court</td>\n",
       "    </tr>\n",
       "    <tr>\n",
       "      <th>2</th>\n",
       "      <td>001291be71d38604bc02f7c469b80704</td>\n",
       "      <td>why does she bleed when i finger her</td>\n",
       "    </tr>\n",
       "    <tr>\n",
       "      <th>3</th>\n",
       "      <td>001291be71d38604bc02f7c469b80704</td>\n",
       "      <td>fingering a girl</td>\n",
       "    </tr>\n",
       "    <tr>\n",
       "      <th>4</th>\n",
       "      <td>00310de616cf03e7740b739ead30aed2</td>\n",
       "      <td>thank you</td>\n",
       "    </tr>\n",
       "    <tr>\n",
       "      <th>...</th>\n",
       "      <td>...</td>\n",
       "      <td>...</td>\n",
       "    </tr>\n",
       "    <tr>\n",
       "      <th>32937</th>\n",
       "      <td>f7a8dd27d3c07718c967ba26ce4d199e</td>\n",
       "      <td>digital connector training  module</td>\n",
       "    </tr>\n",
       "    <tr>\n",
       "      <th>32938</th>\n",
       "      <td>f7a8dd27d3c07718c967ba26ce4d199e</td>\n",
       "      <td>digital connector training  module</td>\n",
       "    </tr>\n",
       "    <tr>\n",
       "      <th>32939</th>\n",
       "      <td>f7a8dd27d3c07718c967ba26ce4d199e</td>\n",
       "      <td>digital connector training  module</td>\n",
       "    </tr>\n",
       "    <tr>\n",
       "      <th>32940</th>\n",
       "      <td>f7a8dd27d3c07718c967ba26ce4d199e</td>\n",
       "      <td>digital connector training  module</td>\n",
       "    </tr>\n",
       "    <tr>\n",
       "      <th>32941</th>\n",
       "      <td>f7a8dd27d3c07718c967ba26ce4d199e</td>\n",
       "      <td>registration has already been confirmed</td>\n",
       "    </tr>\n",
       "  </tbody>\n",
       "</table>\n",
       "<p>32942 rows × 2 columns</p>\n",
       "</div>"
      ],
      "text/plain": [
       "                                    uid  \\\n",
       "0      000708d176f8010cb95adfa271ad797d   \n",
       "1      000708d176f8010cb95adfa271ad797d   \n",
       "2      001291be71d38604bc02f7c469b80704   \n",
       "3      001291be71d38604bc02f7c469b80704   \n",
       "4      00310de616cf03e7740b739ead30aed2   \n",
       "...                                 ...   \n",
       "32937  f7a8dd27d3c07718c967ba26ce4d199e   \n",
       "32938  f7a8dd27d3c07718c967ba26ce4d199e   \n",
       "32939  f7a8dd27d3c07718c967ba26ce4d199e   \n",
       "32940  f7a8dd27d3c07718c967ba26ce4d199e   \n",
       "32941  f7a8dd27d3c07718c967ba26ce4d199e   \n",
       "\n",
       "                                          page  \n",
       "0            being taken to small claims court  \n",
       "1         taking someone to small claims court  \n",
       "2         why does she bleed when i finger her  \n",
       "3                             fingering a girl  \n",
       "4                                    thank you  \n",
       "...                                        ...  \n",
       "32937       digital connector training  module  \n",
       "32938       digital connector training  module  \n",
       "32939       digital connector training  module  \n",
       "32940       digital connector training  module  \n",
       "32941  registration has already been confirmed  \n",
       "\n",
       "[32942 rows x 2 columns]"
      ]
     },
     "execution_count": 9,
     "metadata": {},
     "output_type": "execute_result"
    }
   ],
   "source": [
    "page_df"
   ]
  },
  {
   "cell_type": "code",
   "execution_count": null,
   "metadata": {},
   "outputs": [],
   "source": []
  }
 ],
 "metadata": {
  "interpreter": {
   "hash": "f0a2d6c454892d97c8fe52b6f3605f8a69908feb029202e938758cb5277d5653"
  },
  "kernelspec": {
   "display_name": "Python 3.8.5 64-bit ('base': conda)",
   "language": "python",
   "name": "python3"
  },
  "language_info": {
   "codemirror_mode": {
    "name": "ipython",
    "version": 3
   },
   "file_extension": ".py",
   "mimetype": "text/x-python",
   "name": "python",
   "nbconvert_exporter": "python",
   "pygments_lexer": "ipython3",
   "version": "3.8.5"
  },
  "orig_nbformat": 4
 },
 "nbformat": 4,
 "nbformat_minor": 2
}
