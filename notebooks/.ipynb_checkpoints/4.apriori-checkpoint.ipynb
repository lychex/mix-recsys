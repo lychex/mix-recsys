{
 "cells": [
  {
   "cell_type": "markdown",
   "id": "d55ad968",
   "metadata": {},
   "source": [
    "## Apriori algorithm and Association rules"
   ]
  },
  {
   "cell_type": "code",
   "execution_count": 1,
   "id": "d59cf579",
   "metadata": {},
   "outputs": [],
   "source": [
    "import os\n",
    "import numpy as np\n",
    "import pandas as pd\n",
    "import seaborn as sns\n",
    "import matplotlib.pyplot as plt\n",
    "from mlxtend.preprocessing import TransactionEncoder\n",
    "from mlxtend.frequent_patterns import apriori, association_rules\n",
    "from pandas.plotting import parallel_coordinates"
   ]
  },
  {
   "cell_type": "code",
   "execution_count": 2,
   "id": "f0edf305",
   "metadata": {},
   "outputs": [],
   "source": [
    "# Load data\n",
    "pageviews = pd.read_csv('./../databases/csv-data/cleaned.csv', \n",
    "                        parse_dates=['datetime'])[['uid', 'page', 'pageURL', 'datetime']]\n",
    "# Create a column ranking pageview sequence\n",
    "pageviews['pageview_sequence'] = pageviews.groupby(['uid'])['datetime'].rank(method='first')"
   ]
  },
  {
   "cell_type": "code",
   "execution_count": 3,
   "id": "9a12fb28",
   "metadata": {},
   "outputs": [],
   "source": [
    "def get_pageviews_list(df):\n",
    "    pageviews_list = []\n",
    "    for uid in df.uid.unique():\n",
    "        temp = df[df['uid'] == uid].sort_values(by='pageview_sequence')\n",
    "        pageviews_list.append(list(temp.page.values))\n",
    "    return pageviews_list"
   ]
  },
  {
   "cell_type": "code",
   "execution_count": 4,
   "id": "316f68b6",
   "metadata": {},
   "outputs": [],
   "source": [
    "pageviews_list = get_pageviews_list(pageviews)"
   ]
  },
  {
   "cell_type": "code",
   "execution_count": 5,
   "id": "7336b013",
   "metadata": {},
   "outputs": [
    {
     "data": {
      "text/plain": [
       "[['Taking someone to small claims court - The Mix',\n",
       "  'Being taken to small claims court - The Mix'],\n",
       " ['Fingering a girl - TheMix.org.uk',\n",
       "  'Why does she bleed when I finger her? - TheMix.org.uk'],\n",
       " ['General chit chat (OP GreenTea) - Page 542 — The Mix Support Community',\n",
       "  'The Mix Community',\n",
       "  'Speak to Our Team - The Mix',\n",
       "  'The Mix Counselling Service - The Mix',\n",
       "  'Thank you - The Mix'],\n",
       " ['The Mix Counselling Service - The Mix',\n",
       "  'Get Support - The Mix',\n",
       "  'Launching: The Kindness Diary - The Mix'],\n",
       " ['Jobs - The Mix',\n",
       "  'Job interview tips - The Mix',\n",
       "  'What are the symptoms of a coke comedown? - The Mix']]"
      ]
     },
     "execution_count": 5,
     "metadata": {},
     "output_type": "execute_result"
    }
   ],
   "source": [
    "pageviews_list[0:5]"
   ]
  },
  {
   "cell_type": "code",
   "execution_count": 6,
   "id": "d91274e2",
   "metadata": {},
   "outputs": [
    {
     "ename": "TypeError",
     "evalue": "'<' not supported between instances of 'str' and 'float'",
     "output_type": "error",
     "traceback": [
      "\u001b[1;31m---------------------------------------------------------------------------\u001b[0m",
      "\u001b[1;31mTypeError\u001b[0m                                 Traceback (most recent call last)",
      "\u001b[1;32m~\\AppData\\Local\\Temp/ipykernel_8796/4009433565.py\u001b[0m in \u001b[0;36m<module>\u001b[1;34m\u001b[0m\n\u001b[0;32m      1\u001b[0m \u001b[1;31m# Instantiate encoder and identify unique items\u001b[0m\u001b[1;33m\u001b[0m\u001b[1;33m\u001b[0m\u001b[1;33m\u001b[0m\u001b[0m\n\u001b[1;32m----> 2\u001b[1;33m \u001b[0mencoder\u001b[0m \u001b[1;33m=\u001b[0m \u001b[0mTransactionEncoder\u001b[0m\u001b[1;33m(\u001b[0m\u001b[1;33m)\u001b[0m\u001b[1;33m.\u001b[0m\u001b[0mfit\u001b[0m\u001b[1;33m(\u001b[0m\u001b[0mpageviews_list\u001b[0m\u001b[1;33m)\u001b[0m\u001b[1;33m\u001b[0m\u001b[1;33m\u001b[0m\u001b[0m\n\u001b[0m\u001b[0;32m      3\u001b[0m \u001b[1;33m\u001b[0m\u001b[0m\n\u001b[0;32m      4\u001b[0m \u001b[1;31m# One-hot encode transactions\u001b[0m\u001b[1;33m\u001b[0m\u001b[1;33m\u001b[0m\u001b[1;33m\u001b[0m\u001b[0m\n\u001b[0;32m      5\u001b[0m \u001b[0monehot\u001b[0m \u001b[1;33m=\u001b[0m \u001b[0mencoder\u001b[0m\u001b[1;33m.\u001b[0m\u001b[0mtransform\u001b[0m\u001b[1;33m(\u001b[0m\u001b[0mpageviews_list\u001b[0m\u001b[1;33m)\u001b[0m\u001b[1;33m\u001b[0m\u001b[1;33m\u001b[0m\u001b[0m\n",
      "\u001b[1;32m~\\anaconda3\\lib\\site-packages\\mlxtend\\preprocessing\\transactionencoder.py\u001b[0m in \u001b[0;36mfit\u001b[1;34m(self, X)\u001b[0m\n\u001b[0;32m     56\u001b[0m             \u001b[1;32mfor\u001b[0m \u001b[0mitem\u001b[0m \u001b[1;32min\u001b[0m \u001b[0mtransaction\u001b[0m\u001b[1;33m:\u001b[0m\u001b[1;33m\u001b[0m\u001b[1;33m\u001b[0m\u001b[0m\n\u001b[0;32m     57\u001b[0m                 \u001b[0munique_items\u001b[0m\u001b[1;33m.\u001b[0m\u001b[0madd\u001b[0m\u001b[1;33m(\u001b[0m\u001b[0mitem\u001b[0m\u001b[1;33m)\u001b[0m\u001b[1;33m\u001b[0m\u001b[1;33m\u001b[0m\u001b[0m\n\u001b[1;32m---> 58\u001b[1;33m         \u001b[0mself\u001b[0m\u001b[1;33m.\u001b[0m\u001b[0mcolumns_\u001b[0m \u001b[1;33m=\u001b[0m \u001b[0msorted\u001b[0m\u001b[1;33m(\u001b[0m\u001b[0munique_items\u001b[0m\u001b[1;33m)\u001b[0m\u001b[1;33m\u001b[0m\u001b[1;33m\u001b[0m\u001b[0m\n\u001b[0m\u001b[0;32m     59\u001b[0m         \u001b[0mcolumns_mapping\u001b[0m \u001b[1;33m=\u001b[0m \u001b[1;33m{\u001b[0m\u001b[1;33m}\u001b[0m\u001b[1;33m\u001b[0m\u001b[1;33m\u001b[0m\u001b[0m\n\u001b[0;32m     60\u001b[0m         \u001b[1;32mfor\u001b[0m \u001b[0mcol_idx\u001b[0m\u001b[1;33m,\u001b[0m \u001b[0mitem\u001b[0m \u001b[1;32min\u001b[0m \u001b[0menumerate\u001b[0m\u001b[1;33m(\u001b[0m\u001b[0mself\u001b[0m\u001b[1;33m.\u001b[0m\u001b[0mcolumns_\u001b[0m\u001b[1;33m)\u001b[0m\u001b[1;33m:\u001b[0m\u001b[1;33m\u001b[0m\u001b[1;33m\u001b[0m\u001b[0m\n",
      "\u001b[1;31mTypeError\u001b[0m: '<' not supported between instances of 'str' and 'float'"
     ]
    }
   ],
   "source": [
    "# Instantiate encoder and identify unique items\n",
    "encoder = TransactionEncoder().fit(pageviews_list)\n",
    "\n",
    "# One-hot encode transactions\n",
    "onehot = encoder.transform(pageviews_list)\n",
    "\n",
    "# Convert one-hot encoded data to DataFrame\n",
    "onehot = pd.DataFrame(onehot, columns=encoder.columns_)"
   ]
  },
  {
   "cell_type": "code",
   "execution_count": null,
   "id": "73a18550",
   "metadata": {},
   "outputs": [],
   "source": [
    "frequent_itemsets = apriori(onehot, min_support=0.02, use_colnames=True, max_len=2)\n",
    "rules = association_rules(frequent_itemsets, metric='support', min_threshold=0.00)"
   ]
  },
  {
   "cell_type": "code",
   "execution_count": null,
   "id": "19d07975",
   "metadata": {},
   "outputs": [],
   "source": [
    "rules.head()"
   ]
  },
  {
   "cell_type": "code",
   "execution_count": null,
   "id": "f94e7c00",
   "metadata": {
    "scrolled": false
   },
   "outputs": [],
   "source": [
    "# Replace frozen sets with strings\n",
    "rules['antecedents'] = rules['antecedents'].apply(lambda a: ','.join(list(a)))\n",
    "rules['consequents'] = rules['consequents'].apply(lambda a: ','.join(list(a)))\n",
    "# Transform data to matrix format and generate heatmap\n",
    "pivot = rules.pivot_table(index='consequents', columns='antecedents', values='lift')\n",
    "\n",
    "sns.set(font_scale=0.8)\n",
    "sns.heatmap(pivot, cmap='YlGnBu', annot=True, annot_kws={\"fontsize\":6})\n",
    "# Format and display plot\n",
    "plt.yticks(rotation=0)\n",
    "save_fig('heatmap')\n",
    "plt.show()"
   ]
  },
  {
   "cell_type": "code",
   "execution_count": null,
   "id": "72b9115e",
   "metadata": {},
   "outputs": [],
   "source": [
    "frequent_itemsets = apriori(onehot, min_support=0.02, use_colnames=True, max_len=2)\n",
    "rules = association_rules(frequent_itemsets, metric='lift', min_threshold=2.5)"
   ]
  },
  {
   "cell_type": "code",
   "execution_count": null,
   "id": "2105f0aa",
   "metadata": {},
   "outputs": [],
   "source": [
    "# Convert rules to coordinates. \n",
    "rules['antecedent'] = rules['antecedents'].apply(lambda antecedent: list(antecedent)[0]) \n",
    "rules['consequent'] = rules['consequents'].apply(lambda consequent: list(consequent)[0]) \n",
    "rules['rule'] = rules.index "
   ]
  },
  {
   "cell_type": "code",
   "execution_count": null,
   "id": "7ca7c650",
   "metadata": {},
   "outputs": [],
   "source": [
    "# Define coordinates and label\n",
    "coords = rules[['antecedent','consequent','rule']] \n",
    "coords.head()"
   ]
  },
  {
   "cell_type": "code",
   "execution_count": null,
   "id": "1c27dfcd",
   "metadata": {},
   "outputs": [],
   "source": [
    "plt.figure(figsize=(4,6))\n",
    "parallel_coordinates(coords, 'rule', colormap='YlGnBu',)\n",
    "plt.legend([])\n",
    "save_fig('parallel')\n",
    "plt.show()"
   ]
  },
  {
   "cell_type": "code",
   "execution_count": null,
   "id": "bcb07005",
   "metadata": {},
   "outputs": [],
   "source": [
    "import pandas as pd\n",
    "pageviews = pd.read_csv(\"./cleaned.csv\", parse_dates=['datetime'])[['uid', 'page', 'pageURL', 'datetime']]\n",
    "pageviews.uid.nunique()"
   ]
  },
  {
   "cell_type": "code",
   "execution_count": null,
   "id": "9fe56a28",
   "metadata": {},
   "outputs": [],
   "source": [
    "import os\n",
    "import numpy as np\n",
    "import pandas as pd\n",
    "import seaborn as sns\n",
    "import matplotlib.pyplot as plt\n",
    "from pandas.plotting import parallel_coordinates\n",
    "\n",
    "PROJECT_DIR = \".\"\n",
    "IMAGES_PATH = os.path.join(PROJECT_DIR, \"images\")\n",
    "os.makedirs(IMAGES_PATH, exist_ok=True)\n",
    "\n",
    "def save_fig(fig_name, tight_layout=False, fig_extension=\"png\", resolution=300):\n",
    "    path = os.path.join(IMAGES_PATH, fig_name + \".\" + fig_extension)\n",
    "    if tight_layout:\n",
    "        plt.tight_layout()\n",
    "    plt.savefig(path, format=fig_extension, dpi=resolution, bbox_inches=\"tight\")\n",
    "    print(\"Figure saved,\", fig_name)"
   ]
  },
  {
   "cell_type": "code",
   "execution_count": null,
   "id": "9799586b",
   "metadata": {},
   "outputs": [],
   "source": [
    "# Load data\n",
    "pageviews = pd.read_csv(\"./cleaned.csv\", parse_dates=['datetime'])[['uid', 'page', 'pageURL', 'datetime']]"
   ]
  },
  {
   "cell_type": "code",
   "execution_count": null,
   "id": "3bde77f1",
   "metadata": {},
   "outputs": [],
   "source": [
    "pageviews"
   ]
  },
  {
   "cell_type": "code",
   "execution_count": null,
   "id": "4bd84818",
   "metadata": {},
   "outputs": [],
   "source": []
  }
 ],
 "metadata": {
  "kernelspec": {
   "display_name": "Python 3 (ipykernel)",
   "language": "python",
   "name": "python3"
  },
  "language_info": {
   "codemirror_mode": {
    "name": "ipython",
    "version": 3
   },
   "file_extension": ".py",
   "mimetype": "text/x-python",
   "name": "python",
   "nbconvert_exporter": "python",
   "pygments_lexer": "ipython3",
   "version": "3.8.5"
  }
 },
 "nbformat": 4,
 "nbformat_minor": 5
}
