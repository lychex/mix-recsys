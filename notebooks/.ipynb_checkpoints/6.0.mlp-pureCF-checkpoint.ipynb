{
 "cells": [
  {
   "cell_type": "markdown",
   "metadata": {},
   "source": [
    "### Data Preprocessing"
   ]
  },
  {
   "cell_type": "code",
   "execution_count": 1,
   "metadata": {
    "_cell_guid": "b1076dfc-b9ad-4769-8c92-a6c4dae69d19",
    "_kg_hide-input": true,
    "_kg_hide-output": true,
    "_uuid": "8f2839f25d086af736a60e9eeb907d3b93b6e0e5"
   },
   "outputs": [],
   "source": [
    "import pandas as pd\n",
    "import numpy as np\n",
    "import math\n",
    "from tqdm.notebook import tqdm\n",
    "\n",
    "import torch\n",
    "import torch.nn as nn\n",
    "from torch.utils.data import Dataset, DataLoader\n",
    "import pytorch_lightning as pl\n",
    "import sys\n",
    "\n",
    "sys.path.append('./modules')\n",
    "\n",
    "np.random.seed(12)"
   ]
  },
  {
   "cell_type": "code",
   "execution_count": null,
   "metadata": {},
   "outputs": [],
   "source": [
    "# ratings = pd.read_csv(\"./../databases/csv-data/cleaned.csv\", parse_dates=['datetime'])\n",
    "# ratings = ratings[['uid', 'page', 'pageURL', 'interest', 'datetime']]\n",
    "\n",
    "\n",
    "# user_enc = LabelEncoder()\n",
    "# ratings['userID'] = user_enc.fit_transform(ratings['uid'].values)\n",
    "\n",
    "# item_enc = LabelEncoder()\n",
    "# ratings['pageID'] = item_enc.fit_transform(ratings['pageURL'].values)\n",
    "\n",
    "# ratings['pageview_latest'] = ratings.groupby(['uid'])['datetime'].rank(method='first', ascending=False)\n",
    "\n",
    "# ratings[['userID', 'pageID', 'datetime', 'pageview_latest']]\\\n",
    "# .sort_values(by='userID').set_index('userID').sort_values(by=['userID','pageview_latest'])[:10].reset_index()"
   ]
  },
  {
   "cell_type": "code",
   "execution_count": 2,
   "metadata": {},
   "outputs": [],
   "source": [
    "# Load the data\n",
    "ratings = pd.read_csv(\"./../databases/csv-data/cleaned.csv\", parse_dates=['datetime'])\n",
    "ratings = ratings[['uid', 'page', 'pageURL', 'interest', 'datetime']]\n",
    "# Filter out users with less than 2 pageviews\n",
    "ratings = ratings.groupby(['uid']).filter(lambda x: len(x) > 1).reset_index(drop=True)"
   ]
  },
  {
   "cell_type": "code",
   "execution_count": 3,
   "metadata": {},
   "outputs": [
    {
     "data": {
      "text/html": [
       "<div>\n",
       "<style scoped>\n",
       "    .dataframe tbody tr th:only-of-type {\n",
       "        vertical-align: middle;\n",
       "    }\n",
       "\n",
       "    .dataframe tbody tr th {\n",
       "        vertical-align: top;\n",
       "    }\n",
       "\n",
       "    .dataframe thead th {\n",
       "        text-align: right;\n",
       "    }\n",
       "</style>\n",
       "<table border=\"1\" class=\"dataframe\">\n",
       "  <thead>\n",
       "    <tr style=\"text-align: right;\">\n",
       "      <th></th>\n",
       "      <th>uid</th>\n",
       "      <th>page</th>\n",
       "      <th>pageURL</th>\n",
       "      <th>interest</th>\n",
       "      <th>datetime</th>\n",
       "      <th>userID</th>\n",
       "      <th>pageID</th>\n",
       "      <th>pageview_latest</th>\n",
       "    </tr>\n",
       "  </thead>\n",
       "  <tbody>\n",
       "    <tr>\n",
       "      <th>8649</th>\n",
       "      <td>483fb3037712d3a9907042921e15bec8</td>\n",
       "      <td>Relationship Squad - The Mix</td>\n",
       "      <td>/get-involved/volunteering/relationship-squad</td>\n",
       "      <td>0.685612</td>\n",
       "      <td>2020-04-07 15:43:00</td>\n",
       "      <td>1240</td>\n",
       "      <td>5190</td>\n",
       "      <td>5.0</td>\n",
       "    </tr>\n",
       "    <tr>\n",
       "      <th>13462</th>\n",
       "      <td>7128d83ff2f5147e06fe7f2201a3c13c</td>\n",
       "      <td>Gender &amp; Sexuality — The Mix Support Community</td>\n",
       "      <td>/categories/gender-sexuality</td>\n",
       "      <td>0.183353</td>\n",
       "      <td>2020-12-17 02:30:00</td>\n",
       "      <td>1942</td>\n",
       "      <td>125</td>\n",
       "      <td>18.0</td>\n",
       "    </tr>\n",
       "    <tr>\n",
       "      <th>1667</th>\n",
       "      <td>0e6d1db12dedaf3fe8ea2ebfd637f0a5</td>\n",
       "      <td>Missed periods - The Mix</td>\n",
       "      <td>/your-body/womens-health/missed-periods-7354.html</td>\n",
       "      <td>0.685612</td>\n",
       "      <td>2020-12-24 18:50:00</td>\n",
       "      <td>247</td>\n",
       "      <td>6476</td>\n",
       "      <td>42.0</td>\n",
       "    </tr>\n",
       "    <tr>\n",
       "      <th>15167</th>\n",
       "      <td>7d73ae2e0aebf167f431c4a07d04d5b3</td>\n",
       "      <td>Service Innovators Committee Member - The Mix</td>\n",
       "      <td>/get-involved/volunteering/service-shaper-stee...</td>\n",
       "      <td>0.183353</td>\n",
       "      <td>2021-03-24 05:57:00</td>\n",
       "      <td>2154</td>\n",
       "      <td>5191</td>\n",
       "      <td>5.0</td>\n",
       "    </tr>\n",
       "    <tr>\n",
       "      <th>17776</th>\n",
       "      <td>91ab28b927641eb55579cb3addfdc662</td>\n",
       "      <td>How I'm getting on at the moment. — The Mix Su...</td>\n",
       "      <td>/discussion/comment/3626091</td>\n",
       "      <td>0.732893</td>\n",
       "      <td>2020-02-07 22:30:00</td>\n",
       "      <td>2508</td>\n",
       "      <td>3190</td>\n",
       "      <td>6.0</td>\n",
       "    </tr>\n",
       "  </tbody>\n",
       "</table>\n",
       "</div>"
      ],
      "text/plain": [
       "                                    uid  \\\n",
       "8649   483fb3037712d3a9907042921e15bec8   \n",
       "13462  7128d83ff2f5147e06fe7f2201a3c13c   \n",
       "1667   0e6d1db12dedaf3fe8ea2ebfd637f0a5   \n",
       "15167  7d73ae2e0aebf167f431c4a07d04d5b3   \n",
       "17776  91ab28b927641eb55579cb3addfdc662   \n",
       "\n",
       "                                                    page  \\\n",
       "8649                        Relationship Squad - The Mix   \n",
       "13462     Gender & Sexuality — The Mix Support Community   \n",
       "1667                            Missed periods - The Mix   \n",
       "15167      Service Innovators Committee Member - The Mix   \n",
       "17776  How I'm getting on at the moment. — The Mix Su...   \n",
       "\n",
       "                                                 pageURL  interest  \\\n",
       "8649       /get-involved/volunteering/relationship-squad  0.685612   \n",
       "13462                       /categories/gender-sexuality  0.183353   \n",
       "1667   /your-body/womens-health/missed-periods-7354.html  0.685612   \n",
       "15167  /get-involved/volunteering/service-shaper-stee...  0.183353   \n",
       "17776                        /discussion/comment/3626091  0.732893   \n",
       "\n",
       "                 datetime  userID  pageID  pageview_latest  \n",
       "8649  2020-04-07 15:43:00    1240    5190              5.0  \n",
       "13462 2020-12-17 02:30:00    1942     125             18.0  \n",
       "1667  2020-12-24 18:50:00     247    6476             42.0  \n",
       "15167 2021-03-24 05:57:00    2154    5191              5.0  \n",
       "17776 2020-02-07 22:30:00    2508    3190              6.0  "
      ]
     },
     "execution_count": 3,
     "metadata": {},
     "output_type": "execute_result"
    }
   ],
   "source": [
    "from sklearn.preprocessing import LabelEncoder\n",
    "\n",
    "user_enc = LabelEncoder()\n",
    "ratings['userID'] = user_enc.fit_transform(ratings['uid'].values)\n",
    "\n",
    "item_enc = LabelEncoder()\n",
    "ratings['pageID'] = item_enc.fit_transform(ratings['pageURL'].values)\n",
    "\n",
    "ratings['pageview_latest'] = ratings.groupby(['uid'])['datetime'].rank(method='first', ascending=False)\n",
    "ratings.sample(5)"
   ]
  },
  {
   "cell_type": "markdown",
   "metadata": {},
   "source": [
    "### Train-test split"
   ]
  },
  {
   "cell_type": "code",
   "execution_count": 5,
   "metadata": {},
   "outputs": [],
   "source": [
    "def data_split(ratings):\n",
    "    ratings['pageview_latest'] = ratings.groupby(['userID'])['datetime'].rank(method='first', ascending=False)\n",
    "\n",
    "    train_ratings = ratings[ratings['pageview_latest'] != 1]\n",
    "    test_ratings = ratings[ratings['pageview_latest'] == 1]\n",
    "\n",
    "    # Select relevant columns\n",
    "    train_ratings = train_ratings[['userID', 'pageID', 'interest']]\n",
    "    test_ratings = test_ratings[['userID', 'pageID', 'interest']]\n",
    "    \n",
    "    return train_ratings, test_ratings"
   ]
  },
  {
   "cell_type": "code",
   "execution_count": 6,
   "metadata": {},
   "outputs": [],
   "source": [
    "train_ratings, test_ratings = data_split(ratings)"
   ]
  },
  {
   "cell_type": "code",
   "execution_count": 7,
   "metadata": {},
   "outputs": [],
   "source": [
    "full_ratings=ratings"
   ]
  },
  {
   "cell_type": "markdown",
   "metadata": {},
   "source": [
    "### Converting ratings to implicit feedback"
   ]
  },
  {
   "cell_type": "code",
   "execution_count": 8,
   "metadata": {},
   "outputs": [
    {
     "data": {
      "text/html": [
       "<div>\n",
       "<style scoped>\n",
       "    .dataframe tbody tr th:only-of-type {\n",
       "        vertical-align: middle;\n",
       "    }\n",
       "\n",
       "    .dataframe tbody tr th {\n",
       "        vertical-align: top;\n",
       "    }\n",
       "\n",
       "    .dataframe thead th {\n",
       "        text-align: right;\n",
       "    }\n",
       "</style>\n",
       "<table border=\"1\" class=\"dataframe\">\n",
       "  <thead>\n",
       "    <tr style=\"text-align: right;\">\n",
       "      <th></th>\n",
       "      <th>userID</th>\n",
       "      <th>pageID</th>\n",
       "      <th>interest</th>\n",
       "    </tr>\n",
       "  </thead>\n",
       "  <tbody>\n",
       "    <tr>\n",
       "      <th>17582</th>\n",
       "      <td>2468</td>\n",
       "      <td>953</td>\n",
       "      <td>1</td>\n",
       "    </tr>\n",
       "    <tr>\n",
       "      <th>18453</th>\n",
       "      <td>2604</td>\n",
       "      <td>0</td>\n",
       "      <td>1</td>\n",
       "    </tr>\n",
       "    <tr>\n",
       "      <th>2044</th>\n",
       "      <td>315</td>\n",
       "      <td>0</td>\n",
       "      <td>1</td>\n",
       "    </tr>\n",
       "    <tr>\n",
       "      <th>17998</th>\n",
       "      <td>2541</td>\n",
       "      <td>6353</td>\n",
       "      <td>1</td>\n",
       "    </tr>\n",
       "    <tr>\n",
       "      <th>14592</th>\n",
       "      <td>2086</td>\n",
       "      <td>63</td>\n",
       "      <td>1</td>\n",
       "    </tr>\n",
       "  </tbody>\n",
       "</table>\n",
       "</div>"
      ],
      "text/plain": [
       "       userID  pageID  interest\n",
       "17582    2468     953         1\n",
       "18453    2604       0         1\n",
       "2044      315       0         1\n",
       "17998    2541    6353         1\n",
       "14592    2086      63         1"
      ]
     },
     "execution_count": 8,
     "metadata": {},
     "output_type": "execute_result"
    }
   ],
   "source": [
    "train_ratings.loc[:, 'interest'] = 1\n",
    "\n",
    "train_ratings.sample(5)"
   ]
  },
  {
   "cell_type": "markdown",
   "metadata": {},
   "source": [
    "### Neural Collaborative Filtering (NCF) based on MLP"
   ]
  },
  {
   "cell_type": "code",
   "execution_count": 9,
   "metadata": {},
   "outputs": [],
   "source": [
    "num_users = ratings['userID'].max() + 1\n",
    "num_items = ratings['pageID'].max() + 1\n",
    "all_pageIDs = ratings['pageID'].unique()\n",
    "\n",
    "# Configuration\n",
    "config = dict()\n",
    "config['user_embedding_dim'] = 8\n",
    "config['item_embedding_dim'] = 8\n",
    "\n",
    "config['num_negatives'] = 2\n",
    "\n",
    "config['epochs'] = 50\n",
    "config['batch_size'] = 256\n",
    "config['dropout'] = 0.1\n",
    "\n",
    "config['layers']= [16,32,16, 8]"
   ]
  },
  {
   "cell_type": "code",
   "execution_count": 10,
   "metadata": {},
   "outputs": [],
   "source": [
    "class PageTrainDataset(Dataset):\n",
    "\n",
    "\n",
    "    def __init__(self, ratings, all_pageIDs):\n",
    "        self.users, self.items, self.labels = self.load_dataset(ratings, all_pageIDs)\n",
    "\n",
    "    def __len__(self):\n",
    "        return len(self.users)\n",
    "  \n",
    "    def __getitem__(self, idx):\n",
    "        return self.users[idx], self.items[idx], self.labels[idx]\n",
    "\n",
    "    def load_dataset(self, ratings, all_pageIDs):\n",
    "        users, items, labels = [], [], []\n",
    "        user_item_set = set(zip(ratings['userID'], ratings['pageID']))\n",
    "\n",
    "\n",
    "        for u, i in user_item_set:\n",
    "            users.append(u)\n",
    "            items.append(i)\n",
    "            labels.append(1)\n",
    "            for _ in range(config['num_negatives']):\n",
    "                negative_item = np.random.choice(all_pageIDs)\n",
    "                while (u, negative_item) in user_item_set:\n",
    "                    negative_item = np.random.choice(all_pageIDs)\n",
    "                users.append(u)\n",
    "                items.append(negative_item)\n",
    "                labels.append(0)\n",
    "\n",
    "        return torch.tensor(users), torch.tensor(items), torch.tensor(labels)"
   ]
  },
  {
   "cell_type": "code",
   "execution_count": 11,
   "metadata": {},
   "outputs": [],
   "source": [
    "class NeuralCF(pl.LightningModule):\n",
    "\n",
    "    \n",
    "    def __init__(self, ratings,  num_users=num_users, num_items=num_items, all_pageIDs=all_pageIDs):\n",
    "        super().__init__()\n",
    "        self.ratings = ratings\n",
    "        self.all_pageIDs = all_pageIDs\n",
    "        self.user_embedding = nn.Embedding(num_embeddings=num_users, embedding_dim=config['user_embedding_dim'])\n",
    "        self.item_embedding = nn.Embedding(num_embeddings=num_items, embedding_dim=config['item_embedding_dim'])\n",
    "\n",
    "        self.fc_layers = torch.nn.ModuleList()\n",
    "        for idx, (in_size, out_size) in enumerate(zip(config['layers'][:-1], config['layers'][1:])):\n",
    "            self.fc_layers.append(torch.nn.Linear(in_size, out_size))\n",
    "\n",
    "        self.output = torch.nn.Linear(in_features=config['layers'][-1], out_features=1)\n",
    "\n",
    "        \n",
    "    def forward(self, user_input, item_input):\n",
    "        \n",
    "        # Pass through embedding layers\n",
    "        user_embedded = self.user_embedding(user_input)\n",
    "        item_embedded = self.item_embedding(item_input)\n",
    "\n",
    "        # Concatenate the two embedding layers\n",
    "        vector = torch.cat([user_embedded, item_embedded], dim=-1)\n",
    "\n",
    "        # Pass through dense layer\n",
    "        for idx, _ in enumerate(range(len(self.fc_layers))):\n",
    "            vector = self.fc_layers[idx](vector)\n",
    "            vector = torch.nn.ReLU()(vector)\n",
    "            # vector = torch.nn.BatchNorm1d()(vector)\n",
    "            vector = torch.nn.Dropout(p=config['dropout'])(vector)\n",
    "\n",
    "\n",
    "        # Output layer\n",
    "        pred = nn.Sigmoid()(self.output(vector))\n",
    "\n",
    "        return pred\n",
    "    \n",
    "    def training_step(self, batch, batch_idx):\n",
    "        user_input, item_input, labels = batch\n",
    "        predicted_labels = self(user_input, item_input)\n",
    "        loss = nn.BCELoss()(predicted_labels, labels.view(-1, 1).float())\n",
    "        return loss\n",
    "\n",
    "    def configure_optimizers(self):\n",
    "        return torch.optim.Adam(self.parameters())\n",
    "\n",
    "    def train_dataloader(self):\n",
    "        return DataLoader(PageTrainDataset(self.ratings, self.all_pageIDs),\n",
    "                          batch_size=config['batch_size'], num_workers=0)"
   ]
  },
  {
   "cell_type": "code",
   "execution_count": 12,
   "metadata": {},
   "outputs": [],
   "source": [
    "# Build a model on training set\n",
    "model = NeuralCF(train_ratings)"
   ]
  },
  {
   "cell_type": "code",
   "execution_count": null,
   "metadata": {
    "scrolled": false
   },
   "outputs": [
    {
     "name": "stderr",
     "output_type": "stream",
     "text": [
      "GPU available: True, used: True\n",
      "TPU available: False, using: 0 TPU cores\n",
      "LOCAL_RANK: 0 - CUDA_VISIBLE_DEVICES: [0]\n",
      "\n",
      "  | Name           | Type       | Params\n",
      "----------------------------------------------\n",
      "0 | user_embedding | Embedding  | 35.3 K\n",
      "1 | item_embedding | Embedding  | 52.8 K\n",
      "2 | fc_layers      | ModuleList | 1.2 K \n",
      "3 | output         | Linear     | 9     \n",
      "----------------------------------------------\n",
      "89.4 K    Trainable params\n",
      "0         Non-trainable params\n",
      "89.4 K    Total params\n",
      "0.358     Total estimated model params size (MB)\n"
     ]
    },
    {
     "data": {
      "application/vnd.jupyter.widget-view+json": {
       "model_id": "192c5deb5eff43bd92fde5341d55bce2",
       "version_major": 2,
       "version_minor": 0
      },
      "text/plain": [
       "Training: 0it [00:00, ?it/s]"
      ]
     },
     "metadata": {},
     "output_type": "display_data"
    }
   ],
   "source": [
    "trainer = pl.Trainer(max_epochs=config['epochs'], gpus=1, reload_dataloaders_every_epoch=True,\n",
    "                     logger=False, checkpoint_callback=True)\n",
    "\n",
    "trainer.fit(model)"
   ]
  },
  {
   "cell_type": "markdown",
   "metadata": {},
   "source": [
    "### Evaluation"
   ]
  },
  {
   "cell_type": "code",
   "execution_count": 13,
   "metadata": {},
   "outputs": [],
   "source": [
    "def hr_ratio(test_ratings, model, ratings=full_ratings):\n",
    "    # User-item pairs for testing\n",
    "    test_user_item_set = set(zip(test_ratings['userID'], test_ratings['pageID']))\n",
    "    \n",
    "    # Dict of all items that are interacted with by each user\n",
    "    user_interacted_items = ratings.groupby('userID')['pageID'].apply(list).to_dict()\n",
    "\n",
    "    hits = []\n",
    "    for (u,i) in tqdm(test_user_item_set):\n",
    "        interacted_items = user_interacted_items[u]\n",
    "        not_interacted_items = set(all_pageIDs) - set(interacted_items)\n",
    "        selected_not_interacted = list(np.random.choice(list(not_interacted_items), 99))\n",
    "        test_items = selected_not_interacted + [i]\n",
    "\n",
    "        predicted_labels = np.squeeze(model(torch.tensor([u]*100), \n",
    "                                            torch.tensor(test_items)).detach().numpy())\n",
    "\n",
    "        top10_items = [test_items[i] for i in np.argsort(predicted_labels)[::-1][0:10].tolist()]\n",
    "\n",
    "        if i in top10_items:\n",
    "            hits.append(1)\n",
    "        else:\n",
    "            hits.append(0)\n",
    "            \n",
    "    return round(np.mean(hits), 3)"
   ]
  },
  {
   "cell_type": "code",
   "execution_count": 14,
   "metadata": {},
   "outputs": [
    {
     "data": {
      "application/vnd.jupyter.widget-view+json": {
       "model_id": "2f1787bd86d14709a27bed5e8e624b59",
       "version_major": 2,
       "version_minor": 0
      },
      "text/plain": [
       "  0%|          | 0/4415 [00:00<?, ?it/s]"
      ]
     },
     "metadata": {},
     "output_type": "display_data"
    },
    {
     "name": "stdout",
     "output_type": "stream",
     "text": [
      "Hit Ratio@10: 0.821\n"
     ]
    }
   ],
   "source": [
    "hr = hr_ratio(test_ratings, model)\n",
    "\n",
    "print(f\"Hit Ratio@10: {hr}\")"
   ]
  },
  {
   "cell_type": "code",
   "execution_count": 15,
   "metadata": {},
   "outputs": [],
   "source": [
    "def ndcg_ratio(test_ratings, model, ratings=full_ratings):\n",
    "\n",
    "    test_user_item_set = set(zip(test_ratings['userID'], test_ratings['pageID']))\n",
    "    user_interacted_items = ratings.groupby('userID')['pageID'].apply(list).to_dict()\n",
    "\n",
    "    ndcg = []\n",
    "    for (u,i) in tqdm(test_user_item_set):\n",
    "            interacted_items = user_interacted_items[u]\n",
    "            not_interacted_items = set(all_pageIDs) - set(interacted_items)\n",
    "            selected_not_interacted = list(np.random.choice(list(not_interacted_items), 99))\n",
    "            test_items = selected_not_interacted + [i]\n",
    "\n",
    "            predicted_labels = np.squeeze(model(torch.tensor([u]*100), \n",
    "                                                torch.tensor(test_items)).detach().numpy())\n",
    "            test_item_rank = (100-predicted_labels.argsort().argsort())[-1]\n",
    "            ndcg_per = math.log(2) / math.log(1 + test_item_rank)\n",
    "            ndcg.append(ndcg_per)\n",
    "\n",
    "    return round(sum(ndcg)/num_users, 3)"
   ]
  },
  {
   "cell_type": "code",
   "execution_count": 16,
   "metadata": {},
   "outputs": [
    {
     "data": {
      "application/vnd.jupyter.widget-view+json": {
       "model_id": "c381c8f5c5d9490487a49db0e0aa47d0",
       "version_major": 2,
       "version_minor": 0
      },
      "text/plain": [
       "  0%|          | 0/4415 [00:00<?, ?it/s]"
      ]
     },
     "metadata": {},
     "output_type": "display_data"
    },
    {
     "name": "stdout",
     "output_type": "stream",
     "text": [
      "NDCG ratio: 0.693\n"
     ]
    }
   ],
   "source": [
    "ndcg = ndcg_ratio(test_ratings, model)\n",
    "\n",
    "print(f\"NDCG ratio: {ndcg}\")"
   ]
  },
  {
   "cell_type": "markdown",
   "metadata": {},
   "source": [
    "### Make Recommendations"
   ]
  },
  {
   "cell_type": "code",
   "execution_count": 17,
   "metadata": {},
   "outputs": [],
   "source": [
    "pd.set_option('max_colwidth', 400)\n",
    "\n",
    "from IPython.display import display_html\n",
    "\n",
    "def display_side_by_side(*args):\n",
    "    html_str = ''\n",
    "    for df in args:\n",
    "        html_str += df.to_html()\n",
    "    display_html(html_str.replace('table','table style=\"display:inline\"'), raw=True)"
   ]
  },
  {
   "cell_type": "code",
   "execution_count": 18,
   "metadata": {},
   "outputs": [],
   "source": [
    "def recommendation_for_user():\n",
    "    test_user_item_set = set(zip(test_ratings['userID'], test_ratings['pageID']))\n",
    "    user_interacted_items = ratings.groupby('userID')['pageID'].apply(list).to_dict()\n",
    "    item = list(test_user_item_set)[np.random.randint(num_users)]\n",
    "    u, i = item[0], item[1]\n",
    "#     print(f\"User No.: {u}\")\n",
    "    print(f\"UserID: {ratings[ratings['userID'] == u]['uid'].unique()[0]}\")\n",
    "    \n",
    "    # Recommend top 10 items\n",
    "    n=10\n",
    "    interacted_items = user_interacted_items[u]\n",
    "    not_interacted_items = set(all_pageIDs) - set(interacted_items)\n",
    "    selected_not_interacted = list(np.random.choice(list(not_interacted_items), 99))\n",
    "    test_items = selected_not_interacted + [i]\n",
    "    predicted_labels = np.squeeze(model(torch.tensor([u]*100), \n",
    "                                                torch.tensor(test_items)).detach().numpy())\n",
    "    top_n_items = [test_items[i] for i in np.argsort(predicted_labels)[::-1][0:n].tolist()]\n",
    "\n",
    "    top_items = []\n",
    "    for ID in top_n_items:\n",
    "        top_items.append(ratings[ratings['pageID'] ==ID]['page'].unique()[0])\n",
    "        \n",
    "    # Create top 10 item dataframe\n",
    "    top_item_df = pd.DataFrame({ f'Top {n} Recommended Pages': top_items})\n",
    "    \n",
    "    # Create test page dataframe\n",
    "    if i in top_n_items:\n",
    "        hit_status = 'Yes'\n",
    "    else:\n",
    "        hit_status = 'No'\n",
    "    test_page_df = pd.DataFrame({'Test Page': ratings[ratings['pageID'] == i]['page'].unique()[0],\n",
    "                 'Hit': hit_status}, index=[0])\n",
    "    \n",
    "    # Create previously viewed page dataframe\n",
    "    previous_page_df = pd.DataFrame(ratings[(ratings['userID'] ==u) & (ratings['pageview_latest']!=1)]['page'])\\\n",
    "    .rename(columns={'page':'Pages Previously Viewed'})\n",
    "    \n",
    "    display_side_by_side(top_item_df, previous_page_df, test_page_df)"
   ]
  },
  {
   "cell_type": "code",
   "execution_count": 19,
   "metadata": {
    "scrolled": false
   },
   "outputs": [
    {
     "name": "stdout",
     "output_type": "stream",
     "text": [
      "UserID: e3d9becc8324f27f799b2b9b436cbc43\n"
     ]
    },
    {
     "data": {
      "text/html": [
       "<table style=\"display:inline\" border=\"1\" class=\"dataframe\">\n",
       "  <thead>\n",
       "    <tr style=\"text-align: right;\">\n",
       "      <th></th>\n",
       "      <th>Top 10 Recommended Pages</th>\n",
       "    </tr>\n",
       "  </thead>\n",
       "  <tbody>\n",
       "    <tr>\n",
       "      <th>0</th>\n",
       "      <td>New Discussion — The Mix Support Community</td>\n",
       "    </tr>\n",
       "    <tr>\n",
       "      <th>1</th>\n",
       "      <td>Define me - The Mix</td>\n",
       "    </tr>\n",
       "    <tr>\n",
       "      <th>2</th>\n",
       "      <td>Council tax - The Mix</td>\n",
       "    </tr>\n",
       "    <tr>\n",
       "      <th>3</th>\n",
       "      <td>Having Sex - The Mix</td>\n",
       "    </tr>\n",
       "    <tr>\n",
       "      <th>4</th>\n",
       "      <td>Friendship - The Mix</td>\n",
       "    </tr>\n",
       "    <tr>\n",
       "      <th>5</th>\n",
       "      <td>How to talk to your boyfriend/girlfriend - The Mix</td>\n",
       "    </tr>\n",
       "    <tr>\n",
       "      <th>6</th>\n",
       "      <td>Antidepressants FAQ - The Mix</td>\n",
       "    </tr>\n",
       "    <tr>\n",
       "      <th>7</th>\n",
       "      <td>General chit chat (OP GreenTea) - Page 573 — The Mix Support Community</td>\n",
       "    </tr>\n",
       "    <tr>\n",
       "      <th>8</th>\n",
       "      <td>if i had a whole day to relax - The Mix</td>\n",
       "    </tr>\n",
       "    <tr>\n",
       "      <th>9</th>\n",
       "      <td>Reported Posts — The Mix Support Community</td>\n",
       "    </tr>\n",
       "  </tbody>\n",
       "</table style=\"display:inline\"><table style=\"display:inline\" border=\"1\" class=\"dataframe\">\n",
       "  <thead>\n",
       "    <tr style=\"text-align: right;\">\n",
       "      <th></th>\n",
       "      <th>Pages Previously Viewed</th>\n",
       "    </tr>\n",
       "  </thead>\n",
       "  <tbody>\n",
       "    <tr>\n",
       "      <th>28089</th>\n",
       "      <td>Recent Discussions — The Mix Support Community</td>\n",
       "    </tr>\n",
       "  </tbody>\n",
       "</table style=\"display:inline\"><table style=\"display:inline\" border=\"1\" class=\"dataframe\">\n",
       "  <thead>\n",
       "    <tr style=\"text-align: right;\">\n",
       "      <th></th>\n",
       "      <th>Test Page</th>\n",
       "      <th>Hit</th>\n",
       "    </tr>\n",
       "  </thead>\n",
       "  <tbody>\n",
       "    <tr>\n",
       "      <th>0</th>\n",
       "      <td>help (tw: suicidal feelings) — The Mix Support Community</td>\n",
       "      <td>No</td>\n",
       "    </tr>\n",
       "  </tbody>\n",
       "</table style=\"display:inline\">"
      ]
     },
     "metadata": {},
     "output_type": "display_data"
    }
   ],
   "source": [
    "recommendation_for_user()"
   ]
  },
  {
   "cell_type": "code",
   "execution_count": 20,
   "metadata": {},
   "outputs": [
    {
     "name": "stdout",
     "output_type": "stream",
     "text": [
      "UserID: c84809e1e54e5fe7f615f6bebe374706\n"
     ]
    },
    {
     "data": {
      "text/html": [
       "<table style=\"display:inline\" border=\"1\" class=\"dataframe\">\n",
       "  <thead>\n",
       "    <tr style=\"text-align: right;\">\n",
       "      <th></th>\n",
       "      <th>Top 10 Recommended Pages</th>\n",
       "    </tr>\n",
       "  </thead>\n",
       "  <tbody>\n",
       "    <tr>\n",
       "      <th>0</th>\n",
       "      <td>Recent Discussions — The Mix Support Community</td>\n",
       "    </tr>\n",
       "    <tr>\n",
       "      <th>1</th>\n",
       "      <td>New Discussion — The Mix Support Community</td>\n",
       "    </tr>\n",
       "    <tr>\n",
       "      <th>2</th>\n",
       "      <td>Bugs and other issues — The Mix Support Community</td>\n",
       "    </tr>\n",
       "    <tr>\n",
       "      <th>3</th>\n",
       "      <td>If caught with drugs - The Mix</td>\n",
       "    </tr>\n",
       "    <tr>\n",
       "      <th>4</th>\n",
       "      <td>Trauma makes you feel unimportant, but you matter #NoNormal - The Mix</td>\n",
       "    </tr>\n",
       "    <tr>\n",
       "      <th>5</th>\n",
       "      <td>What is relationship abuse? - The Mix</td>\n",
       "    </tr>\n",
       "    <tr>\n",
       "      <th>6</th>\n",
       "      <td>Your Body - Page 2 of 13 - The Mix</td>\n",
       "    </tr>\n",
       "    <tr>\n",
       "      <th>7</th>\n",
       "      <td>Weird UK laws quiz - The Mix</td>\n",
       "    </tr>\n",
       "    <tr>\n",
       "      <th>8</th>\n",
       "      <td>chatroom - The Mix</td>\n",
       "    </tr>\n",
       "    <tr>\n",
       "      <th>9</th>\n",
       "      <td>View Badge: Third Anniversary — The Mix Support Community</td>\n",
       "    </tr>\n",
       "  </tbody>\n",
       "</table style=\"display:inline\"><table style=\"display:inline\" border=\"1\" class=\"dataframe\">\n",
       "  <thead>\n",
       "    <tr style=\"text-align: right;\">\n",
       "      <th></th>\n",
       "      <th>Pages Previously Viewed</th>\n",
       "    </tr>\n",
       "  </thead>\n",
       "  <tbody>\n",
       "    <tr>\n",
       "      <th>24585</th>\n",
       "      <td>The 'I need a hug' thread - please read first post before posting :) - Page 127 — The Mix Support Community</td>\n",
       "    </tr>\n",
       "    <tr>\n",
       "      <th>24586</th>\n",
       "      <td>Confetti Cannon Suggestions [MEGATHREAD] - Page 7 — The Mix Support Community</td>\n",
       "    </tr>\n",
       "    <tr>\n",
       "      <th>24587</th>\n",
       "      <td>General chit chat (OP GreenTea) - Page 252 — The Mix Support Community</td>\n",
       "    </tr>\n",
       "    <tr>\n",
       "      <th>24588</th>\n",
       "      <td>General chit chat (OP GreenTea) - Page 250 — The Mix Support Community</td>\n",
       "    </tr>\n",
       "    <tr>\n",
       "      <th>24589</th>\n",
       "      <td>The 'I need a hug' thread - please read first post before posting :) - Page 127 — The Mix Support Community</td>\n",
       "    </tr>\n",
       "    <tr>\n",
       "      <th>24590</th>\n",
       "      <td>General chit chat (OP GreenTea) - Page 251 — The Mix Support Community</td>\n",
       "    </tr>\n",
       "    <tr>\n",
       "      <th>24591</th>\n",
       "      <td>General chit chat (OP GreenTea) - Page 251 — The Mix Support Community</td>\n",
       "    </tr>\n",
       "    <tr>\n",
       "      <th>24592</th>\n",
       "      <td>The 'I need a hug' thread - please read first post before posting :) - Page 127 — The Mix Support Community</td>\n",
       "    </tr>\n",
       "    <tr>\n",
       "      <th>24593</th>\n",
       "      <td>General chit chat (OP GreenTea) - Page 251 — The Mix Support Community</td>\n",
       "    </tr>\n",
       "    <tr>\n",
       "      <th>24594</th>\n",
       "      <td>General chit chat (OP GreenTea) - Page 251 — The Mix Support Community</td>\n",
       "    </tr>\n",
       "    <tr>\n",
       "      <th>24596</th>\n",
       "      <td>How do I get them sectioned? - The Mix</td>\n",
       "    </tr>\n",
       "    <tr>\n",
       "      <th>24597</th>\n",
       "      <td>Expert chat: Let's talk about sex - TheMix.org.uk</td>\n",
       "    </tr>\n",
       "  </tbody>\n",
       "</table style=\"display:inline\"><table style=\"display:inline\" border=\"1\" class=\"dataframe\">\n",
       "  <thead>\n",
       "    <tr style=\"text-align: right;\">\n",
       "      <th></th>\n",
       "      <th>Test Page</th>\n",
       "      <th>Hit</th>\n",
       "    </tr>\n",
       "  </thead>\n",
       "  <tbody>\n",
       "    <tr>\n",
       "      <th>0</th>\n",
       "      <td>Recent Discussions — The Mix Support Community</td>\n",
       "      <td>Yes</td>\n",
       "    </tr>\n",
       "  </tbody>\n",
       "</table style=\"display:inline\">"
      ]
     },
     "metadata": {},
     "output_type": "display_data"
    }
   ],
   "source": [
    "recommendation_for_user()"
   ]
  },
  {
   "cell_type": "code",
   "execution_count": 21,
   "metadata": {
    "scrolled": false
   },
   "outputs": [
    {
     "name": "stdout",
     "output_type": "stream",
     "text": [
      "UserID: a5db4110a09a750bbe40922cb62dfa31\n"
     ]
    },
    {
     "data": {
      "text/html": [
       "<table style=\"display:inline\" border=\"1\" class=\"dataframe\">\n",
       "  <thead>\n",
       "    <tr style=\"text-align: right;\">\n",
       "      <th></th>\n",
       "      <th>Top 10 Recommended Pages</th>\n",
       "    </tr>\n",
       "  </thead>\n",
       "  <tbody>\n",
       "    <tr>\n",
       "      <th>0</th>\n",
       "      <td>Get Support - The Mix</td>\n",
       "    </tr>\n",
       "    <tr>\n",
       "      <th>1</th>\n",
       "      <td>How do I get them sectioned? - The Mix</td>\n",
       "    </tr>\n",
       "    <tr>\n",
       "      <th>2</th>\n",
       "      <td>My BF and our mental health - The Mix</td>\n",
       "    </tr>\n",
       "    <tr>\n",
       "      <th>3</th>\n",
       "      <td>Your Voices Guidelines - The Mix</td>\n",
       "    </tr>\n",
       "    <tr>\n",
       "      <th>4</th>\n",
       "      <td>Time for another ranty thread - Page 367 — The Mix Support Community</td>\n",
       "    </tr>\n",
       "    <tr>\n",
       "      <th>5</th>\n",
       "      <td>Home Truths - Quizzes - The Mix</td>\n",
       "    </tr>\n",
       "    <tr>\n",
       "      <th>6</th>\n",
       "      <td>Ambassador voices: How Harry Potter helped me feel less lonely - The Mix</td>\n",
       "    </tr>\n",
       "    <tr>\n",
       "      <th>7</th>\n",
       "      <td>self harm (tw) — The Mix Support Community</td>\n",
       "    </tr>\n",
       "    <tr>\n",
       "      <th>8</th>\n",
       "      <td>Depression can be devastating. Find out about treatments and coping strategies with The Mix.</td>\n",
       "    </tr>\n",
       "    <tr>\n",
       "      <th>9</th>\n",
       "      <td>I guess I am back ❤️ — The Mix Support Community</td>\n",
       "    </tr>\n",
       "  </tbody>\n",
       "</table style=\"display:inline\"><table style=\"display:inline\" border=\"1\" class=\"dataframe\">\n",
       "  <thead>\n",
       "    <tr style=\"text-align: right;\">\n",
       "      <th></th>\n",
       "      <th>Pages Previously Viewed</th>\n",
       "    </tr>\n",
       "  </thead>\n",
       "  <tbody>\n",
       "    <tr>\n",
       "      <th>20367</th>\n",
       "      <td>The Mix - Essential support for under 25s</td>\n",
       "    </tr>\n",
       "  </tbody>\n",
       "</table style=\"display:inline\"><table style=\"display:inline\" border=\"1\" class=\"dataframe\">\n",
       "  <thead>\n",
       "    <tr style=\"text-align: right;\">\n",
       "      <th></th>\n",
       "      <th>Test Page</th>\n",
       "      <th>Hit</th>\n",
       "    </tr>\n",
       "  </thead>\n",
       "  <tbody>\n",
       "    <tr>\n",
       "      <th>0</th>\n",
       "      <td>Get Support - The Mix</td>\n",
       "      <td>Yes</td>\n",
       "    </tr>\n",
       "  </tbody>\n",
       "</table style=\"display:inline\">"
      ]
     },
     "metadata": {},
     "output_type": "display_data"
    }
   ],
   "source": [
    "recommendation_for_user()"
   ]
  },
  {
   "cell_type": "markdown",
   "metadata": {},
   "source": [
    "### Hyperparameter Tuning"
   ]
  },
  {
   "cell_type": "code",
   "execution_count": 27,
   "metadata": {},
   "outputs": [],
   "source": [
    "import optuna"
   ]
  },
  {
   "cell_type": "code",
   "execution_count": 28,
   "metadata": {},
   "outputs": [],
   "source": [
    "# Experiment \n",
    "class PageTrainDataset(Dataset):\n",
    "\n",
    "\n",
    "    def __init__(self, ratings, all_pageIDs, num_negatives):\n",
    "        self.users, self.items, self.labels = self.load_dataset(ratings, all_pageIDs, num_negatives)\n",
    "        self.num_negatives=num_negatives\n",
    "\n",
    "    def __len__(self):\n",
    "        return len(self.users)\n",
    "  \n",
    "    def __getitem__(self, idx):\n",
    "        return self.users[idx], self.items[idx], self.labels[idx]\n",
    "\n",
    "    def load_dataset(self, ratings, all_pageIDs, num_negatives):\n",
    "        users, items, labels = [], [], []\n",
    "        user_item_set = set(zip(ratings['userID'], ratings['pageID']))\n",
    "        \n",
    "\n",
    "        for u, i in user_item_set:\n",
    "            users.append(u)\n",
    "            items.append(i)\n",
    "            labels.append(1)\n",
    "            for _ in range(num_negatives):\n",
    "                negative_item = np.random.choice(all_pageIDs)\n",
    "                while (u, negative_item) in user_item_set:\n",
    "                    negative_item = np.random.choice(all_pageIDs)\n",
    "                users.append(u)\n",
    "                items.append(negative_item)\n",
    "                labels.append(0)\n",
    "\n",
    "        return torch.tensor(users), torch.tensor(items), torch.tensor(labels)"
   ]
  },
  {
   "cell_type": "code",
   "execution_count": 29,
   "metadata": {},
   "outputs": [],
   "source": [
    "# Experiment\n",
    "\n",
    "class NeuralCF(pl.LightningModule):\n",
    "\n",
    "    \n",
    "    def __init__(self, ratings, user_embedding_dim, item_embedding_dim, layers, dropout, num_negatives,\n",
    "                 all_pageIDs=all_pageIDs):\n",
    "        super().__init__()\n",
    "        self.ratings = ratings\n",
    "        self.all_pageIDs = all_pageIDs\n",
    "        self.dropout=dropout\n",
    "        self.num_negatives=num_negatives\n",
    "        \n",
    "        self.user_embedding = nn.Embedding(num_embeddings=num_users, embedding_dim=user_embedding_dim)\n",
    "        self.item_embedding = nn.Embedding(num_embeddings=num_items, embedding_dim=item_embedding_dim)\n",
    "\n",
    "\n",
    "        self.fc_layers = torch.nn.ModuleList()\n",
    "        for idx, (in_size, out_size) in enumerate(zip(layers[:-1], layers[1:])):\n",
    "            self.fc_layers.append(torch.nn.Linear(in_size, out_size))\n",
    "\n",
    "        self.output = torch.nn.Linear(in_features=layers[-1], out_features=1)\n",
    "        \n",
    "        \n",
    "    def forward(self, user_input, item_input):\n",
    "        \n",
    "        # Pass through embedding layers\n",
    "        user_embedded = self.user_embedding(user_input)\n",
    "        item_embedded = self.item_embedding(item_input)\n",
    "\n",
    "        # Concatenate the two embedding layers\n",
    "        vector = torch.cat([user_embedded, item_embedded], dim=-1)\n",
    "\n",
    "        # Pass through dense layer\n",
    "        for idx, _ in enumerate(range(len(self.fc_layers))):\n",
    "            vector = self.fc_layers[idx](vector)\n",
    "            vector = torch.nn.ReLU()(vector)\n",
    "            # vector = torch.nn.BatchNorm1d()(vector)\n",
    "            vector = torch.nn.Dropout(p=self.dropout)(vector)\n",
    "\n",
    "        # Output layer\n",
    "        pred = nn.Sigmoid()(self.output(vector))\n",
    "\n",
    "        return pred\n",
    "    \n",
    "    def training_step(self, batch, batch_idx):\n",
    "        user_input, item_input, labels = batch\n",
    "        predicted_labels = self(user_input, item_input)\n",
    "        loss = nn.BCELoss()(predicted_labels, labels.view(-1, 1).float())\n",
    "        return loss\n",
    "\n",
    "    def configure_optimizers(self):\n",
    "        return torch.optim.Adam(self.parameters())\n",
    "\n",
    "    def train_dataloader(self):\n",
    "        return DataLoader(PageTrainDataset(self.ratings, self.all_pageIDs, self.num_negatives),\n",
    "                          batch_size=256, num_workers=0)"
   ]
  },
  {
   "cell_type": "code",
   "execution_count": 81,
   "metadata": {},
   "outputs": [],
   "source": [
    "# Experiment\n",
    "def objective(trial):\n",
    "\n",
    "    num_users = ratings['userID'].max() + 1\n",
    "    num_items = ratings['pageID'].max() + 1\n",
    "    all_pageIDs = ratings['pageURL'].unique()\n",
    "    \n",
    "    num_negatives = trial.suggest_int('num_negatives', 1, 10)\n",
    "    user_embedding_dim = trial.suggest_int('user_embedding_dim', 2, 50)\n",
    "    item_embedding_dim = trial.suggest_int('item_embedding_dim', 2, 50)\n",
    "    dropout = trial.suggest_float(\"dropout\", 0.1, 0.5)\n",
    "\n",
    "    n_layers = trial.suggest_int(\"n_layers\", 1, 3)\n",
    "    layers = [user_embedding_dim+item_embedding_dim] + [\n",
    "        trial.suggest_int(\"layer{}\".format(i+1), 4, 128, log=True) for i in range(n_layers)]\n",
    "\n",
    "    \n",
    "    # Build a model on training set\n",
    "    model = NeuralCF(train_ratings, user_embedding_dim, item_embedding_dim, layers, dropout, num_negatives)\n",
    "    \n",
    "    epochs = trial.suggest_int('epochs', 10, 30)\n",
    "    \n",
    "    trainer = pl.Trainer(max_epochs=epochs, gpus=1, reload_dataloaders_every_epoch=True,\n",
    "                         logger=True, checkpoint_callback=True, \n",
    "                        )\n",
    "\n",
    "    hyperparameters = dict(user_embedding_dim=user_embedding_dim, \n",
    "                           item_embedding_dim=item_embedding_dim,\n",
    "                           layers=layers,\n",
    "                           dropout=dropout,\n",
    "                           num_negatives=num_negatives)\n",
    "    trainer.logger.log_hyperparams(hyperparameters)\n",
    "    trainer.fit(model)\n",
    "    hr = hr_ratio(test_ratings, model)\n",
    "\n",
    "    return hr"
   ]
  },
  {
   "cell_type": "code",
   "execution_count": 82,
   "metadata": {
    "scrolled": true
   },
   "outputs": [
    {
     "name": "stderr",
     "output_type": "stream",
     "text": [
      "\u001b[32m[I 2021-06-13 21:34:05,827]\u001b[0m A new study created in memory with name: no-name-dbcabb21-a6e8-4fb0-acf3-4289461b5e4e\u001b[0m\n",
      "GPU available: True, used: True\n",
      "TPU available: False, using: 0 TPU cores\n",
      "LOCAL_RANK: 0 - CUDA_VISIBLE_DEVICES: [0]\n",
      "\n",
      "  | Name           | Type       | Params\n",
      "----------------------------------------------\n",
      "0 | user_embedding | Embedding  | 61.8 K\n",
      "1 | item_embedding | Embedding  | 13.2 K\n",
      "2 | fc_layers      | ModuleList | 323   \n",
      "3 | output         | Linear     | 20    \n",
      "----------------------------------------------\n",
      "75.4 K    Trainable params\n",
      "0         Non-trainable params\n",
      "75.4 K    Total params\n",
      "0.301     Total estimated model params size (MB)\n"
     ]
    },
    {
     "data": {
      "application/vnd.jupyter.widget-view+json": {
       "model_id": "fa36053e2ba14f09821e51b4e570d5d0",
       "version_major": 2,
       "version_minor": 0
      },
      "text/plain": [
       "Training: 0it [00:00, ?it/s]"
      ]
     },
     "metadata": {},
     "output_type": "display_data"
    },
    {
     "data": {
      "application/vnd.jupyter.widget-view+json": {
       "model_id": "87f6d8abe00941478403f2eee70f2e50",
       "version_major": 2,
       "version_minor": 0
      },
      "text/plain": [
       "  0%|          | 0/4415 [00:00<?, ?it/s]"
      ]
     },
     "metadata": {},
     "output_type": "display_data"
    },
    {
     "name": "stderr",
     "output_type": "stream",
     "text": [
      "\u001b[32m[I 2021-06-13 21:39:23,690]\u001b[0m Trial 0 finished with value: 0.828 and parameters: {'num_negatives': 7, 'user_embedding_dim': 14, 'item_embedding_dim': 2, 'dropout': 0.3355759619691987, 'n_layers': 1, 'layer1': 19, 'epochs': 30}. Best is trial 0 with value: 0.828.\u001b[0m\n",
      "GPU available: True, used: True\n",
      "TPU available: False, using: 0 TPU cores\n",
      "LOCAL_RANK: 0 - CUDA_VISIBLE_DEVICES: [0]\n",
      "\n",
      "  | Name           | Type       | Params\n",
      "----------------------------------------------\n",
      "0 | user_embedding | Embedding  | 194 K \n",
      "1 | item_embedding | Embedding  | 112 K \n",
      "2 | fc_layers      | ModuleList | 3.7 K \n",
      "3 | output         | Linear     | 10    \n",
      "----------------------------------------------\n",
      "310 K     Trainable params\n",
      "0         Non-trainable params\n",
      "310 K     Total params\n",
      "1.241     Total estimated model params size (MB)\n"
     ]
    },
    {
     "data": {
      "application/vnd.jupyter.widget-view+json": {
       "model_id": "09f89b2b8e9d4b398a317be10e8daf92",
       "version_major": 2,
       "version_minor": 0
      },
      "text/plain": [
       "Training: 0it [00:00, ?it/s]"
      ]
     },
     "metadata": {},
     "output_type": "display_data"
    },
    {
     "data": {
      "application/vnd.jupyter.widget-view+json": {
       "model_id": "865f0b9182c448079b23773915977ef3",
       "version_major": 2,
       "version_minor": 0
      },
      "text/plain": [
       "  0%|          | 0/4415 [00:00<?, ?it/s]"
      ]
     },
     "metadata": {},
     "output_type": "display_data"
    },
    {
     "name": "stderr",
     "output_type": "stream",
     "text": [
      "\u001b[32m[I 2021-06-13 21:43:26,505]\u001b[0m Trial 1 finished with value: 0.824 and parameters: {'num_negatives': 7, 'user_embedding_dim': 44, 'item_embedding_dim': 17, 'dropout': 0.1590118675233772, 'n_layers': 3, 'layer1': 37, 'layer2': 29, 'layer3': 9, 'epochs': 20}. Best is trial 0 with value: 0.828.\u001b[0m\n",
      "GPU available: True, used: True\n",
      "TPU available: False, using: 0 TPU cores\n",
      "LOCAL_RANK: 0 - CUDA_VISIBLE_DEVICES: [0]\n",
      "\n",
      "  | Name           | Type       | Params\n",
      "----------------------------------------------\n",
      "0 | user_embedding | Embedding  | 176 K \n",
      "1 | item_embedding | Embedding  | 138 K \n",
      "2 | fc_layers      | ModuleList | 2.0 K \n",
      "3 | output         | Linear     | 34    \n",
      "----------------------------------------------\n",
      "317 K     Trainable params\n",
      "0         Non-trainable params\n",
      "317 K     Total params\n",
      "1.270     Total estimated model params size (MB)\n"
     ]
    },
    {
     "data": {
      "application/vnd.jupyter.widget-view+json": {
       "model_id": "bcb9ca3358a14d898cb16f959215ffb5",
       "version_major": 2,
       "version_minor": 0
      },
      "text/plain": [
       "Training: 0it [00:00, ?it/s]"
      ]
     },
     "metadata": {},
     "output_type": "display_data"
    },
    {
     "data": {
      "application/vnd.jupyter.widget-view+json": {
       "model_id": "aa09bae9242146d2bdfe0e7bc4a5c683",
       "version_major": 2,
       "version_minor": 0
      },
      "text/plain": [
       "  0%|          | 0/4415 [00:00<?, ?it/s]"
      ]
     },
     "metadata": {},
     "output_type": "display_data"
    },
    {
     "name": "stderr",
     "output_type": "stream",
     "text": [
      "\u001b[32m[I 2021-06-13 21:45:02,820]\u001b[0m Trial 2 finished with value: 0.828 and parameters: {'num_negatives': 3, 'user_embedding_dim': 40, 'item_embedding_dim': 21, 'dropout': 0.20868629801407837, 'n_layers': 1, 'layer1': 33, 'epochs': 16}. Best is trial 0 with value: 0.828.\u001b[0m\n",
      "GPU available: True, used: True\n",
      "TPU available: False, using: 0 TPU cores\n",
      "LOCAL_RANK: 0 - CUDA_VISIBLE_DEVICES: [0]\n",
      "\n",
      "  | Name           | Type       | Params\n",
      "----------------------------------------------\n",
      "0 | user_embedding | Embedding  | 163 K \n",
      "1 | item_embedding | Embedding  | 99.1 K\n",
      "2 | fc_layers      | ModuleList | 1.7 K \n",
      "3 | output         | Linear     | 5     \n",
      "----------------------------------------------\n",
      "264 K     Trainable params\n",
      "0         Non-trainable params\n",
      "264 K     Total params\n",
      "1.057     Total estimated model params size (MB)\n"
     ]
    },
    {
     "data": {
      "application/vnd.jupyter.widget-view+json": {
       "model_id": "a7e98b8b420441aabfd4030ce2919c59",
       "version_major": 2,
       "version_minor": 0
      },
      "text/plain": [
       "Training: 0it [00:00, ?it/s]"
      ]
     },
     "metadata": {},
     "output_type": "display_data"
    },
    {
     "data": {
      "application/vnd.jupyter.widget-view+json": {
       "model_id": "71d7ec4845f04cbf84454533de03dc2d",
       "version_major": 2,
       "version_minor": 0
      },
      "text/plain": [
       "  0%|          | 0/4415 [00:00<?, ?it/s]"
      ]
     },
     "metadata": {},
     "output_type": "display_data"
    },
    {
     "name": "stderr",
     "output_type": "stream",
     "text": [
      "\u001b[32m[I 2021-06-13 21:46:21,916]\u001b[0m Trial 3 finished with value: 0.767 and parameters: {'num_negatives': 1, 'user_embedding_dim': 37, 'item_embedding_dim': 15, 'dropout': 0.2842654860497629, 'n_layers': 2, 'layer1': 30, 'layer2': 4, 'epochs': 25}. Best is trial 0 with value: 0.828.\u001b[0m\n",
      "GPU available: True, used: True\n",
      "TPU available: False, using: 0 TPU cores\n",
      "LOCAL_RANK: 0 - CUDA_VISIBLE_DEVICES: [0]\n",
      "\n",
      "  | Name           | Type       | Params\n",
      "----------------------------------------------\n",
      "0 | user_embedding | Embedding  | 114 K \n",
      "1 | item_embedding | Embedding  | 323 K \n",
      "2 | fc_layers      | ModuleList | 6.6 K \n",
      "3 | output         | Linear     | 88    \n",
      "----------------------------------------------\n",
      "445 K     Trainable params\n",
      "0         Non-trainable params\n",
      "445 K     Total params\n",
      "1.781     Total estimated model params size (MB)\n"
     ]
    },
    {
     "data": {
      "application/vnd.jupyter.widget-view+json": {
       "model_id": "d2a4fb07ebf149cca501cf00829b3a67",
       "version_major": 2,
       "version_minor": 0
      },
      "text/plain": [
       "Training: 0it [00:00, ?it/s]"
      ]
     },
     "metadata": {},
     "output_type": "display_data"
    },
    {
     "data": {
      "application/vnd.jupyter.widget-view+json": {
       "model_id": "9e83923488134ea183321240a2e3c59f",
       "version_major": 2,
       "version_minor": 0
      },
      "text/plain": [
       "  0%|          | 0/4415 [00:00<?, ?it/s]"
      ]
     },
     "metadata": {},
     "output_type": "display_data"
    },
    {
     "name": "stderr",
     "output_type": "stream",
     "text": [
      "\u001b[32m[I 2021-06-13 21:49:59,502]\u001b[0m Trial 4 finished with value: 0.781 and parameters: {'num_negatives': 6, 'user_embedding_dim': 26, 'item_embedding_dim': 49, 'dropout': 0.13321462271309048, 'n_layers': 1, 'layer1': 87, 'epochs': 22}. Best is trial 0 with value: 0.828.\u001b[0m\n",
      "GPU available: True, used: True\n",
      "TPU available: False, using: 0 TPU cores\n",
      "LOCAL_RANK: 0 - CUDA_VISIBLE_DEVICES: [0]\n",
      "\n",
      "  | Name           | Type       | Params\n",
      "----------------------------------------------\n",
      "0 | user_embedding | Embedding  | 105 K \n",
      "1 | item_embedding | Embedding  | 138 K \n",
      "2 | fc_layers      | ModuleList | 2.2 K \n",
      "3 | output         | Linear     | 12    \n",
      "----------------------------------------------\n",
      "246 K     Trainable params\n",
      "0         Non-trainable params\n",
      "246 K     Total params\n",
      "0.988     Total estimated model params size (MB)\n"
     ]
    },
    {
     "data": {
      "application/vnd.jupyter.widget-view+json": {
       "model_id": "08c8a46bad184d2ab87d4533026bcd2b",
       "version_major": 2,
       "version_minor": 0
      },
      "text/plain": [
       "Training: 0it [00:00, ?it/s]"
      ]
     },
     "metadata": {},
     "output_type": "display_data"
    },
    {
     "data": {
      "application/vnd.jupyter.widget-view+json": {
       "model_id": "8789539f21334d2ea1028ac940a103aa",
       "version_major": 2,
       "version_minor": 0
      },
      "text/plain": [
       "  0%|          | 0/4415 [00:00<?, ?it/s]"
      ]
     },
     "metadata": {},
     "output_type": "display_data"
    },
    {
     "name": "stderr",
     "output_type": "stream",
     "text": [
      "\u001b[32m[I 2021-06-13 21:50:42,223]\u001b[0m Trial 5 finished with value: 0.71 and parameters: {'num_negatives': 1, 'user_embedding_dim': 24, 'item_embedding_dim': 21, 'dropout': 0.33149425845368263, 'n_layers': 3, 'layer1': 7, 'layer2': 99, 'layer3': 11, 'epochs': 11}. Best is trial 0 with value: 0.828.\u001b[0m\n",
      "GPU available: True, used: True\n",
      "TPU available: False, using: 0 TPU cores\n",
      "LOCAL_RANK: 0 - CUDA_VISIBLE_DEVICES: [0]\n",
      "\n",
      "  | Name           | Type       | Params\n",
      "----------------------------------------------\n",
      "0 | user_embedding | Embedding  | 211 K \n",
      "1 | item_embedding | Embedding  | 138 K \n",
      "2 | fc_layers      | ModuleList | 642   \n",
      "3 | output         | Linear     | 20    \n",
      "----------------------------------------------\n",
      "351 K     Trainable params\n",
      "0         Non-trainable params\n",
      "351 K     Total params\n",
      "1.405     Total estimated model params size (MB)\n"
     ]
    },
    {
     "data": {
      "application/vnd.jupyter.widget-view+json": {
       "model_id": "f56d7fa3b36b474eaded734ba20a96e3",
       "version_major": 2,
       "version_minor": 0
      },
      "text/plain": [
       "Training: 0it [00:00, ?it/s]"
      ]
     },
     "metadata": {},
     "output_type": "display_data"
    },
    {
     "data": {
      "application/vnd.jupyter.widget-view+json": {
       "model_id": "125cbdbf86154a6cb29685aba56d8942",
       "version_major": 2,
       "version_minor": 0
      },
      "text/plain": [
       "  0%|          | 0/4415 [00:00<?, ?it/s]"
      ]
     },
     "metadata": {},
     "output_type": "display_data"
    },
    {
     "name": "stderr",
     "output_type": "stream",
     "text": [
      "\u001b[32m[I 2021-06-13 21:51:49,450]\u001b[0m Trial 6 finished with value: 0.779 and parameters: {'num_negatives': 1, 'user_embedding_dim': 48, 'item_embedding_dim': 21, 'dropout': 0.44940492988370406, 'n_layers': 2, 'layer1': 7, 'layer2': 19, 'epochs': 21}. Best is trial 0 with value: 0.828.\u001b[0m\n",
      "GPU available: True, used: True\n",
      "TPU available: False, using: 0 TPU cores\n",
      "LOCAL_RANK: 0 - CUDA_VISIBLE_DEVICES: [0]\n",
      "\n",
      "  | Name           | Type       | Params\n",
      "----------------------------------------------\n",
      "0 | user_embedding | Embedding  | 128 K \n",
      "1 | item_embedding | Embedding  | 39.6 K\n",
      "2 | fc_layers      | ModuleList | 288   \n",
      "3 | output         | Linear     | 9     \n",
      "----------------------------------------------\n",
      "167 K     Trainable params\n",
      "0         Non-trainable params\n",
      "167 K     Total params\n",
      "0.672     Total estimated model params size (MB)\n"
     ]
    },
    {
     "data": {
      "application/vnd.jupyter.widget-view+json": {
       "model_id": "703b2026a4b94c11ba1c24e309a8da66",
       "version_major": 2,
       "version_minor": 0
      },
      "text/plain": [
       "Training: 0it [00:00, ?it/s]"
      ]
     },
     "metadata": {},
     "output_type": "display_data"
    },
    {
     "data": {
      "application/vnd.jupyter.widget-view+json": {
       "model_id": "57ea514f8fcd4011b9a67578a3159916",
       "version_major": 2,
       "version_minor": 0
      },
      "text/plain": [
       "  0%|          | 0/4415 [00:00<?, ?it/s]"
      ]
     },
     "metadata": {},
     "output_type": "display_data"
    },
    {
     "name": "stderr",
     "output_type": "stream",
     "text": [
      "\u001b[32m[I 2021-06-13 21:53:19,193]\u001b[0m Trial 7 finished with value: 0.81 and parameters: {'num_negatives': 2, 'user_embedding_dim': 29, 'item_embedding_dim': 6, 'dropout': 0.2064168686436797, 'n_layers': 1, 'layer1': 8, 'epochs': 21}. Best is trial 0 with value: 0.828.\u001b[0m\n",
      "GPU available: True, used: True\n",
      "TPU available: False, using: 0 TPU cores\n",
      "LOCAL_RANK: 0 - CUDA_VISIBLE_DEVICES: [0]\n",
      "\n",
      "  | Name           | Type       | Params\n",
      "----------------------------------------------\n",
      "0 | user_embedding | Embedding  | 176 K \n",
      "1 | item_embedding | Embedding  | 52.8 K\n",
      "2 | fc_layers      | ModuleList | 245   \n",
      "3 | output         | Linear     | 6     \n",
      "----------------------------------------------\n",
      "229 K     Trainable params\n",
      "0         Non-trainable params\n",
      "229 K     Total params\n",
      "0.919     Total estimated model params size (MB)\n"
     ]
    },
    {
     "data": {
      "application/vnd.jupyter.widget-view+json": {
       "model_id": "ffc18500160c4e0fa9f22ca4c451579e",
       "version_major": 2,
       "version_minor": 0
      },
      "text/plain": [
       "Training: 0it [00:00, ?it/s]"
      ]
     },
     "metadata": {},
     "output_type": "display_data"
    },
    {
     "data": {
      "application/vnd.jupyter.widget-view+json": {
       "model_id": "b20ebebe8eb4408e8f70bfd6a8d95922",
       "version_major": 2,
       "version_minor": 0
      },
      "text/plain": [
       "  0%|          | 0/4415 [00:00<?, ?it/s]"
      ]
     },
     "metadata": {},
     "output_type": "display_data"
    },
    {
     "name": "stderr",
     "output_type": "stream",
     "text": [
      "\u001b[32m[I 2021-06-13 21:57:53,050]\u001b[0m Trial 8 finished with value: 0.772 and parameters: {'num_negatives': 6, 'user_embedding_dim': 40, 'item_embedding_dim': 8, 'dropout': 0.4712272304497903, 'n_layers': 1, 'layer1': 5, 'epochs': 29}. Best is trial 0 with value: 0.828.\u001b[0m\n",
      "GPU available: True, used: True\n",
      "TPU available: False, using: 0 TPU cores\n",
      "LOCAL_RANK: 0 - CUDA_VISIBLE_DEVICES: [0]\n",
      "\n",
      "  | Name           | Type       | Params\n",
      "----------------------------------------------\n",
      "0 | user_embedding | Embedding  | 79.5 K\n",
      "1 | item_embedding | Embedding  | 257 K \n",
      "2 | fc_layers      | ModuleList | 8.1 K \n",
      "3 | output         | Linear     | 93    \n",
      "----------------------------------------------\n",
      "345 K     Trainable params\n",
      "0         Non-trainable params\n",
      "345 K     Total params\n",
      "1.381     Total estimated model params size (MB)\n"
     ]
    },
    {
     "data": {
      "application/vnd.jupyter.widget-view+json": {
       "model_id": "7c88402e520c47098a056cf5c010e43a",
       "version_major": 2,
       "version_minor": 0
      },
      "text/plain": [
       "Training: 0it [00:00, ?it/s]"
      ]
     },
     "metadata": {},
     "output_type": "display_data"
    },
    {
     "data": {
      "application/vnd.jupyter.widget-view+json": {
       "model_id": "2cdd05cdcba94a3483a18bc59260149a",
       "version_major": 2,
       "version_minor": 0
      },
      "text/plain": [
       "  0%|          | 0/4415 [00:00<?, ?it/s]"
      ]
     },
     "metadata": {},
     "output_type": "display_data"
    },
    {
     "name": "stderr",
     "output_type": "stream",
     "text": [
      "\u001b[32m[I 2021-06-13 22:00:00,351]\u001b[0m Trial 9 finished with value: 0.813 and parameters: {'num_negatives': 4, 'user_embedding_dim': 18, 'item_embedding_dim': 39, 'dropout': 0.18338176368982953, 'n_layers': 3, 'layer1': 81, 'layer2': 19, 'layer3': 92, 'epochs': 16}. Best is trial 0 with value: 0.828.\u001b[0m\n",
      "GPU available: True, used: True\n",
      "TPU available: False, using: 0 TPU cores\n",
      "LOCAL_RANK: 0 - CUDA_VISIBLE_DEVICES: [0]\n",
      "\n",
      "  | Name           | Type       | Params\n",
      "----------------------------------------------\n",
      "0 | user_embedding | Embedding  | 17.7 K\n",
      "1 | item_embedding | Embedding  | 231 K \n",
      "2 | fc_layers      | ModuleList | 620   \n",
      "3 | output         | Linear     | 5     \n",
      "----------------------------------------------\n",
      "249 K     Trainable params\n",
      "0         Non-trainable params\n",
      "249 K     Total params\n",
      "0.998     Total estimated model params size (MB)\n"
     ]
    },
    {
     "data": {
      "application/vnd.jupyter.widget-view+json": {
       "model_id": "971bb7a91517480382065d1e6bb4048f",
       "version_major": 2,
       "version_minor": 0
      },
      "text/plain": [
       "Training: 0it [00:00, ?it/s]"
      ]
     },
     "metadata": {},
     "output_type": "display_data"
    },
    {
     "data": {
      "application/vnd.jupyter.widget-view+json": {
       "model_id": "1f07c5fee847431388f5ac59bf82fae7",
       "version_major": 2,
       "version_minor": 0
      },
      "text/plain": [
       "  0%|          | 0/4415 [00:00<?, ?it/s]"
      ]
     },
     "metadata": {},
     "output_type": "display_data"
    },
    {
     "name": "stderr",
     "output_type": "stream",
     "text": [
      "\u001b[32m[I 2021-06-13 22:07:27,576]\u001b[0m Trial 10 finished with value: 0.762 and parameters: {'num_negatives': 10, 'user_embedding_dim': 4, 'item_embedding_dim': 35, 'dropout': 0.3544658997214063, 'n_layers': 2, 'layer1': 14, 'layer2': 4, 'epochs': 29}. Best is trial 0 with value: 0.828.\u001b[0m\n",
      "GPU available: True, used: True\n",
      "TPU available: False, using: 0 TPU cores\n",
      "LOCAL_RANK: 0 - CUDA_VISIBLE_DEVICES: [0]\n",
      "\n",
      "  | Name           | Type       | Params\n",
      "----------------------------------------------\n",
      "0 | user_embedding | Embedding  | 44.1 K\n",
      "1 | item_embedding | Embedding  | 13.2 K\n",
      "2 | fc_layers      | ModuleList | 208   \n",
      "3 | output         | Linear     | 17    \n",
      "----------------------------------------------\n",
      "57.6 K    Trainable params\n",
      "0         Non-trainable params\n",
      "57.6 K    Total params\n",
      "0.230     Total estimated model params size (MB)\n"
     ]
    },
    {
     "data": {
      "application/vnd.jupyter.widget-view+json": {
       "model_id": "29d8c4d709cd449cb0f4caeb54451885",
       "version_major": 2,
       "version_minor": 0
      },
      "text/plain": [
       "Training: 0it [00:00, ?it/s]"
      ]
     },
     "metadata": {},
     "output_type": "display_data"
    },
    {
     "data": {
      "application/vnd.jupyter.widget-view+json": {
       "model_id": "5ee9f4b039034847b03faaa9dafec49e",
       "version_major": 2,
       "version_minor": 0
      },
      "text/plain": [
       "  0%|          | 0/4415 [00:00<?, ?it/s]"
      ]
     },
     "metadata": {},
     "output_type": "display_data"
    },
    {
     "name": "stderr",
     "output_type": "stream",
     "text": [
      "\u001b[32m[I 2021-06-13 22:10:40,146]\u001b[0m Trial 11 finished with value: 0.804 and parameters: {'num_negatives': 9, 'user_embedding_dim': 10, 'item_embedding_dim': 2, 'dropout': 0.2692418319987035, 'n_layers': 1, 'layer1': 16, 'epochs': 14}. Best is trial 0 with value: 0.828.\u001b[0m\n",
      "GPU available: True, used: True\n",
      "TPU available: False, using: 0 TPU cores\n",
      "LOCAL_RANK: 0 - CUDA_VISIBLE_DEVICES: [0]\n",
      "\n",
      "  | Name           | Type       | Params\n",
      "----------------------------------------------\n",
      "0 | user_embedding | Embedding  | 61.8 K\n",
      "1 | item_embedding | Embedding  | 217 K \n",
      "2 | fc_layers      | ModuleList | 2.3 K \n",
      "3 | output         | Linear     | 49    \n",
      "----------------------------------------------\n",
      "282 K     Trainable params\n",
      "0         Non-trainable params\n",
      "282 K     Total params\n",
      "1.129     Total estimated model params size (MB)\n"
     ]
    },
    {
     "data": {
      "application/vnd.jupyter.widget-view+json": {
       "model_id": "697eb2bbdcec4cd5ab2321542321873b",
       "version_major": 2,
       "version_minor": 0
      },
      "text/plain": [
       "Training: 0it [00:00, ?it/s]"
      ]
     },
     "metadata": {},
     "output_type": "display_data"
    },
    {
     "data": {
      "application/vnd.jupyter.widget-view+json": {
       "model_id": "04da0420cfbb47c5a39e857dfa7c213a",
       "version_major": 2,
       "version_minor": 0
      },
      "text/plain": [
       "  0%|          | 0/4415 [00:00<?, ?it/s]"
      ]
     },
     "metadata": {},
     "output_type": "display_data"
    },
    {
     "name": "stderr",
     "output_type": "stream",
     "text": [
      "\u001b[32m[I 2021-06-13 22:12:37,228]\u001b[0m Trial 12 finished with value: 0.83 and parameters: {'num_negatives': 4, 'user_embedding_dim': 14, 'item_embedding_dim': 33, 'dropout': 0.38977697831473285, 'n_layers': 1, 'layer1': 48, 'epochs': 16}. Best is trial 12 with value: 0.83.\u001b[0m\n",
      "GPU available: True, used: True\n",
      "TPU available: False, using: 0 TPU cores\n",
      "LOCAL_RANK: 0 - CUDA_VISIBLE_DEVICES: [0]\n",
      "\n",
      "  | Name           | Type       | Params\n",
      "----------------------------------------------\n",
      "0 | user_embedding | Embedding  | 53.0 K\n",
      "1 | item_embedding | Embedding  | 224 K \n",
      "2 | fc_layers      | ModuleList | 2.3 K \n",
      "3 | output         | Linear     | 49    \n",
      "----------------------------------------------\n",
      "279 K     Trainable params\n",
      "0         Non-trainable params\n",
      "279 K     Total params\n",
      "1.119     Total estimated model params size (MB)\n"
     ]
    },
    {
     "data": {
      "application/vnd.jupyter.widget-view+json": {
       "model_id": "bb94f2ed5a9f40dfb4e22ecf59a49121",
       "version_major": 2,
       "version_minor": 0
      },
      "text/plain": [
       "Training: 0it [00:00, ?it/s]"
      ]
     },
     "metadata": {},
     "output_type": "display_data"
    },
    {
     "data": {
      "application/vnd.jupyter.widget-view+json": {
       "model_id": "adc846b27d1f4f7c92d2dfd8a2f4adac",
       "version_major": 2,
       "version_minor": 0
      },
      "text/plain": [
       "  0%|          | 0/4415 [00:00<?, ?it/s]"
      ]
     },
     "metadata": {},
     "output_type": "display_data"
    },
    {
     "name": "stderr",
     "output_type": "stream",
     "text": [
      "\u001b[32m[I 2021-06-13 22:15:08,207]\u001b[0m Trial 13 finished with value: 0.835 and parameters: {'num_negatives': 8, 'user_embedding_dim': 12, 'item_embedding_dim': 34, 'dropout': 0.4033828057691822, 'n_layers': 1, 'layer1': 48, 'epochs': 12}. Best is trial 13 with value: 0.835.\u001b[0m\n",
      "GPU available: True, used: True\n",
      "TPU available: False, using: 0 TPU cores\n",
      "LOCAL_RANK: 0 - CUDA_VISIBLE_DEVICES: [0]\n",
      "\n",
      "  | Name           | Type       | Params\n",
      "----------------------------------------------\n",
      "0 | user_embedding | Embedding  | 13.2 K\n",
      "1 | item_embedding | Embedding  | 211 K \n",
      "2 | fc_layers      | ModuleList | 7.3 K \n",
      "3 | output         | Linear     | 103   \n",
      "----------------------------------------------\n",
      "231 K     Trainable params\n",
      "0         Non-trainable params\n",
      "231 K     Total params\n",
      "0.928     Total estimated model params size (MB)\n"
     ]
    },
    {
     "data": {
      "application/vnd.jupyter.widget-view+json": {
       "model_id": "5fd2179f997945a990c7e4ef89f832f2",
       "version_major": 2,
       "version_minor": 0
      },
      "text/plain": [
       "Training: 0it [00:00, ?it/s]"
      ]
     },
     "metadata": {},
     "output_type": "display_data"
    },
    {
     "data": {
      "application/vnd.jupyter.widget-view+json": {
       "model_id": "89ad7f80497945efabe6abb3b30c2b7c",
       "version_major": 2,
       "version_minor": 0
      },
      "text/plain": [
       "  0%|          | 0/4415 [00:00<?, ?it/s]"
      ]
     },
     "metadata": {},
     "output_type": "display_data"
    },
    {
     "name": "stderr",
     "output_type": "stream",
     "text": [
      "\u001b[32m[I 2021-06-13 22:16:28,279]\u001b[0m Trial 14 finished with value: 0.819 and parameters: {'num_negatives': 4, 'user_embedding_dim': 3, 'item_embedding_dim': 32, 'dropout': 0.42001332306812633, 'n_layers': 2, 'layer1': 52, 'layer2': 102, 'epochs': 10}. Best is trial 13 with value: 0.835.\u001b[0m\n",
      "GPU available: True, used: True\n",
      "TPU available: False, using: 0 TPU cores\n",
      "LOCAL_RANK: 0 - CUDA_VISIBLE_DEVICES: [0]\n",
      "\n",
      "  | Name           | Type       | Params\n",
      "----------------------------------------------\n",
      "0 | user_embedding | Embedding  | 44.1 K\n",
      "1 | item_embedding | Embedding  | 297 K \n",
      "2 | fc_layers      | ModuleList | 6.2 K \n",
      "3 | output         | Linear     | 112   \n",
      "----------------------------------------------\n",
      "347 K     Trainable params\n",
      "0         Non-trainable params\n",
      "347 K     Total params\n",
      "1.391     Total estimated model params size (MB)\n"
     ]
    },
    {
     "data": {
      "application/vnd.jupyter.widget-view+json": {
       "model_id": "eca30d277046459db8fadbb072089186",
       "version_major": 2,
       "version_minor": 0
      },
      "text/plain": [
       "Training: 0it [00:00, ?it/s]"
      ]
     },
     "metadata": {},
     "output_type": "display_data"
    },
    {
     "data": {
      "application/vnd.jupyter.widget-view+json": {
       "model_id": "a4442b282e5f4a05af33092bf0678119",
       "version_major": 2,
       "version_minor": 0
      },
      "text/plain": [
       "  0%|          | 0/4415 [00:00<?, ?it/s]"
      ]
     },
     "metadata": {},
     "output_type": "display_data"
    },
    {
     "name": "stderr",
     "output_type": "stream",
     "text": [
      "\u001b[32m[I 2021-06-13 22:19:10,549]\u001b[0m Trial 15 finished with value: 0.824 and parameters: {'num_negatives': 8, 'user_embedding_dim': 10, 'item_embedding_dim': 45, 'dropout': 0.3974878115750088, 'n_layers': 1, 'layer1': 111, 'epochs': 13}. Best is trial 13 with value: 0.835.\u001b[0m\n",
      "GPU available: True, used: True\n",
      "TPU available: False, using: 0 TPU cores\n",
      "LOCAL_RANK: 0 - CUDA_VISIBLE_DEVICES: [0]\n",
      "\n",
      "  | Name           | Type       | Params\n",
      "----------------------------------------------\n",
      "0 | user_embedding | Embedding  | 83.9 K\n",
      "1 | item_embedding | Embedding  | 191 K \n",
      "2 | fc_layers      | ModuleList | 3.1 K \n",
      "3 | output         | Linear     | 10    \n",
      "----------------------------------------------\n",
      "278 K     Trainable params\n",
      "0         Non-trainable params\n",
      "278 K     Total params\n",
      "1.114     Total estimated model params size (MB)\n"
     ]
    },
    {
     "data": {
      "application/vnd.jupyter.widget-view+json": {
       "model_id": "353679bf4a1b43c6a3fc01b5c3e06350",
       "version_major": 2,
       "version_minor": 0
      },
      "text/plain": [
       "Training: 0it [00:00, ?it/s]"
      ]
     },
     "metadata": {},
     "output_type": "display_data"
    },
    {
     "data": {
      "application/vnd.jupyter.widget-view+json": {
       "model_id": "b0b4bc6cac77417ea4a7a5ff1e227f6c",
       "version_major": 2,
       "version_minor": 0
      },
      "text/plain": [
       "  0%|          | 0/4415 [00:00<?, ?it/s]"
      ]
     },
     "metadata": {},
     "output_type": "display_data"
    },
    {
     "name": "stderr",
     "output_type": "stream",
     "text": [
      "\u001b[32m[I 2021-06-13 22:21:37,133]\u001b[0m Trial 16 finished with value: 0.812 and parameters: {'num_negatives': 5, 'user_embedding_dim': 19, 'item_embedding_dim': 29, 'dropout': 0.39028752487566376, 'n_layers': 2, 'layer1': 54, 'layer2': 9, 'epochs': 16}. Best is trial 13 with value: 0.835.\u001b[0m\n",
      "GPU available: True, used: True\n",
      "TPU available: False, using: 0 TPU cores\n",
      "LOCAL_RANK: 0 - CUDA_VISIBLE_DEVICES: [0]\n",
      "\n",
      "  | Name           | Type       | Params\n",
      "----------------------------------------------\n",
      "0 | user_embedding | Embedding  | 39.7 K\n",
      "1 | item_embedding | Embedding  | 257 K \n",
      "2 | fc_layers      | ModuleList | 2.7 K \n",
      "3 | output         | Linear     | 57    \n",
      "----------------------------------------------\n",
      "300 K     Trainable params\n",
      "0         Non-trainable params\n",
      "300 K     Total params\n",
      "1.201     Total estimated model params size (MB)\n"
     ]
    },
    {
     "data": {
      "application/vnd.jupyter.widget-view+json": {
       "model_id": "d625b29da629495cb4de3989e382c94b",
       "version_major": 2,
       "version_minor": 0
      },
      "text/plain": [
       "Training: 0it [00:00, ?it/s]"
      ]
     },
     "metadata": {},
     "output_type": "display_data"
    },
    {
     "data": {
      "application/vnd.jupyter.widget-view+json": {
       "model_id": "b8e992a5a9d54d9abba1a7a6f51727a4",
       "version_major": 2,
       "version_minor": 0
      },
      "text/plain": [
       "  0%|          | 0/4415 [00:00<?, ?it/s]"
      ]
     },
     "metadata": {},
     "output_type": "display_data"
    },
    {
     "name": "stderr",
     "output_type": "stream",
     "text": [
      "\u001b[32m[I 2021-06-13 22:26:03,512]\u001b[0m Trial 17 finished with value: 0.83 and parameters: {'num_negatives': 10, 'user_embedding_dim': 9, 'item_embedding_dim': 39, 'dropout': 0.4883495109818783, 'n_layers': 1, 'layer1': 56, 'epochs': 18}. Best is trial 13 with value: 0.835.\u001b[0m\n",
      "GPU available: True, used: True\n",
      "TPU available: False, using: 0 TPU cores\n",
      "LOCAL_RANK: 0 - CUDA_VISIBLE_DEVICES: [0]\n",
      "\n",
      "  | Name           | Type       | Params\n",
      "----------------------------------------------\n",
      "0 | user_embedding | Embedding  | 30.9 K\n",
      "1 | item_embedding | Embedding  | 270 K \n",
      "2 | fc_layers      | ModuleList | 5.7 K \n",
      "3 | output         | Linear     | 117   \n",
      "----------------------------------------------\n",
      "307 K     Trainable params\n",
      "0         Non-trainable params\n",
      "307 K     Total params\n",
      "1.230     Total estimated model params size (MB)\n"
     ]
    },
    {
     "data": {
      "application/vnd.jupyter.widget-view+json": {
       "model_id": "158b4dfff4d548bcaaa4c2f3ec55fa31",
       "version_major": 2,
       "version_minor": 0
      },
      "text/plain": [
       "Training: 0it [00:00, ?it/s]"
      ]
     },
     "metadata": {},
     "output_type": "display_data"
    },
    {
     "data": {
      "application/vnd.jupyter.widget-view+json": {
       "model_id": "d6b6800c32254b18a01fa688b982dfe2",
       "version_major": 2,
       "version_minor": 0
      },
      "text/plain": [
       "  0%|          | 0/4415 [00:00<?, ?it/s]"
      ]
     },
     "metadata": {},
     "output_type": "display_data"
    },
    {
     "name": "stderr",
     "output_type": "stream",
     "text": [
      "\u001b[32m[I 2021-06-13 22:32:21,747]\u001b[0m Trial 18 finished with value: 0.797 and parameters: {'num_negatives': 10, 'user_embedding_dim': 7, 'item_embedding_dim': 41, 'dropout': 0.49159238560704605, 'n_layers': 1, 'layer1': 116, 'epochs': 24}. Best is trial 13 with value: 0.835.\u001b[0m\n",
      "GPU available: True, used: True\n",
      "TPU available: False, using: 0 TPU cores\n",
      "LOCAL_RANK: 0 - CUDA_VISIBLE_DEVICES: [0]\n",
      "\n",
      "  | Name           | Type       | Params\n",
      "----------------------------------------------\n",
      "0 | user_embedding | Embedding  | 70.6 K\n",
      "1 | item_embedding | Embedding  | 171 K \n",
      "2 | fc_layers      | ModuleList | 2.7 K \n",
      "3 | output         | Linear     | 61    \n",
      "----------------------------------------------\n",
      "245 K     Trainable params\n",
      "0         Non-trainable params\n",
      "245 K     Total params\n",
      "0.981     Total estimated model params size (MB)\n"
     ]
    },
    {
     "data": {
      "application/vnd.jupyter.widget-view+json": {
       "model_id": "04b8f2dbe3884731a2f9b68cd7c3dcad",
       "version_major": 2,
       "version_minor": 0
      },
      "text/plain": [
       "Training: 0it [00:00, ?it/s]"
      ]
     },
     "metadata": {},
     "output_type": "display_data"
    },
    {
     "data": {
      "application/vnd.jupyter.widget-view+json": {
       "model_id": "0d4548adbc3f4a778a32fea1e21ac615",
       "version_major": 2,
       "version_minor": 0
      },
      "text/plain": [
       "  0%|          | 0/4415 [00:00<?, ?it/s]"
      ]
     },
     "metadata": {},
     "output_type": "display_data"
    },
    {
     "name": "stderr",
     "output_type": "stream",
     "text": [
      "\u001b[32m[I 2021-06-13 22:35:18,686]\u001b[0m Trial 19 finished with value: 0.821 and parameters: {'num_negatives': 8, 'user_embedding_dim': 16, 'item_embedding_dim': 26, 'dropout': 0.43878837898637757, 'n_layers': 2, 'layer1': 26, 'layer2': 60, 'epochs': 13}. Best is trial 13 with value: 0.835.\u001b[0m\n",
      "GPU available: True, used: True\n",
      "TPU available: False, using: 0 TPU cores\n",
      "LOCAL_RANK: 0 - CUDA_VISIBLE_DEVICES: [0]\n",
      "\n",
      "  | Name           | Type       | Params\n",
      "----------------------------------------------\n",
      "0 | user_embedding | Embedding  | 13.2 K\n",
      "1 | item_embedding | Embedding  | 310 K \n",
      "2 | fc_layers      | ModuleList | 3.4 K \n",
      "3 | output         | Linear     | 67    \n",
      "----------------------------------------------\n",
      "327 K     Trainable params\n",
      "0         Non-trainable params\n",
      "327 K     Total params\n",
      "1.308     Total estimated model params size (MB)\n"
     ]
    },
    {
     "data": {
      "application/vnd.jupyter.widget-view+json": {
       "model_id": "b1fb7fcf3c4044e58b3bb20c493423c7",
       "version_major": 2,
       "version_minor": 0
      },
      "text/plain": [
       "Training: 0it [00:00, ?it/s]"
      ]
     },
     "metadata": {},
     "output_type": "display_data"
    },
    {
     "data": {
      "application/vnd.jupyter.widget-view+json": {
       "model_id": "20219e941db64dee8544ca177d02fd37",
       "version_major": 2,
       "version_minor": 0
      },
      "text/plain": [
       "  0%|          | 0/4415 [00:00<?, ?it/s]"
      ]
     },
     "metadata": {},
     "output_type": "display_data"
    },
    {
     "name": "stderr",
     "output_type": "stream",
     "text": [
      "\u001b[32m[I 2021-06-13 22:39:36,468]\u001b[0m Trial 20 finished with value: 0.832 and parameters: {'num_negatives': 9, 'user_embedding_dim': 3, 'item_embedding_dim': 47, 'dropout': 0.44953431984464776, 'n_layers': 1, 'layer1': 66, 'epochs': 18}. Best is trial 13 with value: 0.835.\u001b[0m\n",
      "GPU available: True, used: True\n",
      "TPU available: False, using: 0 TPU cores\n",
      "LOCAL_RANK: 0 - CUDA_VISIBLE_DEVICES: [0]\n",
      "\n",
      "  | Name           | Type       | Params\n",
      "----------------------------------------------\n",
      "0 | user_embedding | Embedding  | 8.8 K \n",
      "1 | item_embedding | Embedding  | 330 K \n",
      "2 | fc_layers      | ModuleList | 3.8 K \n",
      "3 | output         | Linear     | 73    \n",
      "----------------------------------------------\n",
      "342 K     Trainable params\n",
      "0         Non-trainable params\n",
      "342 K     Total params\n",
      "1.372     Total estimated model params size (MB)\n"
     ]
    },
    {
     "data": {
      "application/vnd.jupyter.widget-view+json": {
       "model_id": "27de99a025f2493fb9c56aeafe031fa7",
       "version_major": 2,
       "version_minor": 0
      },
      "text/plain": [
       "Training: 0it [00:00, ?it/s]"
      ]
     },
     "metadata": {},
     "output_type": "display_data"
    },
    {
     "data": {
      "application/vnd.jupyter.widget-view+json": {
       "model_id": "f1baa160d3344b31838aac82e17dc205",
       "version_major": 2,
       "version_minor": 0
      },
      "text/plain": [
       "  0%|          | 0/4415 [00:00<?, ?it/s]"
      ]
     },
     "metadata": {},
     "output_type": "display_data"
    },
    {
     "name": "stderr",
     "output_type": "stream",
     "text": [
      "\u001b[32m[I 2021-06-13 22:43:53,551]\u001b[0m Trial 21 finished with value: 0.837 and parameters: {'num_negatives': 9, 'user_embedding_dim': 2, 'item_embedding_dim': 50, 'dropout': 0.4916336150389861, 'n_layers': 1, 'layer1': 72, 'epochs': 18}. Best is trial 21 with value: 0.837.\u001b[0m\n",
      "GPU available: True, used: True\n",
      "TPU available: False, using: 0 TPU cores\n",
      "LOCAL_RANK: 0 - CUDA_VISIBLE_DEVICES: [0]\n",
      "\n",
      "  | Name           | Type       | Params\n",
      "----------------------------------------------\n",
      "0 | user_embedding | Embedding  | 8.8 K \n",
      "1 | item_embedding | Embedding  | 330 K \n",
      "2 | fc_layers      | ModuleList | 4.1 K \n",
      "3 | output         | Linear     | 79    \n",
      "----------------------------------------------\n",
      "343 K     Trainable params\n",
      "0         Non-trainable params\n",
      "343 K     Total params\n",
      "1.373     Total estimated model params size (MB)\n"
     ]
    },
    {
     "data": {
      "application/vnd.jupyter.widget-view+json": {
       "model_id": "4ed7457179464e74ad07a72299f84343",
       "version_major": 2,
       "version_minor": 0
      },
      "text/plain": [
       "Training: 0it [00:00, ?it/s]"
      ]
     },
     "metadata": {},
     "output_type": "display_data"
    },
    {
     "data": {
      "application/vnd.jupyter.widget-view+json": {
       "model_id": "a1c1ca6cd93249a59175c739fd38a52a",
       "version_major": 2,
       "version_minor": 0
      },
      "text/plain": [
       "  0%|          | 0/4415 [00:00<?, ?it/s]"
      ]
     },
     "metadata": {},
     "output_type": "display_data"
    },
    {
     "name": "stderr",
     "output_type": "stream",
     "text": [
      "\u001b[32m[I 2021-06-13 22:48:03,668]\u001b[0m Trial 22 finished with value: 0.838 and parameters: {'num_negatives': 9, 'user_embedding_dim': 2, 'item_embedding_dim': 50, 'dropout': 0.4961106229094374, 'n_layers': 1, 'layer1': 78, 'epochs': 18}. Best is trial 22 with value: 0.838.\u001b[0m\n",
      "GPU available: True, used: True\n",
      "TPU available: False, using: 0 TPU cores\n",
      "LOCAL_RANK: 0 - CUDA_VISIBLE_DEVICES: [0]\n",
      "\n",
      "  | Name           | Type       | Params\n",
      "----------------------------------------------\n",
      "0 | user_embedding | Embedding  | 26.5 K\n",
      "1 | item_embedding | Embedding  | 330 K \n",
      "2 | fc_layers      | ModuleList | 7.0 K \n",
      "3 | output         | Linear     | 123   \n",
      "----------------------------------------------\n",
      "363 K     Trainable params\n",
      "0         Non-trainable params\n",
      "363 K     Total params\n",
      "1.455     Total estimated model params size (MB)\n"
     ]
    },
    {
     "data": {
      "application/vnd.jupyter.widget-view+json": {
       "model_id": "19ca504d3466468ca99ac8cbea5f4205",
       "version_major": 2,
       "version_minor": 0
      },
      "text/plain": [
       "Training: 0it [00:00, ?it/s]"
      ]
     },
     "metadata": {},
     "output_type": "display_data"
    },
    {
     "data": {
      "application/vnd.jupyter.widget-view+json": {
       "model_id": "6b1d08fbd0964bbc94d10210a4b6640b",
       "version_major": 2,
       "version_minor": 0
      },
      "text/plain": [
       "  0%|          | 0/4415 [00:00<?, ?it/s]"
      ]
     },
     "metadata": {},
     "output_type": "display_data"
    },
    {
     "name": "stderr",
     "output_type": "stream",
     "text": [
      "\u001b[32m[I 2021-06-13 22:52:17,694]\u001b[0m Trial 23 finished with value: 0.82 and parameters: {'num_negatives': 9, 'user_embedding_dim': 6, 'item_embedding_dim': 50, 'dropout': 0.4968942996847002, 'n_layers': 1, 'layer1': 122, 'epochs': 18}. Best is trial 22 with value: 0.838.\u001b[0m\n",
      "GPU available: True, used: True\n",
      "TPU available: False, using: 0 TPU cores\n",
      "LOCAL_RANK: 0 - CUDA_VISIBLE_DEVICES: [0]\n",
      "\n",
      "  | Name           | Type       | Params\n",
      "----------------------------------------------\n",
      "0 | user_embedding | Embedding  | 8.8 K \n",
      "1 | item_embedding | Embedding  | 290 K \n",
      "2 | fc_layers      | ModuleList | 3.8 K \n",
      "3 | output         | Linear     | 82    \n",
      "----------------------------------------------\n",
      "303 K     Trainable params\n",
      "0         Non-trainable params\n",
      "303 K     Total params\n",
      "1.213     Total estimated model params size (MB)\n"
     ]
    },
    {
     "data": {
      "application/vnd.jupyter.widget-view+json": {
       "model_id": "0cc2bf7c143c46ec89d83da1ea0293ff",
       "version_major": 2,
       "version_minor": 0
      },
      "text/plain": [
       "Training: 0it [00:00, ?it/s]"
      ]
     },
     "metadata": {},
     "output_type": "display_data"
    },
    {
     "data": {
      "application/vnd.jupyter.widget-view+json": {
       "model_id": "10e33d79b597494c897a14f950e6d654",
       "version_major": 2,
       "version_minor": 0
      },
      "text/plain": [
       "  0%|          | 0/4415 [00:00<?, ?it/s]"
      ]
     },
     "metadata": {},
     "output_type": "display_data"
    },
    {
     "name": "stderr",
     "output_type": "stream",
     "text": [
      "\u001b[32m[I 2021-06-13 22:54:45,162]\u001b[0m Trial 24 finished with value: 0.834 and parameters: {'num_negatives': 8, 'user_embedding_dim': 2, 'item_embedding_dim': 44, 'dropout': 0.49821083802067134, 'n_layers': 1, 'layer1': 81, 'epochs': 11}. Best is trial 22 with value: 0.838.\u001b[0m\n",
      "GPU available: True, used: True\n",
      "TPU available: False, using: 0 TPU cores\n",
      "LOCAL_RANK: 0 - CUDA_VISIBLE_DEVICES: [0]\n",
      "\n",
      "  | Name           | Type       | Params\n",
      "----------------------------------------------\n",
      "0 | user_embedding | Embedding  | 8.8 K \n",
      "1 | item_embedding | Embedding  | 330 K \n",
      "2 | fc_layers      | ModuleList | 2.1 K \n",
      "3 | output         | Linear     | 41    \n",
      "----------------------------------------------\n",
      "341 K     Trainable params\n",
      "0         Non-trainable params\n",
      "341 K     Total params\n",
      "1.365     Total estimated model params size (MB)\n"
     ]
    },
    {
     "data": {
      "application/vnd.jupyter.widget-view+json": {
       "model_id": "38b5091fc5dd4be581ea93e40462f89b",
       "version_major": 2,
       "version_minor": 0
      },
      "text/plain": [
       "Training: 0it [00:00, ?it/s]"
      ]
     },
     "metadata": {},
     "output_type": "display_data"
    },
    {
     "data": {
      "application/vnd.jupyter.widget-view+json": {
       "model_id": "c058497a8a334966a3cbe75138d6654f",
       "version_major": 2,
       "version_minor": 0
      },
      "text/plain": [
       "  0%|          | 0/4415 [00:00<?, ?it/s]"
      ]
     },
     "metadata": {},
     "output_type": "display_data"
    },
    {
     "name": "stderr",
     "output_type": "stream",
     "text": [
      "\u001b[32m[I 2021-06-13 22:59:12,428]\u001b[0m Trial 25 finished with value: 0.834 and parameters: {'num_negatives': 7, 'user_embedding_dim': 2, 'item_embedding_dim': 50, 'dropout': 0.42053058689271694, 'n_layers': 1, 'layer1': 40, 'epochs': 24}. Best is trial 22 with value: 0.838.\u001b[0m\n",
      "GPU available: True, used: True\n",
      "TPU available: False, using: 0 TPU cores\n",
      "LOCAL_RANK: 0 - CUDA_VISIBLE_DEVICES: [0]\n",
      "\n",
      "  | Name           | Type       | Params\n",
      "----------------------------------------------\n",
      "0 | user_embedding | Embedding  | 44.1 K\n",
      "1 | item_embedding | Embedding  | 277 K \n",
      "2 | fc_layers      | ModuleList | 4.5 K \n",
      "3 | output         | Linear     | 10    \n",
      "----------------------------------------------\n",
      "326 K     Trainable params\n",
      "0         Non-trainable params\n",
      "326 K     Total params\n",
      "1.304     Total estimated model params size (MB)\n"
     ]
    },
    {
     "data": {
      "application/vnd.jupyter.widget-view+json": {
       "model_id": "4a5ee9c47c0f45738042b6dd7ef7ee0c",
       "version_major": 2,
       "version_minor": 0
      },
      "text/plain": [
       "Training: 0it [00:00, ?it/s]"
      ]
     },
     "metadata": {},
     "output_type": "display_data"
    },
    {
     "data": {
      "application/vnd.jupyter.widget-view+json": {
       "model_id": "3863b392a720421b87b4fde678e25cb7",
       "version_major": 2,
       "version_minor": 0
      },
      "text/plain": [
       "  0%|          | 0/4415 [00:00<?, ?it/s]"
      ]
     },
     "metadata": {},
     "output_type": "display_data"
    },
    {
     "name": "stderr",
     "output_type": "stream",
     "text": [
      "\u001b[32m[I 2021-06-13 23:02:43,807]\u001b[0m Trial 26 finished with value: 0.808 and parameters: {'num_negatives': 9, 'user_embedding_dim': 10, 'item_embedding_dim': 42, 'dropout': 0.4636864106565305, 'n_layers': 2, 'layer1': 73, 'layer2': 9, 'epochs': 14}. Best is trial 22 with value: 0.838.\u001b[0m\n",
      "GPU available: True, used: True\n",
      "TPU available: False, using: 0 TPU cores\n",
      "LOCAL_RANK: 0 - CUDA_VISIBLE_DEVICES: [0]\n",
      "\n",
      "  | Name           | Type       | Params\n",
      "----------------------------------------------\n",
      "0 | user_embedding | Embedding  | 57.4 K\n",
      "1 | item_embedding | Embedding  | 231 K \n",
      "2 | fc_layers      | ModuleList | 6.2 K \n",
      "3 | output         | Linear     | 128   \n",
      "----------------------------------------------\n",
      "294 K     Trainable params\n",
      "0         Non-trainable params\n",
      "294 K     Total params\n",
      "1.180     Total estimated model params size (MB)\n"
     ]
    },
    {
     "data": {
      "application/vnd.jupyter.widget-view+json": {
       "model_id": "b420322c80d048878d036d3d80994f27",
       "version_major": 2,
       "version_minor": 0
      },
      "text/plain": [
       "Training: 0it [00:00, ?it/s]"
      ]
     },
     "metadata": {},
     "output_type": "display_data"
    },
    {
     "data": {
      "application/vnd.jupyter.widget-view+json": {
       "model_id": "56bf7c468c1841c4a4b27b5189ae8d62",
       "version_major": 2,
       "version_minor": 0
      },
      "text/plain": [
       "  0%|          | 0/4415 [00:00<?, ?it/s]"
      ]
     },
     "metadata": {},
     "output_type": "display_data"
    },
    {
     "name": "stderr",
     "output_type": "stream",
     "text": [
      "\u001b[32m[I 2021-06-13 23:06:48,045]\u001b[0m Trial 27 finished with value: 0.817 and parameters: {'num_negatives': 8, 'user_embedding_dim': 13, 'item_embedding_dim': 35, 'dropout': 0.41882779394217695, 'n_layers': 1, 'layer1': 127, 'epochs': 19}. Best is trial 22 with value: 0.838.\u001b[0m\n",
      "GPU available: True, used: True\n",
      "TPU available: False, using: 0 TPU cores\n",
      "LOCAL_RANK: 0 - CUDA_VISIBLE_DEVICES: [0]\n",
      "\n",
      "  | Name           | Type       | Params\n",
      "----------------------------------------------\n",
      "0 | user_embedding | Embedding  | 97.1 K\n",
      "1 | item_embedding | Embedding  | 303 K \n",
      "2 | fc_layers      | ModuleList | 3.0 K \n",
      "3 | output         | Linear     | 44    \n",
      "----------------------------------------------\n",
      "403 K     Trainable params\n",
      "0         Non-trainable params\n",
      "403 K     Total params\n",
      "1.616     Total estimated model params size (MB)\n"
     ]
    },
    {
     "data": {
      "application/vnd.jupyter.widget-view+json": {
       "model_id": "63b578bc019d4e0087d56c1c343551c0",
       "version_major": 2,
       "version_minor": 0
      },
      "text/plain": [
       "Training: 0it [00:00, ?it/s]"
      ]
     },
     "metadata": {},
     "output_type": "display_data"
    },
    {
     "data": {
      "application/vnd.jupyter.widget-view+json": {
       "model_id": "5fb20b40f4344d96a2c77c3feea63936",
       "version_major": 2,
       "version_minor": 0
      },
      "text/plain": [
       "  0%|          | 0/4415 [00:00<?, ?it/s]"
      ]
     },
     "metadata": {},
     "output_type": "display_data"
    },
    {
     "name": "stderr",
     "output_type": "stream",
     "text": [
      "\u001b[32m[I 2021-06-13 23:12:43,061]\u001b[0m Trial 28 finished with value: 0.817 and parameters: {'num_negatives': 10, 'user_embedding_dim': 22, 'item_embedding_dim': 46, 'dropout': 0.3537243453964432, 'n_layers': 1, 'layer1': 43, 'epochs': 23}. Best is trial 22 with value: 0.838.\u001b[0m\n",
      "GPU available: True, used: True\n",
      "TPU available: False, using: 0 TPU cores\n",
      "LOCAL_RANK: 0 - CUDA_VISIBLE_DEVICES: [0]\n",
      "\n",
      "  | Name           | Type       | Params\n",
      "----------------------------------------------\n",
      "0 | user_embedding | Embedding  | 136 K \n",
      "1 | item_embedding | Embedding  | 250 K \n",
      "2 | fc_layers      | ModuleList | 1.7 K \n",
      "3 | output         | Linear     | 25    \n",
      "----------------------------------------------\n",
      "389 K     Trainable params\n",
      "0         Non-trainable params\n",
      "389 K     Total params\n",
      "1.558     Total estimated model params size (MB)\n"
     ]
    },
    {
     "data": {
      "application/vnd.jupyter.widget-view+json": {
       "model_id": "3479f6664ccd4a30a00390427bb83672",
       "version_major": 2,
       "version_minor": 0
      },
      "text/plain": [
       "Training: 0it [00:00, ?it/s]"
      ]
     },
     "metadata": {},
     "output_type": "display_data"
    },
    {
     "data": {
      "application/vnd.jupyter.widget-view+json": {
       "model_id": "a3661bbc6b1e4ca3a732caa6376dd77f",
       "version_major": 2,
       "version_minor": 0
      },
      "text/plain": [
       "  0%|          | 0/4415 [00:00<?, ?it/s]"
      ]
     },
     "metadata": {},
     "output_type": "display_data"
    },
    {
     "name": "stderr",
     "output_type": "stream",
     "text": [
      "\u001b[32m[I 2021-06-13 23:17:38,699]\u001b[0m Trial 29 finished with value: 0.814 and parameters: {'num_negatives': 7, 'user_embedding_dim': 31, 'item_embedding_dim': 38, 'dropout': 0.3179264294475614, 'n_layers': 1, 'layer1': 24, 'epochs': 26}. Best is trial 22 with value: 0.838.\u001b[0m\n",
      "GPU available: True, used: True\n",
      "TPU available: False, using: 0 TPU cores\n",
      "LOCAL_RANK: 0 - CUDA_VISIBLE_DEVICES: [0]\n",
      "\n",
      "  | Name           | Type       | Params\n",
      "----------------------------------------------\n",
      "0 | user_embedding | Embedding  | 26.5 K\n",
      "1 | item_embedding | Embedding  | 330 K \n",
      "2 | fc_layers      | ModuleList | 10.0 K\n",
      "3 | output         | Linear     | 51    \n",
      "----------------------------------------------\n",
      "366 K     Trainable params\n",
      "0         Non-trainable params\n",
      "366 K     Total params\n",
      "1.467     Total estimated model params size (MB)\n"
     ]
    },
    {
     "data": {
      "application/vnd.jupyter.widget-view+json": {
       "model_id": "9ddf02c873c343949a8d5b66fe50be97",
       "version_major": 2,
       "version_minor": 0
      },
      "text/plain": [
       "Training: 0it [00:00, ?it/s]"
      ]
     },
     "metadata": {},
     "output_type": "display_data"
    },
    {
     "data": {
      "application/vnd.jupyter.widget-view+json": {
       "model_id": "660d5981b88247da820fa25d29a87a6f",
       "version_major": 2,
       "version_minor": 0
      },
      "text/plain": [
       "  0%|          | 0/4415 [00:00<?, ?it/s]"
      ]
     },
     "metadata": {},
     "output_type": "display_data"
    },
    {
     "name": "stderr",
     "output_type": "stream",
     "text": [
      "\u001b[32m[I 2021-06-13 23:20:43,106]\u001b[0m Trial 30 finished with value: 0.824 and parameters: {'num_negatives': 9, 'user_embedding_dim': 6, 'item_embedding_dim': 50, 'dropout': 0.36934054652177384, 'n_layers': 2, 'layer1': 93, 'layer2': 50, 'epochs': 12}. Best is trial 22 with value: 0.838.\u001b[0m\n",
      "GPU available: True, used: True\n",
      "TPU available: False, using: 0 TPU cores\n",
      "LOCAL_RANK: 0 - CUDA_VISIBLE_DEVICES: [0]\n",
      "\n",
      "  | Name           | Type       | Params\n",
      "----------------------------------------------\n",
      "0 | user_embedding | Embedding  | 8.8 K \n",
      "1 | item_embedding | Embedding  | 330 K \n",
      "2 | fc_layers      | ModuleList | 2.0 K \n",
      "3 | output         | Linear     | 39    \n",
      "----------------------------------------------\n",
      "341 K     Trainable params\n",
      "0         Non-trainable params\n",
      "341 K     Total params\n",
      "1.365     Total estimated model params size (MB)\n"
     ]
    },
    {
     "data": {
      "application/vnd.jupyter.widget-view+json": {
       "model_id": "5eddf23be2a64780925dc2dbe3aa39da",
       "version_major": 2,
       "version_minor": 0
      },
      "text/plain": [
       "Training: 0it [00:00, ?it/s]"
      ]
     },
     "metadata": {},
     "output_type": "display_data"
    },
    {
     "data": {
      "application/vnd.jupyter.widget-view+json": {
       "model_id": "ff0c0082fa434691a9fe86de4f026c8c",
       "version_major": 2,
       "version_minor": 0
      },
      "text/plain": [
       "  0%|          | 0/4415 [00:00<?, ?it/s]"
      ]
     },
     "metadata": {},
     "output_type": "display_data"
    },
    {
     "name": "stderr",
     "output_type": "stream",
     "text": [
      "\u001b[32m[I 2021-06-13 23:25:45,668]\u001b[0m Trial 31 finished with value: 0.822 and parameters: {'num_negatives': 7, 'user_embedding_dim': 2, 'item_embedding_dim': 50, 'dropout': 0.42105012097961625, 'n_layers': 1, 'layer1': 38, 'epochs': 27}. Best is trial 22 with value: 0.838.\u001b[0m\n",
      "GPU available: True, used: True\n",
      "TPU available: False, using: 0 TPU cores\n",
      "LOCAL_RANK: 0 - CUDA_VISIBLE_DEVICES: [0]\n",
      "\n",
      "  | Name           | Type       | Params\n",
      "----------------------------------------------\n",
      "0 | user_embedding | Embedding  | 8.8 K \n",
      "1 | item_embedding | Embedding  | 310 K \n",
      "2 | fc_layers      | ModuleList | 3.2 K \n",
      "3 | output         | Linear     | 65    \n",
      "----------------------------------------------\n",
      "322 K     Trainable params\n",
      "0         Non-trainable params\n",
      "322 K     Total params\n",
      "1.290     Total estimated model params size (MB)\n"
     ]
    },
    {
     "data": {
      "application/vnd.jupyter.widget-view+json": {
       "model_id": "37f407e28f5545d38de01e4b1a3785f5",
       "version_major": 2,
       "version_minor": 0
      },
      "text/plain": [
       "Training: 0it [00:00, ?it/s]"
      ]
     },
     "metadata": {},
     "output_type": "display_data"
    },
    {
     "data": {
      "application/vnd.jupyter.widget-view+json": {
       "model_id": "6392cfee318c4af9a0abc28b0289c64a",
       "version_major": 2,
       "version_minor": 0
      },
      "text/plain": [
       "  0%|          | 0/4415 [00:00<?, ?it/s]"
      ]
     },
     "metadata": {},
     "output_type": "display_data"
    },
    {
     "name": "stderr",
     "output_type": "stream",
     "text": [
      "\u001b[32m[I 2021-06-13 23:29:31,864]\u001b[0m Trial 32 finished with value: 0.836 and parameters: {'num_negatives': 7, 'user_embedding_dim': 2, 'item_embedding_dim': 47, 'dropout': 0.47833286979407225, 'n_layers': 1, 'layer1': 64, 'epochs': 20}. Best is trial 22 with value: 0.838.\u001b[0m\n",
      "GPU available: True, used: True\n",
      "TPU available: False, using: 0 TPU cores\n",
      "LOCAL_RANK: 0 - CUDA_VISIBLE_DEVICES: [0]\n",
      "\n",
      "  | Name           | Type       | Params\n",
      "----------------------------------------------\n",
      "0 | user_embedding | Embedding  | 26.5 K\n",
      "1 | item_embedding | Embedding  | 284 K \n",
      "2 | fc_layers      | ModuleList | 3.2 K \n",
      "3 | output         | Linear     | 65    \n",
      "----------------------------------------------\n",
      "313 K     Trainable params\n",
      "0         Non-trainable params\n",
      "313 K     Total params\n",
      "1.255     Total estimated model params size (MB)\n"
     ]
    },
    {
     "data": {
      "application/vnd.jupyter.widget-view+json": {
       "model_id": "13c8f0acb6af4a49a1cb7f22df4f3e06",
       "version_major": 2,
       "version_minor": 0
      },
      "text/plain": [
       "Training: 0it [00:00, ?it/s]"
      ]
     },
     "metadata": {},
     "output_type": "display_data"
    },
    {
     "data": {
      "application/vnd.jupyter.widget-view+json": {
       "model_id": "fa7c88f981a9486faec25f2c1ed9c9fc",
       "version_major": 2,
       "version_minor": 0
      },
      "text/plain": [
       "  0%|          | 0/4415 [00:00<?, ?it/s]"
      ]
     },
     "metadata": {},
     "output_type": "display_data"
    },
    {
     "name": "stderr",
     "output_type": "stream",
     "text": [
      "\u001b[32m[I 2021-06-13 23:32:52,190]\u001b[0m Trial 33 finished with value: 0.833 and parameters: {'num_negatives': 6, 'user_embedding_dim': 6, 'item_embedding_dim': 43, 'dropout': 0.47132260394325604, 'n_layers': 1, 'layer1': 64, 'epochs': 20}. Best is trial 22 with value: 0.838.\u001b[0m\n",
      "GPU available: True, used: True\n",
      "TPU available: False, using: 0 TPU cores\n",
      "LOCAL_RANK: 0 - CUDA_VISIBLE_DEVICES: [0]\n",
      "\n",
      "  | Name           | Type       | Params\n",
      "----------------------------------------------\n",
      "0 | user_embedding | Embedding  | 61.8 K\n",
      "1 | item_embedding | Embedding  | 303 K \n",
      "2 | fc_layers      | ModuleList | 5.8 K \n",
      "3 | output         | Linear     | 96    \n",
      "----------------------------------------------\n",
      "371 K     Trainable params\n",
      "0         Non-trainable params\n",
      "371 K     Total params\n",
      "1.486     Total estimated model params size (MB)\n"
     ]
    },
    {
     "data": {
      "application/vnd.jupyter.widget-view+json": {
       "model_id": "ef90b76aca034d10b514561ec94a3659",
       "version_major": 2,
       "version_minor": 0
      },
      "text/plain": [
       "Training: 0it [00:00, ?it/s]"
      ]
     },
     "metadata": {},
     "output_type": "display_data"
    },
    {
     "data": {
      "application/vnd.jupyter.widget-view+json": {
       "model_id": "95d87e74c55646f688b5269670b1ef96",
       "version_major": 2,
       "version_minor": 0
      },
      "text/plain": [
       "  0%|          | 0/4415 [00:00<?, ?it/s]"
      ]
     },
     "metadata": {},
     "output_type": "display_data"
    },
    {
     "name": "stderr",
     "output_type": "stream",
     "text": [
      "\u001b[32m[I 2021-06-13 23:36:51,739]\u001b[0m Trial 34 finished with value: 0.819 and parameters: {'num_negatives': 8, 'user_embedding_dim': 14, 'item_embedding_dim': 46, 'dropout': 0.47478522987112626, 'n_layers': 1, 'layer1': 95, 'epochs': 19}. Best is trial 22 with value: 0.838.\u001b[0m\n",
      "GPU available: True, used: True\n",
      "TPU available: False, using: 0 TPU cores\n",
      "LOCAL_RANK: 0 - CUDA_VISIBLE_DEVICES: [0]\n",
      "\n",
      "  | Name           | Type       | Params\n",
      "----------------------------------------------\n",
      "0 | user_embedding | Embedding  | 35.3 K\n",
      "1 | item_embedding | Embedding  | 317 K \n",
      "2 | fc_layers      | ModuleList | 3.6 K \n",
      "3 | output         | Linear     | 65    \n",
      "----------------------------------------------\n",
      "356 K     Trainable params\n",
      "0         Non-trainable params\n",
      "356 K     Total params\n",
      "1.424     Total estimated model params size (MB)\n"
     ]
    },
    {
     "data": {
      "application/vnd.jupyter.widget-view+json": {
       "model_id": "24cbb37191bb47068b1dce587f68da89",
       "version_major": 2,
       "version_minor": 0
      },
      "text/plain": [
       "Training: 0it [00:00, ?it/s]"
      ]
     },
     "metadata": {},
     "output_type": "display_data"
    },
    {
     "data": {
      "application/vnd.jupyter.widget-view+json": {
       "model_id": "5819df200d1943199cee23b5f979025a",
       "version_major": 2,
       "version_minor": 0
      },
      "text/plain": [
       "  0%|          | 0/4415 [00:00<?, ?it/s]"
      ]
     },
     "metadata": {},
     "output_type": "display_data"
    },
    {
     "name": "stderr",
     "output_type": "stream",
     "text": [
      "\u001b[32m[I 2021-06-13 23:40:05,716]\u001b[0m Trial 35 finished with value: 0.836 and parameters: {'num_negatives': 7, 'user_embedding_dim': 8, 'item_embedding_dim': 48, 'dropout': 0.49546358375554245, 'n_layers': 1, 'layer1': 64, 'epochs': 17}. Best is trial 22 with value: 0.838.\u001b[0m\n",
      "GPU available: True, used: True\n",
      "TPU available: False, using: 0 TPU cores\n",
      "LOCAL_RANK: 0 - CUDA_VISIBLE_DEVICES: [0]\n",
      "\n",
      "  | Name           | Type       | Params\n",
      "----------------------------------------------\n",
      "0 | user_embedding | Embedding  | 22.1 K\n",
      "1 | item_embedding | Embedding  | 317 K \n",
      "2 | fc_layers      | ModuleList | 1.8 K \n",
      "3 | output         | Linear     | 34    \n",
      "----------------------------------------------\n",
      "340 K     Trainable params\n",
      "0         Non-trainable params\n",
      "340 K     Total params\n",
      "1.364     Total estimated model params size (MB)\n"
     ]
    },
    {
     "data": {
      "application/vnd.jupyter.widget-view+json": {
       "model_id": "548cb650d7a4468cb783e66cd7c16faf",
       "version_major": 2,
       "version_minor": 0
      },
      "text/plain": [
       "Training: 0it [00:00, ?it/s]"
      ]
     },
     "metadata": {},
     "output_type": "display_data"
    },
    {
     "data": {
      "application/vnd.jupyter.widget-view+json": {
       "model_id": "b7b9a322bfd34990bdeec8e8d7eb8e36",
       "version_major": 2,
       "version_minor": 0
      },
      "text/plain": [
       "  0%|          | 0/4415 [00:00<?, ?it/s]"
      ]
     },
     "metadata": {},
     "output_type": "display_data"
    },
    {
     "name": "stderr",
     "output_type": "stream",
     "text": [
      "\u001b[32m[I 2021-06-13 23:42:34,827]\u001b[0m Trial 36 finished with value: 0.843 and parameters: {'num_negatives': 5, 'user_embedding_dim': 5, 'item_embedding_dim': 48, 'dropout': 0.4991583680305453, 'n_layers': 1, 'layer1': 33, 'epochs': 17}. Best is trial 36 with value: 0.843.\u001b[0m\n",
      "GPU available: True, used: True\n",
      "TPU available: False, using: 0 TPU cores\n",
      "LOCAL_RANK: 0 - CUDA_VISIBLE_DEVICES: [0]\n",
      "\n",
      "  | Name           | Type       | Params\n",
      "----------------------------------------------\n",
      "0 | user_embedding | Embedding  | 22.1 K\n",
      "1 | item_embedding | Embedding  | 317 K \n",
      "2 | fc_layers      | ModuleList | 1.7 K \n",
      "3 | output         | Linear     | 33    \n",
      "----------------------------------------------\n",
      "340 K     Trainable params\n",
      "0         Non-trainable params\n",
      "340 K     Total params\n",
      "1.364     Total estimated model params size (MB)\n"
     ]
    },
    {
     "data": {
      "application/vnd.jupyter.widget-view+json": {
       "model_id": "c2793d0dfd5044febf3b290aba21dbd2",
       "version_major": 2,
       "version_minor": 0
      },
      "text/plain": [
       "Training: 0it [00:00, ?it/s]"
      ]
     },
     "metadata": {},
     "output_type": "display_data"
    },
    {
     "data": {
      "application/vnd.jupyter.widget-view+json": {
       "model_id": "62a6ee828ada400988eb469d8cdfa1ea",
       "version_major": 2,
       "version_minor": 0
      },
      "text/plain": [
       "  0%|          | 0/4415 [00:00<?, ?it/s]"
      ]
     },
     "metadata": {},
     "output_type": "display_data"
    },
    {
     "name": "stderr",
     "output_type": "stream",
     "text": [
      "\u001b[32m[I 2021-06-13 23:45:45,347]\u001b[0m Trial 37 finished with value: 0.836 and parameters: {'num_negatives': 5, 'user_embedding_dim': 5, 'item_embedding_dim': 48, 'dropout': 0.4470398666488064, 'n_layers': 1, 'layer1': 32, 'epochs': 22}. Best is trial 36 with value: 0.843.\u001b[0m\n",
      "GPU available: True, used: True\n",
      "TPU available: False, using: 0 TPU cores\n",
      "LOCAL_RANK: 0 - CUDA_VISIBLE_DEVICES: [0]\n",
      "\n",
      "  | Name           | Type       | Params\n",
      "----------------------------------------------\n",
      "0 | user_embedding | Embedding  | 22.1 K\n",
      "1 | item_embedding | Embedding  | 270 K \n",
      "2 | fc_layers      | ModuleList | 1.4 K \n",
      "3 | output         | Linear     | 31    \n",
      "----------------------------------------------\n",
      "294 K     Trainable params\n",
      "0         Non-trainable params\n",
      "294 K     Total params\n",
      "1.177     Total estimated model params size (MB)\n"
     ]
    },
    {
     "data": {
      "application/vnd.jupyter.widget-view+json": {
       "model_id": "ed5357ac00a14b1690c07ff9cb943062",
       "version_major": 2,
       "version_minor": 0
      },
      "text/plain": [
       "Training: 0it [00:00, ?it/s]"
      ]
     },
     "metadata": {},
     "output_type": "display_data"
    },
    {
     "data": {
      "application/vnd.jupyter.widget-view+json": {
       "model_id": "893d8ca464034742a5e775a668520b8c",
       "version_major": 2,
       "version_minor": 0
      },
      "text/plain": [
       "  0%|          | 0/4415 [00:00<?, ?it/s]"
      ]
     },
     "metadata": {},
     "output_type": "display_data"
    },
    {
     "name": "stderr",
     "output_type": "stream",
     "text": [
      "\u001b[32m[I 2021-06-13 23:48:54,817]\u001b[0m Trial 38 finished with value: 0.834 and parameters: {'num_negatives': 5, 'user_embedding_dim': 5, 'item_embedding_dim': 41, 'dropout': 0.2541555459842242, 'n_layers': 1, 'layer1': 30, 'epochs': 22}. Best is trial 36 with value: 0.843.\u001b[0m\n",
      "GPU available: True, used: True\n",
      "TPU available: False, using: 0 TPU cores\n",
      "LOCAL_RANK: 0 - CUDA_VISIBLE_DEVICES: [0]\n",
      "\n",
      "  | Name           | Type       | Params\n",
      "----------------------------------------------\n",
      "0 | user_embedding | Embedding  | 35.3 K\n",
      "1 | item_embedding | Embedding  | 330 K \n",
      "2 | fc_layers      | ModuleList | 2.2 K \n",
      "3 | output         | Linear     | 105   \n",
      "----------------------------------------------\n",
      "367 K     Trainable params\n",
      "0         Non-trainable params\n",
      "367 K     Total params\n",
      "1.472     Total estimated model params size (MB)\n"
     ]
    },
    {
     "data": {
      "application/vnd.jupyter.widget-view+json": {
       "model_id": "147690eb1e0e4b9084435b1dec896032",
       "version_major": 2,
       "version_minor": 0
      },
      "text/plain": [
       "Training: 0it [00:00, ?it/s]"
      ]
     },
     "metadata": {},
     "output_type": "display_data"
    },
    {
     "data": {
      "application/vnd.jupyter.widget-view+json": {
       "model_id": "47959021b694446fb2c09e453f4a1198",
       "version_major": 2,
       "version_minor": 0
      },
      "text/plain": [
       "  0%|          | 0/4415 [00:00<?, ?it/s]"
      ]
     },
     "metadata": {},
     "output_type": "display_data"
    },
    {
     "name": "stderr",
     "output_type": "stream",
     "text": [
      "\u001b[32m[I 2021-06-13 23:50:50,045]\u001b[0m Trial 39 finished with value: 0.805 and parameters: {'num_negatives': 3, 'user_embedding_dim': 8, 'item_embedding_dim': 50, 'dropout': 0.4943544397776304, 'n_layers': 3, 'layer1': 19, 'layer2': 8, 'layer3': 104, 'epochs': 17}. Best is trial 36 with value: 0.843.\u001b[0m\n",
      "GPU available: True, used: True\n",
      "TPU available: False, using: 0 TPU cores\n",
      "LOCAL_RANK: 0 - CUDA_VISIBLE_DEVICES: [0]\n",
      "\n",
      "  | Name           | Type       | Params\n",
      "----------------------------------------------\n",
      "0 | user_embedding | Embedding  | 53.0 K\n",
      "1 | item_embedding | Embedding  | 290 K \n",
      "2 | fc_layers      | ModuleList | 3.1 K \n",
      "3 | output         | Linear     | 35    \n",
      "----------------------------------------------\n",
      "346 K     Trainable params\n",
      "0         Non-trainable params\n",
      "346 K     Total params\n",
      "1.387     Total estimated model params size (MB)\n"
     ]
    },
    {
     "data": {
      "application/vnd.jupyter.widget-view+json": {
       "model_id": "8550dfdbd6c44aaaaa047fb1e4167a6c",
       "version_major": 2,
       "version_minor": 0
      },
      "text/plain": [
       "Training: 0it [00:00, ?it/s]"
      ]
     },
     "metadata": {},
     "output_type": "display_data"
    },
    {
     "data": {
      "application/vnd.jupyter.widget-view+json": {
       "model_id": "945340af57ef4da98279b4ce438cbad0",
       "version_major": 2,
       "version_minor": 0
      },
      "text/plain": [
       "  0%|          | 0/4415 [00:00<?, ?it/s]"
      ]
     },
     "metadata": {},
     "output_type": "display_data"
    },
    {
     "name": "stderr",
     "output_type": "stream",
     "text": [
      "\u001b[32m[I 2021-06-13 23:53:09,493]\u001b[0m Trial 40 finished with value: 0.812 and parameters: {'num_negatives': 5, 'user_embedding_dim': 12, 'item_embedding_dim': 44, 'dropout': 0.4443260703336489, 'n_layers': 2, 'layer1': 34, 'layer2': 34, 'epochs': 15}. Best is trial 36 with value: 0.843.\u001b[0m\n",
      "GPU available: True, used: True\n",
      "TPU available: False, using: 0 TPU cores\n",
      "LOCAL_RANK: 0 - CUDA_VISIBLE_DEVICES: [0]\n",
      "\n",
      "  | Name           | Type       | Params\n",
      "----------------------------------------------\n",
      "0 | user_embedding | Embedding  | 22.1 K\n",
      "1 | item_embedding | Embedding  | 317 K \n",
      "2 | fc_layers      | ModuleList | 702   \n",
      "3 | output         | Linear     | 14    \n",
      "----------------------------------------------\n",
      "339 K     Trainable params\n",
      "0         Non-trainable params\n",
      "339 K     Total params\n",
      "1.359     Total estimated model params size (MB)\n"
     ]
    },
    {
     "data": {
      "application/vnd.jupyter.widget-view+json": {
       "model_id": "addc4fcb5ab74ae19bad440570446317",
       "version_major": 2,
       "version_minor": 0
      },
      "text/plain": [
       "Training: 0it [00:00, ?it/s]"
      ]
     },
     "metadata": {},
     "output_type": "display_data"
    },
    {
     "data": {
      "application/vnd.jupyter.widget-view+json": {
       "model_id": "cc82d0a75ee540b8a5966131a8598483",
       "version_major": 2,
       "version_minor": 0
      },
      "text/plain": [
       "  0%|          | 0/4415 [00:00<?, ?it/s]"
      ]
     },
     "metadata": {},
     "output_type": "display_data"
    },
    {
     "name": "stderr",
     "output_type": "stream",
     "text": [
      "\u001b[32m[I 2021-06-13 23:56:05,621]\u001b[0m Trial 41 finished with value: 0.839 and parameters: {'num_negatives': 6, 'user_embedding_dim': 5, 'item_embedding_dim': 48, 'dropout': 0.45494630014062704, 'n_layers': 1, 'layer1': 13, 'epochs': 17}. Best is trial 36 with value: 0.843.\u001b[0m\n",
      "GPU available: True, used: True\n",
      "TPU available: False, using: 0 TPU cores\n",
      "LOCAL_RANK: 0 - CUDA_VISIBLE_DEVICES: [0]\n",
      "\n",
      "  | Name           | Type       | Params\n",
      "----------------------------------------------\n",
      "0 | user_embedding | Embedding  | 17.7 K\n",
      "1 | item_embedding | Embedding  | 317 K \n",
      "2 | fc_layers      | ModuleList | 583   \n",
      "3 | output         | Linear     | 12    \n",
      "----------------------------------------------\n",
      "335 K     Trainable params\n",
      "0         Non-trainable params\n",
      "335 K     Total params\n",
      "1.341     Total estimated model params size (MB)\n"
     ]
    },
    {
     "data": {
      "application/vnd.jupyter.widget-view+json": {
       "model_id": "7d2f75c3f1c1487a901b9a28958cb223",
       "version_major": 2,
       "version_minor": 0
      },
      "text/plain": [
       "Training: 0it [00:00, ?it/s]"
      ]
     },
     "metadata": {},
     "output_type": "display_data"
    },
    {
     "data": {
      "application/vnd.jupyter.widget-view+json": {
       "model_id": "b3adfac9efc24cd390111a47e578533a",
       "version_major": 2,
       "version_minor": 0
      },
      "text/plain": [
       "  0%|          | 0/4415 [00:00<?, ?it/s]"
      ]
     },
     "metadata": {},
     "output_type": "display_data"
    },
    {
     "name": "stderr",
     "output_type": "stream",
     "text": [
      "\u001b[32m[I 2021-06-13 23:58:18,719]\u001b[0m Trial 42 finished with value: 0.82 and parameters: {'num_negatives': 3, 'user_embedding_dim': 4, 'item_embedding_dim': 48, 'dropout': 0.45420051807536, 'n_layers': 1, 'layer1': 11, 'epochs': 21}. Best is trial 36 with value: 0.843.\u001b[0m\n",
      "GPU available: True, used: True\n",
      "TPU available: False, using: 0 TPU cores\n",
      "LOCAL_RANK: 0 - CUDA_VISIBLE_DEVICES: [0]\n",
      "\n",
      "  | Name           | Type       | Params\n",
      "----------------------------------------------\n",
      "0 | user_embedding | Embedding  | 22.1 K\n",
      "1 | item_embedding | Embedding  | 317 K \n",
      "2 | fc_layers      | ModuleList | 540   \n",
      "3 | output         | Linear     | 11    \n",
      "----------------------------------------------\n",
      "339 K     Trainable params\n",
      "0         Non-trainable params\n",
      "339 K     Total params\n",
      "1.359     Total estimated model params size (MB)\n"
     ]
    },
    {
     "data": {
      "application/vnd.jupyter.widget-view+json": {
       "model_id": "3fc5c726083b42d98bdabac5ae45125b",
       "version_major": 2,
       "version_minor": 0
      },
      "text/plain": [
       "Training: 0it [00:00, ?it/s]"
      ]
     },
     "metadata": {},
     "output_type": "display_data"
    },
    {
     "data": {
      "application/vnd.jupyter.widget-view+json": {
       "model_id": "6c6e8e888c7a4bf7977a168f80628546",
       "version_major": 2,
       "version_minor": 0
      },
      "text/plain": [
       "  0%|          | 0/4415 [00:00<?, ?it/s]"
      ]
     },
     "metadata": {},
     "output_type": "display_data"
    },
    {
     "name": "stderr",
     "output_type": "stream",
     "text": [
      "\u001b[32m[I 2021-06-14 00:01:34,780]\u001b[0m Trial 43 finished with value: 0.832 and parameters: {'num_negatives': 6, 'user_embedding_dim': 5, 'item_embedding_dim': 48, 'dropout': 0.4416976254403497, 'n_layers': 1, 'layer1': 10, 'epochs': 19}. Best is trial 36 with value: 0.843.\u001b[0m\n",
      "GPU available: True, used: True\n",
      "TPU available: False, using: 0 TPU cores\n",
      "LOCAL_RANK: 0 - CUDA_VISIBLE_DEVICES: [0]\n",
      "\n",
      "  | Name           | Type       | Params\n",
      "----------------------------------------------\n",
      "0 | user_embedding | Embedding  | 8.8 K \n",
      "1 | item_embedding | Embedding  | 85.9 K\n",
      "2 | fc_layers      | ModuleList | 304   \n",
      "3 | output         | Linear     | 20    \n",
      "----------------------------------------------\n",
      "95.0 K    Trainable params\n",
      "0         Non-trainable params\n",
      "95.0 K    Total params\n",
      "0.380     Total estimated model params size (MB)\n"
     ]
    },
    {
     "data": {
      "application/vnd.jupyter.widget-view+json": {
       "model_id": "6cca70dd2a4447338d21e98bb1b23405",
       "version_major": 2,
       "version_minor": 0
      },
      "text/plain": [
       "Training: 0it [00:00, ?it/s]"
      ]
     },
     "metadata": {},
     "output_type": "display_data"
    },
    {
     "data": {
      "application/vnd.jupyter.widget-view+json": {
       "model_id": "d4a444e234e64bf6affe0af5ce03a985",
       "version_major": 2,
       "version_minor": 0
      },
      "text/plain": [
       "  0%|          | 0/4415 [00:00<?, ?it/s]"
      ]
     },
     "metadata": {},
     "output_type": "display_data"
    },
    {
     "name": "stderr",
     "output_type": "stream",
     "text": [
      "\u001b[32m[I 2021-06-14 00:04:04,026]\u001b[0m Trial 44 finished with value: 0.82 and parameters: {'num_negatives': 5, 'user_embedding_dim': 2, 'item_embedding_dim': 13, 'dropout': 0.46092783538146964, 'n_layers': 1, 'layer1': 19, 'epochs': 17}. Best is trial 36 with value: 0.843.\u001b[0m\n",
      "GPU available: True, used: True\n",
      "TPU available: False, using: 0 TPU cores\n",
      "LOCAL_RANK: 0 - CUDA_VISIBLE_DEVICES: [0]\n",
      "\n",
      "  | Name           | Type       | Params\n",
      "----------------------------------------------\n",
      "0 | user_embedding | Embedding  | 207 K \n",
      "1 | item_embedding | Embedding  | 244 K \n",
      "2 | fc_layers      | ModuleList | 1.2 K \n",
      "3 | output         | Linear     | 15    \n",
      "----------------------------------------------\n",
      "453 K     Trainable params\n",
      "0         Non-trainable params\n",
      "453 K     Total params\n",
      "1.812     Total estimated model params size (MB)\n"
     ]
    },
    {
     "data": {
      "application/vnd.jupyter.widget-view+json": {
       "model_id": "a54b3a224fe84a049cb9da86ea6e0b5b",
       "version_major": 2,
       "version_minor": 0
      },
      "text/plain": [
       "Training: 0it [00:00, ?it/s]"
      ]
     },
     "metadata": {},
     "output_type": "display_data"
    },
    {
     "data": {
      "application/vnd.jupyter.widget-view+json": {
       "model_id": "632b8cfe248b4f2990b641738798eb73",
       "version_major": 2,
       "version_minor": 0
      },
      "text/plain": [
       "  0%|          | 0/4415 [00:00<?, ?it/s]"
      ]
     },
     "metadata": {},
     "output_type": "display_data"
    },
    {
     "name": "stderr",
     "output_type": "stream",
     "text": [
      "\u001b[32m[I 2021-06-14 00:06:01,898]\u001b[0m Trial 45 finished with value: 0.84 and parameters: {'num_negatives': 4, 'user_embedding_dim': 47, 'item_embedding_dim': 37, 'dropout': 0.4992176849493647, 'n_layers': 1, 'layer1': 14, 'epochs': 15}. Best is trial 36 with value: 0.843.\u001b[0m\n",
      "GPU available: True, used: True\n",
      "TPU available: False, using: 0 TPU cores\n",
      "LOCAL_RANK: 0 - CUDA_VISIBLE_DEVICES: [0]\n",
      "\n",
      "  | Name           | Type       | Params\n",
      "----------------------------------------------\n",
      "0 | user_embedding | Embedding  | 105 K \n",
      "1 | item_embedding | Embedding  | 244 K \n",
      "2 | fc_layers      | ModuleList | 868   \n",
      "3 | output         | Linear     | 15    \n",
      "----------------------------------------------\n",
      "351 K     Trainable params\n",
      "0         Non-trainable params\n",
      "351 K     Total params\n",
      "1.405     Total estimated model params size (MB)\n"
     ]
    },
    {
     "data": {
      "application/vnd.jupyter.widget-view+json": {
       "model_id": "1c8d6ec4d38a45faba2113f83764289e",
       "version_major": 2,
       "version_minor": 0
      },
      "text/plain": [
       "Training: 0it [00:00, ?it/s]"
      ]
     },
     "metadata": {},
     "output_type": "display_data"
    },
    {
     "data": {
      "application/vnd.jupyter.widget-view+json": {
       "model_id": "46beae2bcd3644038ad948e520a99fb8",
       "version_major": 2,
       "version_minor": 0
      },
      "text/plain": [
       "  0%|          | 0/4415 [00:00<?, ?it/s]"
      ]
     },
     "metadata": {},
     "output_type": "display_data"
    },
    {
     "name": "stderr",
     "output_type": "stream",
     "text": [
      "\u001b[32m[I 2021-06-14 00:07:13,202]\u001b[0m Trial 46 finished with value: 0.822 and parameters: {'num_negatives': 2, 'user_embedding_dim': 24, 'item_embedding_dim': 37, 'dropout': 0.10908225677057645, 'n_layers': 1, 'layer1': 14, 'epochs': 14}. Best is trial 36 with value: 0.843.\u001b[0m\n",
      "GPU available: True, used: True\n",
      "TPU available: False, using: 0 TPU cores\n",
      "LOCAL_RANK: 0 - CUDA_VISIBLE_DEVICES: [0]\n",
      "\n",
      "  | Name           | Type       | Params\n",
      "----------------------------------------------\n",
      "0 | user_embedding | Embedding  | 198 K \n",
      "1 | item_embedding | Embedding  | 191 K \n",
      "2 | fc_layers      | ModuleList | 675   \n",
      "3 | output         | Linear     | 10    \n",
      "----------------------------------------------\n",
      "390 K     Trainable params\n",
      "0         Non-trainable params\n",
      "390 K     Total params\n",
      "1.564     Total estimated model params size (MB)\n"
     ]
    },
    {
     "data": {
      "application/vnd.jupyter.widget-view+json": {
       "model_id": "dc1cf7f71ce548ea90af6825f4b49d8c",
       "version_major": 2,
       "version_minor": 0
      },
      "text/plain": [
       "Training: 0it [00:00, ?it/s]"
      ]
     },
     "metadata": {},
     "output_type": "display_data"
    },
    {
     "data": {
      "application/vnd.jupyter.widget-view+json": {
       "model_id": "af54ea00b25e4272b2e9323c9fb28fdb",
       "version_major": 2,
       "version_minor": 0
      },
      "text/plain": [
       "  0%|          | 0/4415 [00:00<?, ?it/s]"
      ]
     },
     "metadata": {},
     "output_type": "display_data"
    },
    {
     "name": "stderr",
     "output_type": "stream",
     "text": [
      "\u001b[32m[I 2021-06-14 00:09:08,306]\u001b[0m Trial 47 finished with value: 0.827 and parameters: {'num_negatives': 4, 'user_embedding_dim': 45, 'item_embedding_dim': 29, 'dropout': 0.4996183446109543, 'n_layers': 1, 'layer1': 9, 'epochs': 15}. Best is trial 36 with value: 0.843.\u001b[0m\n",
      "GPU available: True, used: True\n",
      "TPU available: False, using: 0 TPU cores\n",
      "LOCAL_RANK: 0 - CUDA_VISIBLE_DEVICES: [0]\n",
      "\n",
      "  | Name           | Type       | Params\n",
      "----------------------------------------------\n",
      "0 | user_embedding | Embedding  | 154 K \n",
      "1 | item_embedding | Embedding  | 270 K \n",
      "2 | fc_layers      | ModuleList | 924   \n",
      "3 | output         | Linear     | 13    \n",
      "----------------------------------------------\n",
      "426 K     Trainable params\n",
      "0         Non-trainable params\n",
      "426 K     Total params\n",
      "1.705     Total estimated model params size (MB)\n"
     ]
    },
    {
     "data": {
      "application/vnd.jupyter.widget-view+json": {
       "model_id": "c537269ed50841ee83860d57f82b3bb2",
       "version_major": 2,
       "version_minor": 0
      },
      "text/plain": [
       "Training: 0it [00:00, ?it/s]"
      ]
     },
     "metadata": {},
     "output_type": "display_data"
    },
    {
     "data": {
      "application/vnd.jupyter.widget-view+json": {
       "model_id": "1525e282f57c4a718f9bd07a022fd055",
       "version_major": 2,
       "version_minor": 0
      },
      "text/plain": [
       "  0%|          | 0/4415 [00:00<?, ?it/s]"
      ]
     },
     "metadata": {},
     "output_type": "display_data"
    },
    {
     "name": "stderr",
     "output_type": "stream",
     "text": [
      "\u001b[32m[I 2021-06-14 00:10:29,742]\u001b[0m Trial 48 finished with value: 0.828 and parameters: {'num_negatives': 2, 'user_embedding_dim': 35, 'item_embedding_dim': 41, 'dropout': 0.4829787838797181, 'n_layers': 1, 'layer1': 12, 'epochs': 16}. Best is trial 36 with value: 0.843.\u001b[0m\n",
      "GPU available: True, used: True\n",
      "TPU available: False, using: 0 TPU cores\n",
      "LOCAL_RANK: 0 - CUDA_VISIBLE_DEVICES: [0]\n",
      "\n",
      "  | Name           | Type       | Params\n",
      "----------------------------------------------\n",
      "0 | user_embedding | Embedding  | 172 K \n",
      "1 | item_embedding | Embedding  | 151 K \n",
      "2 | fc_layers      | ModuleList | 378   \n",
      "3 | output         | Linear     | 7     \n",
      "----------------------------------------------\n",
      "324 K     Trainable params\n",
      "0         Non-trainable params\n",
      "324 K     Total params\n",
      "1.298     Total estimated model params size (MB)\n"
     ]
    },
    {
     "data": {
      "application/vnd.jupyter.widget-view+json": {
       "model_id": "4d9ff6fd85c34f348d2b846f65ef4008",
       "version_major": 2,
       "version_minor": 0
      },
      "text/plain": [
       "Training: 0it [00:00, ?it/s]"
      ]
     },
     "metadata": {},
     "output_type": "display_data"
    },
    {
     "data": {
      "application/vnd.jupyter.widget-view+json": {
       "model_id": "fcb27ddbc66e46f08661c9232b47f823",
       "version_major": 2,
       "version_minor": 0
      },
      "text/plain": [
       "  0%|          | 0/4415 [00:00<?, ?it/s]"
      ]
     },
     "metadata": {},
     "output_type": "display_data"
    },
    {
     "name": "stderr",
     "output_type": "stream",
     "text": [
      "\u001b[32m[I 2021-06-14 00:12:22,144]\u001b[0m Trial 49 finished with value: 0.807 and parameters: {'num_negatives': 4, 'user_embedding_dim': 39, 'item_embedding_dim': 23, 'dropout': 0.47110121461599164, 'n_layers': 1, 'layer1': 6, 'epochs': 15}. Best is trial 36 with value: 0.843.\u001b[0m\n"
     ]
    },
    {
     "name": "stdout",
     "output_type": "stream",
     "text": [
      "Number of finished trials: 50\n",
      "Best trial:\n",
      "  Value: 0.843\n",
      "  Params: \n",
      "    num_negatives: 5\n",
      "    user_embedding_dim: 5\n",
      "    item_embedding_dim: 48\n",
      "    dropout: 0.4991583680305453\n",
      "    n_layers: 1\n",
      "    layer1: 33\n",
      "    epochs: 17\n"
     ]
    }
   ],
   "source": [
    "study = optuna.create_study(direction=\"maximize\")\n",
    "study.optimize(objective, n_trials=50)\n",
    " \n",
    "print(\"Number of finished trials: {}\".format(len(study.trials)))\n",
    " \n",
    "print(\"Best trial:\")\n",
    "trial = study.best_trial\n",
    " \n",
    "print(\"  Value: {}\".format(trial.value))\n",
    " \n",
    "print(\"  Params: \")\n",
    "for key, value in trial.params.items():\n",
    "    print(\"    {}: {}\".format(key, value))"
   ]
  },
  {
   "cell_type": "code",
   "execution_count": 90,
   "metadata": {},
   "outputs": [
    {
     "data": {
      "text/html": [
       "<div>\n",
       "<style scoped>\n",
       "    .dataframe tbody tr th:only-of-type {\n",
       "        vertical-align: middle;\n",
       "    }\n",
       "\n",
       "    .dataframe tbody tr th {\n",
       "        vertical-align: top;\n",
       "    }\n",
       "\n",
       "    .dataframe thead th {\n",
       "        text-align: right;\n",
       "    }\n",
       "</style>\n",
       "<table border=\"1\" class=\"dataframe\">\n",
       "  <thead>\n",
       "    <tr style=\"text-align: right;\">\n",
       "      <th></th>\n",
       "      <th>HR@10</th>\n",
       "      <th>dropout</th>\n",
       "      <th>epochs</th>\n",
       "      <th>item embedding dim</th>\n",
       "      <th>layer1</th>\n",
       "      <th>layer2</th>\n",
       "      <th>layer3</th>\n",
       "      <th>n layers</th>\n",
       "      <th>num negatives</th>\n",
       "      <th>user embedding dim</th>\n",
       "    </tr>\n",
       "  </thead>\n",
       "  <tbody>\n",
       "    <tr>\n",
       "      <th>0</th>\n",
       "      <td>0.828</td>\n",
       "      <td>0.335576</td>\n",
       "      <td>30</td>\n",
       "      <td>2</td>\n",
       "      <td>19</td>\n",
       "      <td>NaN</td>\n",
       "      <td>NaN</td>\n",
       "      <td>1</td>\n",
       "      <td>7</td>\n",
       "      <td>14</td>\n",
       "    </tr>\n",
       "    <tr>\n",
       "      <th>1</th>\n",
       "      <td>0.824</td>\n",
       "      <td>0.159012</td>\n",
       "      <td>20</td>\n",
       "      <td>17</td>\n",
       "      <td>37</td>\n",
       "      <td>29.0</td>\n",
       "      <td>9.0</td>\n",
       "      <td>3</td>\n",
       "      <td>7</td>\n",
       "      <td>44</td>\n",
       "    </tr>\n",
       "    <tr>\n",
       "      <th>2</th>\n",
       "      <td>0.828</td>\n",
       "      <td>0.208686</td>\n",
       "      <td>16</td>\n",
       "      <td>21</td>\n",
       "      <td>33</td>\n",
       "      <td>NaN</td>\n",
       "      <td>NaN</td>\n",
       "      <td>1</td>\n",
       "      <td>3</td>\n",
       "      <td>40</td>\n",
       "    </tr>\n",
       "    <tr>\n",
       "      <th>3</th>\n",
       "      <td>0.767</td>\n",
       "      <td>0.284265</td>\n",
       "      <td>25</td>\n",
       "      <td>15</td>\n",
       "      <td>30</td>\n",
       "      <td>4.0</td>\n",
       "      <td>NaN</td>\n",
       "      <td>2</td>\n",
       "      <td>1</td>\n",
       "      <td>37</td>\n",
       "    </tr>\n",
       "    <tr>\n",
       "      <th>4</th>\n",
       "      <td>0.781</td>\n",
       "      <td>0.133215</td>\n",
       "      <td>22</td>\n",
       "      <td>49</td>\n",
       "      <td>87</td>\n",
       "      <td>NaN</td>\n",
       "      <td>NaN</td>\n",
       "      <td>1</td>\n",
       "      <td>6</td>\n",
       "      <td>26</td>\n",
       "    </tr>\n",
       "    <tr>\n",
       "      <th>5</th>\n",
       "      <td>0.710</td>\n",
       "      <td>0.331494</td>\n",
       "      <td>11</td>\n",
       "      <td>21</td>\n",
       "      <td>7</td>\n",
       "      <td>99.0</td>\n",
       "      <td>11.0</td>\n",
       "      <td>3</td>\n",
       "      <td>1</td>\n",
       "      <td>24</td>\n",
       "    </tr>\n",
       "    <tr>\n",
       "      <th>6</th>\n",
       "      <td>0.779</td>\n",
       "      <td>0.449405</td>\n",
       "      <td>21</td>\n",
       "      <td>21</td>\n",
       "      <td>7</td>\n",
       "      <td>19.0</td>\n",
       "      <td>NaN</td>\n",
       "      <td>2</td>\n",
       "      <td>1</td>\n",
       "      <td>48</td>\n",
       "    </tr>\n",
       "    <tr>\n",
       "      <th>7</th>\n",
       "      <td>0.810</td>\n",
       "      <td>0.206417</td>\n",
       "      <td>21</td>\n",
       "      <td>6</td>\n",
       "      <td>8</td>\n",
       "      <td>NaN</td>\n",
       "      <td>NaN</td>\n",
       "      <td>1</td>\n",
       "      <td>2</td>\n",
       "      <td>29</td>\n",
       "    </tr>\n",
       "    <tr>\n",
       "      <th>8</th>\n",
       "      <td>0.772</td>\n",
       "      <td>0.471227</td>\n",
       "      <td>29</td>\n",
       "      <td>8</td>\n",
       "      <td>5</td>\n",
       "      <td>NaN</td>\n",
       "      <td>NaN</td>\n",
       "      <td>1</td>\n",
       "      <td>6</td>\n",
       "      <td>40</td>\n",
       "    </tr>\n",
       "    <tr>\n",
       "      <th>9</th>\n",
       "      <td>0.813</td>\n",
       "      <td>0.183382</td>\n",
       "      <td>16</td>\n",
       "      <td>39</td>\n",
       "      <td>81</td>\n",
       "      <td>19.0</td>\n",
       "      <td>92.0</td>\n",
       "      <td>3</td>\n",
       "      <td>4</td>\n",
       "      <td>18</td>\n",
       "    </tr>\n",
       "    <tr>\n",
       "      <th>10</th>\n",
       "      <td>0.762</td>\n",
       "      <td>0.354466</td>\n",
       "      <td>29</td>\n",
       "      <td>35</td>\n",
       "      <td>14</td>\n",
       "      <td>4.0</td>\n",
       "      <td>NaN</td>\n",
       "      <td>2</td>\n",
       "      <td>10</td>\n",
       "      <td>4</td>\n",
       "    </tr>\n",
       "    <tr>\n",
       "      <th>11</th>\n",
       "      <td>0.804</td>\n",
       "      <td>0.269242</td>\n",
       "      <td>14</td>\n",
       "      <td>2</td>\n",
       "      <td>16</td>\n",
       "      <td>NaN</td>\n",
       "      <td>NaN</td>\n",
       "      <td>1</td>\n",
       "      <td>9</td>\n",
       "      <td>10</td>\n",
       "    </tr>\n",
       "    <tr>\n",
       "      <th>12</th>\n",
       "      <td>0.830</td>\n",
       "      <td>0.389777</td>\n",
       "      <td>16</td>\n",
       "      <td>33</td>\n",
       "      <td>48</td>\n",
       "      <td>NaN</td>\n",
       "      <td>NaN</td>\n",
       "      <td>1</td>\n",
       "      <td>4</td>\n",
       "      <td>14</td>\n",
       "    </tr>\n",
       "    <tr>\n",
       "      <th>13</th>\n",
       "      <td>0.835</td>\n",
       "      <td>0.403383</td>\n",
       "      <td>12</td>\n",
       "      <td>34</td>\n",
       "      <td>48</td>\n",
       "      <td>NaN</td>\n",
       "      <td>NaN</td>\n",
       "      <td>1</td>\n",
       "      <td>8</td>\n",
       "      <td>12</td>\n",
       "    </tr>\n",
       "    <tr>\n",
       "      <th>14</th>\n",
       "      <td>0.819</td>\n",
       "      <td>0.420013</td>\n",
       "      <td>10</td>\n",
       "      <td>32</td>\n",
       "      <td>52</td>\n",
       "      <td>102.0</td>\n",
       "      <td>NaN</td>\n",
       "      <td>2</td>\n",
       "      <td>4</td>\n",
       "      <td>3</td>\n",
       "    </tr>\n",
       "    <tr>\n",
       "      <th>15</th>\n",
       "      <td>0.824</td>\n",
       "      <td>0.397488</td>\n",
       "      <td>13</td>\n",
       "      <td>45</td>\n",
       "      <td>111</td>\n",
       "      <td>NaN</td>\n",
       "      <td>NaN</td>\n",
       "      <td>1</td>\n",
       "      <td>8</td>\n",
       "      <td>10</td>\n",
       "    </tr>\n",
       "    <tr>\n",
       "      <th>16</th>\n",
       "      <td>0.812</td>\n",
       "      <td>0.390288</td>\n",
       "      <td>16</td>\n",
       "      <td>29</td>\n",
       "      <td>54</td>\n",
       "      <td>9.0</td>\n",
       "      <td>NaN</td>\n",
       "      <td>2</td>\n",
       "      <td>5</td>\n",
       "      <td>19</td>\n",
       "    </tr>\n",
       "    <tr>\n",
       "      <th>17</th>\n",
       "      <td>0.830</td>\n",
       "      <td>0.488350</td>\n",
       "      <td>18</td>\n",
       "      <td>39</td>\n",
       "      <td>56</td>\n",
       "      <td>NaN</td>\n",
       "      <td>NaN</td>\n",
       "      <td>1</td>\n",
       "      <td>10</td>\n",
       "      <td>9</td>\n",
       "    </tr>\n",
       "    <tr>\n",
       "      <th>18</th>\n",
       "      <td>0.797</td>\n",
       "      <td>0.491592</td>\n",
       "      <td>24</td>\n",
       "      <td>41</td>\n",
       "      <td>116</td>\n",
       "      <td>NaN</td>\n",
       "      <td>NaN</td>\n",
       "      <td>1</td>\n",
       "      <td>10</td>\n",
       "      <td>7</td>\n",
       "    </tr>\n",
       "    <tr>\n",
       "      <th>19</th>\n",
       "      <td>0.821</td>\n",
       "      <td>0.438788</td>\n",
       "      <td>13</td>\n",
       "      <td>26</td>\n",
       "      <td>26</td>\n",
       "      <td>60.0</td>\n",
       "      <td>NaN</td>\n",
       "      <td>2</td>\n",
       "      <td>8</td>\n",
       "      <td>16</td>\n",
       "    </tr>\n",
       "    <tr>\n",
       "      <th>20</th>\n",
       "      <td>0.832</td>\n",
       "      <td>0.449534</td>\n",
       "      <td>18</td>\n",
       "      <td>47</td>\n",
       "      <td>66</td>\n",
       "      <td>NaN</td>\n",
       "      <td>NaN</td>\n",
       "      <td>1</td>\n",
       "      <td>9</td>\n",
       "      <td>3</td>\n",
       "    </tr>\n",
       "    <tr>\n",
       "      <th>21</th>\n",
       "      <td>0.837</td>\n",
       "      <td>0.491634</td>\n",
       "      <td>18</td>\n",
       "      <td>50</td>\n",
       "      <td>72</td>\n",
       "      <td>NaN</td>\n",
       "      <td>NaN</td>\n",
       "      <td>1</td>\n",
       "      <td>9</td>\n",
       "      <td>2</td>\n",
       "    </tr>\n",
       "    <tr>\n",
       "      <th>22</th>\n",
       "      <td>0.838</td>\n",
       "      <td>0.496111</td>\n",
       "      <td>18</td>\n",
       "      <td>50</td>\n",
       "      <td>78</td>\n",
       "      <td>NaN</td>\n",
       "      <td>NaN</td>\n",
       "      <td>1</td>\n",
       "      <td>9</td>\n",
       "      <td>2</td>\n",
       "    </tr>\n",
       "    <tr>\n",
       "      <th>23</th>\n",
       "      <td>0.820</td>\n",
       "      <td>0.496894</td>\n",
       "      <td>18</td>\n",
       "      <td>50</td>\n",
       "      <td>122</td>\n",
       "      <td>NaN</td>\n",
       "      <td>NaN</td>\n",
       "      <td>1</td>\n",
       "      <td>9</td>\n",
       "      <td>6</td>\n",
       "    </tr>\n",
       "    <tr>\n",
       "      <th>24</th>\n",
       "      <td>0.834</td>\n",
       "      <td>0.498211</td>\n",
       "      <td>11</td>\n",
       "      <td>44</td>\n",
       "      <td>81</td>\n",
       "      <td>NaN</td>\n",
       "      <td>NaN</td>\n",
       "      <td>1</td>\n",
       "      <td>8</td>\n",
       "      <td>2</td>\n",
       "    </tr>\n",
       "    <tr>\n",
       "      <th>25</th>\n",
       "      <td>0.834</td>\n",
       "      <td>0.420531</td>\n",
       "      <td>24</td>\n",
       "      <td>50</td>\n",
       "      <td>40</td>\n",
       "      <td>NaN</td>\n",
       "      <td>NaN</td>\n",
       "      <td>1</td>\n",
       "      <td>7</td>\n",
       "      <td>2</td>\n",
       "    </tr>\n",
       "    <tr>\n",
       "      <th>26</th>\n",
       "      <td>0.808</td>\n",
       "      <td>0.463686</td>\n",
       "      <td>14</td>\n",
       "      <td>42</td>\n",
       "      <td>73</td>\n",
       "      <td>9.0</td>\n",
       "      <td>NaN</td>\n",
       "      <td>2</td>\n",
       "      <td>9</td>\n",
       "      <td>10</td>\n",
       "    </tr>\n",
       "    <tr>\n",
       "      <th>27</th>\n",
       "      <td>0.817</td>\n",
       "      <td>0.418828</td>\n",
       "      <td>19</td>\n",
       "      <td>35</td>\n",
       "      <td>127</td>\n",
       "      <td>NaN</td>\n",
       "      <td>NaN</td>\n",
       "      <td>1</td>\n",
       "      <td>8</td>\n",
       "      <td>13</td>\n",
       "    </tr>\n",
       "    <tr>\n",
       "      <th>28</th>\n",
       "      <td>0.817</td>\n",
       "      <td>0.353724</td>\n",
       "      <td>23</td>\n",
       "      <td>46</td>\n",
       "      <td>43</td>\n",
       "      <td>NaN</td>\n",
       "      <td>NaN</td>\n",
       "      <td>1</td>\n",
       "      <td>10</td>\n",
       "      <td>22</td>\n",
       "    </tr>\n",
       "    <tr>\n",
       "      <th>29</th>\n",
       "      <td>0.814</td>\n",
       "      <td>0.317926</td>\n",
       "      <td>26</td>\n",
       "      <td>38</td>\n",
       "      <td>24</td>\n",
       "      <td>NaN</td>\n",
       "      <td>NaN</td>\n",
       "      <td>1</td>\n",
       "      <td>7</td>\n",
       "      <td>31</td>\n",
       "    </tr>\n",
       "    <tr>\n",
       "      <th>30</th>\n",
       "      <td>0.824</td>\n",
       "      <td>0.369341</td>\n",
       "      <td>12</td>\n",
       "      <td>50</td>\n",
       "      <td>93</td>\n",
       "      <td>50.0</td>\n",
       "      <td>NaN</td>\n",
       "      <td>2</td>\n",
       "      <td>9</td>\n",
       "      <td>6</td>\n",
       "    </tr>\n",
       "    <tr>\n",
       "      <th>31</th>\n",
       "      <td>0.822</td>\n",
       "      <td>0.421050</td>\n",
       "      <td>27</td>\n",
       "      <td>50</td>\n",
       "      <td>38</td>\n",
       "      <td>NaN</td>\n",
       "      <td>NaN</td>\n",
       "      <td>1</td>\n",
       "      <td>7</td>\n",
       "      <td>2</td>\n",
       "    </tr>\n",
       "    <tr>\n",
       "      <th>32</th>\n",
       "      <td>0.836</td>\n",
       "      <td>0.478333</td>\n",
       "      <td>20</td>\n",
       "      <td>47</td>\n",
       "      <td>64</td>\n",
       "      <td>NaN</td>\n",
       "      <td>NaN</td>\n",
       "      <td>1</td>\n",
       "      <td>7</td>\n",
       "      <td>2</td>\n",
       "    </tr>\n",
       "    <tr>\n",
       "      <th>33</th>\n",
       "      <td>0.833</td>\n",
       "      <td>0.471323</td>\n",
       "      <td>20</td>\n",
       "      <td>43</td>\n",
       "      <td>64</td>\n",
       "      <td>NaN</td>\n",
       "      <td>NaN</td>\n",
       "      <td>1</td>\n",
       "      <td>6</td>\n",
       "      <td>6</td>\n",
       "    </tr>\n",
       "    <tr>\n",
       "      <th>34</th>\n",
       "      <td>0.819</td>\n",
       "      <td>0.474785</td>\n",
       "      <td>19</td>\n",
       "      <td>46</td>\n",
       "      <td>95</td>\n",
       "      <td>NaN</td>\n",
       "      <td>NaN</td>\n",
       "      <td>1</td>\n",
       "      <td>8</td>\n",
       "      <td>14</td>\n",
       "    </tr>\n",
       "    <tr>\n",
       "      <th>35</th>\n",
       "      <td>0.836</td>\n",
       "      <td>0.495464</td>\n",
       "      <td>17</td>\n",
       "      <td>48</td>\n",
       "      <td>64</td>\n",
       "      <td>NaN</td>\n",
       "      <td>NaN</td>\n",
       "      <td>1</td>\n",
       "      <td>7</td>\n",
       "      <td>8</td>\n",
       "    </tr>\n",
       "    <tr>\n",
       "      <th>36</th>\n",
       "      <td>0.843</td>\n",
       "      <td>0.499158</td>\n",
       "      <td>17</td>\n",
       "      <td>48</td>\n",
       "      <td>33</td>\n",
       "      <td>NaN</td>\n",
       "      <td>NaN</td>\n",
       "      <td>1</td>\n",
       "      <td>5</td>\n",
       "      <td>5</td>\n",
       "    </tr>\n",
       "    <tr>\n",
       "      <th>37</th>\n",
       "      <td>0.836</td>\n",
       "      <td>0.447040</td>\n",
       "      <td>22</td>\n",
       "      <td>48</td>\n",
       "      <td>32</td>\n",
       "      <td>NaN</td>\n",
       "      <td>NaN</td>\n",
       "      <td>1</td>\n",
       "      <td>5</td>\n",
       "      <td>5</td>\n",
       "    </tr>\n",
       "    <tr>\n",
       "      <th>38</th>\n",
       "      <td>0.834</td>\n",
       "      <td>0.254156</td>\n",
       "      <td>22</td>\n",
       "      <td>41</td>\n",
       "      <td>30</td>\n",
       "      <td>NaN</td>\n",
       "      <td>NaN</td>\n",
       "      <td>1</td>\n",
       "      <td>5</td>\n",
       "      <td>5</td>\n",
       "    </tr>\n",
       "    <tr>\n",
       "      <th>39</th>\n",
       "      <td>0.805</td>\n",
       "      <td>0.494354</td>\n",
       "      <td>17</td>\n",
       "      <td>50</td>\n",
       "      <td>19</td>\n",
       "      <td>8.0</td>\n",
       "      <td>104.0</td>\n",
       "      <td>3</td>\n",
       "      <td>3</td>\n",
       "      <td>8</td>\n",
       "    </tr>\n",
       "    <tr>\n",
       "      <th>40</th>\n",
       "      <td>0.812</td>\n",
       "      <td>0.444326</td>\n",
       "      <td>15</td>\n",
       "      <td>44</td>\n",
       "      <td>34</td>\n",
       "      <td>34.0</td>\n",
       "      <td>NaN</td>\n",
       "      <td>2</td>\n",
       "      <td>5</td>\n",
       "      <td>12</td>\n",
       "    </tr>\n",
       "    <tr>\n",
       "      <th>41</th>\n",
       "      <td>0.839</td>\n",
       "      <td>0.454946</td>\n",
       "      <td>17</td>\n",
       "      <td>48</td>\n",
       "      <td>13</td>\n",
       "      <td>NaN</td>\n",
       "      <td>NaN</td>\n",
       "      <td>1</td>\n",
       "      <td>6</td>\n",
       "      <td>5</td>\n",
       "    </tr>\n",
       "    <tr>\n",
       "      <th>42</th>\n",
       "      <td>0.820</td>\n",
       "      <td>0.454201</td>\n",
       "      <td>21</td>\n",
       "      <td>48</td>\n",
       "      <td>11</td>\n",
       "      <td>NaN</td>\n",
       "      <td>NaN</td>\n",
       "      <td>1</td>\n",
       "      <td>3</td>\n",
       "      <td>4</td>\n",
       "    </tr>\n",
       "    <tr>\n",
       "      <th>43</th>\n",
       "      <td>0.832</td>\n",
       "      <td>0.441698</td>\n",
       "      <td>19</td>\n",
       "      <td>48</td>\n",
       "      <td>10</td>\n",
       "      <td>NaN</td>\n",
       "      <td>NaN</td>\n",
       "      <td>1</td>\n",
       "      <td>6</td>\n",
       "      <td>5</td>\n",
       "    </tr>\n",
       "    <tr>\n",
       "      <th>44</th>\n",
       "      <td>0.820</td>\n",
       "      <td>0.460928</td>\n",
       "      <td>17</td>\n",
       "      <td>13</td>\n",
       "      <td>19</td>\n",
       "      <td>NaN</td>\n",
       "      <td>NaN</td>\n",
       "      <td>1</td>\n",
       "      <td>5</td>\n",
       "      <td>2</td>\n",
       "    </tr>\n",
       "    <tr>\n",
       "      <th>45</th>\n",
       "      <td>0.840</td>\n",
       "      <td>0.499218</td>\n",
       "      <td>15</td>\n",
       "      <td>37</td>\n",
       "      <td>14</td>\n",
       "      <td>NaN</td>\n",
       "      <td>NaN</td>\n",
       "      <td>1</td>\n",
       "      <td>4</td>\n",
       "      <td>47</td>\n",
       "    </tr>\n",
       "    <tr>\n",
       "      <th>46</th>\n",
       "      <td>0.822</td>\n",
       "      <td>0.109082</td>\n",
       "      <td>14</td>\n",
       "      <td>37</td>\n",
       "      <td>14</td>\n",
       "      <td>NaN</td>\n",
       "      <td>NaN</td>\n",
       "      <td>1</td>\n",
       "      <td>2</td>\n",
       "      <td>24</td>\n",
       "    </tr>\n",
       "    <tr>\n",
       "      <th>47</th>\n",
       "      <td>0.827</td>\n",
       "      <td>0.499618</td>\n",
       "      <td>15</td>\n",
       "      <td>29</td>\n",
       "      <td>9</td>\n",
       "      <td>NaN</td>\n",
       "      <td>NaN</td>\n",
       "      <td>1</td>\n",
       "      <td>4</td>\n",
       "      <td>45</td>\n",
       "    </tr>\n",
       "    <tr>\n",
       "      <th>48</th>\n",
       "      <td>0.828</td>\n",
       "      <td>0.482979</td>\n",
       "      <td>16</td>\n",
       "      <td>41</td>\n",
       "      <td>12</td>\n",
       "      <td>NaN</td>\n",
       "      <td>NaN</td>\n",
       "      <td>1</td>\n",
       "      <td>2</td>\n",
       "      <td>35</td>\n",
       "    </tr>\n",
       "    <tr>\n",
       "      <th>49</th>\n",
       "      <td>0.807</td>\n",
       "      <td>0.471101</td>\n",
       "      <td>15</td>\n",
       "      <td>23</td>\n",
       "      <td>6</td>\n",
       "      <td>NaN</td>\n",
       "      <td>NaN</td>\n",
       "      <td>1</td>\n",
       "      <td>4</td>\n",
       "      <td>39</td>\n",
       "    </tr>\n",
       "  </tbody>\n",
       "</table>\n",
       "</div>"
      ],
      "text/plain": [
       "    HR@10   dropout  epochs  item embedding dim  layer1  layer2  layer3  \\\n",
       "0   0.828  0.335576      30                   2      19     NaN     NaN   \n",
       "1   0.824  0.159012      20                  17      37    29.0     9.0   \n",
       "2   0.828  0.208686      16                  21      33     NaN     NaN   \n",
       "3   0.767  0.284265      25                  15      30     4.0     NaN   \n",
       "4   0.781  0.133215      22                  49      87     NaN     NaN   \n",
       "5   0.710  0.331494      11                  21       7    99.0    11.0   \n",
       "6   0.779  0.449405      21                  21       7    19.0     NaN   \n",
       "7   0.810  0.206417      21                   6       8     NaN     NaN   \n",
       "8   0.772  0.471227      29                   8       5     NaN     NaN   \n",
       "9   0.813  0.183382      16                  39      81    19.0    92.0   \n",
       "10  0.762  0.354466      29                  35      14     4.0     NaN   \n",
       "11  0.804  0.269242      14                   2      16     NaN     NaN   \n",
       "12  0.830  0.389777      16                  33      48     NaN     NaN   \n",
       "13  0.835  0.403383      12                  34      48     NaN     NaN   \n",
       "14  0.819  0.420013      10                  32      52   102.0     NaN   \n",
       "15  0.824  0.397488      13                  45     111     NaN     NaN   \n",
       "16  0.812  0.390288      16                  29      54     9.0     NaN   \n",
       "17  0.830  0.488350      18                  39      56     NaN     NaN   \n",
       "18  0.797  0.491592      24                  41     116     NaN     NaN   \n",
       "19  0.821  0.438788      13                  26      26    60.0     NaN   \n",
       "20  0.832  0.449534      18                  47      66     NaN     NaN   \n",
       "21  0.837  0.491634      18                  50      72     NaN     NaN   \n",
       "22  0.838  0.496111      18                  50      78     NaN     NaN   \n",
       "23  0.820  0.496894      18                  50     122     NaN     NaN   \n",
       "24  0.834  0.498211      11                  44      81     NaN     NaN   \n",
       "25  0.834  0.420531      24                  50      40     NaN     NaN   \n",
       "26  0.808  0.463686      14                  42      73     9.0     NaN   \n",
       "27  0.817  0.418828      19                  35     127     NaN     NaN   \n",
       "28  0.817  0.353724      23                  46      43     NaN     NaN   \n",
       "29  0.814  0.317926      26                  38      24     NaN     NaN   \n",
       "30  0.824  0.369341      12                  50      93    50.0     NaN   \n",
       "31  0.822  0.421050      27                  50      38     NaN     NaN   \n",
       "32  0.836  0.478333      20                  47      64     NaN     NaN   \n",
       "33  0.833  0.471323      20                  43      64     NaN     NaN   \n",
       "34  0.819  0.474785      19                  46      95     NaN     NaN   \n",
       "35  0.836  0.495464      17                  48      64     NaN     NaN   \n",
       "36  0.843  0.499158      17                  48      33     NaN     NaN   \n",
       "37  0.836  0.447040      22                  48      32     NaN     NaN   \n",
       "38  0.834  0.254156      22                  41      30     NaN     NaN   \n",
       "39  0.805  0.494354      17                  50      19     8.0   104.0   \n",
       "40  0.812  0.444326      15                  44      34    34.0     NaN   \n",
       "41  0.839  0.454946      17                  48      13     NaN     NaN   \n",
       "42  0.820  0.454201      21                  48      11     NaN     NaN   \n",
       "43  0.832  0.441698      19                  48      10     NaN     NaN   \n",
       "44  0.820  0.460928      17                  13      19     NaN     NaN   \n",
       "45  0.840  0.499218      15                  37      14     NaN     NaN   \n",
       "46  0.822  0.109082      14                  37      14     NaN     NaN   \n",
       "47  0.827  0.499618      15                  29       9     NaN     NaN   \n",
       "48  0.828  0.482979      16                  41      12     NaN     NaN   \n",
       "49  0.807  0.471101      15                  23       6     NaN     NaN   \n",
       "\n",
       "    n layers  num negatives  user embedding dim  \n",
       "0          1              7                  14  \n",
       "1          3              7                  44  \n",
       "2          1              3                  40  \n",
       "3          2              1                  37  \n",
       "4          1              6                  26  \n",
       "5          3              1                  24  \n",
       "6          2              1                  48  \n",
       "7          1              2                  29  \n",
       "8          1              6                  40  \n",
       "9          3              4                  18  \n",
       "10         2             10                   4  \n",
       "11         1              9                  10  \n",
       "12         1              4                  14  \n",
       "13         1              8                  12  \n",
       "14         2              4                   3  \n",
       "15         1              8                  10  \n",
       "16         2              5                  19  \n",
       "17         1             10                   9  \n",
       "18         1             10                   7  \n",
       "19         2              8                  16  \n",
       "20         1              9                   3  \n",
       "21         1              9                   2  \n",
       "22         1              9                   2  \n",
       "23         1              9                   6  \n",
       "24         1              8                   2  \n",
       "25         1              7                   2  \n",
       "26         2              9                  10  \n",
       "27         1              8                  13  \n",
       "28         1             10                  22  \n",
       "29         1              7                  31  \n",
       "30         2              9                   6  \n",
       "31         1              7                   2  \n",
       "32         1              7                   2  \n",
       "33         1              6                   6  \n",
       "34         1              8                  14  \n",
       "35         1              7                   8  \n",
       "36         1              5                   5  \n",
       "37         1              5                   5  \n",
       "38         1              5                   5  \n",
       "39         3              3                   8  \n",
       "40         2              5                  12  \n",
       "41         1              6                   5  \n",
       "42         1              3                   4  \n",
       "43         1              6                   5  \n",
       "44         1              5                   2  \n",
       "45         1              4                  47  \n",
       "46         1              2                  24  \n",
       "47         1              4                  45  \n",
       "48         1              2                  35  \n",
       "49         1              4                  39  "
      ]
     },
     "execution_count": 90,
     "metadata": {},
     "output_type": "execute_result"
    }
   ],
   "source": [
    "param_df = study.trials_dataframe().iloc[:, [1,5,6,7,8,9,10,11,12,13]].rename(columns={'value':'HR@10'})\n",
    "param_df.columns = [' '.join(col.split('_')[1:]) if col.startswith('params') else col for col in param_df.columns ]\n",
    "param_df#.sort_values(by='HR@10', ascending=False).reset_index(drop=True)[:10]"
   ]
  },
  {
   "cell_type": "code",
   "execution_count": 84,
   "metadata": {},
   "outputs": [],
   "source": [
    "#importing all the plot functions\n",
    "import plotly\n",
    "from optuna.visualization import plot_edf\n",
    "from optuna.visualization import plot_optimization_history\n",
    "from optuna.visualization import plot_parallel_coordinate\n",
    "from optuna.visualization import plot_param_importances\n",
    "from optuna.visualization import plot_slice"
   ]
  },
  {
   "cell_type": "code",
   "execution_count": 85,
   "metadata": {
    "scrolled": false
   },
   "outputs": [
    {
     "data": {
      "application/vnd.plotly.v1+json": {
       "config": {
        "plotlyServerURL": "https://plot.ly"
       },
       "data": [
        {
         "cliponaxis": false,
         "hovertemplate": [
          "item_embedding_dim (IntUniformDistribution): 0.026165519821386436<extra></extra>",
          "n_layers (IntUniformDistribution): 0.03498755694688028<extra></extra>",
          "user_embedding_dim (IntUniformDistribution): 0.046959065251924136<extra></extra>",
          "layer1 (IntLogUniformDistribution): 0.09298397979011755<extra></extra>",
          "dropout (UniformDistribution): 0.10180688381659643<extra></extra>",
          "epochs (IntUniformDistribution): 0.3253053249404692<extra></extra>",
          "num_negatives (IntUniformDistribution): 0.3717916694326259<extra></extra>"
         ],
         "marker": {
          "color": [
           "rgb(8,81,156)",
           "rgb(8,81,156)",
           "rgb(8,81,156)",
           "rgb(8,81,156)",
           "rgb(8,48,107)",
           "rgb(8,81,156)",
           "rgb(8,81,156)"
          ]
         },
         "orientation": "h",
         "text": [
          "0.026165519821386436",
          "0.03498755694688028",
          "0.046959065251924136",
          "0.09298397979011755",
          "0.10180688381659643",
          "0.3253053249404692",
          "0.3717916694326259"
         ],
         "textposition": "outside",
         "texttemplate": "%{text:.2f}",
         "type": "bar",
         "x": [
          0.026165519821386436,
          0.03498755694688028,
          0.046959065251924136,
          0.09298397979011755,
          0.10180688381659643,
          0.3253053249404692,
          0.3717916694326259
         ],
         "y": [
          "item_embedding_dim",
          "n_layers",
          "user_embedding_dim",
          "layer1",
          "dropout",
          "epochs",
          "num_negatives"
         ]
        }
       ],
       "layout": {
        "showlegend": false,
        "template": {
         "data": {
          "bar": [
           {
            "error_x": {
             "color": "#2a3f5f"
            },
            "error_y": {
             "color": "#2a3f5f"
            },
            "marker": {
             "line": {
              "color": "#E5ECF6",
              "width": 0.5
             }
            },
            "type": "bar"
           }
          ],
          "barpolar": [
           {
            "marker": {
             "line": {
              "color": "#E5ECF6",
              "width": 0.5
             }
            },
            "type": "barpolar"
           }
          ],
          "carpet": [
           {
            "aaxis": {
             "endlinecolor": "#2a3f5f",
             "gridcolor": "white",
             "linecolor": "white",
             "minorgridcolor": "white",
             "startlinecolor": "#2a3f5f"
            },
            "baxis": {
             "endlinecolor": "#2a3f5f",
             "gridcolor": "white",
             "linecolor": "white",
             "minorgridcolor": "white",
             "startlinecolor": "#2a3f5f"
            },
            "type": "carpet"
           }
          ],
          "choropleth": [
           {
            "colorbar": {
             "outlinewidth": 0,
             "ticks": ""
            },
            "type": "choropleth"
           }
          ],
          "contour": [
           {
            "colorbar": {
             "outlinewidth": 0,
             "ticks": ""
            },
            "colorscale": [
             [
              0,
              "#0d0887"
             ],
             [
              0.1111111111111111,
              "#46039f"
             ],
             [
              0.2222222222222222,
              "#7201a8"
             ],
             [
              0.3333333333333333,
              "#9c179e"
             ],
             [
              0.4444444444444444,
              "#bd3786"
             ],
             [
              0.5555555555555556,
              "#d8576b"
             ],
             [
              0.6666666666666666,
              "#ed7953"
             ],
             [
              0.7777777777777778,
              "#fb9f3a"
             ],
             [
              0.8888888888888888,
              "#fdca26"
             ],
             [
              1,
              "#f0f921"
             ]
            ],
            "type": "contour"
           }
          ],
          "contourcarpet": [
           {
            "colorbar": {
             "outlinewidth": 0,
             "ticks": ""
            },
            "type": "contourcarpet"
           }
          ],
          "heatmap": [
           {
            "colorbar": {
             "outlinewidth": 0,
             "ticks": ""
            },
            "colorscale": [
             [
              0,
              "#0d0887"
             ],
             [
              0.1111111111111111,
              "#46039f"
             ],
             [
              0.2222222222222222,
              "#7201a8"
             ],
             [
              0.3333333333333333,
              "#9c179e"
             ],
             [
              0.4444444444444444,
              "#bd3786"
             ],
             [
              0.5555555555555556,
              "#d8576b"
             ],
             [
              0.6666666666666666,
              "#ed7953"
             ],
             [
              0.7777777777777778,
              "#fb9f3a"
             ],
             [
              0.8888888888888888,
              "#fdca26"
             ],
             [
              1,
              "#f0f921"
             ]
            ],
            "type": "heatmap"
           }
          ],
          "heatmapgl": [
           {
            "colorbar": {
             "outlinewidth": 0,
             "ticks": ""
            },
            "colorscale": [
             [
              0,
              "#0d0887"
             ],
             [
              0.1111111111111111,
              "#46039f"
             ],
             [
              0.2222222222222222,
              "#7201a8"
             ],
             [
              0.3333333333333333,
              "#9c179e"
             ],
             [
              0.4444444444444444,
              "#bd3786"
             ],
             [
              0.5555555555555556,
              "#d8576b"
             ],
             [
              0.6666666666666666,
              "#ed7953"
             ],
             [
              0.7777777777777778,
              "#fb9f3a"
             ],
             [
              0.8888888888888888,
              "#fdca26"
             ],
             [
              1,
              "#f0f921"
             ]
            ],
            "type": "heatmapgl"
           }
          ],
          "histogram": [
           {
            "marker": {
             "colorbar": {
              "outlinewidth": 0,
              "ticks": ""
             }
            },
            "type": "histogram"
           }
          ],
          "histogram2d": [
           {
            "colorbar": {
             "outlinewidth": 0,
             "ticks": ""
            },
            "colorscale": [
             [
              0,
              "#0d0887"
             ],
             [
              0.1111111111111111,
              "#46039f"
             ],
             [
              0.2222222222222222,
              "#7201a8"
             ],
             [
              0.3333333333333333,
              "#9c179e"
             ],
             [
              0.4444444444444444,
              "#bd3786"
             ],
             [
              0.5555555555555556,
              "#d8576b"
             ],
             [
              0.6666666666666666,
              "#ed7953"
             ],
             [
              0.7777777777777778,
              "#fb9f3a"
             ],
             [
              0.8888888888888888,
              "#fdca26"
             ],
             [
              1,
              "#f0f921"
             ]
            ],
            "type": "histogram2d"
           }
          ],
          "histogram2dcontour": [
           {
            "colorbar": {
             "outlinewidth": 0,
             "ticks": ""
            },
            "colorscale": [
             [
              0,
              "#0d0887"
             ],
             [
              0.1111111111111111,
              "#46039f"
             ],
             [
              0.2222222222222222,
              "#7201a8"
             ],
             [
              0.3333333333333333,
              "#9c179e"
             ],
             [
              0.4444444444444444,
              "#bd3786"
             ],
             [
              0.5555555555555556,
              "#d8576b"
             ],
             [
              0.6666666666666666,
              "#ed7953"
             ],
             [
              0.7777777777777778,
              "#fb9f3a"
             ],
             [
              0.8888888888888888,
              "#fdca26"
             ],
             [
              1,
              "#f0f921"
             ]
            ],
            "type": "histogram2dcontour"
           }
          ],
          "mesh3d": [
           {
            "colorbar": {
             "outlinewidth": 0,
             "ticks": ""
            },
            "type": "mesh3d"
           }
          ],
          "parcoords": [
           {
            "line": {
             "colorbar": {
              "outlinewidth": 0,
              "ticks": ""
             }
            },
            "type": "parcoords"
           }
          ],
          "pie": [
           {
            "automargin": true,
            "type": "pie"
           }
          ],
          "scatter": [
           {
            "marker": {
             "colorbar": {
              "outlinewidth": 0,
              "ticks": ""
             }
            },
            "type": "scatter"
           }
          ],
          "scatter3d": [
           {
            "line": {
             "colorbar": {
              "outlinewidth": 0,
              "ticks": ""
             }
            },
            "marker": {
             "colorbar": {
              "outlinewidth": 0,
              "ticks": ""
             }
            },
            "type": "scatter3d"
           }
          ],
          "scattercarpet": [
           {
            "marker": {
             "colorbar": {
              "outlinewidth": 0,
              "ticks": ""
             }
            },
            "type": "scattercarpet"
           }
          ],
          "scattergeo": [
           {
            "marker": {
             "colorbar": {
              "outlinewidth": 0,
              "ticks": ""
             }
            },
            "type": "scattergeo"
           }
          ],
          "scattergl": [
           {
            "marker": {
             "colorbar": {
              "outlinewidth": 0,
              "ticks": ""
             }
            },
            "type": "scattergl"
           }
          ],
          "scattermapbox": [
           {
            "marker": {
             "colorbar": {
              "outlinewidth": 0,
              "ticks": ""
             }
            },
            "type": "scattermapbox"
           }
          ],
          "scatterpolar": [
           {
            "marker": {
             "colorbar": {
              "outlinewidth": 0,
              "ticks": ""
             }
            },
            "type": "scatterpolar"
           }
          ],
          "scatterpolargl": [
           {
            "marker": {
             "colorbar": {
              "outlinewidth": 0,
              "ticks": ""
             }
            },
            "type": "scatterpolargl"
           }
          ],
          "scatterternary": [
           {
            "marker": {
             "colorbar": {
              "outlinewidth": 0,
              "ticks": ""
             }
            },
            "type": "scatterternary"
           }
          ],
          "surface": [
           {
            "colorbar": {
             "outlinewidth": 0,
             "ticks": ""
            },
            "colorscale": [
             [
              0,
              "#0d0887"
             ],
             [
              0.1111111111111111,
              "#46039f"
             ],
             [
              0.2222222222222222,
              "#7201a8"
             ],
             [
              0.3333333333333333,
              "#9c179e"
             ],
             [
              0.4444444444444444,
              "#bd3786"
             ],
             [
              0.5555555555555556,
              "#d8576b"
             ],
             [
              0.6666666666666666,
              "#ed7953"
             ],
             [
              0.7777777777777778,
              "#fb9f3a"
             ],
             [
              0.8888888888888888,
              "#fdca26"
             ],
             [
              1,
              "#f0f921"
             ]
            ],
            "type": "surface"
           }
          ],
          "table": [
           {
            "cells": {
             "fill": {
              "color": "#EBF0F8"
             },
             "line": {
              "color": "white"
             }
            },
            "header": {
             "fill": {
              "color": "#C8D4E3"
             },
             "line": {
              "color": "white"
             }
            },
            "type": "table"
           }
          ]
         },
         "layout": {
          "annotationdefaults": {
           "arrowcolor": "#2a3f5f",
           "arrowhead": 0,
           "arrowwidth": 1
          },
          "autotypenumbers": "strict",
          "coloraxis": {
           "colorbar": {
            "outlinewidth": 0,
            "ticks": ""
           }
          },
          "colorscale": {
           "diverging": [
            [
             0,
             "#8e0152"
            ],
            [
             0.1,
             "#c51b7d"
            ],
            [
             0.2,
             "#de77ae"
            ],
            [
             0.3,
             "#f1b6da"
            ],
            [
             0.4,
             "#fde0ef"
            ],
            [
             0.5,
             "#f7f7f7"
            ],
            [
             0.6,
             "#e6f5d0"
            ],
            [
             0.7,
             "#b8e186"
            ],
            [
             0.8,
             "#7fbc41"
            ],
            [
             0.9,
             "#4d9221"
            ],
            [
             1,
             "#276419"
            ]
           ],
           "sequential": [
            [
             0,
             "#0d0887"
            ],
            [
             0.1111111111111111,
             "#46039f"
            ],
            [
             0.2222222222222222,
             "#7201a8"
            ],
            [
             0.3333333333333333,
             "#9c179e"
            ],
            [
             0.4444444444444444,
             "#bd3786"
            ],
            [
             0.5555555555555556,
             "#d8576b"
            ],
            [
             0.6666666666666666,
             "#ed7953"
            ],
            [
             0.7777777777777778,
             "#fb9f3a"
            ],
            [
             0.8888888888888888,
             "#fdca26"
            ],
            [
             1,
             "#f0f921"
            ]
           ],
           "sequentialminus": [
            [
             0,
             "#0d0887"
            ],
            [
             0.1111111111111111,
             "#46039f"
            ],
            [
             0.2222222222222222,
             "#7201a8"
            ],
            [
             0.3333333333333333,
             "#9c179e"
            ],
            [
             0.4444444444444444,
             "#bd3786"
            ],
            [
             0.5555555555555556,
             "#d8576b"
            ],
            [
             0.6666666666666666,
             "#ed7953"
            ],
            [
             0.7777777777777778,
             "#fb9f3a"
            ],
            [
             0.8888888888888888,
             "#fdca26"
            ],
            [
             1,
             "#f0f921"
            ]
           ]
          },
          "colorway": [
           "#636efa",
           "#EF553B",
           "#00cc96",
           "#ab63fa",
           "#FFA15A",
           "#19d3f3",
           "#FF6692",
           "#B6E880",
           "#FF97FF",
           "#FECB52"
          ],
          "font": {
           "color": "#2a3f5f"
          },
          "geo": {
           "bgcolor": "white",
           "lakecolor": "white",
           "landcolor": "#E5ECF6",
           "showlakes": true,
           "showland": true,
           "subunitcolor": "white"
          },
          "hoverlabel": {
           "align": "left"
          },
          "hovermode": "closest",
          "mapbox": {
           "style": "light"
          },
          "paper_bgcolor": "white",
          "plot_bgcolor": "#E5ECF6",
          "polar": {
           "angularaxis": {
            "gridcolor": "white",
            "linecolor": "white",
            "ticks": ""
           },
           "bgcolor": "#E5ECF6",
           "radialaxis": {
            "gridcolor": "white",
            "linecolor": "white",
            "ticks": ""
           }
          },
          "scene": {
           "xaxis": {
            "backgroundcolor": "#E5ECF6",
            "gridcolor": "white",
            "gridwidth": 2,
            "linecolor": "white",
            "showbackground": true,
            "ticks": "",
            "zerolinecolor": "white"
           },
           "yaxis": {
            "backgroundcolor": "#E5ECF6",
            "gridcolor": "white",
            "gridwidth": 2,
            "linecolor": "white",
            "showbackground": true,
            "ticks": "",
            "zerolinecolor": "white"
           },
           "zaxis": {
            "backgroundcolor": "#E5ECF6",
            "gridcolor": "white",
            "gridwidth": 2,
            "linecolor": "white",
            "showbackground": true,
            "ticks": "",
            "zerolinecolor": "white"
           }
          },
          "shapedefaults": {
           "line": {
            "color": "#2a3f5f"
           }
          },
          "ternary": {
           "aaxis": {
            "gridcolor": "white",
            "linecolor": "white",
            "ticks": ""
           },
           "baxis": {
            "gridcolor": "white",
            "linecolor": "white",
            "ticks": ""
           },
           "bgcolor": "#E5ECF6",
           "caxis": {
            "gridcolor": "white",
            "linecolor": "white",
            "ticks": ""
           }
          },
          "title": {
           "x": 0.05
          },
          "xaxis": {
           "automargin": true,
           "gridcolor": "white",
           "linecolor": "white",
           "ticks": "",
           "title": {
            "standoff": 15
           },
           "zerolinecolor": "white",
           "zerolinewidth": 2
          },
          "yaxis": {
           "automargin": true,
           "gridcolor": "white",
           "linecolor": "white",
           "ticks": "",
           "title": {
            "standoff": 15
           },
           "zerolinecolor": "white",
           "zerolinewidth": 2
          }
         }
        },
        "title": {
         "text": "Hyperparameter Importances"
        },
        "xaxis": {
         "title": {
          "text": "Importance for Objective Value"
         }
        },
        "yaxis": {
         "title": {
          "text": "Hyperparameter"
         }
        }
       }
      },
      "text/html": [
       "<div>                            <div id=\"8cf12427-043f-4f7b-b781-cfd68081e30e\" class=\"plotly-graph-div\" style=\"height:525px; width:100%;\"></div>            <script type=\"text/javascript\">                require([\"plotly\"], function(Plotly) {                    window.PLOTLYENV=window.PLOTLYENV || {};                                    if (document.getElementById(\"8cf12427-043f-4f7b-b781-cfd68081e30e\")) {                    Plotly.newPlot(                        \"8cf12427-043f-4f7b-b781-cfd68081e30e\",                        [{\"cliponaxis\": false, \"hovertemplate\": [\"item_embedding_dim (IntUniformDistribution): 0.026165519821386436<extra></extra>\", \"n_layers (IntUniformDistribution): 0.03498755694688028<extra></extra>\", \"user_embedding_dim (IntUniformDistribution): 0.046959065251924136<extra></extra>\", \"layer1 (IntLogUniformDistribution): 0.09298397979011755<extra></extra>\", \"dropout (UniformDistribution): 0.10180688381659643<extra></extra>\", \"epochs (IntUniformDistribution): 0.3253053249404692<extra></extra>\", \"num_negatives (IntUniformDistribution): 0.3717916694326259<extra></extra>\"], \"marker\": {\"color\": [\"rgb(8,81,156)\", \"rgb(8,81,156)\", \"rgb(8,81,156)\", \"rgb(8,81,156)\", \"rgb(8,48,107)\", \"rgb(8,81,156)\", \"rgb(8,81,156)\"]}, \"orientation\": \"h\", \"text\": [\"0.026165519821386436\", \"0.03498755694688028\", \"0.046959065251924136\", \"0.09298397979011755\", \"0.10180688381659643\", \"0.3253053249404692\", \"0.3717916694326259\"], \"textposition\": \"outside\", \"texttemplate\": \"%{text:.2f}\", \"type\": \"bar\", \"x\": [0.026165519821386436, 0.03498755694688028, 0.046959065251924136, 0.09298397979011755, 0.10180688381659643, 0.3253053249404692, 0.3717916694326259], \"y\": [\"item_embedding_dim\", \"n_layers\", \"user_embedding_dim\", \"layer1\", \"dropout\", \"epochs\", \"num_negatives\"]}],                        {\"showlegend\": false, \"template\": {\"data\": {\"bar\": [{\"error_x\": {\"color\": \"#2a3f5f\"}, \"error_y\": {\"color\": \"#2a3f5f\"}, \"marker\": {\"line\": {\"color\": \"#E5ECF6\", \"width\": 0.5}}, \"type\": \"bar\"}], \"barpolar\": [{\"marker\": {\"line\": {\"color\": \"#E5ECF6\", \"width\": 0.5}}, \"type\": \"barpolar\"}], \"carpet\": [{\"aaxis\": {\"endlinecolor\": \"#2a3f5f\", \"gridcolor\": \"white\", \"linecolor\": \"white\", \"minorgridcolor\": \"white\", \"startlinecolor\": \"#2a3f5f\"}, \"baxis\": {\"endlinecolor\": \"#2a3f5f\", \"gridcolor\": \"white\", \"linecolor\": \"white\", \"minorgridcolor\": \"white\", \"startlinecolor\": \"#2a3f5f\"}, \"type\": \"carpet\"}], \"choropleth\": [{\"colorbar\": {\"outlinewidth\": 0, \"ticks\": \"\"}, \"type\": \"choropleth\"}], \"contour\": [{\"colorbar\": {\"outlinewidth\": 0, \"ticks\": \"\"}, \"colorscale\": [[0.0, \"#0d0887\"], [0.1111111111111111, \"#46039f\"], [0.2222222222222222, \"#7201a8\"], [0.3333333333333333, \"#9c179e\"], [0.4444444444444444, \"#bd3786\"], [0.5555555555555556, \"#d8576b\"], [0.6666666666666666, \"#ed7953\"], [0.7777777777777778, \"#fb9f3a\"], [0.8888888888888888, \"#fdca26\"], [1.0, \"#f0f921\"]], \"type\": \"contour\"}], \"contourcarpet\": [{\"colorbar\": {\"outlinewidth\": 0, \"ticks\": \"\"}, \"type\": \"contourcarpet\"}], \"heatmap\": [{\"colorbar\": {\"outlinewidth\": 0, \"ticks\": \"\"}, \"colorscale\": [[0.0, \"#0d0887\"], [0.1111111111111111, \"#46039f\"], [0.2222222222222222, \"#7201a8\"], [0.3333333333333333, \"#9c179e\"], [0.4444444444444444, \"#bd3786\"], [0.5555555555555556, \"#d8576b\"], [0.6666666666666666, \"#ed7953\"], [0.7777777777777778, \"#fb9f3a\"], [0.8888888888888888, \"#fdca26\"], [1.0, \"#f0f921\"]], \"type\": \"heatmap\"}], \"heatmapgl\": [{\"colorbar\": {\"outlinewidth\": 0, \"ticks\": \"\"}, \"colorscale\": [[0.0, \"#0d0887\"], [0.1111111111111111, \"#46039f\"], [0.2222222222222222, \"#7201a8\"], [0.3333333333333333, \"#9c179e\"], [0.4444444444444444, \"#bd3786\"], [0.5555555555555556, \"#d8576b\"], [0.6666666666666666, \"#ed7953\"], [0.7777777777777778, \"#fb9f3a\"], [0.8888888888888888, \"#fdca26\"], [1.0, \"#f0f921\"]], \"type\": \"heatmapgl\"}], \"histogram\": [{\"marker\": {\"colorbar\": {\"outlinewidth\": 0, \"ticks\": \"\"}}, \"type\": \"histogram\"}], \"histogram2d\": [{\"colorbar\": {\"outlinewidth\": 0, \"ticks\": \"\"}, \"colorscale\": [[0.0, \"#0d0887\"], [0.1111111111111111, \"#46039f\"], [0.2222222222222222, \"#7201a8\"], [0.3333333333333333, \"#9c179e\"], [0.4444444444444444, \"#bd3786\"], [0.5555555555555556, \"#d8576b\"], [0.6666666666666666, \"#ed7953\"], [0.7777777777777778, \"#fb9f3a\"], [0.8888888888888888, \"#fdca26\"], [1.0, \"#f0f921\"]], \"type\": \"histogram2d\"}], \"histogram2dcontour\": [{\"colorbar\": {\"outlinewidth\": 0, \"ticks\": \"\"}, \"colorscale\": [[0.0, \"#0d0887\"], [0.1111111111111111, \"#46039f\"], [0.2222222222222222, \"#7201a8\"], [0.3333333333333333, \"#9c179e\"], [0.4444444444444444, \"#bd3786\"], [0.5555555555555556, \"#d8576b\"], [0.6666666666666666, \"#ed7953\"], [0.7777777777777778, \"#fb9f3a\"], [0.8888888888888888, \"#fdca26\"], [1.0, \"#f0f921\"]], \"type\": \"histogram2dcontour\"}], \"mesh3d\": [{\"colorbar\": {\"outlinewidth\": 0, \"ticks\": \"\"}, \"type\": \"mesh3d\"}], \"parcoords\": [{\"line\": {\"colorbar\": {\"outlinewidth\": 0, \"ticks\": \"\"}}, \"type\": \"parcoords\"}], \"pie\": [{\"automargin\": true, \"type\": \"pie\"}], \"scatter\": [{\"marker\": {\"colorbar\": {\"outlinewidth\": 0, \"ticks\": \"\"}}, \"type\": \"scatter\"}], \"scatter3d\": [{\"line\": {\"colorbar\": {\"outlinewidth\": 0, \"ticks\": \"\"}}, \"marker\": {\"colorbar\": {\"outlinewidth\": 0, \"ticks\": \"\"}}, \"type\": \"scatter3d\"}], \"scattercarpet\": [{\"marker\": {\"colorbar\": {\"outlinewidth\": 0, \"ticks\": \"\"}}, \"type\": \"scattercarpet\"}], \"scattergeo\": [{\"marker\": {\"colorbar\": {\"outlinewidth\": 0, \"ticks\": \"\"}}, \"type\": \"scattergeo\"}], \"scattergl\": [{\"marker\": {\"colorbar\": {\"outlinewidth\": 0, \"ticks\": \"\"}}, \"type\": \"scattergl\"}], \"scattermapbox\": [{\"marker\": {\"colorbar\": {\"outlinewidth\": 0, \"ticks\": \"\"}}, \"type\": \"scattermapbox\"}], \"scatterpolar\": [{\"marker\": {\"colorbar\": {\"outlinewidth\": 0, \"ticks\": \"\"}}, \"type\": \"scatterpolar\"}], \"scatterpolargl\": [{\"marker\": {\"colorbar\": {\"outlinewidth\": 0, \"ticks\": \"\"}}, \"type\": \"scatterpolargl\"}], \"scatterternary\": [{\"marker\": {\"colorbar\": {\"outlinewidth\": 0, \"ticks\": \"\"}}, \"type\": \"scatterternary\"}], \"surface\": [{\"colorbar\": {\"outlinewidth\": 0, \"ticks\": \"\"}, \"colorscale\": [[0.0, \"#0d0887\"], [0.1111111111111111, \"#46039f\"], [0.2222222222222222, \"#7201a8\"], [0.3333333333333333, \"#9c179e\"], [0.4444444444444444, \"#bd3786\"], [0.5555555555555556, \"#d8576b\"], [0.6666666666666666, \"#ed7953\"], [0.7777777777777778, \"#fb9f3a\"], [0.8888888888888888, \"#fdca26\"], [1.0, \"#f0f921\"]], \"type\": \"surface\"}], \"table\": [{\"cells\": {\"fill\": {\"color\": \"#EBF0F8\"}, \"line\": {\"color\": \"white\"}}, \"header\": {\"fill\": {\"color\": \"#C8D4E3\"}, \"line\": {\"color\": \"white\"}}, \"type\": \"table\"}]}, \"layout\": {\"annotationdefaults\": {\"arrowcolor\": \"#2a3f5f\", \"arrowhead\": 0, \"arrowwidth\": 1}, \"autotypenumbers\": \"strict\", \"coloraxis\": {\"colorbar\": {\"outlinewidth\": 0, \"ticks\": \"\"}}, \"colorscale\": {\"diverging\": [[0, \"#8e0152\"], [0.1, \"#c51b7d\"], [0.2, \"#de77ae\"], [0.3, \"#f1b6da\"], [0.4, \"#fde0ef\"], [0.5, \"#f7f7f7\"], [0.6, \"#e6f5d0\"], [0.7, \"#b8e186\"], [0.8, \"#7fbc41\"], [0.9, \"#4d9221\"], [1, \"#276419\"]], \"sequential\": [[0.0, \"#0d0887\"], [0.1111111111111111, \"#46039f\"], [0.2222222222222222, \"#7201a8\"], [0.3333333333333333, \"#9c179e\"], [0.4444444444444444, \"#bd3786\"], [0.5555555555555556, \"#d8576b\"], [0.6666666666666666, \"#ed7953\"], [0.7777777777777778, \"#fb9f3a\"], [0.8888888888888888, \"#fdca26\"], [1.0, \"#f0f921\"]], \"sequentialminus\": [[0.0, \"#0d0887\"], [0.1111111111111111, \"#46039f\"], [0.2222222222222222, \"#7201a8\"], [0.3333333333333333, \"#9c179e\"], [0.4444444444444444, \"#bd3786\"], [0.5555555555555556, \"#d8576b\"], [0.6666666666666666, \"#ed7953\"], [0.7777777777777778, \"#fb9f3a\"], [0.8888888888888888, \"#fdca26\"], [1.0, \"#f0f921\"]]}, \"colorway\": [\"#636efa\", \"#EF553B\", \"#00cc96\", \"#ab63fa\", \"#FFA15A\", \"#19d3f3\", \"#FF6692\", \"#B6E880\", \"#FF97FF\", \"#FECB52\"], \"font\": {\"color\": \"#2a3f5f\"}, \"geo\": {\"bgcolor\": \"white\", \"lakecolor\": \"white\", \"landcolor\": \"#E5ECF6\", \"showlakes\": true, \"showland\": true, \"subunitcolor\": \"white\"}, \"hoverlabel\": {\"align\": \"left\"}, \"hovermode\": \"closest\", \"mapbox\": {\"style\": \"light\"}, \"paper_bgcolor\": \"white\", \"plot_bgcolor\": \"#E5ECF6\", \"polar\": {\"angularaxis\": {\"gridcolor\": \"white\", \"linecolor\": \"white\", \"ticks\": \"\"}, \"bgcolor\": \"#E5ECF6\", \"radialaxis\": {\"gridcolor\": \"white\", \"linecolor\": \"white\", \"ticks\": \"\"}}, \"scene\": {\"xaxis\": {\"backgroundcolor\": \"#E5ECF6\", \"gridcolor\": \"white\", \"gridwidth\": 2, \"linecolor\": \"white\", \"showbackground\": true, \"ticks\": \"\", \"zerolinecolor\": \"white\"}, \"yaxis\": {\"backgroundcolor\": \"#E5ECF6\", \"gridcolor\": \"white\", \"gridwidth\": 2, \"linecolor\": \"white\", \"showbackground\": true, \"ticks\": \"\", \"zerolinecolor\": \"white\"}, \"zaxis\": {\"backgroundcolor\": \"#E5ECF6\", \"gridcolor\": \"white\", \"gridwidth\": 2, \"linecolor\": \"white\", \"showbackground\": true, \"ticks\": \"\", \"zerolinecolor\": \"white\"}}, \"shapedefaults\": {\"line\": {\"color\": \"#2a3f5f\"}}, \"ternary\": {\"aaxis\": {\"gridcolor\": \"white\", \"linecolor\": \"white\", \"ticks\": \"\"}, \"baxis\": {\"gridcolor\": \"white\", \"linecolor\": \"white\", \"ticks\": \"\"}, \"bgcolor\": \"#E5ECF6\", \"caxis\": {\"gridcolor\": \"white\", \"linecolor\": \"white\", \"ticks\": \"\"}}, \"title\": {\"x\": 0.05}, \"xaxis\": {\"automargin\": true, \"gridcolor\": \"white\", \"linecolor\": \"white\", \"ticks\": \"\", \"title\": {\"standoff\": 15}, \"zerolinecolor\": \"white\", \"zerolinewidth\": 2}, \"yaxis\": {\"automargin\": true, \"gridcolor\": \"white\", \"linecolor\": \"white\", \"ticks\": \"\", \"title\": {\"standoff\": 15}, \"zerolinecolor\": \"white\", \"zerolinewidth\": 2}}}, \"title\": {\"text\": \"Hyperparameter Importances\"}, \"xaxis\": {\"title\": {\"text\": \"Importance for Objective Value\"}}, \"yaxis\": {\"title\": {\"text\": \"Hyperparameter\"}}},                        {\"responsive\": true}                    ).then(function(){\n",
       "                            \n",
       "var gd = document.getElementById('8cf12427-043f-4f7b-b781-cfd68081e30e');\n",
       "var x = new MutationObserver(function (mutations, observer) {{\n",
       "        var display = window.getComputedStyle(gd).display;\n",
       "        if (!display || display === 'none') {{\n",
       "            console.log([gd, 'removed!']);\n",
       "            Plotly.purge(gd);\n",
       "            observer.disconnect();\n",
       "        }}\n",
       "}});\n",
       "\n",
       "// Listen for the removal of the full notebook cells\n",
       "var notebookContainer = gd.closest('#notebook-container');\n",
       "if (notebookContainer) {{\n",
       "    x.observe(notebookContainer, {childList: true});\n",
       "}}\n",
       "\n",
       "// Listen for the clearing of the current output cell\n",
       "var outputEl = gd.closest('.output');\n",
       "if (outputEl) {{\n",
       "    x.observe(outputEl, {childList: true});\n",
       "}}\n",
       "\n",
       "                        })                };                });            </script>        </div>"
      ]
     },
     "metadata": {},
     "output_type": "display_data"
    }
   ],
   "source": [
    "# Visualize parameter importances.\n",
    "plot_param_importances(study)"
   ]
  },
  {
   "cell_type": "code",
   "execution_count": 86,
   "metadata": {
    "scrolled": true
   },
   "outputs": [
    {
     "data": {
      "application/vnd.plotly.v1+json": {
       "config": {
        "plotlyServerURL": "https://plot.ly"
       },
       "data": [
        {
         "mode": "markers",
         "name": "Objective Value",
         "type": "scatter",
         "x": [
          0,
          1,
          2,
          3,
          4,
          5,
          6,
          7,
          8,
          9,
          10,
          11,
          12,
          13,
          14,
          15,
          16,
          17,
          18,
          19,
          20,
          21,
          22,
          23,
          24,
          25,
          26,
          27,
          28,
          29,
          30,
          31,
          32,
          33,
          34,
          35,
          36,
          37,
          38,
          39,
          40,
          41,
          42,
          43,
          44,
          45,
          46,
          47,
          48,
          49
         ],
         "y": [
          0.828,
          0.824,
          0.828,
          0.767,
          0.781,
          0.71,
          0.779,
          0.81,
          0.772,
          0.813,
          0.762,
          0.804,
          0.83,
          0.835,
          0.819,
          0.824,
          0.812,
          0.83,
          0.797,
          0.821,
          0.832,
          0.837,
          0.838,
          0.82,
          0.834,
          0.834,
          0.808,
          0.817,
          0.817,
          0.814,
          0.824,
          0.822,
          0.836,
          0.833,
          0.819,
          0.836,
          0.843,
          0.836,
          0.834,
          0.805,
          0.812,
          0.839,
          0.82,
          0.832,
          0.82,
          0.84,
          0.822,
          0.827,
          0.828,
          0.807
         ]
        },
        {
         "name": "Best Value",
         "type": "scatter",
         "x": [
          0,
          1,
          2,
          3,
          4,
          5,
          6,
          7,
          8,
          9,
          10,
          11,
          12,
          13,
          14,
          15,
          16,
          17,
          18,
          19,
          20,
          21,
          22,
          23,
          24,
          25,
          26,
          27,
          28,
          29,
          30,
          31,
          32,
          33,
          34,
          35,
          36,
          37,
          38,
          39,
          40,
          41,
          42,
          43,
          44,
          45,
          46,
          47,
          48,
          49
         ],
         "y": [
          0.828,
          0.828,
          0.828,
          0.828,
          0.828,
          0.828,
          0.828,
          0.828,
          0.828,
          0.828,
          0.828,
          0.828,
          0.83,
          0.835,
          0.835,
          0.835,
          0.835,
          0.835,
          0.835,
          0.835,
          0.835,
          0.837,
          0.838,
          0.838,
          0.838,
          0.838,
          0.838,
          0.838,
          0.838,
          0.838,
          0.838,
          0.838,
          0.838,
          0.838,
          0.838,
          0.838,
          0.843,
          0.843,
          0.843,
          0.843,
          0.843,
          0.843,
          0.843,
          0.843,
          0.843,
          0.843,
          0.843,
          0.843,
          0.843,
          0.843
         ]
        }
       ],
       "layout": {
        "template": {
         "data": {
          "bar": [
           {
            "error_x": {
             "color": "#2a3f5f"
            },
            "error_y": {
             "color": "#2a3f5f"
            },
            "marker": {
             "line": {
              "color": "#E5ECF6",
              "width": 0.5
             }
            },
            "type": "bar"
           }
          ],
          "barpolar": [
           {
            "marker": {
             "line": {
              "color": "#E5ECF6",
              "width": 0.5
             }
            },
            "type": "barpolar"
           }
          ],
          "carpet": [
           {
            "aaxis": {
             "endlinecolor": "#2a3f5f",
             "gridcolor": "white",
             "linecolor": "white",
             "minorgridcolor": "white",
             "startlinecolor": "#2a3f5f"
            },
            "baxis": {
             "endlinecolor": "#2a3f5f",
             "gridcolor": "white",
             "linecolor": "white",
             "minorgridcolor": "white",
             "startlinecolor": "#2a3f5f"
            },
            "type": "carpet"
           }
          ],
          "choropleth": [
           {
            "colorbar": {
             "outlinewidth": 0,
             "ticks": ""
            },
            "type": "choropleth"
           }
          ],
          "contour": [
           {
            "colorbar": {
             "outlinewidth": 0,
             "ticks": ""
            },
            "colorscale": [
             [
              0,
              "#0d0887"
             ],
             [
              0.1111111111111111,
              "#46039f"
             ],
             [
              0.2222222222222222,
              "#7201a8"
             ],
             [
              0.3333333333333333,
              "#9c179e"
             ],
             [
              0.4444444444444444,
              "#bd3786"
             ],
             [
              0.5555555555555556,
              "#d8576b"
             ],
             [
              0.6666666666666666,
              "#ed7953"
             ],
             [
              0.7777777777777778,
              "#fb9f3a"
             ],
             [
              0.8888888888888888,
              "#fdca26"
             ],
             [
              1,
              "#f0f921"
             ]
            ],
            "type": "contour"
           }
          ],
          "contourcarpet": [
           {
            "colorbar": {
             "outlinewidth": 0,
             "ticks": ""
            },
            "type": "contourcarpet"
           }
          ],
          "heatmap": [
           {
            "colorbar": {
             "outlinewidth": 0,
             "ticks": ""
            },
            "colorscale": [
             [
              0,
              "#0d0887"
             ],
             [
              0.1111111111111111,
              "#46039f"
             ],
             [
              0.2222222222222222,
              "#7201a8"
             ],
             [
              0.3333333333333333,
              "#9c179e"
             ],
             [
              0.4444444444444444,
              "#bd3786"
             ],
             [
              0.5555555555555556,
              "#d8576b"
             ],
             [
              0.6666666666666666,
              "#ed7953"
             ],
             [
              0.7777777777777778,
              "#fb9f3a"
             ],
             [
              0.8888888888888888,
              "#fdca26"
             ],
             [
              1,
              "#f0f921"
             ]
            ],
            "type": "heatmap"
           }
          ],
          "heatmapgl": [
           {
            "colorbar": {
             "outlinewidth": 0,
             "ticks": ""
            },
            "colorscale": [
             [
              0,
              "#0d0887"
             ],
             [
              0.1111111111111111,
              "#46039f"
             ],
             [
              0.2222222222222222,
              "#7201a8"
             ],
             [
              0.3333333333333333,
              "#9c179e"
             ],
             [
              0.4444444444444444,
              "#bd3786"
             ],
             [
              0.5555555555555556,
              "#d8576b"
             ],
             [
              0.6666666666666666,
              "#ed7953"
             ],
             [
              0.7777777777777778,
              "#fb9f3a"
             ],
             [
              0.8888888888888888,
              "#fdca26"
             ],
             [
              1,
              "#f0f921"
             ]
            ],
            "type": "heatmapgl"
           }
          ],
          "histogram": [
           {
            "marker": {
             "colorbar": {
              "outlinewidth": 0,
              "ticks": ""
             }
            },
            "type": "histogram"
           }
          ],
          "histogram2d": [
           {
            "colorbar": {
             "outlinewidth": 0,
             "ticks": ""
            },
            "colorscale": [
             [
              0,
              "#0d0887"
             ],
             [
              0.1111111111111111,
              "#46039f"
             ],
             [
              0.2222222222222222,
              "#7201a8"
             ],
             [
              0.3333333333333333,
              "#9c179e"
             ],
             [
              0.4444444444444444,
              "#bd3786"
             ],
             [
              0.5555555555555556,
              "#d8576b"
             ],
             [
              0.6666666666666666,
              "#ed7953"
             ],
             [
              0.7777777777777778,
              "#fb9f3a"
             ],
             [
              0.8888888888888888,
              "#fdca26"
             ],
             [
              1,
              "#f0f921"
             ]
            ],
            "type": "histogram2d"
           }
          ],
          "histogram2dcontour": [
           {
            "colorbar": {
             "outlinewidth": 0,
             "ticks": ""
            },
            "colorscale": [
             [
              0,
              "#0d0887"
             ],
             [
              0.1111111111111111,
              "#46039f"
             ],
             [
              0.2222222222222222,
              "#7201a8"
             ],
             [
              0.3333333333333333,
              "#9c179e"
             ],
             [
              0.4444444444444444,
              "#bd3786"
             ],
             [
              0.5555555555555556,
              "#d8576b"
             ],
             [
              0.6666666666666666,
              "#ed7953"
             ],
             [
              0.7777777777777778,
              "#fb9f3a"
             ],
             [
              0.8888888888888888,
              "#fdca26"
             ],
             [
              1,
              "#f0f921"
             ]
            ],
            "type": "histogram2dcontour"
           }
          ],
          "mesh3d": [
           {
            "colorbar": {
             "outlinewidth": 0,
             "ticks": ""
            },
            "type": "mesh3d"
           }
          ],
          "parcoords": [
           {
            "line": {
             "colorbar": {
              "outlinewidth": 0,
              "ticks": ""
             }
            },
            "type": "parcoords"
           }
          ],
          "pie": [
           {
            "automargin": true,
            "type": "pie"
           }
          ],
          "scatter": [
           {
            "marker": {
             "colorbar": {
              "outlinewidth": 0,
              "ticks": ""
             }
            },
            "type": "scatter"
           }
          ],
          "scatter3d": [
           {
            "line": {
             "colorbar": {
              "outlinewidth": 0,
              "ticks": ""
             }
            },
            "marker": {
             "colorbar": {
              "outlinewidth": 0,
              "ticks": ""
             }
            },
            "type": "scatter3d"
           }
          ],
          "scattercarpet": [
           {
            "marker": {
             "colorbar": {
              "outlinewidth": 0,
              "ticks": ""
             }
            },
            "type": "scattercarpet"
           }
          ],
          "scattergeo": [
           {
            "marker": {
             "colorbar": {
              "outlinewidth": 0,
              "ticks": ""
             }
            },
            "type": "scattergeo"
           }
          ],
          "scattergl": [
           {
            "marker": {
             "colorbar": {
              "outlinewidth": 0,
              "ticks": ""
             }
            },
            "type": "scattergl"
           }
          ],
          "scattermapbox": [
           {
            "marker": {
             "colorbar": {
              "outlinewidth": 0,
              "ticks": ""
             }
            },
            "type": "scattermapbox"
           }
          ],
          "scatterpolar": [
           {
            "marker": {
             "colorbar": {
              "outlinewidth": 0,
              "ticks": ""
             }
            },
            "type": "scatterpolar"
           }
          ],
          "scatterpolargl": [
           {
            "marker": {
             "colorbar": {
              "outlinewidth": 0,
              "ticks": ""
             }
            },
            "type": "scatterpolargl"
           }
          ],
          "scatterternary": [
           {
            "marker": {
             "colorbar": {
              "outlinewidth": 0,
              "ticks": ""
             }
            },
            "type": "scatterternary"
           }
          ],
          "surface": [
           {
            "colorbar": {
             "outlinewidth": 0,
             "ticks": ""
            },
            "colorscale": [
             [
              0,
              "#0d0887"
             ],
             [
              0.1111111111111111,
              "#46039f"
             ],
             [
              0.2222222222222222,
              "#7201a8"
             ],
             [
              0.3333333333333333,
              "#9c179e"
             ],
             [
              0.4444444444444444,
              "#bd3786"
             ],
             [
              0.5555555555555556,
              "#d8576b"
             ],
             [
              0.6666666666666666,
              "#ed7953"
             ],
             [
              0.7777777777777778,
              "#fb9f3a"
             ],
             [
              0.8888888888888888,
              "#fdca26"
             ],
             [
              1,
              "#f0f921"
             ]
            ],
            "type": "surface"
           }
          ],
          "table": [
           {
            "cells": {
             "fill": {
              "color": "#EBF0F8"
             },
             "line": {
              "color": "white"
             }
            },
            "header": {
             "fill": {
              "color": "#C8D4E3"
             },
             "line": {
              "color": "white"
             }
            },
            "type": "table"
           }
          ]
         },
         "layout": {
          "annotationdefaults": {
           "arrowcolor": "#2a3f5f",
           "arrowhead": 0,
           "arrowwidth": 1
          },
          "autotypenumbers": "strict",
          "coloraxis": {
           "colorbar": {
            "outlinewidth": 0,
            "ticks": ""
           }
          },
          "colorscale": {
           "diverging": [
            [
             0,
             "#8e0152"
            ],
            [
             0.1,
             "#c51b7d"
            ],
            [
             0.2,
             "#de77ae"
            ],
            [
             0.3,
             "#f1b6da"
            ],
            [
             0.4,
             "#fde0ef"
            ],
            [
             0.5,
             "#f7f7f7"
            ],
            [
             0.6,
             "#e6f5d0"
            ],
            [
             0.7,
             "#b8e186"
            ],
            [
             0.8,
             "#7fbc41"
            ],
            [
             0.9,
             "#4d9221"
            ],
            [
             1,
             "#276419"
            ]
           ],
           "sequential": [
            [
             0,
             "#0d0887"
            ],
            [
             0.1111111111111111,
             "#46039f"
            ],
            [
             0.2222222222222222,
             "#7201a8"
            ],
            [
             0.3333333333333333,
             "#9c179e"
            ],
            [
             0.4444444444444444,
             "#bd3786"
            ],
            [
             0.5555555555555556,
             "#d8576b"
            ],
            [
             0.6666666666666666,
             "#ed7953"
            ],
            [
             0.7777777777777778,
             "#fb9f3a"
            ],
            [
             0.8888888888888888,
             "#fdca26"
            ],
            [
             1,
             "#f0f921"
            ]
           ],
           "sequentialminus": [
            [
             0,
             "#0d0887"
            ],
            [
             0.1111111111111111,
             "#46039f"
            ],
            [
             0.2222222222222222,
             "#7201a8"
            ],
            [
             0.3333333333333333,
             "#9c179e"
            ],
            [
             0.4444444444444444,
             "#bd3786"
            ],
            [
             0.5555555555555556,
             "#d8576b"
            ],
            [
             0.6666666666666666,
             "#ed7953"
            ],
            [
             0.7777777777777778,
             "#fb9f3a"
            ],
            [
             0.8888888888888888,
             "#fdca26"
            ],
            [
             1,
             "#f0f921"
            ]
           ]
          },
          "colorway": [
           "#636efa",
           "#EF553B",
           "#00cc96",
           "#ab63fa",
           "#FFA15A",
           "#19d3f3",
           "#FF6692",
           "#B6E880",
           "#FF97FF",
           "#FECB52"
          ],
          "font": {
           "color": "#2a3f5f"
          },
          "geo": {
           "bgcolor": "white",
           "lakecolor": "white",
           "landcolor": "#E5ECF6",
           "showlakes": true,
           "showland": true,
           "subunitcolor": "white"
          },
          "hoverlabel": {
           "align": "left"
          },
          "hovermode": "closest",
          "mapbox": {
           "style": "light"
          },
          "paper_bgcolor": "white",
          "plot_bgcolor": "#E5ECF6",
          "polar": {
           "angularaxis": {
            "gridcolor": "white",
            "linecolor": "white",
            "ticks": ""
           },
           "bgcolor": "#E5ECF6",
           "radialaxis": {
            "gridcolor": "white",
            "linecolor": "white",
            "ticks": ""
           }
          },
          "scene": {
           "xaxis": {
            "backgroundcolor": "#E5ECF6",
            "gridcolor": "white",
            "gridwidth": 2,
            "linecolor": "white",
            "showbackground": true,
            "ticks": "",
            "zerolinecolor": "white"
           },
           "yaxis": {
            "backgroundcolor": "#E5ECF6",
            "gridcolor": "white",
            "gridwidth": 2,
            "linecolor": "white",
            "showbackground": true,
            "ticks": "",
            "zerolinecolor": "white"
           },
           "zaxis": {
            "backgroundcolor": "#E5ECF6",
            "gridcolor": "white",
            "gridwidth": 2,
            "linecolor": "white",
            "showbackground": true,
            "ticks": "",
            "zerolinecolor": "white"
           }
          },
          "shapedefaults": {
           "line": {
            "color": "#2a3f5f"
           }
          },
          "ternary": {
           "aaxis": {
            "gridcolor": "white",
            "linecolor": "white",
            "ticks": ""
           },
           "baxis": {
            "gridcolor": "white",
            "linecolor": "white",
            "ticks": ""
           },
           "bgcolor": "#E5ECF6",
           "caxis": {
            "gridcolor": "white",
            "linecolor": "white",
            "ticks": ""
           }
          },
          "title": {
           "x": 0.05
          },
          "xaxis": {
           "automargin": true,
           "gridcolor": "white",
           "linecolor": "white",
           "ticks": "",
           "title": {
            "standoff": 15
           },
           "zerolinecolor": "white",
           "zerolinewidth": 2
          },
          "yaxis": {
           "automargin": true,
           "gridcolor": "white",
           "linecolor": "white",
           "ticks": "",
           "title": {
            "standoff": 15
           },
           "zerolinecolor": "white",
           "zerolinewidth": 2
          }
         }
        },
        "title": {
         "text": "Optimization History Plot"
        },
        "xaxis": {
         "title": {
          "text": "#Trials"
         }
        },
        "yaxis": {
         "title": {
          "text": "Objective Value"
         }
        }
       }
      },
      "text/html": [
       "<div>                            <div id=\"1e28d787-4a8b-484e-b939-ad5b98b31145\" class=\"plotly-graph-div\" style=\"height:525px; width:100%;\"></div>            <script type=\"text/javascript\">                require([\"plotly\"], function(Plotly) {                    window.PLOTLYENV=window.PLOTLYENV || {};                                    if (document.getElementById(\"1e28d787-4a8b-484e-b939-ad5b98b31145\")) {                    Plotly.newPlot(                        \"1e28d787-4a8b-484e-b939-ad5b98b31145\",                        [{\"mode\": \"markers\", \"name\": \"Objective Value\", \"type\": \"scatter\", \"x\": [0, 1, 2, 3, 4, 5, 6, 7, 8, 9, 10, 11, 12, 13, 14, 15, 16, 17, 18, 19, 20, 21, 22, 23, 24, 25, 26, 27, 28, 29, 30, 31, 32, 33, 34, 35, 36, 37, 38, 39, 40, 41, 42, 43, 44, 45, 46, 47, 48, 49], \"y\": [0.828, 0.824, 0.828, 0.767, 0.781, 0.71, 0.779, 0.81, 0.772, 0.813, 0.762, 0.804, 0.83, 0.835, 0.819, 0.824, 0.812, 0.83, 0.797, 0.821, 0.832, 0.837, 0.838, 0.82, 0.834, 0.834, 0.808, 0.817, 0.817, 0.814, 0.824, 0.822, 0.836, 0.833, 0.819, 0.836, 0.843, 0.836, 0.834, 0.805, 0.812, 0.839, 0.82, 0.832, 0.82, 0.84, 0.822, 0.827, 0.828, 0.807]}, {\"name\": \"Best Value\", \"type\": \"scatter\", \"x\": [0, 1, 2, 3, 4, 5, 6, 7, 8, 9, 10, 11, 12, 13, 14, 15, 16, 17, 18, 19, 20, 21, 22, 23, 24, 25, 26, 27, 28, 29, 30, 31, 32, 33, 34, 35, 36, 37, 38, 39, 40, 41, 42, 43, 44, 45, 46, 47, 48, 49], \"y\": [0.828, 0.828, 0.828, 0.828, 0.828, 0.828, 0.828, 0.828, 0.828, 0.828, 0.828, 0.828, 0.83, 0.835, 0.835, 0.835, 0.835, 0.835, 0.835, 0.835, 0.835, 0.837, 0.838, 0.838, 0.838, 0.838, 0.838, 0.838, 0.838, 0.838, 0.838, 0.838, 0.838, 0.838, 0.838, 0.838, 0.843, 0.843, 0.843, 0.843, 0.843, 0.843, 0.843, 0.843, 0.843, 0.843, 0.843, 0.843, 0.843, 0.843]}],                        {\"template\": {\"data\": {\"bar\": [{\"error_x\": {\"color\": \"#2a3f5f\"}, \"error_y\": {\"color\": \"#2a3f5f\"}, \"marker\": {\"line\": {\"color\": \"#E5ECF6\", \"width\": 0.5}}, \"type\": \"bar\"}], \"barpolar\": [{\"marker\": {\"line\": {\"color\": \"#E5ECF6\", \"width\": 0.5}}, \"type\": \"barpolar\"}], \"carpet\": [{\"aaxis\": {\"endlinecolor\": \"#2a3f5f\", \"gridcolor\": \"white\", \"linecolor\": \"white\", \"minorgridcolor\": \"white\", \"startlinecolor\": \"#2a3f5f\"}, \"baxis\": {\"endlinecolor\": \"#2a3f5f\", \"gridcolor\": \"white\", \"linecolor\": \"white\", \"minorgridcolor\": \"white\", \"startlinecolor\": \"#2a3f5f\"}, \"type\": \"carpet\"}], \"choropleth\": [{\"colorbar\": {\"outlinewidth\": 0, \"ticks\": \"\"}, \"type\": \"choropleth\"}], \"contour\": [{\"colorbar\": {\"outlinewidth\": 0, \"ticks\": \"\"}, \"colorscale\": [[0.0, \"#0d0887\"], [0.1111111111111111, \"#46039f\"], [0.2222222222222222, \"#7201a8\"], [0.3333333333333333, \"#9c179e\"], [0.4444444444444444, \"#bd3786\"], [0.5555555555555556, \"#d8576b\"], [0.6666666666666666, \"#ed7953\"], [0.7777777777777778, \"#fb9f3a\"], [0.8888888888888888, \"#fdca26\"], [1.0, \"#f0f921\"]], \"type\": \"contour\"}], \"contourcarpet\": [{\"colorbar\": {\"outlinewidth\": 0, \"ticks\": \"\"}, \"type\": \"contourcarpet\"}], \"heatmap\": [{\"colorbar\": {\"outlinewidth\": 0, \"ticks\": \"\"}, \"colorscale\": [[0.0, \"#0d0887\"], [0.1111111111111111, \"#46039f\"], [0.2222222222222222, \"#7201a8\"], [0.3333333333333333, \"#9c179e\"], [0.4444444444444444, \"#bd3786\"], [0.5555555555555556, \"#d8576b\"], [0.6666666666666666, \"#ed7953\"], [0.7777777777777778, \"#fb9f3a\"], [0.8888888888888888, \"#fdca26\"], [1.0, \"#f0f921\"]], \"type\": \"heatmap\"}], \"heatmapgl\": [{\"colorbar\": {\"outlinewidth\": 0, \"ticks\": \"\"}, \"colorscale\": [[0.0, \"#0d0887\"], [0.1111111111111111, \"#46039f\"], [0.2222222222222222, \"#7201a8\"], [0.3333333333333333, \"#9c179e\"], [0.4444444444444444, \"#bd3786\"], [0.5555555555555556, \"#d8576b\"], [0.6666666666666666, \"#ed7953\"], [0.7777777777777778, \"#fb9f3a\"], [0.8888888888888888, \"#fdca26\"], [1.0, \"#f0f921\"]], \"type\": \"heatmapgl\"}], \"histogram\": [{\"marker\": {\"colorbar\": {\"outlinewidth\": 0, \"ticks\": \"\"}}, \"type\": \"histogram\"}], \"histogram2d\": [{\"colorbar\": {\"outlinewidth\": 0, \"ticks\": \"\"}, \"colorscale\": [[0.0, \"#0d0887\"], [0.1111111111111111, \"#46039f\"], [0.2222222222222222, \"#7201a8\"], [0.3333333333333333, \"#9c179e\"], [0.4444444444444444, \"#bd3786\"], [0.5555555555555556, \"#d8576b\"], [0.6666666666666666, \"#ed7953\"], [0.7777777777777778, \"#fb9f3a\"], [0.8888888888888888, \"#fdca26\"], [1.0, \"#f0f921\"]], \"type\": \"histogram2d\"}], \"histogram2dcontour\": [{\"colorbar\": {\"outlinewidth\": 0, \"ticks\": \"\"}, \"colorscale\": [[0.0, \"#0d0887\"], [0.1111111111111111, \"#46039f\"], [0.2222222222222222, \"#7201a8\"], [0.3333333333333333, \"#9c179e\"], [0.4444444444444444, \"#bd3786\"], [0.5555555555555556, \"#d8576b\"], [0.6666666666666666, \"#ed7953\"], [0.7777777777777778, \"#fb9f3a\"], [0.8888888888888888, \"#fdca26\"], [1.0, \"#f0f921\"]], \"type\": \"histogram2dcontour\"}], \"mesh3d\": [{\"colorbar\": {\"outlinewidth\": 0, \"ticks\": \"\"}, \"type\": \"mesh3d\"}], \"parcoords\": [{\"line\": {\"colorbar\": {\"outlinewidth\": 0, \"ticks\": \"\"}}, \"type\": \"parcoords\"}], \"pie\": [{\"automargin\": true, \"type\": \"pie\"}], \"scatter\": [{\"marker\": {\"colorbar\": {\"outlinewidth\": 0, \"ticks\": \"\"}}, \"type\": \"scatter\"}], \"scatter3d\": [{\"line\": {\"colorbar\": {\"outlinewidth\": 0, \"ticks\": \"\"}}, \"marker\": {\"colorbar\": {\"outlinewidth\": 0, \"ticks\": \"\"}}, \"type\": \"scatter3d\"}], \"scattercarpet\": [{\"marker\": {\"colorbar\": {\"outlinewidth\": 0, \"ticks\": \"\"}}, \"type\": \"scattercarpet\"}], \"scattergeo\": [{\"marker\": {\"colorbar\": {\"outlinewidth\": 0, \"ticks\": \"\"}}, \"type\": \"scattergeo\"}], \"scattergl\": [{\"marker\": {\"colorbar\": {\"outlinewidth\": 0, \"ticks\": \"\"}}, \"type\": \"scattergl\"}], \"scattermapbox\": [{\"marker\": {\"colorbar\": {\"outlinewidth\": 0, \"ticks\": \"\"}}, \"type\": \"scattermapbox\"}], \"scatterpolar\": [{\"marker\": {\"colorbar\": {\"outlinewidth\": 0, \"ticks\": \"\"}}, \"type\": \"scatterpolar\"}], \"scatterpolargl\": [{\"marker\": {\"colorbar\": {\"outlinewidth\": 0, \"ticks\": \"\"}}, \"type\": \"scatterpolargl\"}], \"scatterternary\": [{\"marker\": {\"colorbar\": {\"outlinewidth\": 0, \"ticks\": \"\"}}, \"type\": \"scatterternary\"}], \"surface\": [{\"colorbar\": {\"outlinewidth\": 0, \"ticks\": \"\"}, \"colorscale\": [[0.0, \"#0d0887\"], [0.1111111111111111, \"#46039f\"], [0.2222222222222222, \"#7201a8\"], [0.3333333333333333, \"#9c179e\"], [0.4444444444444444, \"#bd3786\"], [0.5555555555555556, \"#d8576b\"], [0.6666666666666666, \"#ed7953\"], [0.7777777777777778, \"#fb9f3a\"], [0.8888888888888888, \"#fdca26\"], [1.0, \"#f0f921\"]], \"type\": \"surface\"}], \"table\": [{\"cells\": {\"fill\": {\"color\": \"#EBF0F8\"}, \"line\": {\"color\": \"white\"}}, \"header\": {\"fill\": {\"color\": \"#C8D4E3\"}, \"line\": {\"color\": \"white\"}}, \"type\": \"table\"}]}, \"layout\": {\"annotationdefaults\": {\"arrowcolor\": \"#2a3f5f\", \"arrowhead\": 0, \"arrowwidth\": 1}, \"autotypenumbers\": \"strict\", \"coloraxis\": {\"colorbar\": {\"outlinewidth\": 0, \"ticks\": \"\"}}, \"colorscale\": {\"diverging\": [[0, \"#8e0152\"], [0.1, \"#c51b7d\"], [0.2, \"#de77ae\"], [0.3, \"#f1b6da\"], [0.4, \"#fde0ef\"], [0.5, \"#f7f7f7\"], [0.6, \"#e6f5d0\"], [0.7, \"#b8e186\"], [0.8, \"#7fbc41\"], [0.9, \"#4d9221\"], [1, \"#276419\"]], \"sequential\": [[0.0, \"#0d0887\"], [0.1111111111111111, \"#46039f\"], [0.2222222222222222, \"#7201a8\"], [0.3333333333333333, \"#9c179e\"], [0.4444444444444444, \"#bd3786\"], [0.5555555555555556, \"#d8576b\"], [0.6666666666666666, \"#ed7953\"], [0.7777777777777778, \"#fb9f3a\"], [0.8888888888888888, \"#fdca26\"], [1.0, \"#f0f921\"]], \"sequentialminus\": [[0.0, \"#0d0887\"], [0.1111111111111111, \"#46039f\"], [0.2222222222222222, \"#7201a8\"], [0.3333333333333333, \"#9c179e\"], [0.4444444444444444, \"#bd3786\"], [0.5555555555555556, \"#d8576b\"], [0.6666666666666666, \"#ed7953\"], [0.7777777777777778, \"#fb9f3a\"], [0.8888888888888888, \"#fdca26\"], [1.0, \"#f0f921\"]]}, \"colorway\": [\"#636efa\", \"#EF553B\", \"#00cc96\", \"#ab63fa\", \"#FFA15A\", \"#19d3f3\", \"#FF6692\", \"#B6E880\", \"#FF97FF\", \"#FECB52\"], \"font\": {\"color\": \"#2a3f5f\"}, \"geo\": {\"bgcolor\": \"white\", \"lakecolor\": \"white\", \"landcolor\": \"#E5ECF6\", \"showlakes\": true, \"showland\": true, \"subunitcolor\": \"white\"}, \"hoverlabel\": {\"align\": \"left\"}, \"hovermode\": \"closest\", \"mapbox\": {\"style\": \"light\"}, \"paper_bgcolor\": \"white\", \"plot_bgcolor\": \"#E5ECF6\", \"polar\": {\"angularaxis\": {\"gridcolor\": \"white\", \"linecolor\": \"white\", \"ticks\": \"\"}, \"bgcolor\": \"#E5ECF6\", \"radialaxis\": {\"gridcolor\": \"white\", \"linecolor\": \"white\", \"ticks\": \"\"}}, \"scene\": {\"xaxis\": {\"backgroundcolor\": \"#E5ECF6\", \"gridcolor\": \"white\", \"gridwidth\": 2, \"linecolor\": \"white\", \"showbackground\": true, \"ticks\": \"\", \"zerolinecolor\": \"white\"}, \"yaxis\": {\"backgroundcolor\": \"#E5ECF6\", \"gridcolor\": \"white\", \"gridwidth\": 2, \"linecolor\": \"white\", \"showbackground\": true, \"ticks\": \"\", \"zerolinecolor\": \"white\"}, \"zaxis\": {\"backgroundcolor\": \"#E5ECF6\", \"gridcolor\": \"white\", \"gridwidth\": 2, \"linecolor\": \"white\", \"showbackground\": true, \"ticks\": \"\", \"zerolinecolor\": \"white\"}}, \"shapedefaults\": {\"line\": {\"color\": \"#2a3f5f\"}}, \"ternary\": {\"aaxis\": {\"gridcolor\": \"white\", \"linecolor\": \"white\", \"ticks\": \"\"}, \"baxis\": {\"gridcolor\": \"white\", \"linecolor\": \"white\", \"ticks\": \"\"}, \"bgcolor\": \"#E5ECF6\", \"caxis\": {\"gridcolor\": \"white\", \"linecolor\": \"white\", \"ticks\": \"\"}}, \"title\": {\"x\": 0.05}, \"xaxis\": {\"automargin\": true, \"gridcolor\": \"white\", \"linecolor\": \"white\", \"ticks\": \"\", \"title\": {\"standoff\": 15}, \"zerolinecolor\": \"white\", \"zerolinewidth\": 2}, \"yaxis\": {\"automargin\": true, \"gridcolor\": \"white\", \"linecolor\": \"white\", \"ticks\": \"\", \"title\": {\"standoff\": 15}, \"zerolinecolor\": \"white\", \"zerolinewidth\": 2}}}, \"title\": {\"text\": \"Optimization History Plot\"}, \"xaxis\": {\"title\": {\"text\": \"#Trials\"}}, \"yaxis\": {\"title\": {\"text\": \"Objective Value\"}}},                        {\"responsive\": true}                    ).then(function(){\n",
       "                            \n",
       "var gd = document.getElementById('1e28d787-4a8b-484e-b939-ad5b98b31145');\n",
       "var x = new MutationObserver(function (mutations, observer) {{\n",
       "        var display = window.getComputedStyle(gd).display;\n",
       "        if (!display || display === 'none') {{\n",
       "            console.log([gd, 'removed!']);\n",
       "            Plotly.purge(gd);\n",
       "            observer.disconnect();\n",
       "        }}\n",
       "}});\n",
       "\n",
       "// Listen for the removal of the full notebook cells\n",
       "var notebookContainer = gd.closest('#notebook-container');\n",
       "if (notebookContainer) {{\n",
       "    x.observe(notebookContainer, {childList: true});\n",
       "}}\n",
       "\n",
       "// Listen for the clearing of the current output cell\n",
       "var outputEl = gd.closest('.output');\n",
       "if (outputEl) {{\n",
       "    x.observe(outputEl, {childList: true});\n",
       "}}\n",
       "\n",
       "                        })                };                });            </script>        </div>"
      ]
     },
     "metadata": {},
     "output_type": "display_data"
    }
   ],
   "source": [
    "plot_optimization_history(study)"
   ]
  },
  {
   "cell_type": "code",
   "execution_count": 87,
   "metadata": {
    "scrolled": false
   },
   "outputs": [
    {
     "data": {
      "application/vnd.plotly.v1+json": {
       "config": {
        "plotlyServerURL": "https://plot.ly"
       },
       "data": [
        {
         "dimensions": [
          {
           "label": "Objective Value",
           "range": [
            0.71,
            0.843
           ],
           "values": [
            0.828,
            0.824,
            0.828,
            0.767,
            0.781,
            0.71,
            0.779,
            0.81,
            0.772,
            0.813,
            0.762,
            0.804,
            0.83,
            0.835,
            0.819,
            0.824,
            0.812,
            0.83,
            0.797,
            0.821,
            0.832,
            0.837,
            0.838,
            0.82,
            0.834,
            0.834,
            0.808,
            0.817,
            0.817,
            0.814,
            0.824,
            0.822,
            0.836,
            0.833,
            0.819,
            0.836,
            0.843,
            0.836,
            0.834,
            0.805,
            0.812,
            0.839,
            0.82,
            0.832,
            0.82,
            0.84,
            0.822,
            0.827,
            0.828,
            0.807
           ]
          },
          {
           "label": "dropout",
           "range": [
            0.10908225677057645,
            0.4996183446109543
           ],
           "values": [
            0.3355759619691987,
            0.1590118675233772,
            0.20868629801407837,
            0.2842654860497629,
            0.13321462271309048,
            0.33149425845368263,
            0.44940492988370406,
            0.2064168686436797,
            0.4712272304497903,
            0.18338176368982953,
            0.3544658997214063,
            0.2692418319987035,
            0.38977697831473285,
            0.4033828057691822,
            0.42001332306812633,
            0.3974878115750088,
            0.39028752487566376,
            0.4883495109818783,
            0.49159238560704605,
            0.43878837898637757,
            0.44953431984464776,
            0.4916336150389861,
            0.4961106229094374,
            0.4968942996847002,
            0.49821083802067134,
            0.42053058689271694,
            0.4636864106565305,
            0.41882779394217695,
            0.3537243453964432,
            0.3179264294475614,
            0.36934054652177384,
            0.42105012097961625,
            0.47833286979407225,
            0.47132260394325604,
            0.47478522987112626,
            0.49546358375554245,
            0.4991583680305453,
            0.4470398666488064,
            0.2541555459842242,
            0.4943544397776304,
            0.4443260703336489,
            0.45494630014062704,
            0.45420051807536,
            0.4416976254403497,
            0.46092783538146964,
            0.4992176849493647,
            0.10908225677057645,
            0.4996183446109543,
            0.4829787838797181,
            0.47110121461599164
           ]
          },
          {
           "label": "epochs",
           "range": [
            10,
            30
           ],
           "values": [
            30,
            20,
            16,
            25,
            22,
            11,
            21,
            21,
            29,
            16,
            29,
            14,
            16,
            12,
            10,
            13,
            16,
            18,
            24,
            13,
            18,
            18,
            18,
            18,
            11,
            24,
            14,
            19,
            23,
            26,
            12,
            27,
            20,
            20,
            19,
            17,
            17,
            22,
            22,
            17,
            15,
            17,
            21,
            19,
            17,
            15,
            14,
            15,
            16,
            15
           ]
          },
          {
           "label": "item_embedding_dim",
           "range": [
            2,
            50
           ],
           "values": [
            2,
            17,
            21,
            15,
            49,
            21,
            21,
            6,
            8,
            39,
            35,
            2,
            33,
            34,
            32,
            45,
            29,
            39,
            41,
            26,
            47,
            50,
            50,
            50,
            44,
            50,
            42,
            35,
            46,
            38,
            50,
            50,
            47,
            43,
            46,
            48,
            48,
            48,
            41,
            50,
            44,
            48,
            48,
            48,
            13,
            37,
            37,
            29,
            41,
            23
           ]
          },
          {
           "label": "layer1",
           "range": [
            5,
            127
           ],
           "values": [
            19,
            37,
            33,
            30,
            87,
            7,
            7,
            8,
            5,
            81,
            14,
            16,
            48,
            48,
            52,
            111,
            54,
            56,
            116,
            26,
            66,
            72,
            78,
            122,
            81,
            40,
            73,
            127,
            43,
            24,
            93,
            38,
            64,
            64,
            95,
            64,
            33,
            32,
            30,
            19,
            34,
            13,
            11,
            10,
            19,
            14,
            14,
            9,
            12,
            6
           ]
          },
          {
           "label": "layer2",
           "range": [
            4,
            102
           ],
           "values": [
            29,
            4,
            99,
            19,
            19,
            4,
            102,
            9,
            60,
            9,
            50,
            8,
            34
           ]
          },
          {
           "label": "layer3",
           "range": [
            9,
            104
           ],
           "values": [
            9,
            11,
            92,
            104
           ]
          },
          {
           "label": "n_layers",
           "range": [
            1,
            3
           ],
           "values": [
            1,
            3,
            1,
            2,
            1,
            3,
            2,
            1,
            1,
            3,
            2,
            1,
            1,
            1,
            2,
            1,
            2,
            1,
            1,
            2,
            1,
            1,
            1,
            1,
            1,
            1,
            2,
            1,
            1,
            1,
            2,
            1,
            1,
            1,
            1,
            1,
            1,
            1,
            1,
            3,
            2,
            1,
            1,
            1,
            1,
            1,
            1,
            1,
            1,
            1
           ]
          },
          {
           "label": "num_negatives",
           "range": [
            1,
            10
           ],
           "values": [
            7,
            7,
            3,
            1,
            6,
            1,
            1,
            2,
            6,
            4,
            10,
            9,
            4,
            8,
            4,
            8,
            5,
            10,
            10,
            8,
            9,
            9,
            9,
            9,
            8,
            7,
            9,
            8,
            10,
            7,
            9,
            7,
            7,
            6,
            8,
            7,
            5,
            5,
            5,
            3,
            5,
            6,
            3,
            6,
            5,
            4,
            2,
            4,
            2,
            4
           ]
          },
          {
           "label": "user_embedding_dim",
           "range": [
            2,
            48
           ],
           "values": [
            14,
            44,
            40,
            37,
            26,
            24,
            48,
            29,
            40,
            18,
            4,
            10,
            14,
            12,
            3,
            10,
            19,
            9,
            7,
            16,
            3,
            2,
            2,
            6,
            2,
            2,
            10,
            13,
            22,
            31,
            6,
            2,
            2,
            6,
            14,
            8,
            5,
            5,
            5,
            8,
            12,
            5,
            4,
            5,
            2,
            47,
            24,
            45,
            35,
            39
           ]
          }
         ],
         "labelangle": 30,
         "labelside": "bottom",
         "line": {
          "color": [
           0.828,
           0.824,
           0.828,
           0.767,
           0.781,
           0.71,
           0.779,
           0.81,
           0.772,
           0.813,
           0.762,
           0.804,
           0.83,
           0.835,
           0.819,
           0.824,
           0.812,
           0.83,
           0.797,
           0.821,
           0.832,
           0.837,
           0.838,
           0.82,
           0.834,
           0.834,
           0.808,
           0.817,
           0.817,
           0.814,
           0.824,
           0.822,
           0.836,
           0.833,
           0.819,
           0.836,
           0.843,
           0.836,
           0.834,
           0.805,
           0.812,
           0.839,
           0.82,
           0.832,
           0.82,
           0.84,
           0.822,
           0.827,
           0.828,
           0.807
          ],
          "colorbar": {
           "title": {
            "text": "Objective Value"
           }
          },
          "colorscale": [
           [
            0,
            "rgb(247,251,255)"
           ],
           [
            0.125,
            "rgb(222,235,247)"
           ],
           [
            0.25,
            "rgb(198,219,239)"
           ],
           [
            0.375,
            "rgb(158,202,225)"
           ],
           [
            0.5,
            "rgb(107,174,214)"
           ],
           [
            0.625,
            "rgb(66,146,198)"
           ],
           [
            0.75,
            "rgb(33,113,181)"
           ],
           [
            0.875,
            "rgb(8,81,156)"
           ],
           [
            1,
            "rgb(8,48,107)"
           ]
          ],
          "reversescale": false,
          "showscale": true
         },
         "type": "parcoords"
        }
       ],
       "layout": {
        "template": {
         "data": {
          "bar": [
           {
            "error_x": {
             "color": "#2a3f5f"
            },
            "error_y": {
             "color": "#2a3f5f"
            },
            "marker": {
             "line": {
              "color": "#E5ECF6",
              "width": 0.5
             }
            },
            "type": "bar"
           }
          ],
          "barpolar": [
           {
            "marker": {
             "line": {
              "color": "#E5ECF6",
              "width": 0.5
             }
            },
            "type": "barpolar"
           }
          ],
          "carpet": [
           {
            "aaxis": {
             "endlinecolor": "#2a3f5f",
             "gridcolor": "white",
             "linecolor": "white",
             "minorgridcolor": "white",
             "startlinecolor": "#2a3f5f"
            },
            "baxis": {
             "endlinecolor": "#2a3f5f",
             "gridcolor": "white",
             "linecolor": "white",
             "minorgridcolor": "white",
             "startlinecolor": "#2a3f5f"
            },
            "type": "carpet"
           }
          ],
          "choropleth": [
           {
            "colorbar": {
             "outlinewidth": 0,
             "ticks": ""
            },
            "type": "choropleth"
           }
          ],
          "contour": [
           {
            "colorbar": {
             "outlinewidth": 0,
             "ticks": ""
            },
            "colorscale": [
             [
              0,
              "#0d0887"
             ],
             [
              0.1111111111111111,
              "#46039f"
             ],
             [
              0.2222222222222222,
              "#7201a8"
             ],
             [
              0.3333333333333333,
              "#9c179e"
             ],
             [
              0.4444444444444444,
              "#bd3786"
             ],
             [
              0.5555555555555556,
              "#d8576b"
             ],
             [
              0.6666666666666666,
              "#ed7953"
             ],
             [
              0.7777777777777778,
              "#fb9f3a"
             ],
             [
              0.8888888888888888,
              "#fdca26"
             ],
             [
              1,
              "#f0f921"
             ]
            ],
            "type": "contour"
           }
          ],
          "contourcarpet": [
           {
            "colorbar": {
             "outlinewidth": 0,
             "ticks": ""
            },
            "type": "contourcarpet"
           }
          ],
          "heatmap": [
           {
            "colorbar": {
             "outlinewidth": 0,
             "ticks": ""
            },
            "colorscale": [
             [
              0,
              "#0d0887"
             ],
             [
              0.1111111111111111,
              "#46039f"
             ],
             [
              0.2222222222222222,
              "#7201a8"
             ],
             [
              0.3333333333333333,
              "#9c179e"
             ],
             [
              0.4444444444444444,
              "#bd3786"
             ],
             [
              0.5555555555555556,
              "#d8576b"
             ],
             [
              0.6666666666666666,
              "#ed7953"
             ],
             [
              0.7777777777777778,
              "#fb9f3a"
             ],
             [
              0.8888888888888888,
              "#fdca26"
             ],
             [
              1,
              "#f0f921"
             ]
            ],
            "type": "heatmap"
           }
          ],
          "heatmapgl": [
           {
            "colorbar": {
             "outlinewidth": 0,
             "ticks": ""
            },
            "colorscale": [
             [
              0,
              "#0d0887"
             ],
             [
              0.1111111111111111,
              "#46039f"
             ],
             [
              0.2222222222222222,
              "#7201a8"
             ],
             [
              0.3333333333333333,
              "#9c179e"
             ],
             [
              0.4444444444444444,
              "#bd3786"
             ],
             [
              0.5555555555555556,
              "#d8576b"
             ],
             [
              0.6666666666666666,
              "#ed7953"
             ],
             [
              0.7777777777777778,
              "#fb9f3a"
             ],
             [
              0.8888888888888888,
              "#fdca26"
             ],
             [
              1,
              "#f0f921"
             ]
            ],
            "type": "heatmapgl"
           }
          ],
          "histogram": [
           {
            "marker": {
             "colorbar": {
              "outlinewidth": 0,
              "ticks": ""
             }
            },
            "type": "histogram"
           }
          ],
          "histogram2d": [
           {
            "colorbar": {
             "outlinewidth": 0,
             "ticks": ""
            },
            "colorscale": [
             [
              0,
              "#0d0887"
             ],
             [
              0.1111111111111111,
              "#46039f"
             ],
             [
              0.2222222222222222,
              "#7201a8"
             ],
             [
              0.3333333333333333,
              "#9c179e"
             ],
             [
              0.4444444444444444,
              "#bd3786"
             ],
             [
              0.5555555555555556,
              "#d8576b"
             ],
             [
              0.6666666666666666,
              "#ed7953"
             ],
             [
              0.7777777777777778,
              "#fb9f3a"
             ],
             [
              0.8888888888888888,
              "#fdca26"
             ],
             [
              1,
              "#f0f921"
             ]
            ],
            "type": "histogram2d"
           }
          ],
          "histogram2dcontour": [
           {
            "colorbar": {
             "outlinewidth": 0,
             "ticks": ""
            },
            "colorscale": [
             [
              0,
              "#0d0887"
             ],
             [
              0.1111111111111111,
              "#46039f"
             ],
             [
              0.2222222222222222,
              "#7201a8"
             ],
             [
              0.3333333333333333,
              "#9c179e"
             ],
             [
              0.4444444444444444,
              "#bd3786"
             ],
             [
              0.5555555555555556,
              "#d8576b"
             ],
             [
              0.6666666666666666,
              "#ed7953"
             ],
             [
              0.7777777777777778,
              "#fb9f3a"
             ],
             [
              0.8888888888888888,
              "#fdca26"
             ],
             [
              1,
              "#f0f921"
             ]
            ],
            "type": "histogram2dcontour"
           }
          ],
          "mesh3d": [
           {
            "colorbar": {
             "outlinewidth": 0,
             "ticks": ""
            },
            "type": "mesh3d"
           }
          ],
          "parcoords": [
           {
            "line": {
             "colorbar": {
              "outlinewidth": 0,
              "ticks": ""
             }
            },
            "type": "parcoords"
           }
          ],
          "pie": [
           {
            "automargin": true,
            "type": "pie"
           }
          ],
          "scatter": [
           {
            "marker": {
             "colorbar": {
              "outlinewidth": 0,
              "ticks": ""
             }
            },
            "type": "scatter"
           }
          ],
          "scatter3d": [
           {
            "line": {
             "colorbar": {
              "outlinewidth": 0,
              "ticks": ""
             }
            },
            "marker": {
             "colorbar": {
              "outlinewidth": 0,
              "ticks": ""
             }
            },
            "type": "scatter3d"
           }
          ],
          "scattercarpet": [
           {
            "marker": {
             "colorbar": {
              "outlinewidth": 0,
              "ticks": ""
             }
            },
            "type": "scattercarpet"
           }
          ],
          "scattergeo": [
           {
            "marker": {
             "colorbar": {
              "outlinewidth": 0,
              "ticks": ""
             }
            },
            "type": "scattergeo"
           }
          ],
          "scattergl": [
           {
            "marker": {
             "colorbar": {
              "outlinewidth": 0,
              "ticks": ""
             }
            },
            "type": "scattergl"
           }
          ],
          "scattermapbox": [
           {
            "marker": {
             "colorbar": {
              "outlinewidth": 0,
              "ticks": ""
             }
            },
            "type": "scattermapbox"
           }
          ],
          "scatterpolar": [
           {
            "marker": {
             "colorbar": {
              "outlinewidth": 0,
              "ticks": ""
             }
            },
            "type": "scatterpolar"
           }
          ],
          "scatterpolargl": [
           {
            "marker": {
             "colorbar": {
              "outlinewidth": 0,
              "ticks": ""
             }
            },
            "type": "scatterpolargl"
           }
          ],
          "scatterternary": [
           {
            "marker": {
             "colorbar": {
              "outlinewidth": 0,
              "ticks": ""
             }
            },
            "type": "scatterternary"
           }
          ],
          "surface": [
           {
            "colorbar": {
             "outlinewidth": 0,
             "ticks": ""
            },
            "colorscale": [
             [
              0,
              "#0d0887"
             ],
             [
              0.1111111111111111,
              "#46039f"
             ],
             [
              0.2222222222222222,
              "#7201a8"
             ],
             [
              0.3333333333333333,
              "#9c179e"
             ],
             [
              0.4444444444444444,
              "#bd3786"
             ],
             [
              0.5555555555555556,
              "#d8576b"
             ],
             [
              0.6666666666666666,
              "#ed7953"
             ],
             [
              0.7777777777777778,
              "#fb9f3a"
             ],
             [
              0.8888888888888888,
              "#fdca26"
             ],
             [
              1,
              "#f0f921"
             ]
            ],
            "type": "surface"
           }
          ],
          "table": [
           {
            "cells": {
             "fill": {
              "color": "#EBF0F8"
             },
             "line": {
              "color": "white"
             }
            },
            "header": {
             "fill": {
              "color": "#C8D4E3"
             },
             "line": {
              "color": "white"
             }
            },
            "type": "table"
           }
          ]
         },
         "layout": {
          "annotationdefaults": {
           "arrowcolor": "#2a3f5f",
           "arrowhead": 0,
           "arrowwidth": 1
          },
          "autotypenumbers": "strict",
          "coloraxis": {
           "colorbar": {
            "outlinewidth": 0,
            "ticks": ""
           }
          },
          "colorscale": {
           "diverging": [
            [
             0,
             "#8e0152"
            ],
            [
             0.1,
             "#c51b7d"
            ],
            [
             0.2,
             "#de77ae"
            ],
            [
             0.3,
             "#f1b6da"
            ],
            [
             0.4,
             "#fde0ef"
            ],
            [
             0.5,
             "#f7f7f7"
            ],
            [
             0.6,
             "#e6f5d0"
            ],
            [
             0.7,
             "#b8e186"
            ],
            [
             0.8,
             "#7fbc41"
            ],
            [
             0.9,
             "#4d9221"
            ],
            [
             1,
             "#276419"
            ]
           ],
           "sequential": [
            [
             0,
             "#0d0887"
            ],
            [
             0.1111111111111111,
             "#46039f"
            ],
            [
             0.2222222222222222,
             "#7201a8"
            ],
            [
             0.3333333333333333,
             "#9c179e"
            ],
            [
             0.4444444444444444,
             "#bd3786"
            ],
            [
             0.5555555555555556,
             "#d8576b"
            ],
            [
             0.6666666666666666,
             "#ed7953"
            ],
            [
             0.7777777777777778,
             "#fb9f3a"
            ],
            [
             0.8888888888888888,
             "#fdca26"
            ],
            [
             1,
             "#f0f921"
            ]
           ],
           "sequentialminus": [
            [
             0,
             "#0d0887"
            ],
            [
             0.1111111111111111,
             "#46039f"
            ],
            [
             0.2222222222222222,
             "#7201a8"
            ],
            [
             0.3333333333333333,
             "#9c179e"
            ],
            [
             0.4444444444444444,
             "#bd3786"
            ],
            [
             0.5555555555555556,
             "#d8576b"
            ],
            [
             0.6666666666666666,
             "#ed7953"
            ],
            [
             0.7777777777777778,
             "#fb9f3a"
            ],
            [
             0.8888888888888888,
             "#fdca26"
            ],
            [
             1,
             "#f0f921"
            ]
           ]
          },
          "colorway": [
           "#636efa",
           "#EF553B",
           "#00cc96",
           "#ab63fa",
           "#FFA15A",
           "#19d3f3",
           "#FF6692",
           "#B6E880",
           "#FF97FF",
           "#FECB52"
          ],
          "font": {
           "color": "#2a3f5f"
          },
          "geo": {
           "bgcolor": "white",
           "lakecolor": "white",
           "landcolor": "#E5ECF6",
           "showlakes": true,
           "showland": true,
           "subunitcolor": "white"
          },
          "hoverlabel": {
           "align": "left"
          },
          "hovermode": "closest",
          "mapbox": {
           "style": "light"
          },
          "paper_bgcolor": "white",
          "plot_bgcolor": "#E5ECF6",
          "polar": {
           "angularaxis": {
            "gridcolor": "white",
            "linecolor": "white",
            "ticks": ""
           },
           "bgcolor": "#E5ECF6",
           "radialaxis": {
            "gridcolor": "white",
            "linecolor": "white",
            "ticks": ""
           }
          },
          "scene": {
           "xaxis": {
            "backgroundcolor": "#E5ECF6",
            "gridcolor": "white",
            "gridwidth": 2,
            "linecolor": "white",
            "showbackground": true,
            "ticks": "",
            "zerolinecolor": "white"
           },
           "yaxis": {
            "backgroundcolor": "#E5ECF6",
            "gridcolor": "white",
            "gridwidth": 2,
            "linecolor": "white",
            "showbackground": true,
            "ticks": "",
            "zerolinecolor": "white"
           },
           "zaxis": {
            "backgroundcolor": "#E5ECF6",
            "gridcolor": "white",
            "gridwidth": 2,
            "linecolor": "white",
            "showbackground": true,
            "ticks": "",
            "zerolinecolor": "white"
           }
          },
          "shapedefaults": {
           "line": {
            "color": "#2a3f5f"
           }
          },
          "ternary": {
           "aaxis": {
            "gridcolor": "white",
            "linecolor": "white",
            "ticks": ""
           },
           "baxis": {
            "gridcolor": "white",
            "linecolor": "white",
            "ticks": ""
           },
           "bgcolor": "#E5ECF6",
           "caxis": {
            "gridcolor": "white",
            "linecolor": "white",
            "ticks": ""
           }
          },
          "title": {
           "x": 0.05
          },
          "xaxis": {
           "automargin": true,
           "gridcolor": "white",
           "linecolor": "white",
           "ticks": "",
           "title": {
            "standoff": 15
           },
           "zerolinecolor": "white",
           "zerolinewidth": 2
          },
          "yaxis": {
           "automargin": true,
           "gridcolor": "white",
           "linecolor": "white",
           "ticks": "",
           "title": {
            "standoff": 15
           },
           "zerolinecolor": "white",
           "zerolinewidth": 2
          }
         }
        },
        "title": {
         "text": "Parallel Coordinate Plot"
        }
       }
      },
      "text/html": [
       "<div>                            <div id=\"2f708d0e-445e-4131-8826-5130f816ffed\" class=\"plotly-graph-div\" style=\"height:525px; width:100%;\"></div>            <script type=\"text/javascript\">                require([\"plotly\"], function(Plotly) {                    window.PLOTLYENV=window.PLOTLYENV || {};                                    if (document.getElementById(\"2f708d0e-445e-4131-8826-5130f816ffed\")) {                    Plotly.newPlot(                        \"2f708d0e-445e-4131-8826-5130f816ffed\",                        [{\"dimensions\": [{\"label\": \"Objective Value\", \"range\": [0.71, 0.843], \"values\": [0.828, 0.824, 0.828, 0.767, 0.781, 0.71, 0.779, 0.81, 0.772, 0.813, 0.762, 0.804, 0.83, 0.835, 0.819, 0.824, 0.812, 0.83, 0.797, 0.821, 0.832, 0.837, 0.838, 0.82, 0.834, 0.834, 0.808, 0.817, 0.817, 0.814, 0.824, 0.822, 0.836, 0.833, 0.819, 0.836, 0.843, 0.836, 0.834, 0.805, 0.812, 0.839, 0.82, 0.832, 0.82, 0.84, 0.822, 0.827, 0.828, 0.807]}, {\"label\": \"dropout\", \"range\": [0.10908225677057645, 0.4996183446109543], \"values\": [0.3355759619691987, 0.1590118675233772, 0.20868629801407837, 0.2842654860497629, 0.13321462271309048, 0.33149425845368263, 0.44940492988370406, 0.2064168686436797, 0.4712272304497903, 0.18338176368982953, 0.3544658997214063, 0.2692418319987035, 0.38977697831473285, 0.4033828057691822, 0.42001332306812633, 0.3974878115750088, 0.39028752487566376, 0.4883495109818783, 0.49159238560704605, 0.43878837898637757, 0.44953431984464776, 0.4916336150389861, 0.4961106229094374, 0.4968942996847002, 0.49821083802067134, 0.42053058689271694, 0.4636864106565305, 0.41882779394217695, 0.3537243453964432, 0.3179264294475614, 0.36934054652177384, 0.42105012097961625, 0.47833286979407225, 0.47132260394325604, 0.47478522987112626, 0.49546358375554245, 0.4991583680305453, 0.4470398666488064, 0.2541555459842242, 0.4943544397776304, 0.4443260703336489, 0.45494630014062704, 0.45420051807536, 0.4416976254403497, 0.46092783538146964, 0.4992176849493647, 0.10908225677057645, 0.4996183446109543, 0.4829787838797181, 0.47110121461599164]}, {\"label\": \"epochs\", \"range\": [10, 30], \"values\": [30, 20, 16, 25, 22, 11, 21, 21, 29, 16, 29, 14, 16, 12, 10, 13, 16, 18, 24, 13, 18, 18, 18, 18, 11, 24, 14, 19, 23, 26, 12, 27, 20, 20, 19, 17, 17, 22, 22, 17, 15, 17, 21, 19, 17, 15, 14, 15, 16, 15]}, {\"label\": \"item_embedding_dim\", \"range\": [2, 50], \"values\": [2, 17, 21, 15, 49, 21, 21, 6, 8, 39, 35, 2, 33, 34, 32, 45, 29, 39, 41, 26, 47, 50, 50, 50, 44, 50, 42, 35, 46, 38, 50, 50, 47, 43, 46, 48, 48, 48, 41, 50, 44, 48, 48, 48, 13, 37, 37, 29, 41, 23]}, {\"label\": \"layer1\", \"range\": [5, 127], \"values\": [19, 37, 33, 30, 87, 7, 7, 8, 5, 81, 14, 16, 48, 48, 52, 111, 54, 56, 116, 26, 66, 72, 78, 122, 81, 40, 73, 127, 43, 24, 93, 38, 64, 64, 95, 64, 33, 32, 30, 19, 34, 13, 11, 10, 19, 14, 14, 9, 12, 6]}, {\"label\": \"layer2\", \"range\": [4, 102], \"values\": [29, 4, 99, 19, 19, 4, 102, 9, 60, 9, 50, 8, 34]}, {\"label\": \"layer3\", \"range\": [9, 104], \"values\": [9, 11, 92, 104]}, {\"label\": \"n_layers\", \"range\": [1, 3], \"values\": [1, 3, 1, 2, 1, 3, 2, 1, 1, 3, 2, 1, 1, 1, 2, 1, 2, 1, 1, 2, 1, 1, 1, 1, 1, 1, 2, 1, 1, 1, 2, 1, 1, 1, 1, 1, 1, 1, 1, 3, 2, 1, 1, 1, 1, 1, 1, 1, 1, 1]}, {\"label\": \"num_negatives\", \"range\": [1, 10], \"values\": [7, 7, 3, 1, 6, 1, 1, 2, 6, 4, 10, 9, 4, 8, 4, 8, 5, 10, 10, 8, 9, 9, 9, 9, 8, 7, 9, 8, 10, 7, 9, 7, 7, 6, 8, 7, 5, 5, 5, 3, 5, 6, 3, 6, 5, 4, 2, 4, 2, 4]}, {\"label\": \"user_embedding_dim\", \"range\": [2, 48], \"values\": [14, 44, 40, 37, 26, 24, 48, 29, 40, 18, 4, 10, 14, 12, 3, 10, 19, 9, 7, 16, 3, 2, 2, 6, 2, 2, 10, 13, 22, 31, 6, 2, 2, 6, 14, 8, 5, 5, 5, 8, 12, 5, 4, 5, 2, 47, 24, 45, 35, 39]}], \"labelangle\": 30, \"labelside\": \"bottom\", \"line\": {\"color\": [0.828, 0.824, 0.828, 0.767, 0.781, 0.71, 0.779, 0.81, 0.772, 0.813, 0.762, 0.804, 0.83, 0.835, 0.819, 0.824, 0.812, 0.83, 0.797, 0.821, 0.832, 0.837, 0.838, 0.82, 0.834, 0.834, 0.808, 0.817, 0.817, 0.814, 0.824, 0.822, 0.836, 0.833, 0.819, 0.836, 0.843, 0.836, 0.834, 0.805, 0.812, 0.839, 0.82, 0.832, 0.82, 0.84, 0.822, 0.827, 0.828, 0.807], \"colorbar\": {\"title\": {\"text\": \"Objective Value\"}}, \"colorscale\": [[0.0, \"rgb(247,251,255)\"], [0.125, \"rgb(222,235,247)\"], [0.25, \"rgb(198,219,239)\"], [0.375, \"rgb(158,202,225)\"], [0.5, \"rgb(107,174,214)\"], [0.625, \"rgb(66,146,198)\"], [0.75, \"rgb(33,113,181)\"], [0.875, \"rgb(8,81,156)\"], [1.0, \"rgb(8,48,107)\"]], \"reversescale\": false, \"showscale\": true}, \"type\": \"parcoords\"}],                        {\"template\": {\"data\": {\"bar\": [{\"error_x\": {\"color\": \"#2a3f5f\"}, \"error_y\": {\"color\": \"#2a3f5f\"}, \"marker\": {\"line\": {\"color\": \"#E5ECF6\", \"width\": 0.5}}, \"type\": \"bar\"}], \"barpolar\": [{\"marker\": {\"line\": {\"color\": \"#E5ECF6\", \"width\": 0.5}}, \"type\": \"barpolar\"}], \"carpet\": [{\"aaxis\": {\"endlinecolor\": \"#2a3f5f\", \"gridcolor\": \"white\", \"linecolor\": \"white\", \"minorgridcolor\": \"white\", \"startlinecolor\": \"#2a3f5f\"}, \"baxis\": {\"endlinecolor\": \"#2a3f5f\", \"gridcolor\": \"white\", \"linecolor\": \"white\", \"minorgridcolor\": \"white\", \"startlinecolor\": \"#2a3f5f\"}, \"type\": \"carpet\"}], \"choropleth\": [{\"colorbar\": {\"outlinewidth\": 0, \"ticks\": \"\"}, \"type\": \"choropleth\"}], \"contour\": [{\"colorbar\": {\"outlinewidth\": 0, \"ticks\": \"\"}, \"colorscale\": [[0.0, \"#0d0887\"], [0.1111111111111111, \"#46039f\"], [0.2222222222222222, \"#7201a8\"], [0.3333333333333333, \"#9c179e\"], [0.4444444444444444, \"#bd3786\"], [0.5555555555555556, \"#d8576b\"], [0.6666666666666666, \"#ed7953\"], [0.7777777777777778, \"#fb9f3a\"], [0.8888888888888888, \"#fdca26\"], [1.0, \"#f0f921\"]], \"type\": \"contour\"}], \"contourcarpet\": [{\"colorbar\": {\"outlinewidth\": 0, \"ticks\": \"\"}, \"type\": \"contourcarpet\"}], \"heatmap\": [{\"colorbar\": {\"outlinewidth\": 0, \"ticks\": \"\"}, \"colorscale\": [[0.0, \"#0d0887\"], [0.1111111111111111, \"#46039f\"], [0.2222222222222222, \"#7201a8\"], [0.3333333333333333, \"#9c179e\"], [0.4444444444444444, \"#bd3786\"], [0.5555555555555556, \"#d8576b\"], [0.6666666666666666, \"#ed7953\"], [0.7777777777777778, \"#fb9f3a\"], [0.8888888888888888, \"#fdca26\"], [1.0, \"#f0f921\"]], \"type\": \"heatmap\"}], \"heatmapgl\": [{\"colorbar\": {\"outlinewidth\": 0, \"ticks\": \"\"}, \"colorscale\": [[0.0, \"#0d0887\"], [0.1111111111111111, \"#46039f\"], [0.2222222222222222, \"#7201a8\"], [0.3333333333333333, \"#9c179e\"], [0.4444444444444444, \"#bd3786\"], [0.5555555555555556, \"#d8576b\"], [0.6666666666666666, \"#ed7953\"], [0.7777777777777778, \"#fb9f3a\"], [0.8888888888888888, \"#fdca26\"], [1.0, \"#f0f921\"]], \"type\": \"heatmapgl\"}], \"histogram\": [{\"marker\": {\"colorbar\": {\"outlinewidth\": 0, \"ticks\": \"\"}}, \"type\": \"histogram\"}], \"histogram2d\": [{\"colorbar\": {\"outlinewidth\": 0, \"ticks\": \"\"}, \"colorscale\": [[0.0, \"#0d0887\"], [0.1111111111111111, \"#46039f\"], [0.2222222222222222, \"#7201a8\"], [0.3333333333333333, \"#9c179e\"], [0.4444444444444444, \"#bd3786\"], [0.5555555555555556, \"#d8576b\"], [0.6666666666666666, \"#ed7953\"], [0.7777777777777778, \"#fb9f3a\"], [0.8888888888888888, \"#fdca26\"], [1.0, \"#f0f921\"]], \"type\": \"histogram2d\"}], \"histogram2dcontour\": [{\"colorbar\": {\"outlinewidth\": 0, \"ticks\": \"\"}, \"colorscale\": [[0.0, \"#0d0887\"], [0.1111111111111111, \"#46039f\"], [0.2222222222222222, \"#7201a8\"], [0.3333333333333333, \"#9c179e\"], [0.4444444444444444, \"#bd3786\"], [0.5555555555555556, \"#d8576b\"], [0.6666666666666666, \"#ed7953\"], [0.7777777777777778, \"#fb9f3a\"], [0.8888888888888888, \"#fdca26\"], [1.0, \"#f0f921\"]], \"type\": \"histogram2dcontour\"}], \"mesh3d\": [{\"colorbar\": {\"outlinewidth\": 0, \"ticks\": \"\"}, \"type\": \"mesh3d\"}], \"parcoords\": [{\"line\": {\"colorbar\": {\"outlinewidth\": 0, \"ticks\": \"\"}}, \"type\": \"parcoords\"}], \"pie\": [{\"automargin\": true, \"type\": \"pie\"}], \"scatter\": [{\"marker\": {\"colorbar\": {\"outlinewidth\": 0, \"ticks\": \"\"}}, \"type\": \"scatter\"}], \"scatter3d\": [{\"line\": {\"colorbar\": {\"outlinewidth\": 0, \"ticks\": \"\"}}, \"marker\": {\"colorbar\": {\"outlinewidth\": 0, \"ticks\": \"\"}}, \"type\": \"scatter3d\"}], \"scattercarpet\": [{\"marker\": {\"colorbar\": {\"outlinewidth\": 0, \"ticks\": \"\"}}, \"type\": \"scattercarpet\"}], \"scattergeo\": [{\"marker\": {\"colorbar\": {\"outlinewidth\": 0, \"ticks\": \"\"}}, \"type\": \"scattergeo\"}], \"scattergl\": [{\"marker\": {\"colorbar\": {\"outlinewidth\": 0, \"ticks\": \"\"}}, \"type\": \"scattergl\"}], \"scattermapbox\": [{\"marker\": {\"colorbar\": {\"outlinewidth\": 0, \"ticks\": \"\"}}, \"type\": \"scattermapbox\"}], \"scatterpolar\": [{\"marker\": {\"colorbar\": {\"outlinewidth\": 0, \"ticks\": \"\"}}, \"type\": \"scatterpolar\"}], \"scatterpolargl\": [{\"marker\": {\"colorbar\": {\"outlinewidth\": 0, \"ticks\": \"\"}}, \"type\": \"scatterpolargl\"}], \"scatterternary\": [{\"marker\": {\"colorbar\": {\"outlinewidth\": 0, \"ticks\": \"\"}}, \"type\": \"scatterternary\"}], \"surface\": [{\"colorbar\": {\"outlinewidth\": 0, \"ticks\": \"\"}, \"colorscale\": [[0.0, \"#0d0887\"], [0.1111111111111111, \"#46039f\"], [0.2222222222222222, \"#7201a8\"], [0.3333333333333333, \"#9c179e\"], [0.4444444444444444, \"#bd3786\"], [0.5555555555555556, \"#d8576b\"], [0.6666666666666666, \"#ed7953\"], [0.7777777777777778, \"#fb9f3a\"], [0.8888888888888888, \"#fdca26\"], [1.0, \"#f0f921\"]], \"type\": \"surface\"}], \"table\": [{\"cells\": {\"fill\": {\"color\": \"#EBF0F8\"}, \"line\": {\"color\": \"white\"}}, \"header\": {\"fill\": {\"color\": \"#C8D4E3\"}, \"line\": {\"color\": \"white\"}}, \"type\": \"table\"}]}, \"layout\": {\"annotationdefaults\": {\"arrowcolor\": \"#2a3f5f\", \"arrowhead\": 0, \"arrowwidth\": 1}, \"autotypenumbers\": \"strict\", \"coloraxis\": {\"colorbar\": {\"outlinewidth\": 0, \"ticks\": \"\"}}, \"colorscale\": {\"diverging\": [[0, \"#8e0152\"], [0.1, \"#c51b7d\"], [0.2, \"#de77ae\"], [0.3, \"#f1b6da\"], [0.4, \"#fde0ef\"], [0.5, \"#f7f7f7\"], [0.6, \"#e6f5d0\"], [0.7, \"#b8e186\"], [0.8, \"#7fbc41\"], [0.9, \"#4d9221\"], [1, \"#276419\"]], \"sequential\": [[0.0, \"#0d0887\"], [0.1111111111111111, \"#46039f\"], [0.2222222222222222, \"#7201a8\"], [0.3333333333333333, \"#9c179e\"], [0.4444444444444444, \"#bd3786\"], [0.5555555555555556, \"#d8576b\"], [0.6666666666666666, \"#ed7953\"], [0.7777777777777778, \"#fb9f3a\"], [0.8888888888888888, \"#fdca26\"], [1.0, \"#f0f921\"]], \"sequentialminus\": [[0.0, \"#0d0887\"], [0.1111111111111111, \"#46039f\"], [0.2222222222222222, \"#7201a8\"], [0.3333333333333333, \"#9c179e\"], [0.4444444444444444, \"#bd3786\"], [0.5555555555555556, \"#d8576b\"], [0.6666666666666666, \"#ed7953\"], [0.7777777777777778, \"#fb9f3a\"], [0.8888888888888888, \"#fdca26\"], [1.0, \"#f0f921\"]]}, \"colorway\": [\"#636efa\", \"#EF553B\", \"#00cc96\", \"#ab63fa\", \"#FFA15A\", \"#19d3f3\", \"#FF6692\", \"#B6E880\", \"#FF97FF\", \"#FECB52\"], \"font\": {\"color\": \"#2a3f5f\"}, \"geo\": {\"bgcolor\": \"white\", \"lakecolor\": \"white\", \"landcolor\": \"#E5ECF6\", \"showlakes\": true, \"showland\": true, \"subunitcolor\": \"white\"}, \"hoverlabel\": {\"align\": \"left\"}, \"hovermode\": \"closest\", \"mapbox\": {\"style\": \"light\"}, \"paper_bgcolor\": \"white\", \"plot_bgcolor\": \"#E5ECF6\", \"polar\": {\"angularaxis\": {\"gridcolor\": \"white\", \"linecolor\": \"white\", \"ticks\": \"\"}, \"bgcolor\": \"#E5ECF6\", \"radialaxis\": {\"gridcolor\": \"white\", \"linecolor\": \"white\", \"ticks\": \"\"}}, \"scene\": {\"xaxis\": {\"backgroundcolor\": \"#E5ECF6\", \"gridcolor\": \"white\", \"gridwidth\": 2, \"linecolor\": \"white\", \"showbackground\": true, \"ticks\": \"\", \"zerolinecolor\": \"white\"}, \"yaxis\": {\"backgroundcolor\": \"#E5ECF6\", \"gridcolor\": \"white\", \"gridwidth\": 2, \"linecolor\": \"white\", \"showbackground\": true, \"ticks\": \"\", \"zerolinecolor\": \"white\"}, \"zaxis\": {\"backgroundcolor\": \"#E5ECF6\", \"gridcolor\": \"white\", \"gridwidth\": 2, \"linecolor\": \"white\", \"showbackground\": true, \"ticks\": \"\", \"zerolinecolor\": \"white\"}}, \"shapedefaults\": {\"line\": {\"color\": \"#2a3f5f\"}}, \"ternary\": {\"aaxis\": {\"gridcolor\": \"white\", \"linecolor\": \"white\", \"ticks\": \"\"}, \"baxis\": {\"gridcolor\": \"white\", \"linecolor\": \"white\", \"ticks\": \"\"}, \"bgcolor\": \"#E5ECF6\", \"caxis\": {\"gridcolor\": \"white\", \"linecolor\": \"white\", \"ticks\": \"\"}}, \"title\": {\"x\": 0.05}, \"xaxis\": {\"automargin\": true, \"gridcolor\": \"white\", \"linecolor\": \"white\", \"ticks\": \"\", \"title\": {\"standoff\": 15}, \"zerolinecolor\": \"white\", \"zerolinewidth\": 2}, \"yaxis\": {\"automargin\": true, \"gridcolor\": \"white\", \"linecolor\": \"white\", \"ticks\": \"\", \"title\": {\"standoff\": 15}, \"zerolinecolor\": \"white\", \"zerolinewidth\": 2}}}, \"title\": {\"text\": \"Parallel Coordinate Plot\"}},                        {\"responsive\": true}                    ).then(function(){\n",
       "                            \n",
       "var gd = document.getElementById('2f708d0e-445e-4131-8826-5130f816ffed');\n",
       "var x = new MutationObserver(function (mutations, observer) {{\n",
       "        var display = window.getComputedStyle(gd).display;\n",
       "        if (!display || display === 'none') {{\n",
       "            console.log([gd, 'removed!']);\n",
       "            Plotly.purge(gd);\n",
       "            observer.disconnect();\n",
       "        }}\n",
       "}});\n",
       "\n",
       "// Listen for the removal of the full notebook cells\n",
       "var notebookContainer = gd.closest('#notebook-container');\n",
       "if (notebookContainer) {{\n",
       "    x.observe(notebookContainer, {childList: true});\n",
       "}}\n",
       "\n",
       "// Listen for the clearing of the current output cell\n",
       "var outputEl = gd.closest('.output');\n",
       "if (outputEl) {{\n",
       "    x.observe(outputEl, {childList: true});\n",
       "}}\n",
       "\n",
       "                        })                };                });            </script>        </div>"
      ]
     },
     "metadata": {},
     "output_type": "display_data"
    }
   ],
   "source": [
    "plot_parallel_coordinate(study)"
   ]
  },
  {
   "cell_type": "code",
   "execution_count": 88,
   "metadata": {},
   "outputs": [
    {
     "data": {
      "application/vnd.plotly.v1+json": {
       "config": {
        "plotlyServerURL": "https://plot.ly"
       },
       "data": [
        {
         "marker": {
          "color": [
           0,
           1,
           2,
           3,
           4,
           5,
           6,
           7,
           8,
           9,
           10,
           11,
           12,
           13,
           14,
           15,
           16,
           17,
           18,
           19,
           20,
           21,
           22,
           23,
           24,
           25,
           26,
           27,
           28,
           29,
           30,
           31,
           32,
           33,
           34,
           35,
           36,
           37,
           38,
           39,
           40,
           41,
           42,
           43,
           44,
           45,
           46,
           47,
           48,
           49
          ],
          "colorbar": {
           "title": {
            "text": "#Trials"
           },
           "x": 1,
           "xpad": 40
          },
          "colorscale": [
           [
            0,
            "rgb(247,251,255)"
           ],
           [
            0.125,
            "rgb(222,235,247)"
           ],
           [
            0.25,
            "rgb(198,219,239)"
           ],
           [
            0.375,
            "rgb(158,202,225)"
           ],
           [
            0.5,
            "rgb(107,174,214)"
           ],
           [
            0.625,
            "rgb(66,146,198)"
           ],
           [
            0.75,
            "rgb(33,113,181)"
           ],
           [
            0.875,
            "rgb(8,81,156)"
           ],
           [
            1,
            "rgb(8,48,107)"
           ]
          ],
          "line": {
           "color": "Grey",
           "width": 0.5
          },
          "showscale": true
         },
         "mode": "markers",
         "showlegend": false,
         "type": "scatter",
         "x": [
          0.3355759619691987,
          0.1590118675233772,
          0.20868629801407837,
          0.2842654860497629,
          0.13321462271309048,
          0.33149425845368263,
          0.44940492988370406,
          0.2064168686436797,
          0.4712272304497903,
          0.18338176368982953,
          0.3544658997214063,
          0.2692418319987035,
          0.38977697831473285,
          0.4033828057691822,
          0.42001332306812633,
          0.3974878115750088,
          0.39028752487566376,
          0.4883495109818783,
          0.49159238560704605,
          0.43878837898637757,
          0.44953431984464776,
          0.4916336150389861,
          0.4961106229094374,
          0.4968942996847002,
          0.49821083802067134,
          0.42053058689271694,
          0.4636864106565305,
          0.41882779394217695,
          0.3537243453964432,
          0.3179264294475614,
          0.36934054652177384,
          0.42105012097961625,
          0.47833286979407225,
          0.47132260394325604,
          0.47478522987112626,
          0.49546358375554245,
          0.4991583680305453,
          0.4470398666488064,
          0.2541555459842242,
          0.4943544397776304,
          0.4443260703336489,
          0.45494630014062704,
          0.45420051807536,
          0.4416976254403497,
          0.46092783538146964,
          0.4992176849493647,
          0.10908225677057645,
          0.4996183446109543,
          0.4829787838797181,
          0.47110121461599164
         ],
         "xaxis": "x",
         "y": [
          0.828,
          0.824,
          0.828,
          0.767,
          0.781,
          0.71,
          0.779,
          0.81,
          0.772,
          0.813,
          0.762,
          0.804,
          0.83,
          0.835,
          0.819,
          0.824,
          0.812,
          0.83,
          0.797,
          0.821,
          0.832,
          0.837,
          0.838,
          0.82,
          0.834,
          0.834,
          0.808,
          0.817,
          0.817,
          0.814,
          0.824,
          0.822,
          0.836,
          0.833,
          0.819,
          0.836,
          0.843,
          0.836,
          0.834,
          0.805,
          0.812,
          0.839,
          0.82,
          0.832,
          0.82,
          0.84,
          0.822,
          0.827,
          0.828,
          0.807
         ],
         "yaxis": "y"
        },
        {
         "marker": {
          "color": [
           0,
           1,
           2,
           3,
           4,
           5,
           6,
           7,
           8,
           9,
           10,
           11,
           12,
           13,
           14,
           15,
           16,
           17,
           18,
           19,
           20,
           21,
           22,
           23,
           24,
           25,
           26,
           27,
           28,
           29,
           30,
           31,
           32,
           33,
           34,
           35,
           36,
           37,
           38,
           39,
           40,
           41,
           42,
           43,
           44,
           45,
           46,
           47,
           48,
           49
          ],
          "colorbar": {
           "title": {
            "text": "#Trials"
           },
           "x": 1,
           "xpad": 40
          },
          "colorscale": [
           [
            0,
            "rgb(247,251,255)"
           ],
           [
            0.125,
            "rgb(222,235,247)"
           ],
           [
            0.25,
            "rgb(198,219,239)"
           ],
           [
            0.375,
            "rgb(158,202,225)"
           ],
           [
            0.5,
            "rgb(107,174,214)"
           ],
           [
            0.625,
            "rgb(66,146,198)"
           ],
           [
            0.75,
            "rgb(33,113,181)"
           ],
           [
            0.875,
            "rgb(8,81,156)"
           ],
           [
            1,
            "rgb(8,48,107)"
           ]
          ],
          "line": {
           "color": "Grey",
           "width": 0.5
          },
          "showscale": false
         },
         "mode": "markers",
         "showlegend": false,
         "type": "scatter",
         "x": [
          30,
          20,
          16,
          25,
          22,
          11,
          21,
          21,
          29,
          16,
          29,
          14,
          16,
          12,
          10,
          13,
          16,
          18,
          24,
          13,
          18,
          18,
          18,
          18,
          11,
          24,
          14,
          19,
          23,
          26,
          12,
          27,
          20,
          20,
          19,
          17,
          17,
          22,
          22,
          17,
          15,
          17,
          21,
          19,
          17,
          15,
          14,
          15,
          16,
          15
         ],
         "xaxis": "x2",
         "y": [
          0.828,
          0.824,
          0.828,
          0.767,
          0.781,
          0.71,
          0.779,
          0.81,
          0.772,
          0.813,
          0.762,
          0.804,
          0.83,
          0.835,
          0.819,
          0.824,
          0.812,
          0.83,
          0.797,
          0.821,
          0.832,
          0.837,
          0.838,
          0.82,
          0.834,
          0.834,
          0.808,
          0.817,
          0.817,
          0.814,
          0.824,
          0.822,
          0.836,
          0.833,
          0.819,
          0.836,
          0.843,
          0.836,
          0.834,
          0.805,
          0.812,
          0.839,
          0.82,
          0.832,
          0.82,
          0.84,
          0.822,
          0.827,
          0.828,
          0.807
         ],
         "yaxis": "y2"
        },
        {
         "marker": {
          "color": [
           0,
           1,
           2,
           3,
           4,
           5,
           6,
           7,
           8,
           9,
           10,
           11,
           12,
           13,
           14,
           15,
           16,
           17,
           18,
           19,
           20,
           21,
           22,
           23,
           24,
           25,
           26,
           27,
           28,
           29,
           30,
           31,
           32,
           33,
           34,
           35,
           36,
           37,
           38,
           39,
           40,
           41,
           42,
           43,
           44,
           45,
           46,
           47,
           48,
           49
          ],
          "colorbar": {
           "title": {
            "text": "#Trials"
           },
           "x": 1,
           "xpad": 40
          },
          "colorscale": [
           [
            0,
            "rgb(247,251,255)"
           ],
           [
            0.125,
            "rgb(222,235,247)"
           ],
           [
            0.25,
            "rgb(198,219,239)"
           ],
           [
            0.375,
            "rgb(158,202,225)"
           ],
           [
            0.5,
            "rgb(107,174,214)"
           ],
           [
            0.625,
            "rgb(66,146,198)"
           ],
           [
            0.75,
            "rgb(33,113,181)"
           ],
           [
            0.875,
            "rgb(8,81,156)"
           ],
           [
            1,
            "rgb(8,48,107)"
           ]
          ],
          "line": {
           "color": "Grey",
           "width": 0.5
          },
          "showscale": false
         },
         "mode": "markers",
         "showlegend": false,
         "type": "scatter",
         "x": [
          2,
          17,
          21,
          15,
          49,
          21,
          21,
          6,
          8,
          39,
          35,
          2,
          33,
          34,
          32,
          45,
          29,
          39,
          41,
          26,
          47,
          50,
          50,
          50,
          44,
          50,
          42,
          35,
          46,
          38,
          50,
          50,
          47,
          43,
          46,
          48,
          48,
          48,
          41,
          50,
          44,
          48,
          48,
          48,
          13,
          37,
          37,
          29,
          41,
          23
         ],
         "xaxis": "x3",
         "y": [
          0.828,
          0.824,
          0.828,
          0.767,
          0.781,
          0.71,
          0.779,
          0.81,
          0.772,
          0.813,
          0.762,
          0.804,
          0.83,
          0.835,
          0.819,
          0.824,
          0.812,
          0.83,
          0.797,
          0.821,
          0.832,
          0.837,
          0.838,
          0.82,
          0.834,
          0.834,
          0.808,
          0.817,
          0.817,
          0.814,
          0.824,
          0.822,
          0.836,
          0.833,
          0.819,
          0.836,
          0.843,
          0.836,
          0.834,
          0.805,
          0.812,
          0.839,
          0.82,
          0.832,
          0.82,
          0.84,
          0.822,
          0.827,
          0.828,
          0.807
         ],
         "yaxis": "y3"
        },
        {
         "marker": {
          "color": [
           0,
           1,
           2,
           3,
           4,
           5,
           6,
           7,
           8,
           9,
           10,
           11,
           12,
           13,
           14,
           15,
           16,
           17,
           18,
           19,
           20,
           21,
           22,
           23,
           24,
           25,
           26,
           27,
           28,
           29,
           30,
           31,
           32,
           33,
           34,
           35,
           36,
           37,
           38,
           39,
           40,
           41,
           42,
           43,
           44,
           45,
           46,
           47,
           48,
           49
          ],
          "colorbar": {
           "title": {
            "text": "#Trials"
           },
           "x": 1,
           "xpad": 40
          },
          "colorscale": [
           [
            0,
            "rgb(247,251,255)"
           ],
           [
            0.125,
            "rgb(222,235,247)"
           ],
           [
            0.25,
            "rgb(198,219,239)"
           ],
           [
            0.375,
            "rgb(158,202,225)"
           ],
           [
            0.5,
            "rgb(107,174,214)"
           ],
           [
            0.625,
            "rgb(66,146,198)"
           ],
           [
            0.75,
            "rgb(33,113,181)"
           ],
           [
            0.875,
            "rgb(8,81,156)"
           ],
           [
            1,
            "rgb(8,48,107)"
           ]
          ],
          "line": {
           "color": "Grey",
           "width": 0.5
          },
          "showscale": false
         },
         "mode": "markers",
         "showlegend": false,
         "type": "scatter",
         "x": [
          19,
          37,
          33,
          30,
          87,
          7,
          7,
          8,
          5,
          81,
          14,
          16,
          48,
          48,
          52,
          111,
          54,
          56,
          116,
          26,
          66,
          72,
          78,
          122,
          81,
          40,
          73,
          127,
          43,
          24,
          93,
          38,
          64,
          64,
          95,
          64,
          33,
          32,
          30,
          19,
          34,
          13,
          11,
          10,
          19,
          14,
          14,
          9,
          12,
          6
         ],
         "xaxis": "x4",
         "y": [
          0.828,
          0.824,
          0.828,
          0.767,
          0.781,
          0.71,
          0.779,
          0.81,
          0.772,
          0.813,
          0.762,
          0.804,
          0.83,
          0.835,
          0.819,
          0.824,
          0.812,
          0.83,
          0.797,
          0.821,
          0.832,
          0.837,
          0.838,
          0.82,
          0.834,
          0.834,
          0.808,
          0.817,
          0.817,
          0.814,
          0.824,
          0.822,
          0.836,
          0.833,
          0.819,
          0.836,
          0.843,
          0.836,
          0.834,
          0.805,
          0.812,
          0.839,
          0.82,
          0.832,
          0.82,
          0.84,
          0.822,
          0.827,
          0.828,
          0.807
         ],
         "yaxis": "y4"
        },
        {
         "marker": {
          "color": [
           1,
           3,
           5,
           6,
           9,
           10,
           14,
           16,
           19,
           26,
           30,
           39,
           40
          ],
          "colorbar": {
           "title": {
            "text": "#Trials"
           },
           "x": 1,
           "xpad": 40
          },
          "colorscale": [
           [
            0,
            "rgb(247,251,255)"
           ],
           [
            0.125,
            "rgb(222,235,247)"
           ],
           [
            0.25,
            "rgb(198,219,239)"
           ],
           [
            0.375,
            "rgb(158,202,225)"
           ],
           [
            0.5,
            "rgb(107,174,214)"
           ],
           [
            0.625,
            "rgb(66,146,198)"
           ],
           [
            0.75,
            "rgb(33,113,181)"
           ],
           [
            0.875,
            "rgb(8,81,156)"
           ],
           [
            1,
            "rgb(8,48,107)"
           ]
          ],
          "line": {
           "color": "Grey",
           "width": 0.5
          },
          "showscale": false
         },
         "mode": "markers",
         "showlegend": false,
         "type": "scatter",
         "x": [
          29,
          4,
          99,
          19,
          19,
          4,
          102,
          9,
          60,
          9,
          50,
          8,
          34
         ],
         "xaxis": "x5",
         "y": [
          0.824,
          0.767,
          0.71,
          0.779,
          0.813,
          0.762,
          0.819,
          0.812,
          0.821,
          0.808,
          0.824,
          0.805,
          0.812
         ],
         "yaxis": "y5"
        },
        {
         "marker": {
          "color": [
           1,
           5,
           9,
           39
          ],
          "colorbar": {
           "title": {
            "text": "#Trials"
           },
           "x": 1,
           "xpad": 40
          },
          "colorscale": [
           [
            0,
            "rgb(247,251,255)"
           ],
           [
            0.125,
            "rgb(222,235,247)"
           ],
           [
            0.25,
            "rgb(198,219,239)"
           ],
           [
            0.375,
            "rgb(158,202,225)"
           ],
           [
            0.5,
            "rgb(107,174,214)"
           ],
           [
            0.625,
            "rgb(66,146,198)"
           ],
           [
            0.75,
            "rgb(33,113,181)"
           ],
           [
            0.875,
            "rgb(8,81,156)"
           ],
           [
            1,
            "rgb(8,48,107)"
           ]
          ],
          "line": {
           "color": "Grey",
           "width": 0.5
          },
          "showscale": false
         },
         "mode": "markers",
         "showlegend": false,
         "type": "scatter",
         "x": [
          9,
          11,
          92,
          104
         ],
         "xaxis": "x6",
         "y": [
          0.824,
          0.71,
          0.813,
          0.805
         ],
         "yaxis": "y6"
        },
        {
         "marker": {
          "color": [
           0,
           1,
           2,
           3,
           4,
           5,
           6,
           7,
           8,
           9,
           10,
           11,
           12,
           13,
           14,
           15,
           16,
           17,
           18,
           19,
           20,
           21,
           22,
           23,
           24,
           25,
           26,
           27,
           28,
           29,
           30,
           31,
           32,
           33,
           34,
           35,
           36,
           37,
           38,
           39,
           40,
           41,
           42,
           43,
           44,
           45,
           46,
           47,
           48,
           49
          ],
          "colorbar": {
           "title": {
            "text": "#Trials"
           },
           "x": 1,
           "xpad": 40
          },
          "colorscale": [
           [
            0,
            "rgb(247,251,255)"
           ],
           [
            0.125,
            "rgb(222,235,247)"
           ],
           [
            0.25,
            "rgb(198,219,239)"
           ],
           [
            0.375,
            "rgb(158,202,225)"
           ],
           [
            0.5,
            "rgb(107,174,214)"
           ],
           [
            0.625,
            "rgb(66,146,198)"
           ],
           [
            0.75,
            "rgb(33,113,181)"
           ],
           [
            0.875,
            "rgb(8,81,156)"
           ],
           [
            1,
            "rgb(8,48,107)"
           ]
          ],
          "line": {
           "color": "Grey",
           "width": 0.5
          },
          "showscale": false
         },
         "mode": "markers",
         "showlegend": false,
         "type": "scatter",
         "x": [
          1,
          3,
          1,
          2,
          1,
          3,
          2,
          1,
          1,
          3,
          2,
          1,
          1,
          1,
          2,
          1,
          2,
          1,
          1,
          2,
          1,
          1,
          1,
          1,
          1,
          1,
          2,
          1,
          1,
          1,
          2,
          1,
          1,
          1,
          1,
          1,
          1,
          1,
          1,
          3,
          2,
          1,
          1,
          1,
          1,
          1,
          1,
          1,
          1,
          1
         ],
         "xaxis": "x7",
         "y": [
          0.828,
          0.824,
          0.828,
          0.767,
          0.781,
          0.71,
          0.779,
          0.81,
          0.772,
          0.813,
          0.762,
          0.804,
          0.83,
          0.835,
          0.819,
          0.824,
          0.812,
          0.83,
          0.797,
          0.821,
          0.832,
          0.837,
          0.838,
          0.82,
          0.834,
          0.834,
          0.808,
          0.817,
          0.817,
          0.814,
          0.824,
          0.822,
          0.836,
          0.833,
          0.819,
          0.836,
          0.843,
          0.836,
          0.834,
          0.805,
          0.812,
          0.839,
          0.82,
          0.832,
          0.82,
          0.84,
          0.822,
          0.827,
          0.828,
          0.807
         ],
         "yaxis": "y7"
        },
        {
         "marker": {
          "color": [
           0,
           1,
           2,
           3,
           4,
           5,
           6,
           7,
           8,
           9,
           10,
           11,
           12,
           13,
           14,
           15,
           16,
           17,
           18,
           19,
           20,
           21,
           22,
           23,
           24,
           25,
           26,
           27,
           28,
           29,
           30,
           31,
           32,
           33,
           34,
           35,
           36,
           37,
           38,
           39,
           40,
           41,
           42,
           43,
           44,
           45,
           46,
           47,
           48,
           49
          ],
          "colorbar": {
           "title": {
            "text": "#Trials"
           },
           "x": 1,
           "xpad": 40
          },
          "colorscale": [
           [
            0,
            "rgb(247,251,255)"
           ],
           [
            0.125,
            "rgb(222,235,247)"
           ],
           [
            0.25,
            "rgb(198,219,239)"
           ],
           [
            0.375,
            "rgb(158,202,225)"
           ],
           [
            0.5,
            "rgb(107,174,214)"
           ],
           [
            0.625,
            "rgb(66,146,198)"
           ],
           [
            0.75,
            "rgb(33,113,181)"
           ],
           [
            0.875,
            "rgb(8,81,156)"
           ],
           [
            1,
            "rgb(8,48,107)"
           ]
          ],
          "line": {
           "color": "Grey",
           "width": 0.5
          },
          "showscale": false
         },
         "mode": "markers",
         "showlegend": false,
         "type": "scatter",
         "x": [
          7,
          7,
          3,
          1,
          6,
          1,
          1,
          2,
          6,
          4,
          10,
          9,
          4,
          8,
          4,
          8,
          5,
          10,
          10,
          8,
          9,
          9,
          9,
          9,
          8,
          7,
          9,
          8,
          10,
          7,
          9,
          7,
          7,
          6,
          8,
          7,
          5,
          5,
          5,
          3,
          5,
          6,
          3,
          6,
          5,
          4,
          2,
          4,
          2,
          4
         ],
         "xaxis": "x8",
         "y": [
          0.828,
          0.824,
          0.828,
          0.767,
          0.781,
          0.71,
          0.779,
          0.81,
          0.772,
          0.813,
          0.762,
          0.804,
          0.83,
          0.835,
          0.819,
          0.824,
          0.812,
          0.83,
          0.797,
          0.821,
          0.832,
          0.837,
          0.838,
          0.82,
          0.834,
          0.834,
          0.808,
          0.817,
          0.817,
          0.814,
          0.824,
          0.822,
          0.836,
          0.833,
          0.819,
          0.836,
          0.843,
          0.836,
          0.834,
          0.805,
          0.812,
          0.839,
          0.82,
          0.832,
          0.82,
          0.84,
          0.822,
          0.827,
          0.828,
          0.807
         ],
         "yaxis": "y8"
        },
        {
         "marker": {
          "color": [
           0,
           1,
           2,
           3,
           4,
           5,
           6,
           7,
           8,
           9,
           10,
           11,
           12,
           13,
           14,
           15,
           16,
           17,
           18,
           19,
           20,
           21,
           22,
           23,
           24,
           25,
           26,
           27,
           28,
           29,
           30,
           31,
           32,
           33,
           34,
           35,
           36,
           37,
           38,
           39,
           40,
           41,
           42,
           43,
           44,
           45,
           46,
           47,
           48,
           49
          ],
          "colorbar": {
           "title": {
            "text": "#Trials"
           },
           "x": 1,
           "xpad": 40
          },
          "colorscale": [
           [
            0,
            "rgb(247,251,255)"
           ],
           [
            0.125,
            "rgb(222,235,247)"
           ],
           [
            0.25,
            "rgb(198,219,239)"
           ],
           [
            0.375,
            "rgb(158,202,225)"
           ],
           [
            0.5,
            "rgb(107,174,214)"
           ],
           [
            0.625,
            "rgb(66,146,198)"
           ],
           [
            0.75,
            "rgb(33,113,181)"
           ],
           [
            0.875,
            "rgb(8,81,156)"
           ],
           [
            1,
            "rgb(8,48,107)"
           ]
          ],
          "line": {
           "color": "Grey",
           "width": 0.5
          },
          "showscale": false
         },
         "mode": "markers",
         "showlegend": false,
         "type": "scatter",
         "x": [
          14,
          44,
          40,
          37,
          26,
          24,
          48,
          29,
          40,
          18,
          4,
          10,
          14,
          12,
          3,
          10,
          19,
          9,
          7,
          16,
          3,
          2,
          2,
          6,
          2,
          2,
          10,
          13,
          22,
          31,
          6,
          2,
          2,
          6,
          14,
          8,
          5,
          5,
          5,
          8,
          12,
          5,
          4,
          5,
          2,
          47,
          24,
          45,
          35,
          39
         ],
         "xaxis": "x9",
         "y": [
          0.828,
          0.824,
          0.828,
          0.767,
          0.781,
          0.71,
          0.779,
          0.81,
          0.772,
          0.813,
          0.762,
          0.804,
          0.83,
          0.835,
          0.819,
          0.824,
          0.812,
          0.83,
          0.797,
          0.821,
          0.832,
          0.837,
          0.838,
          0.82,
          0.834,
          0.834,
          0.808,
          0.817,
          0.817,
          0.814,
          0.824,
          0.822,
          0.836,
          0.833,
          0.819,
          0.836,
          0.843,
          0.836,
          0.834,
          0.805,
          0.812,
          0.839,
          0.82,
          0.832,
          0.82,
          0.84,
          0.822,
          0.827,
          0.828,
          0.807
         ],
         "yaxis": "y9"
        }
       ],
       "layout": {
        "template": {
         "data": {
          "bar": [
           {
            "error_x": {
             "color": "#2a3f5f"
            },
            "error_y": {
             "color": "#2a3f5f"
            },
            "marker": {
             "line": {
              "color": "#E5ECF6",
              "width": 0.5
             }
            },
            "type": "bar"
           }
          ],
          "barpolar": [
           {
            "marker": {
             "line": {
              "color": "#E5ECF6",
              "width": 0.5
             }
            },
            "type": "barpolar"
           }
          ],
          "carpet": [
           {
            "aaxis": {
             "endlinecolor": "#2a3f5f",
             "gridcolor": "white",
             "linecolor": "white",
             "minorgridcolor": "white",
             "startlinecolor": "#2a3f5f"
            },
            "baxis": {
             "endlinecolor": "#2a3f5f",
             "gridcolor": "white",
             "linecolor": "white",
             "minorgridcolor": "white",
             "startlinecolor": "#2a3f5f"
            },
            "type": "carpet"
           }
          ],
          "choropleth": [
           {
            "colorbar": {
             "outlinewidth": 0,
             "ticks": ""
            },
            "type": "choropleth"
           }
          ],
          "contour": [
           {
            "colorbar": {
             "outlinewidth": 0,
             "ticks": ""
            },
            "colorscale": [
             [
              0,
              "#0d0887"
             ],
             [
              0.1111111111111111,
              "#46039f"
             ],
             [
              0.2222222222222222,
              "#7201a8"
             ],
             [
              0.3333333333333333,
              "#9c179e"
             ],
             [
              0.4444444444444444,
              "#bd3786"
             ],
             [
              0.5555555555555556,
              "#d8576b"
             ],
             [
              0.6666666666666666,
              "#ed7953"
             ],
             [
              0.7777777777777778,
              "#fb9f3a"
             ],
             [
              0.8888888888888888,
              "#fdca26"
             ],
             [
              1,
              "#f0f921"
             ]
            ],
            "type": "contour"
           }
          ],
          "contourcarpet": [
           {
            "colorbar": {
             "outlinewidth": 0,
             "ticks": ""
            },
            "type": "contourcarpet"
           }
          ],
          "heatmap": [
           {
            "colorbar": {
             "outlinewidth": 0,
             "ticks": ""
            },
            "colorscale": [
             [
              0,
              "#0d0887"
             ],
             [
              0.1111111111111111,
              "#46039f"
             ],
             [
              0.2222222222222222,
              "#7201a8"
             ],
             [
              0.3333333333333333,
              "#9c179e"
             ],
             [
              0.4444444444444444,
              "#bd3786"
             ],
             [
              0.5555555555555556,
              "#d8576b"
             ],
             [
              0.6666666666666666,
              "#ed7953"
             ],
             [
              0.7777777777777778,
              "#fb9f3a"
             ],
             [
              0.8888888888888888,
              "#fdca26"
             ],
             [
              1,
              "#f0f921"
             ]
            ],
            "type": "heatmap"
           }
          ],
          "heatmapgl": [
           {
            "colorbar": {
             "outlinewidth": 0,
             "ticks": ""
            },
            "colorscale": [
             [
              0,
              "#0d0887"
             ],
             [
              0.1111111111111111,
              "#46039f"
             ],
             [
              0.2222222222222222,
              "#7201a8"
             ],
             [
              0.3333333333333333,
              "#9c179e"
             ],
             [
              0.4444444444444444,
              "#bd3786"
             ],
             [
              0.5555555555555556,
              "#d8576b"
             ],
             [
              0.6666666666666666,
              "#ed7953"
             ],
             [
              0.7777777777777778,
              "#fb9f3a"
             ],
             [
              0.8888888888888888,
              "#fdca26"
             ],
             [
              1,
              "#f0f921"
             ]
            ],
            "type": "heatmapgl"
           }
          ],
          "histogram": [
           {
            "marker": {
             "colorbar": {
              "outlinewidth": 0,
              "ticks": ""
             }
            },
            "type": "histogram"
           }
          ],
          "histogram2d": [
           {
            "colorbar": {
             "outlinewidth": 0,
             "ticks": ""
            },
            "colorscale": [
             [
              0,
              "#0d0887"
             ],
             [
              0.1111111111111111,
              "#46039f"
             ],
             [
              0.2222222222222222,
              "#7201a8"
             ],
             [
              0.3333333333333333,
              "#9c179e"
             ],
             [
              0.4444444444444444,
              "#bd3786"
             ],
             [
              0.5555555555555556,
              "#d8576b"
             ],
             [
              0.6666666666666666,
              "#ed7953"
             ],
             [
              0.7777777777777778,
              "#fb9f3a"
             ],
             [
              0.8888888888888888,
              "#fdca26"
             ],
             [
              1,
              "#f0f921"
             ]
            ],
            "type": "histogram2d"
           }
          ],
          "histogram2dcontour": [
           {
            "colorbar": {
             "outlinewidth": 0,
             "ticks": ""
            },
            "colorscale": [
             [
              0,
              "#0d0887"
             ],
             [
              0.1111111111111111,
              "#46039f"
             ],
             [
              0.2222222222222222,
              "#7201a8"
             ],
             [
              0.3333333333333333,
              "#9c179e"
             ],
             [
              0.4444444444444444,
              "#bd3786"
             ],
             [
              0.5555555555555556,
              "#d8576b"
             ],
             [
              0.6666666666666666,
              "#ed7953"
             ],
             [
              0.7777777777777778,
              "#fb9f3a"
             ],
             [
              0.8888888888888888,
              "#fdca26"
             ],
             [
              1,
              "#f0f921"
             ]
            ],
            "type": "histogram2dcontour"
           }
          ],
          "mesh3d": [
           {
            "colorbar": {
             "outlinewidth": 0,
             "ticks": ""
            },
            "type": "mesh3d"
           }
          ],
          "parcoords": [
           {
            "line": {
             "colorbar": {
              "outlinewidth": 0,
              "ticks": ""
             }
            },
            "type": "parcoords"
           }
          ],
          "pie": [
           {
            "automargin": true,
            "type": "pie"
           }
          ],
          "scatter": [
           {
            "marker": {
             "colorbar": {
              "outlinewidth": 0,
              "ticks": ""
             }
            },
            "type": "scatter"
           }
          ],
          "scatter3d": [
           {
            "line": {
             "colorbar": {
              "outlinewidth": 0,
              "ticks": ""
             }
            },
            "marker": {
             "colorbar": {
              "outlinewidth": 0,
              "ticks": ""
             }
            },
            "type": "scatter3d"
           }
          ],
          "scattercarpet": [
           {
            "marker": {
             "colorbar": {
              "outlinewidth": 0,
              "ticks": ""
             }
            },
            "type": "scattercarpet"
           }
          ],
          "scattergeo": [
           {
            "marker": {
             "colorbar": {
              "outlinewidth": 0,
              "ticks": ""
             }
            },
            "type": "scattergeo"
           }
          ],
          "scattergl": [
           {
            "marker": {
             "colorbar": {
              "outlinewidth": 0,
              "ticks": ""
             }
            },
            "type": "scattergl"
           }
          ],
          "scattermapbox": [
           {
            "marker": {
             "colorbar": {
              "outlinewidth": 0,
              "ticks": ""
             }
            },
            "type": "scattermapbox"
           }
          ],
          "scatterpolar": [
           {
            "marker": {
             "colorbar": {
              "outlinewidth": 0,
              "ticks": ""
             }
            },
            "type": "scatterpolar"
           }
          ],
          "scatterpolargl": [
           {
            "marker": {
             "colorbar": {
              "outlinewidth": 0,
              "ticks": ""
             }
            },
            "type": "scatterpolargl"
           }
          ],
          "scatterternary": [
           {
            "marker": {
             "colorbar": {
              "outlinewidth": 0,
              "ticks": ""
             }
            },
            "type": "scatterternary"
           }
          ],
          "surface": [
           {
            "colorbar": {
             "outlinewidth": 0,
             "ticks": ""
            },
            "colorscale": [
             [
              0,
              "#0d0887"
             ],
             [
              0.1111111111111111,
              "#46039f"
             ],
             [
              0.2222222222222222,
              "#7201a8"
             ],
             [
              0.3333333333333333,
              "#9c179e"
             ],
             [
              0.4444444444444444,
              "#bd3786"
             ],
             [
              0.5555555555555556,
              "#d8576b"
             ],
             [
              0.6666666666666666,
              "#ed7953"
             ],
             [
              0.7777777777777778,
              "#fb9f3a"
             ],
             [
              0.8888888888888888,
              "#fdca26"
             ],
             [
              1,
              "#f0f921"
             ]
            ],
            "type": "surface"
           }
          ],
          "table": [
           {
            "cells": {
             "fill": {
              "color": "#EBF0F8"
             },
             "line": {
              "color": "white"
             }
            },
            "header": {
             "fill": {
              "color": "#C8D4E3"
             },
             "line": {
              "color": "white"
             }
            },
            "type": "table"
           }
          ]
         },
         "layout": {
          "annotationdefaults": {
           "arrowcolor": "#2a3f5f",
           "arrowhead": 0,
           "arrowwidth": 1
          },
          "autotypenumbers": "strict",
          "coloraxis": {
           "colorbar": {
            "outlinewidth": 0,
            "ticks": ""
           }
          },
          "colorscale": {
           "diverging": [
            [
             0,
             "#8e0152"
            ],
            [
             0.1,
             "#c51b7d"
            ],
            [
             0.2,
             "#de77ae"
            ],
            [
             0.3,
             "#f1b6da"
            ],
            [
             0.4,
             "#fde0ef"
            ],
            [
             0.5,
             "#f7f7f7"
            ],
            [
             0.6,
             "#e6f5d0"
            ],
            [
             0.7,
             "#b8e186"
            ],
            [
             0.8,
             "#7fbc41"
            ],
            [
             0.9,
             "#4d9221"
            ],
            [
             1,
             "#276419"
            ]
           ],
           "sequential": [
            [
             0,
             "#0d0887"
            ],
            [
             0.1111111111111111,
             "#46039f"
            ],
            [
             0.2222222222222222,
             "#7201a8"
            ],
            [
             0.3333333333333333,
             "#9c179e"
            ],
            [
             0.4444444444444444,
             "#bd3786"
            ],
            [
             0.5555555555555556,
             "#d8576b"
            ],
            [
             0.6666666666666666,
             "#ed7953"
            ],
            [
             0.7777777777777778,
             "#fb9f3a"
            ],
            [
             0.8888888888888888,
             "#fdca26"
            ],
            [
             1,
             "#f0f921"
            ]
           ],
           "sequentialminus": [
            [
             0,
             "#0d0887"
            ],
            [
             0.1111111111111111,
             "#46039f"
            ],
            [
             0.2222222222222222,
             "#7201a8"
            ],
            [
             0.3333333333333333,
             "#9c179e"
            ],
            [
             0.4444444444444444,
             "#bd3786"
            ],
            [
             0.5555555555555556,
             "#d8576b"
            ],
            [
             0.6666666666666666,
             "#ed7953"
            ],
            [
             0.7777777777777778,
             "#fb9f3a"
            ],
            [
             0.8888888888888888,
             "#fdca26"
            ],
            [
             1,
             "#f0f921"
            ]
           ]
          },
          "colorway": [
           "#636efa",
           "#EF553B",
           "#00cc96",
           "#ab63fa",
           "#FFA15A",
           "#19d3f3",
           "#FF6692",
           "#B6E880",
           "#FF97FF",
           "#FECB52"
          ],
          "font": {
           "color": "#2a3f5f"
          },
          "geo": {
           "bgcolor": "white",
           "lakecolor": "white",
           "landcolor": "#E5ECF6",
           "showlakes": true,
           "showland": true,
           "subunitcolor": "white"
          },
          "hoverlabel": {
           "align": "left"
          },
          "hovermode": "closest",
          "mapbox": {
           "style": "light"
          },
          "paper_bgcolor": "white",
          "plot_bgcolor": "#E5ECF6",
          "polar": {
           "angularaxis": {
            "gridcolor": "white",
            "linecolor": "white",
            "ticks": ""
           },
           "bgcolor": "#E5ECF6",
           "radialaxis": {
            "gridcolor": "white",
            "linecolor": "white",
            "ticks": ""
           }
          },
          "scene": {
           "xaxis": {
            "backgroundcolor": "#E5ECF6",
            "gridcolor": "white",
            "gridwidth": 2,
            "linecolor": "white",
            "showbackground": true,
            "ticks": "",
            "zerolinecolor": "white"
           },
           "yaxis": {
            "backgroundcolor": "#E5ECF6",
            "gridcolor": "white",
            "gridwidth": 2,
            "linecolor": "white",
            "showbackground": true,
            "ticks": "",
            "zerolinecolor": "white"
           },
           "zaxis": {
            "backgroundcolor": "#E5ECF6",
            "gridcolor": "white",
            "gridwidth": 2,
            "linecolor": "white",
            "showbackground": true,
            "ticks": "",
            "zerolinecolor": "white"
           }
          },
          "shapedefaults": {
           "line": {
            "color": "#2a3f5f"
           }
          },
          "ternary": {
           "aaxis": {
            "gridcolor": "white",
            "linecolor": "white",
            "ticks": ""
           },
           "baxis": {
            "gridcolor": "white",
            "linecolor": "white",
            "ticks": ""
           },
           "bgcolor": "#E5ECF6",
           "caxis": {
            "gridcolor": "white",
            "linecolor": "white",
            "ticks": ""
           }
          },
          "title": {
           "x": 0.05
          },
          "xaxis": {
           "automargin": true,
           "gridcolor": "white",
           "linecolor": "white",
           "ticks": "",
           "title": {
            "standoff": 15
           },
           "zerolinecolor": "white",
           "zerolinewidth": 2
          },
          "yaxis": {
           "automargin": true,
           "gridcolor": "white",
           "linecolor": "white",
           "ticks": "",
           "title": {
            "standoff": 15
           },
           "zerolinecolor": "white",
           "zerolinewidth": 2
          }
         }
        },
        "title": {
         "text": "Slice Plot"
        },
        "width": 2700,
        "xaxis": {
         "anchor": "y",
         "domain": [
          0,
          0.09135802469135802
         ],
         "title": {
          "text": "dropout"
         }
        },
        "xaxis2": {
         "anchor": "y2",
         "domain": [
          0.11358024691358025,
          0.20493827160493827
         ],
         "title": {
          "text": "epochs"
         }
        },
        "xaxis3": {
         "anchor": "y3",
         "domain": [
          0.2271604938271605,
          0.31851851851851853
         ],
         "title": {
          "text": "item_embedding_dim"
         }
        },
        "xaxis4": {
         "anchor": "y4",
         "domain": [
          0.34074074074074073,
          0.43209876543209874
         ],
         "title": {
          "text": "layer1"
         }
        },
        "xaxis5": {
         "anchor": "y5",
         "domain": [
          0.454320987654321,
          0.5456790123456791
         ],
         "title": {
          "text": "layer2"
         }
        },
        "xaxis6": {
         "anchor": "y6",
         "domain": [
          0.5679012345679012,
          0.6592592592592592
         ],
         "title": {
          "text": "layer3"
         }
        },
        "xaxis7": {
         "anchor": "y7",
         "domain": [
          0.6814814814814815,
          0.7728395061728395
         ],
         "title": {
          "text": "n_layers"
         }
        },
        "xaxis8": {
         "anchor": "y8",
         "domain": [
          0.7950617283950617,
          0.8864197530864197
         ],
         "title": {
          "text": "num_negatives"
         }
        },
        "xaxis9": {
         "anchor": "y9",
         "domain": [
          0.908641975308642,
          1
         ],
         "title": {
          "text": "user_embedding_dim"
         }
        },
        "yaxis": {
         "anchor": "x",
         "domain": [
          0,
          1
         ],
         "title": {
          "text": "Objective Value"
         }
        },
        "yaxis2": {
         "anchor": "x2",
         "domain": [
          0,
          1
         ],
         "matches": "y",
         "showticklabels": false
        },
        "yaxis3": {
         "anchor": "x3",
         "domain": [
          0,
          1
         ],
         "matches": "y",
         "showticklabels": false
        },
        "yaxis4": {
         "anchor": "x4",
         "domain": [
          0,
          1
         ],
         "matches": "y",
         "showticklabels": false
        },
        "yaxis5": {
         "anchor": "x5",
         "domain": [
          0,
          1
         ],
         "matches": "y",
         "showticklabels": false
        },
        "yaxis6": {
         "anchor": "x6",
         "domain": [
          0,
          1
         ],
         "matches": "y",
         "showticklabels": false
        },
        "yaxis7": {
         "anchor": "x7",
         "domain": [
          0,
          1
         ],
         "matches": "y",
         "showticklabels": false
        },
        "yaxis8": {
         "anchor": "x8",
         "domain": [
          0,
          1
         ],
         "matches": "y",
         "showticklabels": false
        },
        "yaxis9": {
         "anchor": "x9",
         "domain": [
          0,
          1
         ],
         "matches": "y",
         "showticklabels": false
        }
       }
      },
      "text/html": [
       "<div>                            <div id=\"af94d870-c867-4e9c-817e-3dc7a6ee1247\" class=\"plotly-graph-div\" style=\"height:525px; width:2700px;\"></div>            <script type=\"text/javascript\">                require([\"plotly\"], function(Plotly) {                    window.PLOTLYENV=window.PLOTLYENV || {};                                    if (document.getElementById(\"af94d870-c867-4e9c-817e-3dc7a6ee1247\")) {                    Plotly.newPlot(                        \"af94d870-c867-4e9c-817e-3dc7a6ee1247\",                        [{\"marker\": {\"color\": [0, 1, 2, 3, 4, 5, 6, 7, 8, 9, 10, 11, 12, 13, 14, 15, 16, 17, 18, 19, 20, 21, 22, 23, 24, 25, 26, 27, 28, 29, 30, 31, 32, 33, 34, 35, 36, 37, 38, 39, 40, 41, 42, 43, 44, 45, 46, 47, 48, 49], \"colorbar\": {\"title\": {\"text\": \"#Trials\"}, \"x\": 1.0, \"xpad\": 40}, \"colorscale\": [[0.0, \"rgb(247,251,255)\"], [0.125, \"rgb(222,235,247)\"], [0.25, \"rgb(198,219,239)\"], [0.375, \"rgb(158,202,225)\"], [0.5, \"rgb(107,174,214)\"], [0.625, \"rgb(66,146,198)\"], [0.75, \"rgb(33,113,181)\"], [0.875, \"rgb(8,81,156)\"], [1.0, \"rgb(8,48,107)\"]], \"line\": {\"color\": \"Grey\", \"width\": 0.5}, \"showscale\": true}, \"mode\": \"markers\", \"showlegend\": false, \"type\": \"scatter\", \"x\": [0.3355759619691987, 0.1590118675233772, 0.20868629801407837, 0.2842654860497629, 0.13321462271309048, 0.33149425845368263, 0.44940492988370406, 0.2064168686436797, 0.4712272304497903, 0.18338176368982953, 0.3544658997214063, 0.2692418319987035, 0.38977697831473285, 0.4033828057691822, 0.42001332306812633, 0.3974878115750088, 0.39028752487566376, 0.4883495109818783, 0.49159238560704605, 0.43878837898637757, 0.44953431984464776, 0.4916336150389861, 0.4961106229094374, 0.4968942996847002, 0.49821083802067134, 0.42053058689271694, 0.4636864106565305, 0.41882779394217695, 0.3537243453964432, 0.3179264294475614, 0.36934054652177384, 0.42105012097961625, 0.47833286979407225, 0.47132260394325604, 0.47478522987112626, 0.49546358375554245, 0.4991583680305453, 0.4470398666488064, 0.2541555459842242, 0.4943544397776304, 0.4443260703336489, 0.45494630014062704, 0.45420051807536, 0.4416976254403497, 0.46092783538146964, 0.4992176849493647, 0.10908225677057645, 0.4996183446109543, 0.4829787838797181, 0.47110121461599164], \"xaxis\": \"x\", \"y\": [0.828, 0.824, 0.828, 0.767, 0.781, 0.71, 0.779, 0.81, 0.772, 0.813, 0.762, 0.804, 0.83, 0.835, 0.819, 0.824, 0.812, 0.83, 0.797, 0.821, 0.832, 0.837, 0.838, 0.82, 0.834, 0.834, 0.808, 0.817, 0.817, 0.814, 0.824, 0.822, 0.836, 0.833, 0.819, 0.836, 0.843, 0.836, 0.834, 0.805, 0.812, 0.839, 0.82, 0.832, 0.82, 0.84, 0.822, 0.827, 0.828, 0.807], \"yaxis\": \"y\"}, {\"marker\": {\"color\": [0, 1, 2, 3, 4, 5, 6, 7, 8, 9, 10, 11, 12, 13, 14, 15, 16, 17, 18, 19, 20, 21, 22, 23, 24, 25, 26, 27, 28, 29, 30, 31, 32, 33, 34, 35, 36, 37, 38, 39, 40, 41, 42, 43, 44, 45, 46, 47, 48, 49], \"colorbar\": {\"title\": {\"text\": \"#Trials\"}, \"x\": 1.0, \"xpad\": 40}, \"colorscale\": [[0.0, \"rgb(247,251,255)\"], [0.125, \"rgb(222,235,247)\"], [0.25, \"rgb(198,219,239)\"], [0.375, \"rgb(158,202,225)\"], [0.5, \"rgb(107,174,214)\"], [0.625, \"rgb(66,146,198)\"], [0.75, \"rgb(33,113,181)\"], [0.875, \"rgb(8,81,156)\"], [1.0, \"rgb(8,48,107)\"]], \"line\": {\"color\": \"Grey\", \"width\": 0.5}, \"showscale\": false}, \"mode\": \"markers\", \"showlegend\": false, \"type\": \"scatter\", \"x\": [30, 20, 16, 25, 22, 11, 21, 21, 29, 16, 29, 14, 16, 12, 10, 13, 16, 18, 24, 13, 18, 18, 18, 18, 11, 24, 14, 19, 23, 26, 12, 27, 20, 20, 19, 17, 17, 22, 22, 17, 15, 17, 21, 19, 17, 15, 14, 15, 16, 15], \"xaxis\": \"x2\", \"y\": [0.828, 0.824, 0.828, 0.767, 0.781, 0.71, 0.779, 0.81, 0.772, 0.813, 0.762, 0.804, 0.83, 0.835, 0.819, 0.824, 0.812, 0.83, 0.797, 0.821, 0.832, 0.837, 0.838, 0.82, 0.834, 0.834, 0.808, 0.817, 0.817, 0.814, 0.824, 0.822, 0.836, 0.833, 0.819, 0.836, 0.843, 0.836, 0.834, 0.805, 0.812, 0.839, 0.82, 0.832, 0.82, 0.84, 0.822, 0.827, 0.828, 0.807], \"yaxis\": \"y2\"}, {\"marker\": {\"color\": [0, 1, 2, 3, 4, 5, 6, 7, 8, 9, 10, 11, 12, 13, 14, 15, 16, 17, 18, 19, 20, 21, 22, 23, 24, 25, 26, 27, 28, 29, 30, 31, 32, 33, 34, 35, 36, 37, 38, 39, 40, 41, 42, 43, 44, 45, 46, 47, 48, 49], \"colorbar\": {\"title\": {\"text\": \"#Trials\"}, \"x\": 1.0, \"xpad\": 40}, \"colorscale\": [[0.0, \"rgb(247,251,255)\"], [0.125, \"rgb(222,235,247)\"], [0.25, \"rgb(198,219,239)\"], [0.375, \"rgb(158,202,225)\"], [0.5, \"rgb(107,174,214)\"], [0.625, \"rgb(66,146,198)\"], [0.75, \"rgb(33,113,181)\"], [0.875, \"rgb(8,81,156)\"], [1.0, \"rgb(8,48,107)\"]], \"line\": {\"color\": \"Grey\", \"width\": 0.5}, \"showscale\": false}, \"mode\": \"markers\", \"showlegend\": false, \"type\": \"scatter\", \"x\": [2, 17, 21, 15, 49, 21, 21, 6, 8, 39, 35, 2, 33, 34, 32, 45, 29, 39, 41, 26, 47, 50, 50, 50, 44, 50, 42, 35, 46, 38, 50, 50, 47, 43, 46, 48, 48, 48, 41, 50, 44, 48, 48, 48, 13, 37, 37, 29, 41, 23], \"xaxis\": \"x3\", \"y\": [0.828, 0.824, 0.828, 0.767, 0.781, 0.71, 0.779, 0.81, 0.772, 0.813, 0.762, 0.804, 0.83, 0.835, 0.819, 0.824, 0.812, 0.83, 0.797, 0.821, 0.832, 0.837, 0.838, 0.82, 0.834, 0.834, 0.808, 0.817, 0.817, 0.814, 0.824, 0.822, 0.836, 0.833, 0.819, 0.836, 0.843, 0.836, 0.834, 0.805, 0.812, 0.839, 0.82, 0.832, 0.82, 0.84, 0.822, 0.827, 0.828, 0.807], \"yaxis\": \"y3\"}, {\"marker\": {\"color\": [0, 1, 2, 3, 4, 5, 6, 7, 8, 9, 10, 11, 12, 13, 14, 15, 16, 17, 18, 19, 20, 21, 22, 23, 24, 25, 26, 27, 28, 29, 30, 31, 32, 33, 34, 35, 36, 37, 38, 39, 40, 41, 42, 43, 44, 45, 46, 47, 48, 49], \"colorbar\": {\"title\": {\"text\": \"#Trials\"}, \"x\": 1.0, \"xpad\": 40}, \"colorscale\": [[0.0, \"rgb(247,251,255)\"], [0.125, \"rgb(222,235,247)\"], [0.25, \"rgb(198,219,239)\"], [0.375, \"rgb(158,202,225)\"], [0.5, \"rgb(107,174,214)\"], [0.625, \"rgb(66,146,198)\"], [0.75, \"rgb(33,113,181)\"], [0.875, \"rgb(8,81,156)\"], [1.0, \"rgb(8,48,107)\"]], \"line\": {\"color\": \"Grey\", \"width\": 0.5}, \"showscale\": false}, \"mode\": \"markers\", \"showlegend\": false, \"type\": \"scatter\", \"x\": [19, 37, 33, 30, 87, 7, 7, 8, 5, 81, 14, 16, 48, 48, 52, 111, 54, 56, 116, 26, 66, 72, 78, 122, 81, 40, 73, 127, 43, 24, 93, 38, 64, 64, 95, 64, 33, 32, 30, 19, 34, 13, 11, 10, 19, 14, 14, 9, 12, 6], \"xaxis\": \"x4\", \"y\": [0.828, 0.824, 0.828, 0.767, 0.781, 0.71, 0.779, 0.81, 0.772, 0.813, 0.762, 0.804, 0.83, 0.835, 0.819, 0.824, 0.812, 0.83, 0.797, 0.821, 0.832, 0.837, 0.838, 0.82, 0.834, 0.834, 0.808, 0.817, 0.817, 0.814, 0.824, 0.822, 0.836, 0.833, 0.819, 0.836, 0.843, 0.836, 0.834, 0.805, 0.812, 0.839, 0.82, 0.832, 0.82, 0.84, 0.822, 0.827, 0.828, 0.807], \"yaxis\": \"y4\"}, {\"marker\": {\"color\": [1, 3, 5, 6, 9, 10, 14, 16, 19, 26, 30, 39, 40], \"colorbar\": {\"title\": {\"text\": \"#Trials\"}, \"x\": 1.0, \"xpad\": 40}, \"colorscale\": [[0.0, \"rgb(247,251,255)\"], [0.125, \"rgb(222,235,247)\"], [0.25, \"rgb(198,219,239)\"], [0.375, \"rgb(158,202,225)\"], [0.5, \"rgb(107,174,214)\"], [0.625, \"rgb(66,146,198)\"], [0.75, \"rgb(33,113,181)\"], [0.875, \"rgb(8,81,156)\"], [1.0, \"rgb(8,48,107)\"]], \"line\": {\"color\": \"Grey\", \"width\": 0.5}, \"showscale\": false}, \"mode\": \"markers\", \"showlegend\": false, \"type\": \"scatter\", \"x\": [29, 4, 99, 19, 19, 4, 102, 9, 60, 9, 50, 8, 34], \"xaxis\": \"x5\", \"y\": [0.824, 0.767, 0.71, 0.779, 0.813, 0.762, 0.819, 0.812, 0.821, 0.808, 0.824, 0.805, 0.812], \"yaxis\": \"y5\"}, {\"marker\": {\"color\": [1, 5, 9, 39], \"colorbar\": {\"title\": {\"text\": \"#Trials\"}, \"x\": 1.0, \"xpad\": 40}, \"colorscale\": [[0.0, \"rgb(247,251,255)\"], [0.125, \"rgb(222,235,247)\"], [0.25, \"rgb(198,219,239)\"], [0.375, \"rgb(158,202,225)\"], [0.5, \"rgb(107,174,214)\"], [0.625, \"rgb(66,146,198)\"], [0.75, \"rgb(33,113,181)\"], [0.875, \"rgb(8,81,156)\"], [1.0, \"rgb(8,48,107)\"]], \"line\": {\"color\": \"Grey\", \"width\": 0.5}, \"showscale\": false}, \"mode\": \"markers\", \"showlegend\": false, \"type\": \"scatter\", \"x\": [9, 11, 92, 104], \"xaxis\": \"x6\", \"y\": [0.824, 0.71, 0.813, 0.805], \"yaxis\": \"y6\"}, {\"marker\": {\"color\": [0, 1, 2, 3, 4, 5, 6, 7, 8, 9, 10, 11, 12, 13, 14, 15, 16, 17, 18, 19, 20, 21, 22, 23, 24, 25, 26, 27, 28, 29, 30, 31, 32, 33, 34, 35, 36, 37, 38, 39, 40, 41, 42, 43, 44, 45, 46, 47, 48, 49], \"colorbar\": {\"title\": {\"text\": \"#Trials\"}, \"x\": 1.0, \"xpad\": 40}, \"colorscale\": [[0.0, \"rgb(247,251,255)\"], [0.125, \"rgb(222,235,247)\"], [0.25, \"rgb(198,219,239)\"], [0.375, \"rgb(158,202,225)\"], [0.5, \"rgb(107,174,214)\"], [0.625, \"rgb(66,146,198)\"], [0.75, \"rgb(33,113,181)\"], [0.875, \"rgb(8,81,156)\"], [1.0, \"rgb(8,48,107)\"]], \"line\": {\"color\": \"Grey\", \"width\": 0.5}, \"showscale\": false}, \"mode\": \"markers\", \"showlegend\": false, \"type\": \"scatter\", \"x\": [1, 3, 1, 2, 1, 3, 2, 1, 1, 3, 2, 1, 1, 1, 2, 1, 2, 1, 1, 2, 1, 1, 1, 1, 1, 1, 2, 1, 1, 1, 2, 1, 1, 1, 1, 1, 1, 1, 1, 3, 2, 1, 1, 1, 1, 1, 1, 1, 1, 1], \"xaxis\": \"x7\", \"y\": [0.828, 0.824, 0.828, 0.767, 0.781, 0.71, 0.779, 0.81, 0.772, 0.813, 0.762, 0.804, 0.83, 0.835, 0.819, 0.824, 0.812, 0.83, 0.797, 0.821, 0.832, 0.837, 0.838, 0.82, 0.834, 0.834, 0.808, 0.817, 0.817, 0.814, 0.824, 0.822, 0.836, 0.833, 0.819, 0.836, 0.843, 0.836, 0.834, 0.805, 0.812, 0.839, 0.82, 0.832, 0.82, 0.84, 0.822, 0.827, 0.828, 0.807], \"yaxis\": \"y7\"}, {\"marker\": {\"color\": [0, 1, 2, 3, 4, 5, 6, 7, 8, 9, 10, 11, 12, 13, 14, 15, 16, 17, 18, 19, 20, 21, 22, 23, 24, 25, 26, 27, 28, 29, 30, 31, 32, 33, 34, 35, 36, 37, 38, 39, 40, 41, 42, 43, 44, 45, 46, 47, 48, 49], \"colorbar\": {\"title\": {\"text\": \"#Trials\"}, \"x\": 1.0, \"xpad\": 40}, \"colorscale\": [[0.0, \"rgb(247,251,255)\"], [0.125, \"rgb(222,235,247)\"], [0.25, \"rgb(198,219,239)\"], [0.375, \"rgb(158,202,225)\"], [0.5, \"rgb(107,174,214)\"], [0.625, \"rgb(66,146,198)\"], [0.75, \"rgb(33,113,181)\"], [0.875, \"rgb(8,81,156)\"], [1.0, \"rgb(8,48,107)\"]], \"line\": {\"color\": \"Grey\", \"width\": 0.5}, \"showscale\": false}, \"mode\": \"markers\", \"showlegend\": false, \"type\": \"scatter\", \"x\": [7, 7, 3, 1, 6, 1, 1, 2, 6, 4, 10, 9, 4, 8, 4, 8, 5, 10, 10, 8, 9, 9, 9, 9, 8, 7, 9, 8, 10, 7, 9, 7, 7, 6, 8, 7, 5, 5, 5, 3, 5, 6, 3, 6, 5, 4, 2, 4, 2, 4], \"xaxis\": \"x8\", \"y\": [0.828, 0.824, 0.828, 0.767, 0.781, 0.71, 0.779, 0.81, 0.772, 0.813, 0.762, 0.804, 0.83, 0.835, 0.819, 0.824, 0.812, 0.83, 0.797, 0.821, 0.832, 0.837, 0.838, 0.82, 0.834, 0.834, 0.808, 0.817, 0.817, 0.814, 0.824, 0.822, 0.836, 0.833, 0.819, 0.836, 0.843, 0.836, 0.834, 0.805, 0.812, 0.839, 0.82, 0.832, 0.82, 0.84, 0.822, 0.827, 0.828, 0.807], \"yaxis\": \"y8\"}, {\"marker\": {\"color\": [0, 1, 2, 3, 4, 5, 6, 7, 8, 9, 10, 11, 12, 13, 14, 15, 16, 17, 18, 19, 20, 21, 22, 23, 24, 25, 26, 27, 28, 29, 30, 31, 32, 33, 34, 35, 36, 37, 38, 39, 40, 41, 42, 43, 44, 45, 46, 47, 48, 49], \"colorbar\": {\"title\": {\"text\": \"#Trials\"}, \"x\": 1.0, \"xpad\": 40}, \"colorscale\": [[0.0, \"rgb(247,251,255)\"], [0.125, \"rgb(222,235,247)\"], [0.25, \"rgb(198,219,239)\"], [0.375, \"rgb(158,202,225)\"], [0.5, \"rgb(107,174,214)\"], [0.625, \"rgb(66,146,198)\"], [0.75, \"rgb(33,113,181)\"], [0.875, \"rgb(8,81,156)\"], [1.0, \"rgb(8,48,107)\"]], \"line\": {\"color\": \"Grey\", \"width\": 0.5}, \"showscale\": false}, \"mode\": \"markers\", \"showlegend\": false, \"type\": \"scatter\", \"x\": [14, 44, 40, 37, 26, 24, 48, 29, 40, 18, 4, 10, 14, 12, 3, 10, 19, 9, 7, 16, 3, 2, 2, 6, 2, 2, 10, 13, 22, 31, 6, 2, 2, 6, 14, 8, 5, 5, 5, 8, 12, 5, 4, 5, 2, 47, 24, 45, 35, 39], \"xaxis\": \"x9\", \"y\": [0.828, 0.824, 0.828, 0.767, 0.781, 0.71, 0.779, 0.81, 0.772, 0.813, 0.762, 0.804, 0.83, 0.835, 0.819, 0.824, 0.812, 0.83, 0.797, 0.821, 0.832, 0.837, 0.838, 0.82, 0.834, 0.834, 0.808, 0.817, 0.817, 0.814, 0.824, 0.822, 0.836, 0.833, 0.819, 0.836, 0.843, 0.836, 0.834, 0.805, 0.812, 0.839, 0.82, 0.832, 0.82, 0.84, 0.822, 0.827, 0.828, 0.807], \"yaxis\": \"y9\"}],                        {\"template\": {\"data\": {\"bar\": [{\"error_x\": {\"color\": \"#2a3f5f\"}, \"error_y\": {\"color\": \"#2a3f5f\"}, \"marker\": {\"line\": {\"color\": \"#E5ECF6\", \"width\": 0.5}}, \"type\": \"bar\"}], \"barpolar\": [{\"marker\": {\"line\": {\"color\": \"#E5ECF6\", \"width\": 0.5}}, \"type\": \"barpolar\"}], \"carpet\": [{\"aaxis\": {\"endlinecolor\": \"#2a3f5f\", \"gridcolor\": \"white\", \"linecolor\": \"white\", \"minorgridcolor\": \"white\", \"startlinecolor\": \"#2a3f5f\"}, \"baxis\": {\"endlinecolor\": \"#2a3f5f\", \"gridcolor\": \"white\", \"linecolor\": \"white\", \"minorgridcolor\": \"white\", \"startlinecolor\": \"#2a3f5f\"}, \"type\": \"carpet\"}], \"choropleth\": [{\"colorbar\": {\"outlinewidth\": 0, \"ticks\": \"\"}, \"type\": \"choropleth\"}], \"contour\": [{\"colorbar\": {\"outlinewidth\": 0, \"ticks\": \"\"}, \"colorscale\": [[0.0, \"#0d0887\"], [0.1111111111111111, \"#46039f\"], [0.2222222222222222, \"#7201a8\"], [0.3333333333333333, \"#9c179e\"], [0.4444444444444444, \"#bd3786\"], [0.5555555555555556, \"#d8576b\"], [0.6666666666666666, \"#ed7953\"], [0.7777777777777778, \"#fb9f3a\"], [0.8888888888888888, \"#fdca26\"], [1.0, \"#f0f921\"]], \"type\": \"contour\"}], \"contourcarpet\": [{\"colorbar\": {\"outlinewidth\": 0, \"ticks\": \"\"}, \"type\": \"contourcarpet\"}], \"heatmap\": [{\"colorbar\": {\"outlinewidth\": 0, \"ticks\": \"\"}, \"colorscale\": [[0.0, \"#0d0887\"], [0.1111111111111111, \"#46039f\"], [0.2222222222222222, \"#7201a8\"], [0.3333333333333333, \"#9c179e\"], [0.4444444444444444, \"#bd3786\"], [0.5555555555555556, \"#d8576b\"], [0.6666666666666666, \"#ed7953\"], [0.7777777777777778, \"#fb9f3a\"], [0.8888888888888888, \"#fdca26\"], [1.0, \"#f0f921\"]], \"type\": \"heatmap\"}], \"heatmapgl\": [{\"colorbar\": {\"outlinewidth\": 0, \"ticks\": \"\"}, \"colorscale\": [[0.0, \"#0d0887\"], [0.1111111111111111, \"#46039f\"], [0.2222222222222222, \"#7201a8\"], [0.3333333333333333, \"#9c179e\"], [0.4444444444444444, \"#bd3786\"], [0.5555555555555556, \"#d8576b\"], [0.6666666666666666, \"#ed7953\"], [0.7777777777777778, \"#fb9f3a\"], [0.8888888888888888, \"#fdca26\"], [1.0, \"#f0f921\"]], \"type\": \"heatmapgl\"}], \"histogram\": [{\"marker\": {\"colorbar\": {\"outlinewidth\": 0, \"ticks\": \"\"}}, \"type\": \"histogram\"}], \"histogram2d\": [{\"colorbar\": {\"outlinewidth\": 0, \"ticks\": \"\"}, \"colorscale\": [[0.0, \"#0d0887\"], [0.1111111111111111, \"#46039f\"], [0.2222222222222222, \"#7201a8\"], [0.3333333333333333, \"#9c179e\"], [0.4444444444444444, \"#bd3786\"], [0.5555555555555556, \"#d8576b\"], [0.6666666666666666, \"#ed7953\"], [0.7777777777777778, \"#fb9f3a\"], [0.8888888888888888, \"#fdca26\"], [1.0, \"#f0f921\"]], \"type\": \"histogram2d\"}], \"histogram2dcontour\": [{\"colorbar\": {\"outlinewidth\": 0, \"ticks\": \"\"}, \"colorscale\": [[0.0, \"#0d0887\"], [0.1111111111111111, \"#46039f\"], [0.2222222222222222, \"#7201a8\"], [0.3333333333333333, \"#9c179e\"], [0.4444444444444444, \"#bd3786\"], [0.5555555555555556, \"#d8576b\"], [0.6666666666666666, \"#ed7953\"], [0.7777777777777778, \"#fb9f3a\"], [0.8888888888888888, \"#fdca26\"], [1.0, \"#f0f921\"]], \"type\": \"histogram2dcontour\"}], \"mesh3d\": [{\"colorbar\": {\"outlinewidth\": 0, \"ticks\": \"\"}, \"type\": \"mesh3d\"}], \"parcoords\": [{\"line\": {\"colorbar\": {\"outlinewidth\": 0, \"ticks\": \"\"}}, \"type\": \"parcoords\"}], \"pie\": [{\"automargin\": true, \"type\": \"pie\"}], \"scatter\": [{\"marker\": {\"colorbar\": {\"outlinewidth\": 0, \"ticks\": \"\"}}, \"type\": \"scatter\"}], \"scatter3d\": [{\"line\": {\"colorbar\": {\"outlinewidth\": 0, \"ticks\": \"\"}}, \"marker\": {\"colorbar\": {\"outlinewidth\": 0, \"ticks\": \"\"}}, \"type\": \"scatter3d\"}], \"scattercarpet\": [{\"marker\": {\"colorbar\": {\"outlinewidth\": 0, \"ticks\": \"\"}}, \"type\": \"scattercarpet\"}], \"scattergeo\": [{\"marker\": {\"colorbar\": {\"outlinewidth\": 0, \"ticks\": \"\"}}, \"type\": \"scattergeo\"}], \"scattergl\": [{\"marker\": {\"colorbar\": {\"outlinewidth\": 0, \"ticks\": \"\"}}, \"type\": \"scattergl\"}], \"scattermapbox\": [{\"marker\": {\"colorbar\": {\"outlinewidth\": 0, \"ticks\": \"\"}}, \"type\": \"scattermapbox\"}], \"scatterpolar\": [{\"marker\": {\"colorbar\": {\"outlinewidth\": 0, \"ticks\": \"\"}}, \"type\": \"scatterpolar\"}], \"scatterpolargl\": [{\"marker\": {\"colorbar\": {\"outlinewidth\": 0, \"ticks\": \"\"}}, \"type\": \"scatterpolargl\"}], \"scatterternary\": [{\"marker\": {\"colorbar\": {\"outlinewidth\": 0, \"ticks\": \"\"}}, \"type\": \"scatterternary\"}], \"surface\": [{\"colorbar\": {\"outlinewidth\": 0, \"ticks\": \"\"}, \"colorscale\": [[0.0, \"#0d0887\"], [0.1111111111111111, \"#46039f\"], [0.2222222222222222, \"#7201a8\"], [0.3333333333333333, \"#9c179e\"], [0.4444444444444444, \"#bd3786\"], [0.5555555555555556, \"#d8576b\"], [0.6666666666666666, \"#ed7953\"], [0.7777777777777778, \"#fb9f3a\"], [0.8888888888888888, \"#fdca26\"], [1.0, \"#f0f921\"]], \"type\": \"surface\"}], \"table\": [{\"cells\": {\"fill\": {\"color\": \"#EBF0F8\"}, \"line\": {\"color\": \"white\"}}, \"header\": {\"fill\": {\"color\": \"#C8D4E3\"}, \"line\": {\"color\": \"white\"}}, \"type\": \"table\"}]}, \"layout\": {\"annotationdefaults\": {\"arrowcolor\": \"#2a3f5f\", \"arrowhead\": 0, \"arrowwidth\": 1}, \"autotypenumbers\": \"strict\", \"coloraxis\": {\"colorbar\": {\"outlinewidth\": 0, \"ticks\": \"\"}}, \"colorscale\": {\"diverging\": [[0, \"#8e0152\"], [0.1, \"#c51b7d\"], [0.2, \"#de77ae\"], [0.3, \"#f1b6da\"], [0.4, \"#fde0ef\"], [0.5, \"#f7f7f7\"], [0.6, \"#e6f5d0\"], [0.7, \"#b8e186\"], [0.8, \"#7fbc41\"], [0.9, \"#4d9221\"], [1, \"#276419\"]], \"sequential\": [[0.0, \"#0d0887\"], [0.1111111111111111, \"#46039f\"], [0.2222222222222222, \"#7201a8\"], [0.3333333333333333, \"#9c179e\"], [0.4444444444444444, \"#bd3786\"], [0.5555555555555556, \"#d8576b\"], [0.6666666666666666, \"#ed7953\"], [0.7777777777777778, \"#fb9f3a\"], [0.8888888888888888, \"#fdca26\"], [1.0, \"#f0f921\"]], \"sequentialminus\": [[0.0, \"#0d0887\"], [0.1111111111111111, \"#46039f\"], [0.2222222222222222, \"#7201a8\"], [0.3333333333333333, \"#9c179e\"], [0.4444444444444444, \"#bd3786\"], [0.5555555555555556, \"#d8576b\"], [0.6666666666666666, \"#ed7953\"], [0.7777777777777778, \"#fb9f3a\"], [0.8888888888888888, \"#fdca26\"], [1.0, \"#f0f921\"]]}, \"colorway\": [\"#636efa\", \"#EF553B\", \"#00cc96\", \"#ab63fa\", \"#FFA15A\", \"#19d3f3\", \"#FF6692\", \"#B6E880\", \"#FF97FF\", \"#FECB52\"], \"font\": {\"color\": \"#2a3f5f\"}, \"geo\": {\"bgcolor\": \"white\", \"lakecolor\": \"white\", \"landcolor\": \"#E5ECF6\", \"showlakes\": true, \"showland\": true, \"subunitcolor\": \"white\"}, \"hoverlabel\": {\"align\": \"left\"}, \"hovermode\": \"closest\", \"mapbox\": {\"style\": \"light\"}, \"paper_bgcolor\": \"white\", \"plot_bgcolor\": \"#E5ECF6\", \"polar\": {\"angularaxis\": {\"gridcolor\": \"white\", \"linecolor\": \"white\", \"ticks\": \"\"}, \"bgcolor\": \"#E5ECF6\", \"radialaxis\": {\"gridcolor\": \"white\", \"linecolor\": \"white\", \"ticks\": \"\"}}, \"scene\": {\"xaxis\": {\"backgroundcolor\": \"#E5ECF6\", \"gridcolor\": \"white\", \"gridwidth\": 2, \"linecolor\": \"white\", \"showbackground\": true, \"ticks\": \"\", \"zerolinecolor\": \"white\"}, \"yaxis\": {\"backgroundcolor\": \"#E5ECF6\", \"gridcolor\": \"white\", \"gridwidth\": 2, \"linecolor\": \"white\", \"showbackground\": true, \"ticks\": \"\", \"zerolinecolor\": \"white\"}, \"zaxis\": {\"backgroundcolor\": \"#E5ECF6\", \"gridcolor\": \"white\", \"gridwidth\": 2, \"linecolor\": \"white\", \"showbackground\": true, \"ticks\": \"\", \"zerolinecolor\": \"white\"}}, \"shapedefaults\": {\"line\": {\"color\": \"#2a3f5f\"}}, \"ternary\": {\"aaxis\": {\"gridcolor\": \"white\", \"linecolor\": \"white\", \"ticks\": \"\"}, \"baxis\": {\"gridcolor\": \"white\", \"linecolor\": \"white\", \"ticks\": \"\"}, \"bgcolor\": \"#E5ECF6\", \"caxis\": {\"gridcolor\": \"white\", \"linecolor\": \"white\", \"ticks\": \"\"}}, \"title\": {\"x\": 0.05}, \"xaxis\": {\"automargin\": true, \"gridcolor\": \"white\", \"linecolor\": \"white\", \"ticks\": \"\", \"title\": {\"standoff\": 15}, \"zerolinecolor\": \"white\", \"zerolinewidth\": 2}, \"yaxis\": {\"automargin\": true, \"gridcolor\": \"white\", \"linecolor\": \"white\", \"ticks\": \"\", \"title\": {\"standoff\": 15}, \"zerolinecolor\": \"white\", \"zerolinewidth\": 2}}}, \"title\": {\"text\": \"Slice Plot\"}, \"width\": 2700, \"xaxis\": {\"anchor\": \"y\", \"domain\": [0.0, 0.09135802469135802], \"title\": {\"text\": \"dropout\"}}, \"xaxis2\": {\"anchor\": \"y2\", \"domain\": [0.11358024691358025, 0.20493827160493827], \"title\": {\"text\": \"epochs\"}}, \"xaxis3\": {\"anchor\": \"y3\", \"domain\": [0.2271604938271605, 0.31851851851851853], \"title\": {\"text\": \"item_embedding_dim\"}}, \"xaxis4\": {\"anchor\": \"y4\", \"domain\": [0.34074074074074073, 0.43209876543209874], \"title\": {\"text\": \"layer1\"}}, \"xaxis5\": {\"anchor\": \"y5\", \"domain\": [0.454320987654321, 0.5456790123456791], \"title\": {\"text\": \"layer2\"}}, \"xaxis6\": {\"anchor\": \"y6\", \"domain\": [0.5679012345679012, 0.6592592592592592], \"title\": {\"text\": \"layer3\"}}, \"xaxis7\": {\"anchor\": \"y7\", \"domain\": [0.6814814814814815, 0.7728395061728395], \"title\": {\"text\": \"n_layers\"}}, \"xaxis8\": {\"anchor\": \"y8\", \"domain\": [0.7950617283950617, 0.8864197530864197], \"title\": {\"text\": \"num_negatives\"}}, \"xaxis9\": {\"anchor\": \"y9\", \"domain\": [0.908641975308642, 1.0], \"title\": {\"text\": \"user_embedding_dim\"}}, \"yaxis\": {\"anchor\": \"x\", \"domain\": [0.0, 1.0], \"title\": {\"text\": \"Objective Value\"}}, \"yaxis2\": {\"anchor\": \"x2\", \"domain\": [0.0, 1.0], \"matches\": \"y\", \"showticklabels\": false}, \"yaxis3\": {\"anchor\": \"x3\", \"domain\": [0.0, 1.0], \"matches\": \"y\", \"showticklabels\": false}, \"yaxis4\": {\"anchor\": \"x4\", \"domain\": [0.0, 1.0], \"matches\": \"y\", \"showticklabels\": false}, \"yaxis5\": {\"anchor\": \"x5\", \"domain\": [0.0, 1.0], \"matches\": \"y\", \"showticklabels\": false}, \"yaxis6\": {\"anchor\": \"x6\", \"domain\": [0.0, 1.0], \"matches\": \"y\", \"showticklabels\": false}, \"yaxis7\": {\"anchor\": \"x7\", \"domain\": [0.0, 1.0], \"matches\": \"y\", \"showticklabels\": false}, \"yaxis8\": {\"anchor\": \"x8\", \"domain\": [0.0, 1.0], \"matches\": \"y\", \"showticklabels\": false}, \"yaxis9\": {\"anchor\": \"x9\", \"domain\": [0.0, 1.0], \"matches\": \"y\", \"showticklabels\": false}},                        {\"responsive\": true}                    ).then(function(){\n",
       "                            \n",
       "var gd = document.getElementById('af94d870-c867-4e9c-817e-3dc7a6ee1247');\n",
       "var x = new MutationObserver(function (mutations, observer) {{\n",
       "        var display = window.getComputedStyle(gd).display;\n",
       "        if (!display || display === 'none') {{\n",
       "            console.log([gd, 'removed!']);\n",
       "            Plotly.purge(gd);\n",
       "            observer.disconnect();\n",
       "        }}\n",
       "}});\n",
       "\n",
       "// Listen for the removal of the full notebook cells\n",
       "var notebookContainer = gd.closest('#notebook-container');\n",
       "if (notebookContainer) {{\n",
       "    x.observe(notebookContainer, {childList: true});\n",
       "}}\n",
       "\n",
       "// Listen for the clearing of the current output cell\n",
       "var outputEl = gd.closest('.output');\n",
       "if (outputEl) {{\n",
       "    x.observe(outputEl, {childList: true});\n",
       "}}\n",
       "\n",
       "                        })                };                });            </script>        </div>"
      ]
     },
     "metadata": {},
     "output_type": "display_data"
    }
   ],
   "source": [
    "plot_slice(study)"
   ]
  },
  {
   "cell_type": "markdown",
   "metadata": {},
   "source": [
    "### Target Metric: NDCG"
   ]
  },
  {
   "cell_type": "code",
   "execution_count": 30,
   "metadata": {},
   "outputs": [],
   "source": [
    "# Experiment\n",
    "def objective(trial):\n",
    "\n",
    "    num_users = ratings['userID'].max() + 1\n",
    "    num_items = ratings['pageID'].max() + 1\n",
    "    all_pageIDs = ratings['pageURL'].unique()\n",
    "    \n",
    "    num_negatives = trial.suggest_int('num_negatives', 1, 10)\n",
    "    user_embedding_dim = trial.suggest_int('user_embedding_dim', 2, 50)\n",
    "    item_embedding_dim = trial.suggest_int('item_embedding_dim', 2, 50)\n",
    "    dropout = trial.suggest_float(\"dropout\", 0.1, 0.5)\n",
    "\n",
    "    n_layers = trial.suggest_int(\"n_layers\", 1, 3)\n",
    "    layers = [user_embedding_dim+item_embedding_dim] + [\n",
    "        trial.suggest_int(\"layer{}\".format(i+1), 4, 128, log=True) for i in range(n_layers)]\n",
    "\n",
    "    \n",
    "    # Build a model on training set\n",
    "    model = NeuralCF(train_ratings, user_embedding_dim, item_embedding_dim, layers, dropout, num_negatives)\n",
    "    \n",
    "    epochs = trial.suggest_int('epochs', 10, 30)\n",
    "    \n",
    "    trainer = pl.Trainer(max_epochs=epochs, gpus=1, reload_dataloaders_every_epoch=True,\n",
    "                         logger=True, checkpoint_callback=True, \n",
    "                        )\n",
    "\n",
    "    hyperparameters = dict(user_embedding_dim=user_embedding_dim, \n",
    "                           item_embedding_dim=item_embedding_dim,\n",
    "                           layers=layers,\n",
    "                           dropout=dropout,\n",
    "                           num_negatives=num_negatives)\n",
    "    trainer.logger.log_hyperparams(hyperparameters)\n",
    "    trainer.fit(model)\n",
    "    ndcg = ndcg_ratio(test_ratings, model)\n",
    "\n",
    "    return ndcg"
   ]
  },
  {
   "cell_type": "code",
   "execution_count": 31,
   "metadata": {},
   "outputs": [
    {
     "name": "stderr",
     "output_type": "stream",
     "text": [
      "\u001b[32m[I 2021-06-30 13:51:42,570]\u001b[0m A new study created in memory with name: no-name-5158e2a3-1728-4b2a-9f62-b05b1be5d840\u001b[0m\n",
      "GPU available: True, used: True\n",
      "TPU available: False, using: 0 TPU cores\n",
      "LOCAL_RANK: 0 - CUDA_VISIBLE_DEVICES: [0]\n",
      "\n",
      "  | Name           | Type       | Params\n",
      "----------------------------------------------\n",
      "0 | user_embedding | Embedding  | 145 K \n",
      "1 | item_embedding | Embedding  | 224 K \n",
      "2 | fc_layers      | ModuleList | 3.4 K \n",
      "3 | output         | Linear     | 11    \n",
      "----------------------------------------------\n",
      "373 K     Trainable params\n",
      "0         Non-trainable params\n",
      "373 K     Total params\n",
      "1.495     Total estimated model params size (MB)\n"
     ]
    },
    {
     "data": {
      "application/vnd.jupyter.widget-view+json": {
       "model_id": "76281591074a4fe393f914e634952127",
       "version_major": 2,
       "version_minor": 0
      },
      "text/plain": [
       "Training: 0it [00:00, ?it/s]"
      ]
     },
     "metadata": {},
     "output_type": "display_data"
    },
    {
     "data": {
      "application/vnd.jupyter.widget-view+json": {
       "model_id": "a762fa5eaff646938bc84f13a7a4d427",
       "version_major": 2,
       "version_minor": 0
      },
      "text/plain": [
       "  0%|          | 0/4415 [00:00<?, ?it/s]"
      ]
     },
     "metadata": {},
     "output_type": "display_data"
    },
    {
     "name": "stderr",
     "output_type": "stream",
     "text": [
      "\u001b[32m[I 2021-06-30 13:53:15,985]\u001b[0m Trial 0 finished with value: 0.667 and parameters: {'num_negatives': 3, 'user_embedding_dim': 33, 'item_embedding_dim': 34, 'dropout': 0.3438092706024386, 'n_layers': 2, 'layer1': 43, 'layer2': 10, 'epochs': 15}. Best is trial 0 with value: 0.667.\u001b[0m\n",
      "GPU available: True, used: True\n",
      "TPU available: False, using: 0 TPU cores\n",
      "LOCAL_RANK: 0 - CUDA_VISIBLE_DEVICES: [0]\n",
      "\n",
      "  | Name           | Type       | Params\n",
      "----------------------------------------------\n",
      "0 | user_embedding | Embedding  | 216 K \n",
      "1 | item_embedding | Embedding  | 290 K \n",
      "2 | fc_layers      | ModuleList | 742   \n",
      "3 | output         | Linear     | 31    \n",
      "----------------------------------------------\n",
      "507 K     Trainable params\n",
      "0         Non-trainable params\n",
      "507 K     Total params\n",
      "2.031     Total estimated model params size (MB)\n"
     ]
    },
    {
     "data": {
      "application/vnd.jupyter.widget-view+json": {
       "model_id": "829dbb6684e1428caaa72265827cc9f8",
       "version_major": 2,
       "version_minor": 0
      },
      "text/plain": [
       "Training: 0it [00:00, ?it/s]"
      ]
     },
     "metadata": {},
     "output_type": "display_data"
    },
    {
     "data": {
      "application/vnd.jupyter.widget-view+json": {
       "model_id": "a6528f8933d84e78ad293cca25a04b7d",
       "version_major": 2,
       "version_minor": 0
      },
      "text/plain": [
       "  0%|          | 0/4415 [00:00<?, ?it/s]"
      ]
     },
     "metadata": {},
     "output_type": "display_data"
    },
    {
     "name": "stderr",
     "output_type": "stream",
     "text": [
      "\u001b[32m[I 2021-06-30 13:54:35,051]\u001b[0m Trial 1 finished with value: 0.658 and parameters: {'num_negatives': 1, 'user_embedding_dim': 49, 'item_embedding_dim': 44, 'dropout': 0.29480482536347963, 'n_layers': 3, 'layer1': 6, 'layer2': 4, 'layer3': 30, 'epochs': 24}. Best is trial 0 with value: 0.667.\u001b[0m\n",
      "GPU available: True, used: True\n",
      "TPU available: False, using: 0 TPU cores\n",
      "LOCAL_RANK: 0 - CUDA_VISIBLE_DEVICES: [0]\n",
      "\n",
      "  | Name           | Type       | Params\n",
      "----------------------------------------------\n",
      "0 | user_embedding | Embedding  | 136 K \n",
      "1 | item_embedding | Embedding  | 125 K \n",
      "2 | fc_layers      | ModuleList | 789   \n",
      "3 | output         | Linear     | 10    \n",
      "----------------------------------------------\n",
      "263 K     Trainable params\n",
      "0         Non-trainable params\n",
      "263 K     Total params\n",
      "1.053     Total estimated model params size (MB)\n"
     ]
    },
    {
     "data": {
      "application/vnd.jupyter.widget-view+json": {
       "model_id": "41ad1e3ba98c49889d71f48341ab65da",
       "version_major": 2,
       "version_minor": 0
      },
      "text/plain": [
       "Training: 0it [00:00, ?it/s]"
      ]
     },
     "metadata": {},
     "output_type": "display_data"
    },
    {
     "data": {
      "application/vnd.jupyter.widget-view+json": {
       "model_id": "7fc283c8d4394674a3f33c9cc3e0c312",
       "version_major": 2,
       "version_minor": 0
      },
      "text/plain": [
       "  0%|          | 0/4415 [00:00<?, ?it/s]"
      ]
     },
     "metadata": {},
     "output_type": "display_data"
    },
    {
     "name": "stderr",
     "output_type": "stream",
     "text": [
      "\u001b[32m[I 2021-06-30 14:01:06,165]\u001b[0m Trial 2 finished with value: 0.585 and parameters: {'num_negatives': 10, 'user_embedding_dim': 31, 'item_embedding_dim': 19, 'dropout': 0.41013469189243357, 'n_layers': 2, 'layer1': 13, 'layer2': 9, 'epochs': 25}. Best is trial 0 with value: 0.667.\u001b[0m\n",
      "GPU available: True, used: True\n",
      "TPU available: False, using: 0 TPU cores\n",
      "LOCAL_RANK: 0 - CUDA_VISIBLE_DEVICES: [0]\n",
      "\n",
      "  | Name           | Type       | Params\n",
      "----------------------------------------------\n",
      "0 | user_embedding | Embedding  | 13.2 K\n",
      "1 | item_embedding | Embedding  | 284 K \n",
      "2 | fc_layers      | ModuleList | 5.7 K \n",
      "3 | output         | Linear     | 122   \n",
      "----------------------------------------------\n",
      "303 K     Trainable params\n",
      "0         Non-trainable params\n",
      "303 K     Total params\n",
      "1.212     Total estimated model params size (MB)\n"
     ]
    },
    {
     "data": {
      "application/vnd.jupyter.widget-view+json": {
       "model_id": "c86bd2786dbf4fb7abcf4b71e082e404",
       "version_major": 2,
       "version_minor": 0
      },
      "text/plain": [
       "Training: 0it [00:00, ?it/s]"
      ]
     },
     "metadata": {},
     "output_type": "display_data"
    },
    {
     "data": {
      "application/vnd.jupyter.widget-view+json": {
       "model_id": "33fe38dab082438080dd5681377b64d0",
       "version_major": 2,
       "version_minor": 0
      },
      "text/plain": [
       "  0%|          | 0/4415 [00:00<?, ?it/s]"
      ]
     },
     "metadata": {},
     "output_type": "display_data"
    },
    {
     "name": "stderr",
     "output_type": "stream",
     "text": [
      "\u001b[32m[I 2021-06-30 14:02:14,509]\u001b[0m Trial 3 finished with value: 0.698 and parameters: {'num_negatives': 1, 'user_embedding_dim': 3, 'item_embedding_dim': 43, 'dropout': 0.18598606810067886, 'n_layers': 1, 'layer1': 121, 'epochs': 23}. Best is trial 3 with value: 0.698.\u001b[0m\n",
      "GPU available: True, used: True\n",
      "TPU available: False, using: 0 TPU cores\n",
      "LOCAL_RANK: 0 - CUDA_VISIBLE_DEVICES: [0]\n",
      "\n",
      "  | Name           | Type       | Params\n",
      "----------------------------------------------\n",
      "0 | user_embedding | Embedding  | 198 K \n",
      "1 | item_embedding | Embedding  | 250 K \n",
      "2 | fc_layers      | ModuleList | 9.0 K \n",
      "3 | output         | Linear     | 66    \n",
      "----------------------------------------------\n",
      "458 K     Trainable params\n",
      "0         Non-trainable params\n",
      "458 K     Total params\n",
      "1.835     Total estimated model params size (MB)\n"
     ]
    },
    {
     "data": {
      "application/vnd.jupyter.widget-view+json": {
       "model_id": "8b588c2390094382832efdd79cec0c9e",
       "version_major": 2,
       "version_minor": 0
      },
      "text/plain": [
       "Training: 0it [00:00, ?it/s]"
      ]
     },
     "metadata": {},
     "output_type": "display_data"
    },
    {
     "data": {
      "application/vnd.jupyter.widget-view+json": {
       "model_id": "11f5c7fac92e450da308196ad469113e",
       "version_major": 2,
       "version_minor": 0
      },
      "text/plain": [
       "  0%|          | 0/4415 [00:00<?, ?it/s]"
      ]
     },
     "metadata": {},
     "output_type": "display_data"
    },
    {
     "name": "stderr",
     "output_type": "stream",
     "text": [
      "\u001b[32m[I 2021-06-30 14:05:17,948]\u001b[0m Trial 4 finished with value: 0.679 and parameters: {'num_negatives': 10, 'user_embedding_dim': 45, 'item_embedding_dim': 38, 'dropout': 0.13174486121948492, 'n_layers': 3, 'layer1': 10, 'layer2': 106, 'layer3': 65, 'epochs': 11}. Best is trial 3 with value: 0.698.\u001b[0m\n"
     ]
    },
    {
     "name": "stdout",
     "output_type": "stream",
     "text": [
      "Number of finished trials: 5\n",
      "Best trial:\n",
      "  Value: 0.698\n",
      "  Params: \n",
      "    num_negatives: 1\n",
      "    user_embedding_dim: 3\n",
      "    item_embedding_dim: 43\n",
      "    dropout: 0.18598606810067886\n",
      "    n_layers: 1\n",
      "    layer1: 121\n",
      "    epochs: 23\n"
     ]
    }
   ],
   "source": [
    "study = optuna.create_study(direction=\"maximize\")\n",
    "study.optimize(objective, n_trials=5)\n",
    " \n",
    "print(\"Number of finished trials: {}\".format(len(study.trials)))\n",
    " \n",
    "print(\"Best trial:\")\n",
    "trial = study.best_trial\n",
    " \n",
    "print(\"  Value: {}\".format(trial.value))\n",
    " \n",
    "print(\"  Params: \")\n",
    "for key, value in trial.params.items():\n",
    "    print(\"    {}: {}\".format(key, value))"
   ]
  },
  {
   "cell_type": "code",
   "execution_count": 93,
   "metadata": {},
   "outputs": [
    {
     "data": {
      "text/html": [
       "<div>\n",
       "<style scoped>\n",
       "    .dataframe tbody tr th:only-of-type {\n",
       "        vertical-align: middle;\n",
       "    }\n",
       "\n",
       "    .dataframe tbody tr th {\n",
       "        vertical-align: top;\n",
       "    }\n",
       "\n",
       "    .dataframe thead th {\n",
       "        text-align: right;\n",
       "    }\n",
       "</style>\n",
       "<table border=\"1\" class=\"dataframe\">\n",
       "  <thead>\n",
       "    <tr style=\"text-align: right;\">\n",
       "      <th></th>\n",
       "      <th>NDCG</th>\n",
       "      <th>dropout</th>\n",
       "      <th>epochs</th>\n",
       "      <th>item embedding dim</th>\n",
       "      <th>layer1</th>\n",
       "      <th>layer2</th>\n",
       "      <th>layer3</th>\n",
       "      <th>n layers</th>\n",
       "      <th>num negatives</th>\n",
       "      <th>user embedding dim</th>\n",
       "    </tr>\n",
       "  </thead>\n",
       "  <tbody>\n",
       "    <tr>\n",
       "      <th>0</th>\n",
       "      <td>0.667</td>\n",
       "      <td>0.343809</td>\n",
       "      <td>15</td>\n",
       "      <td>34</td>\n",
       "      <td>43</td>\n",
       "      <td>10.0</td>\n",
       "      <td>NaN</td>\n",
       "      <td>2</td>\n",
       "      <td>3</td>\n",
       "      <td>33</td>\n",
       "    </tr>\n",
       "    <tr>\n",
       "      <th>1</th>\n",
       "      <td>0.658</td>\n",
       "      <td>0.294805</td>\n",
       "      <td>24</td>\n",
       "      <td>44</td>\n",
       "      <td>6</td>\n",
       "      <td>4.0</td>\n",
       "      <td>30.0</td>\n",
       "      <td>3</td>\n",
       "      <td>1</td>\n",
       "      <td>49</td>\n",
       "    </tr>\n",
       "    <tr>\n",
       "      <th>2</th>\n",
       "      <td>0.585</td>\n",
       "      <td>0.410135</td>\n",
       "      <td>25</td>\n",
       "      <td>19</td>\n",
       "      <td>13</td>\n",
       "      <td>9.0</td>\n",
       "      <td>NaN</td>\n",
       "      <td>2</td>\n",
       "      <td>10</td>\n",
       "      <td>31</td>\n",
       "    </tr>\n",
       "    <tr>\n",
       "      <th>3</th>\n",
       "      <td>0.698</td>\n",
       "      <td>0.185986</td>\n",
       "      <td>23</td>\n",
       "      <td>43</td>\n",
       "      <td>121</td>\n",
       "      <td>NaN</td>\n",
       "      <td>NaN</td>\n",
       "      <td>1</td>\n",
       "      <td>1</td>\n",
       "      <td>3</td>\n",
       "    </tr>\n",
       "    <tr>\n",
       "      <th>4</th>\n",
       "      <td>0.679</td>\n",
       "      <td>0.131745</td>\n",
       "      <td>11</td>\n",
       "      <td>38</td>\n",
       "      <td>10</td>\n",
       "      <td>106.0</td>\n",
       "      <td>65.0</td>\n",
       "      <td>3</td>\n",
       "      <td>10</td>\n",
       "      <td>45</td>\n",
       "    </tr>\n",
       "  </tbody>\n",
       "</table>\n",
       "</div>"
      ],
      "text/plain": [
       "    NDCG   dropout  epochs  item embedding dim  layer1  layer2  layer3  \\\n",
       "0  0.667  0.343809      15                  34      43    10.0     NaN   \n",
       "1  0.658  0.294805      24                  44       6     4.0    30.0   \n",
       "2  0.585  0.410135      25                  19      13     9.0     NaN   \n",
       "3  0.698  0.185986      23                  43     121     NaN     NaN   \n",
       "4  0.679  0.131745      11                  38      10   106.0    65.0   \n",
       "\n",
       "   n layers  num negatives  user embedding dim  \n",
       "0         2              3                  33  \n",
       "1         3              1                  49  \n",
       "2         2             10                  31  \n",
       "3         1              1                   3  \n",
       "4         3             10                  45  "
      ]
     },
     "execution_count": 93,
     "metadata": {},
     "output_type": "execute_result"
    }
   ],
   "source": [
    "param_df = study.trials_dataframe().iloc[:, [1,5,6,7,8,9,10,11,12,13]].rename(columns={'value':'NDCG'})\n",
    "param_df.columns = [' '.join(col.split('_')[1:]) if col.startswith('params') else col for col in param_df.columns ]\n",
    "param_df#.sort_values(by='NDCG', ascending=False).reset_index(drop=True)"
   ]
  },
  {
   "cell_type": "code",
   "execution_count": null,
   "metadata": {},
   "outputs": [],
   "source": []
  }
 ],
 "metadata": {
  "kernelspec": {
   "display_name": "Python 3",
   "language": "python",
   "name": "python3"
  },
  "language_info": {
   "codemirror_mode": {
    "name": "ipython",
    "version": 3
   },
   "file_extension": ".py",
   "mimetype": "text/x-python",
   "name": "python",
   "nbconvert_exporter": "python",
   "pygments_lexer": "ipython3",
   "version": "3.9.2"
  }
 },
 "nbformat": 4,
 "nbformat_minor": 4
}
