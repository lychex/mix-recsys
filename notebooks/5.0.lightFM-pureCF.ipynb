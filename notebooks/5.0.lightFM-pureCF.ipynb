{
 "cells": [
  {
   "cell_type": "markdown",
   "id": "2b804981",
   "metadata": {},
   "source": [
    "## Collabrative Filtering and Hybrid Filtering\n",
    "### `LightFM` "
   ]
  },
  {
   "cell_type": "code",
   "execution_count": 1,
   "id": "1ba4f8c7",
   "metadata": {},
   "outputs": [
    {
     "name": "stderr",
     "output_type": "stream",
     "text": [
      "C:\\Users\\Lostcz\\anaconda3\\lib\\site-packages\\lightfm\\_lightfm_fast.py:9: UserWarning: LightFM was compiled without OpenMP support. Only a single thread will be used.\n",
      "  warnings.warn(\n"
     ]
    }
   ],
   "source": [
    "import pickle\n",
    "import re\n",
    "import time\n",
    "import math\n",
    "import itertools as it\n",
    "import random\n",
    "from datetime import datetime, timedelta\n",
    "\n",
    "import matplotlib.pyplot as plt\n",
    "import numpy as np\n",
    "import pandas as pd\n",
    "import seaborn as sns\n",
    "from lightfm import LightFM\n",
    "from lightfm.evaluation import auc_score\n",
    "from scipy import sparse\n",
    "from scipy.sparse import coo_matrix, csr_matrix\n",
    "from sklearn import preprocessing\n",
    "from sklearn.metrics import roc_auc_score\n",
    "from sklearn.model_selection import train_test_split\n",
    "import sys\n",
    "\n",
    "sys.path.append('./modules')\n",
    "\n",
    "np.random.seed(12)"
   ]
  },
  {
   "cell_type": "markdown",
   "id": "87df3b5e",
   "metadata": {},
   "source": [
    "## 1. Collaborative Filtering Model"
   ]
  },
  {
   "cell_type": "code",
   "execution_count": 2,
   "id": "242ca821",
   "metadata": {},
   "outputs": [],
   "source": [
    "data = pd.read_csv('cleaned.csv')"
   ]
  },
  {
   "cell_type": "code",
   "execution_count": 3,
   "id": "2f5dbd3c",
   "metadata": {},
   "outputs": [
    {
     "data": {
      "text/plain": [
       "uid         0\n",
       "page        0\n",
       "pageURL     0\n",
       "datetime    0\n",
       "interest    0\n",
       "category    0\n",
       "dtype: int64"
      ]
     },
     "execution_count": 3,
     "metadata": {},
     "output_type": "execute_result"
    }
   ],
   "source": [
    "data.isna().sum()"
   ]
  },
  {
   "cell_type": "code",
   "execution_count": 4,
   "id": "ddb161a2",
   "metadata": {},
   "outputs": [],
   "source": [
    "page_df = pd.read_csv('./../databases/csv-data/cleaned.csv', encoding='utf-8')[['pageURL', 'page', 'category']]"
   ]
  },
  {
   "cell_type": "code",
   "execution_count": 5,
   "id": "bbe9060a",
   "metadata": {},
   "outputs": [],
   "source": [
    "# Load the data\n",
    "ratings = pd.read_csv('./../databases/csv-data/cleaned.csv', parse_dates=['datetime'])\n",
    "ratings = ratings[['uid', 'page', 'pageURL', 'interest', 'datetime']]\n",
    "ratings.loc[:, 'interest'] = 1\n",
    "# Filter out users with less than 2 pageviews\n",
    "ratings = ratings.groupby(['uid']).filter(lambda x: len(x) > 1).reset_index(drop=True)\n",
    "ratings['rank_latest'] = ratings.groupby(['uid'])['datetime'].rank(method='first', ascending=False)"
   ]
  },
  {
   "cell_type": "code",
   "execution_count": 6,
   "id": "06498d05",
   "metadata": {},
   "outputs": [],
   "source": [
    "train_ratings = ratings[ratings['rank_latest'] != 1][['uid', 'pageURL', 'interest']]\n",
    "test_ratings = ratings[ratings['rank_latest'] == 1]"
   ]
  },
  {
   "cell_type": "code",
   "execution_count": 7,
   "id": "fad171cc",
   "metadata": {},
   "outputs": [],
   "source": [
    "def create_interaction_matrix(df, user_col, item_col, rating_col, norm=True):\n",
    "\n",
    "    interactions = df.groupby([user_col, item_col])[rating_col] \\\n",
    "            .sum().unstack().reset_index(). \\\n",
    "            fillna(0).set_index(user_col)\n",
    "    if norm:\n",
    "        interactions = interactions.applymap(lambda x: 1 if x > 0 else 0)\n",
    "    else:\n",
    "        interactions = interactions\n",
    "    return interactions"
   ]
  },
  {
   "cell_type": "code",
   "execution_count": 8,
   "id": "9e14b8ad",
   "metadata": {},
   "outputs": [
    {
     "data": {
      "text/plain": [
       "(4415, 6605)"
      ]
     },
     "execution_count": 8,
     "metadata": {},
     "output_type": "execute_result"
    }
   ],
   "source": [
    "interactions = create_interaction_matrix(ratings, 'uid', 'pageURL', 'interest')\n",
    "interactions.shape"
   ]
  },
  {
   "cell_type": "code",
   "execution_count": 9,
   "id": "4fd77a62",
   "metadata": {},
   "outputs": [],
   "source": [
    "def create_subset_interactions(interactions, subset_ratings):\n",
    "    interactions = interactions.reset_index()\n",
    "    interactons_melt = interactions.melt(id_vars='uid', var_name='pageURL', value_name='rating')\n",
    "    interactons_melt.drop(columns=['rating'], inplace=True)\n",
    "    subset_ratings = interactons_melt.merge(subset_ratings, on=['uid', 'pageURL'], how='left')\n",
    "    subset_ratings['interest'].replace(np.nan, 0, inplace=True)\n",
    "    subset_interactions = create_interaction_matrix(subset_ratings, 'uid', 'pageURL', 'interest')\n",
    "    return subset_interactions"
   ]
  },
  {
   "cell_type": "code",
   "execution_count": 10,
   "id": "36d43653",
   "metadata": {},
   "outputs": [],
   "source": [
    "train_interactions = create_subset_interactions(interactions, train_ratings)\n",
    "train_data = sparse.coo_matrix(train_interactions)"
   ]
  },
  {
   "cell_type": "code",
   "execution_count": 11,
   "id": "ded15096",
   "metadata": {},
   "outputs": [
    {
     "data": {
      "text/plain": [
       "26703"
      ]
     },
     "execution_count": 11,
     "metadata": {},
     "output_type": "execute_result"
    }
   ],
   "source": [
    "sum(sum(train_interactions.values))"
   ]
  },
  {
   "cell_type": "code",
   "execution_count": 12,
   "id": "50894571",
   "metadata": {},
   "outputs": [],
   "source": [
    "test_interactions = create_subset_interactions(interactions, test_ratings)\n",
    "test_data = sparse.coo_matrix(test_interactions)"
   ]
  },
  {
   "cell_type": "code",
   "execution_count": 13,
   "id": "0f79f23b",
   "metadata": {},
   "outputs": [
    {
     "data": {
      "text/plain": [
       "4415"
      ]
     },
     "execution_count": 13,
     "metadata": {},
     "output_type": "execute_result"
    }
   ],
   "source": [
    "sum(sum(test_interactions.values))"
   ]
  },
  {
   "cell_type": "code",
   "execution_count": 14,
   "id": "fbfaccdc",
   "metadata": {},
   "outputs": [
    {
     "data": {
      "text/plain": [
       "0.9989328925631171"
      ]
     },
     "execution_count": 14,
     "metadata": {},
     "output_type": "execute_result"
    }
   ],
   "source": [
    "non_zero = np.count_nonzero(interactions)\n",
    "total_value = np.product(interactions.shape)\n",
    "sparsity = (total_value - non_zero) / total_value\n",
    "sparsity"
   ]
  },
  {
   "cell_type": "markdown",
   "id": "71bfc262",
   "metadata": {},
   "source": [
    "### Train model"
   ]
  },
  {
   "cell_type": "code",
   "execution_count": 15,
   "id": "5e163b67",
   "metadata": {},
   "outputs": [],
   "source": [
    "import json\n",
    "import operator\n",
    "import pickle as pkl\n",
    "import random\n",
    "import time\n",
    "from collections import Counter\n",
    "from itertools import product\n",
    "\n",
    "import numpy as np\n",
    "import pandas as pd\n",
    "import scipy\n",
    "from lightfm import LightFM\n",
    "from lightfm.evaluation import (auc_score, precision_at_k, recall_at_k, reciprocal_rank)\n",
    "from pandas.io.json import json_normalize\n",
    "from scipy.sparse import csr_matrix\n",
    "from sklearn.model_selection import StratifiedKFold, train_test_split"
   ]
  },
  {
   "cell_type": "markdown",
   "id": "47a64ca8",
   "metadata": {},
   "source": [
    "#### collaborative filtering - bpr"
   ]
  },
  {
   "cell_type": "code",
   "execution_count": 16,
   "id": "a2295de4",
   "metadata": {},
   "outputs": [],
   "source": [
    "# model_bpr = LightFM(\n",
    "#     no_components=30,\n",
    "#     learning_schedule='adagrad',\n",
    "#     loss='bpr',\n",
    "#     learning_rate=0.05,\n",
    "#     rho=0.95,\n",
    "#     epsilon=1e-05,\n",
    "#     item_alpha=0.001,\n",
    "#     user_alpha=0.001,\n",
    "#     random_state=12)\n",
    "\n",
    "# start_time = time.time()\n",
    "# model_bpr.fit(train_data, epochs=15, num_threads=1)\n",
    "# end_time = time.time()\n",
    "# print('Time taken for model train: {} secs'.format(round((end_time - start_time), 2)))"
   ]
  },
  {
   "cell_type": "code",
   "execution_count": 17,
   "id": "b2be1826",
   "metadata": {},
   "outputs": [],
   "source": [
    "def run_model(model, train, test, item_feat=None, user_feat=None):\n",
    "    train_auc = auc_score(model, \n",
    "                          train, \n",
    "                          item_features=item_feat,\n",
    "                          user_features=user_feat).mean()\n",
    "    print('AUC: train %.3f.' % (train_auc))\n",
    "\n",
    "    test_auc = auc_score(model, \n",
    "                         test, \n",
    "                         train,\n",
    "                         item_features=item_feat,\n",
    "                         user_features=user_feat).mean()\n",
    "    print('AUC: test %.3f.' % (test_auc))\n",
    "#     return train_auc, test_auc"
   ]
  },
  {
   "cell_type": "code",
   "execution_count": 18,
   "id": "4a1ab58c",
   "metadata": {},
   "outputs": [],
   "source": [
    "# run_model(model_bpr, train_data, test_data)"
   ]
  },
  {
   "cell_type": "markdown",
   "id": "b9fdadf2",
   "metadata": {},
   "source": [
    "#### collaborative filtering - warp"
   ]
  },
  {
   "cell_type": "code",
   "execution_count": 19,
   "id": "4e68c590",
   "metadata": {},
   "outputs": [],
   "source": [
    "# model_warp = LightFM(\n",
    "#     no_components=30,\n",
    "#     learning_schedule='adagrad',\n",
    "#     loss='warp',\n",
    "#     random_state=12)\n",
    "\n",
    "# start_time = time.time()\n",
    "# model_warp.fit(train_data, epochs=15, num_threads=1)\n",
    "# end_time = time.time()\n",
    "# print('Time taken for model train: {} secs'.format(round((end_time - start_time), 2)))"
   ]
  },
  {
   "cell_type": "code",
   "execution_count": 20,
   "id": "2a4dec80",
   "metadata": {},
   "outputs": [],
   "source": [
    "# run_model(model_warp, train_data, test_data)"
   ]
  },
  {
   "cell_type": "code",
   "execution_count": 21,
   "id": "ea436156",
   "metadata": {},
   "outputs": [],
   "source": [
    "# train_interactions = pd.DataFrame(train_val_data.todense(), index=uid, columns=iid)\n",
    "# train_interactions"
   ]
  },
  {
   "cell_type": "code",
   "execution_count": 22,
   "id": "5ec8e9a4",
   "metadata": {},
   "outputs": [],
   "source": [
    "def create_combinations(parameters):\n",
    "    combinations = [dict(zip(parameters.keys(), values)) for values in it.product(*parameters.values())]\n",
    "    return combinations"
   ]
  },
  {
   "cell_type": "code",
   "execution_count": 23,
   "id": "808fb0b8",
   "metadata": {},
   "outputs": [],
   "source": [
    "# possible_parameters =    {\n",
    "#                         'no_components': [2,4,6,8,10,20,30,40,50,60,70,80],\n",
    "#                         'learning_schedule': ['adagrad','adadelta'],\n",
    "#                         'loss': ['bpr','warp'],\n",
    "#                         'learning_rate': [0.05,0.01,0.005,0.001],\n",
    "#                         'rho': [0.99,0.97,0.95,0.92,0.90,0.87,0.85,0.82,0.80],\n",
    "#                         'epsilon': [1e-3,1e-04,1e-05,1e-06,1e-07],\n",
    "#                         'item_alpha': [0.1,0.05,0.01,0.005,0.001,0.0005,0.0001],\n",
    "#                         'user_alpha': [0.1,0.05,0.01,0.005,0.001,0.0005,0.0001],\n",
    "#                         'random_state': [12]\n",
    "#                         }\n",
    "# parameter_combinations = create_combinations(possible_parameters)"
   ]
  },
  {
   "cell_type": "code",
   "execution_count": 24,
   "id": "d852dad9",
   "metadata": {},
   "outputs": [],
   "source": [
    "def hyperparameter_search(train_data, val_data, parameter_combinations, \n",
    "                                n_iter=2, epochs=15,  num_threads=1, verbose=False):\n",
    "    df_list = []\n",
    "    for parameters in random.sample(parameter_combinations, n_iter):\n",
    "        auc_sum = []\n",
    "        start_time = time.time()\n",
    "  \n",
    "        model = LightFM(**parameters)\n",
    "        model.fit(train_data,\n",
    "                      epochs=epochs,\n",
    "                      num_threads=num_threads)\n",
    "        auc = auc_score(model, val_data, train_data, num_threads=num_threads).mean()\n",
    "        auc_sum.append(auc)\n",
    "        \n",
    "        \n",
    "        model = LightFM(**parameters)\n",
    "        params = model.get_params()\n",
    "        params['auc'] = np.mean(auc_sum)\n",
    "        params['epochs'] = epochs\n",
    "        params['random_state'] = 5\n",
    "        df = pd.DataFrame([params])\n",
    "        end_time = time.time()\n",
    "        if verbose:\n",
    "            print('Time for training one set of parameters: {} secs'.format(round((end_time - start_time), 2)))\n",
    "        df_list.append(df)\n",
    "        \n",
    "    return pd.concat(df_list, axis=0).sort_values(['auc'], ascending=False)"
   ]
  },
  {
   "cell_type": "code",
   "execution_count": 25,
   "id": "f5328a3f",
   "metadata": {
    "scrolled": true
   },
   "outputs": [],
   "source": [
    "# table = hyperparameter_search(train_data, test_data, parameter_combinations, n_iter=10, \n",
    "#                           epochs=15, num_threads=1, verbose=True)"
   ]
  },
  {
   "cell_type": "code",
   "execution_count": 26,
   "id": "c3c64302",
   "metadata": {
    "scrolled": false
   },
   "outputs": [],
   "source": [
    "# table"
   ]
  },
  {
   "cell_type": "code",
   "execution_count": 27,
   "id": "ba908677",
   "metadata": {},
   "outputs": [],
   "source": [
    "def find_best_params(table):\n",
    "    best = table.iloc[0].to_dict()\n",
    "    del best['auc']\n",
    "    del best['epochs']\n",
    "    return best"
   ]
  },
  {
   "cell_type": "code",
   "execution_count": 28,
   "id": "27682e4e",
   "metadata": {},
   "outputs": [],
   "source": [
    "# best_params = find_best_params(table)"
   ]
  },
  {
   "cell_type": "code",
   "execution_count": 29,
   "id": "69938f74",
   "metadata": {},
   "outputs": [],
   "source": [
    "# best_params"
   ]
  },
  {
   "cell_type": "code",
   "execution_count": 30,
   "id": "fa7eae34",
   "metadata": {},
   "outputs": [],
   "source": [
    "# start_time = time.time()\n",
    "\n",
    "# model_cf = LightFM(**best_params)\n",
    "# model_cf.fit(train_data,\n",
    "#             epochs=15,\n",
    "#             num_threads=1)\n",
    "\n",
    "# end_time = time.time()\n",
    "# print('Time taken for model train: {} secs'.format(round((end_time - start_time), 2)))"
   ]
  },
  {
   "cell_type": "markdown",
   "id": "8e58f9e2",
   "metadata": {},
   "source": [
    "### Hyperparameter Searching II"
   ]
  },
  {
   "cell_type": "code",
   "execution_count": 31,
   "id": "3c232ac6",
   "metadata": {},
   "outputs": [],
   "source": [
    "def sample_hyperparameters():\n",
    "\n",
    "    while True:\n",
    "        yield {\n",
    "            \"no_components\": np.random.randint(2, 64),\n",
    "            \"learning_schedule\": np.random.choice([\"adagrad\", \"adadelta\"]),\n",
    "            \"loss\": np.random.choice([\"bpr\", \"warp\"]),\n",
    "            \"learning_rate\": np.random.exponential(0.05),\n",
    "#             \"item_alpha\": np.random.exponential(1e-8),\n",
    "#             \"user_alpha\": np.random.exponential(1e-8),\n",
    "            \"max_sampled\": np.random.randint(1, 20),\n",
    "            \"num_epochs\": np.random.randint(5, 50),\n",
    "        }\n",
    "\n",
    "\n",
    "def random_search(train, test, num_samples=10, num_threads=1):\n",
    "    result_list = []\n",
    "    for hyperparams in it.islice(sample_hyperparameters(), num_samples):\n",
    "        num_epochs = hyperparams.pop(\"num_epochs\")\n",
    "\n",
    "        model = LightFM(**hyperparams)\n",
    "        model.fit(train, epochs=num_epochs, num_threads=num_threads)\n",
    "        score = auc_score(model, test, train_interactions=train, num_threads=num_threads).mean()\n",
    "        hyperparams[\"num_epochs\"] = num_epochs\n",
    "\n",
    "        result = hyperparams.copy()\n",
    "        result['score'] = score\n",
    "        result_list.append(result)\n",
    "    return pd.DataFrame(result_list).sort_values(['score'], ascending=False).reset_index(drop=True)"
   ]
  },
  {
   "cell_type": "code",
   "execution_count": 32,
   "id": "d3689b85",
   "metadata": {},
   "outputs": [
    {
     "data": {
      "text/html": [
       "<div>\n",
       "<style scoped>\n",
       "    .dataframe tbody tr th:only-of-type {\n",
       "        vertical-align: middle;\n",
       "    }\n",
       "\n",
       "    .dataframe tbody tr th {\n",
       "        vertical-align: top;\n",
       "    }\n",
       "\n",
       "    .dataframe thead th {\n",
       "        text-align: right;\n",
       "    }\n",
       "</style>\n",
       "<table border=\"1\" class=\"dataframe\">\n",
       "  <thead>\n",
       "    <tr style=\"text-align: right;\">\n",
       "      <th></th>\n",
       "      <th>no_components</th>\n",
       "      <th>learning_schedule</th>\n",
       "      <th>loss</th>\n",
       "      <th>learning_rate</th>\n",
       "      <th>max_sampled</th>\n",
       "      <th>num_epochs</th>\n",
       "      <th>score</th>\n",
       "    </tr>\n",
       "  </thead>\n",
       "  <tbody>\n",
       "    <tr>\n",
       "      <th>0</th>\n",
       "      <td>55</td>\n",
       "      <td>adadelta</td>\n",
       "      <td>warp</td>\n",
       "      <td>0.026098</td>\n",
       "      <td>11</td>\n",
       "      <td>11</td>\n",
       "      <td>0.926851</td>\n",
       "    </tr>\n",
       "    <tr>\n",
       "      <th>1</th>\n",
       "      <td>35</td>\n",
       "      <td>adagrad</td>\n",
       "      <td>warp</td>\n",
       "      <td>0.033216</td>\n",
       "      <td>19</td>\n",
       "      <td>27</td>\n",
       "      <td>0.924608</td>\n",
       "    </tr>\n",
       "    <tr>\n",
       "      <th>2</th>\n",
       "      <td>45</td>\n",
       "      <td>adagrad</td>\n",
       "      <td>warp</td>\n",
       "      <td>0.012272</td>\n",
       "      <td>5</td>\n",
       "      <td>16</td>\n",
       "      <td>0.910729</td>\n",
       "    </tr>\n",
       "    <tr>\n",
       "      <th>3</th>\n",
       "      <td>27</td>\n",
       "      <td>adagrad</td>\n",
       "      <td>warp</td>\n",
       "      <td>0.007379</td>\n",
       "      <td>1</td>\n",
       "      <td>45</td>\n",
       "      <td>0.910063</td>\n",
       "    </tr>\n",
       "    <tr>\n",
       "      <th>4</th>\n",
       "      <td>13</td>\n",
       "      <td>adadelta</td>\n",
       "      <td>bpr</td>\n",
       "      <td>0.103331</td>\n",
       "      <td>3</td>\n",
       "      <td>8</td>\n",
       "      <td>0.671750</td>\n",
       "    </tr>\n",
       "    <tr>\n",
       "      <th>5</th>\n",
       "      <td>56</td>\n",
       "      <td>adadelta</td>\n",
       "      <td>bpr</td>\n",
       "      <td>0.060638</td>\n",
       "      <td>5</td>\n",
       "      <td>6</td>\n",
       "      <td>0.659042</td>\n",
       "    </tr>\n",
       "    <tr>\n",
       "      <th>6</th>\n",
       "      <td>5</td>\n",
       "      <td>adagrad</td>\n",
       "      <td>bpr</td>\n",
       "      <td>0.125509</td>\n",
       "      <td>6</td>\n",
       "      <td>18</td>\n",
       "      <td>0.622992</td>\n",
       "    </tr>\n",
       "    <tr>\n",
       "      <th>7</th>\n",
       "      <td>52</td>\n",
       "      <td>adagrad</td>\n",
       "      <td>bpr</td>\n",
       "      <td>0.041407</td>\n",
       "      <td>14</td>\n",
       "      <td>14</td>\n",
       "      <td>0.617560</td>\n",
       "    </tr>\n",
       "    <tr>\n",
       "      <th>8</th>\n",
       "      <td>14</td>\n",
       "      <td>adadelta</td>\n",
       "      <td>bpr</td>\n",
       "      <td>0.095776</td>\n",
       "      <td>5</td>\n",
       "      <td>40</td>\n",
       "      <td>0.616489</td>\n",
       "    </tr>\n",
       "    <tr>\n",
       "      <th>9</th>\n",
       "      <td>47</td>\n",
       "      <td>adagrad</td>\n",
       "      <td>bpr</td>\n",
       "      <td>0.018546</td>\n",
       "      <td>16</td>\n",
       "      <td>30</td>\n",
       "      <td>0.594675</td>\n",
       "    </tr>\n",
       "  </tbody>\n",
       "</table>\n",
       "</div>"
      ],
      "text/plain": [
       "   no_components learning_schedule  loss  learning_rate  max_sampled  \\\n",
       "0             55          adadelta  warp       0.026098           11   \n",
       "1             35           adagrad  warp       0.033216           19   \n",
       "2             45           adagrad  warp       0.012272            5   \n",
       "3             27           adagrad  warp       0.007379            1   \n",
       "4             13          adadelta   bpr       0.103331            3   \n",
       "5             56          adadelta   bpr       0.060638            5   \n",
       "6              5           adagrad   bpr       0.125509            6   \n",
       "7             52           adagrad   bpr       0.041407           14   \n",
       "8             14          adadelta   bpr       0.095776            5   \n",
       "9             47           adagrad   bpr       0.018546           16   \n",
       "\n",
       "   num_epochs     score  \n",
       "0          11  0.926851  \n",
       "1          27  0.924608  \n",
       "2          16  0.910729  \n",
       "3          45  0.910063  \n",
       "4           8  0.671750  \n",
       "5           6  0.659042  \n",
       "6          18  0.622992  \n",
       "7          14  0.617560  \n",
       "8          40  0.616489  \n",
       "9          30  0.594675  "
      ]
     },
     "execution_count": 32,
     "metadata": {},
     "output_type": "execute_result"
    }
   ],
   "source": [
    "table = random_search(train_data, test_data, num_threads=1)\n",
    "table"
   ]
  },
  {
   "cell_type": "code",
   "execution_count": 33,
   "id": "174311bb",
   "metadata": {},
   "outputs": [],
   "source": [
    "def get_best_params(table):\n",
    "    best_params = table.iloc[0].to_dict()\n",
    "    del best_params['score']\n",
    "    num_epochs = best_params.pop(\"num_epochs\")\n",
    "    return best_params, num_epochs"
   ]
  },
  {
   "cell_type": "code",
   "execution_count": 34,
   "id": "9c1117db",
   "metadata": {
    "scrolled": true
   },
   "outputs": [
    {
     "data": {
      "text/plain": [
       "11"
      ]
     },
     "execution_count": 34,
     "metadata": {},
     "output_type": "execute_result"
    }
   ],
   "source": [
    "# Get best parameters and number of epochs\n",
    "best_params, num_epochs = get_best_params(table)\n",
    "num_epochs"
   ]
  },
  {
   "cell_type": "code",
   "execution_count": 35,
   "id": "b2dbb21b",
   "metadata": {},
   "outputs": [],
   "source": [
    "params_warp = best_params\n",
    "params_warp['loss'] = 'warp'"
   ]
  },
  {
   "cell_type": "code",
   "execution_count": 36,
   "id": "a8344ea2",
   "metadata": {},
   "outputs": [
    {
     "data": {
      "text/plain": [
       "{'no_components': 55,\n",
       " 'learning_schedule': 'adadelta',\n",
       " 'loss': 'warp',\n",
       " 'learning_rate': 0.026097724509700826,\n",
       " 'max_sampled': 11}"
      ]
     },
     "execution_count": 36,
     "metadata": {},
     "output_type": "execute_result"
    }
   ],
   "source": [
    "params_warp"
   ]
  },
  {
   "cell_type": "code",
   "execution_count": 37,
   "id": "d1d34e17",
   "metadata": {},
   "outputs": [
    {
     "name": "stdout",
     "output_type": "stream",
     "text": [
      "Time taken for model train: 4.46 secs\n"
     ]
    }
   ],
   "source": [
    "# Get model with best parameters\n",
    "model_warp = LightFM(**params_warp, random_state=12)\n",
    "\n",
    "# Time model fitting\n",
    "start_time = time.time()\n",
    "model_warp.fit(train_data,\n",
    "                item_features=None,\n",
    "                user_features=None,\n",
    "                epochs=num_epochs,\n",
    "                num_threads=1)\n",
    "\n",
    "end_time = time.time()\n",
    "print('Time taken for model train: {} secs'.format(round((end_time - start_time), 2)))"
   ]
  },
  {
   "cell_type": "code",
   "execution_count": 38,
   "id": "03d279ab",
   "metadata": {},
   "outputs": [
    {
     "name": "stdout",
     "output_type": "stream",
     "text": [
      "AUC: train 0.988.\n",
      "AUC: test 0.930.\n"
     ]
    }
   ],
   "source": [
    "run_model(model_warp, train_data, test_data)"
   ]
  },
  {
   "cell_type": "code",
   "execution_count": 39,
   "id": "e30aadbc",
   "metadata": {},
   "outputs": [],
   "source": [
    "params_bpr = best_params\n",
    "params_bpr['loss'] = 'bpr'"
   ]
  },
  {
   "cell_type": "code",
   "execution_count": 40,
   "id": "5f3ea1b0",
   "metadata": {},
   "outputs": [
    {
     "data": {
      "text/plain": [
       "{'no_components': 55,\n",
       " 'learning_schedule': 'adadelta',\n",
       " 'loss': 'bpr',\n",
       " 'learning_rate': 0.026097724509700826,\n",
       " 'max_sampled': 11}"
      ]
     },
     "execution_count": 40,
     "metadata": {},
     "output_type": "execute_result"
    }
   ],
   "source": [
    "params_bpr"
   ]
  },
  {
   "cell_type": "code",
   "execution_count": 41,
   "id": "0a1b59dd",
   "metadata": {},
   "outputs": [
    {
     "name": "stdout",
     "output_type": "stream",
     "text": [
      "Time taken for model train: 8.36 secs\n"
     ]
    }
   ],
   "source": [
    "# Get model with best parameters\n",
    "model_bpr = LightFM(**params_bpr, random_state=12)\n",
    "\n",
    "# Time model fitting\n",
    "start_time = time.time()\n",
    "model_bpr.fit(train_data,\n",
    "                item_features=None,\n",
    "                user_features=None,\n",
    "                epochs=num_epochs,\n",
    "                num_threads=1)\n",
    "\n",
    "end_time = time.time()\n",
    "print('Time taken for model train: {} secs'.format(round((end_time - start_time), 2)))"
   ]
  },
  {
   "cell_type": "code",
   "execution_count": 42,
   "id": "db4414da",
   "metadata": {},
   "outputs": [
    {
     "name": "stdout",
     "output_type": "stream",
     "text": [
      "AUC: train 0.935.\n",
      "AUC: test 0.628.\n"
     ]
    }
   ],
   "source": [
    "run_model(model_bpr, train_data, test_data)"
   ]
  },
  {
   "cell_type": "markdown",
   "id": "d78dfc52",
   "metadata": {},
   "source": [
    "### Make Recommendations"
   ]
  },
  {
   "cell_type": "code",
   "execution_count": 43,
   "id": "1853a7b6",
   "metadata": {},
   "outputs": [],
   "source": [
    "def user_item_dicts(interactions, item_df):\n",
    "    user_ids = list(interactions.index)\n",
    "    user_dict = {}\n",
    "    counter = 0 \n",
    "    for i in user_ids:\n",
    "        user_dict[i] = counter\n",
    "        counter += 1\n",
    "\n",
    "    item_dict ={}\n",
    "    for i in range(item_df.shape[0]):\n",
    "        item_dict[(item_df.loc[i,'pageURL'])] = item_df.loc[i,'page']\n",
    "    \n",
    "    return user_dict, item_dict"
   ]
  },
  {
   "cell_type": "code",
   "execution_count": 44,
   "id": "af6280fa",
   "metadata": {},
   "outputs": [],
   "source": [
    "user_dict, page_dict = user_item_dicts(interactions, page_df)"
   ]
  },
  {
   "cell_type": "code",
   "execution_count": 45,
   "id": "cf722eb3",
   "metadata": {},
   "outputs": [],
   "source": [
    "def items_for_user(model, train_interactions, user_id:str, user_dict, \n",
    "                               item_dict, num_rec_items = 10):\n",
    "    \"\"\"Produce user recommendations\"\"\"\n",
    "    \n",
    "    n_users, n_items = interactions.shape\n",
    "    user_x = user_dict[user_id]\n",
    "    scores = pd.Series(model.predict(user_x, np.arange(n_items)))\n",
    "    scores.index = interactions.columns\n",
    "    scores = list(pd.Series(scores.sort_values(ascending=False).index))\n",
    "    \n",
    "    known_items = list(pd.Series(train_interactions.loc[user_id,:][train_interactions.loc[user_id,:] \n",
    "                                                                   > 0].index).sort_values(ascending=False))\n",
    "    \n",
    "    scores = [x for x in scores if x not in known_items]\n",
    "    score_list = scores[0: num_rec_items]\n",
    "    known_items = list(pd.Series(known_items).apply(lambda x: item_dict[x]))\n",
    "    scores = list(pd.Series(score_list).apply(lambda x: item_dict[x]))\n",
    "\n",
    "    print(\"Pages user previously viewed:\")\n",
    "    counter = 1\n",
    "    for i in known_items[: 100]:\n",
    "        print(str(counter) + '- ' + i)\n",
    "        counter+=1\n",
    "\n",
    "    print(\"\\nRecommended pages:\")\n",
    "    counter = 1\n",
    "    for i in scores:\n",
    "        print(str(counter) + '- ' + i)\n",
    "        counter+=1"
   ]
  },
  {
   "cell_type": "code",
   "execution_count": 46,
   "id": "c9cc57a5",
   "metadata": {
    "scrolled": false
   },
   "outputs": [
    {
     "name": "stdout",
     "output_type": "stream",
     "text": [
      "Pages user previously viewed:\n",
      "1- Coke and your nose - The Mix\n",
      "2- Cocaine - The Mix\n",
      "\n",
      "Recommended pages:\n",
      "1- The Mix - Essential support for under 25s\n",
      "2- Speak to Our Team - The Mix\n",
      "3- Get Support - The Mix\n",
      "4- Mental Health - The Mix\n",
      "5- The Mix Counselling Service - The Mix\n",
      "6- Crisis Messenger - The Mix\n",
      "7- Apps and Tools - The Mix\n",
      "8- About Us - The Mix\n",
      "9- Email us - The Mix\n",
      "10- Meet our team - The Mix\n"
     ]
    }
   ],
   "source": [
    "items_for_user(model_warp, train_interactions, \"012a363175ab8c0dbbbd51b6201389ba\", user_dict, \n",
    "                               page_dict, num_rec_items = 10)"
   ]
  },
  {
   "cell_type": "code",
   "execution_count": 47,
   "id": "3732dce1",
   "metadata": {},
   "outputs": [],
   "source": [
    "pd.set_option('max_colwidth', 400)\n",
    "\n",
    "from IPython.display import display_html\n",
    "\n",
    "def display_side_by_side(*args):\n",
    "    html_str = ''\n",
    "    for df in args:\n",
    "        html_str += df.to_html()\n",
    "    display_html(html_str.replace('table','table style=\"display:inline\"'), raw=True)"
   ]
  },
  {
   "cell_type": "code",
   "execution_count": 180,
   "id": "15c9b606",
   "metadata": {},
   "outputs": [],
   "source": [
    "def recommendation_for_user(model, user_id):\n",
    "    target_pageURL = test_ratings[test_ratings.uid==user_id]['pageURL'].values[0]\n",
    "    n_users, n_items = interactions.shape\n",
    "    user_x = user_dict[user_id]\n",
    "    scores = pd.Series(model.predict(user_x, np.arange(n_items)))\n",
    "    scores.index = interactions.columns\n",
    "\n",
    "\n",
    "    matrix = interactions\n",
    "    mask = (matrix[matrix.index==user_id]==0).values[0]\n",
    "    np.random.seed(123)\n",
    "    test_items = list(np.random.choice(matrix.columns[mask], 99)) + [target_pageURL]\n",
    "    hit_items = scores[scores.index.isin(test_items)].sort_values(ascending=False).index[:10]\n",
    "\n",
    "    if target_pageURL in hit_items:\n",
    "        hit_status=1\n",
    "    else:\n",
    "        hit_status=0\n",
    "\n",
    "    top10_pageURLs = scores.to_frame(name='score').reindex(test_items).sort_values(by='score', ascending=False).index[:10]\n",
    "\n",
    "\n",
    "    page_list = []\n",
    "    for url in list(top10_pageURLs):\n",
    "        page_list.append(ratings[ratings['pageURL'] == url].page.unique()[0])\n",
    "\n",
    "    recom_page_df = pd.DataFrame(page_list, columns=[ 'Top 10 Recommended Pages'])\n",
    "\n",
    "    previous_page_df = pd.DataFrame(ratings[(ratings['uid'] ==user_id) & (ratings['rank_latest']!=1)]['page'])\\\n",
    "    .rename(columns={'page':'Pages Previously Viewed'})\n",
    "\n",
    "    test_page_df = pd.DataFrame({'Test Page':ratings[ratings['pageURL'] == target_pageURL].page.unique()[0],\n",
    "                     'Hit': hit_status}, index=[0])\n",
    "\n",
    "    display_side_by_side(recom_page_df, previous_page_df, test_page_df)"
   ]
  },
  {
   "cell_type": "code",
   "execution_count": 181,
   "id": "5852ab80",
   "metadata": {
    "scrolled": false
   },
   "outputs": [
    {
     "name": "stdout",
     "output_type": "stream",
     "text": [
      "UserID: 8a126af7234b61961af8b6dd693423ae\n"
     ]
    },
    {
     "data": {
      "text/html": [
       "<table style=\"display:inline\" border=\"1\" class=\"dataframe\">\n",
       "  <thead>\n",
       "    <tr style=\"text-align: right;\">\n",
       "      <th></th>\n",
       "      <th>Top 10 Recommended Pages</th>\n",
       "    </tr>\n",
       "  </thead>\n",
       "  <tbody>\n",
       "    <tr>\n",
       "      <th>0</th>\n",
       "      <td>Sex &amp; Relationships - The Mix</td>\n",
       "    </tr>\n",
       "    <tr>\n",
       "      <th>1</th>\n",
       "      <td>Will my caution affect my job application? - The Mix</td>\n",
       "    </tr>\n",
       "    <tr>\n",
       "      <th>2</th>\n",
       "      <td>Buying prescription drugs online - The Mix</td>\n",
       "    </tr>\n",
       "    <tr>\n",
       "      <th>3</th>\n",
       "      <td>chatroom - The Mix</td>\n",
       "    </tr>\n",
       "    <tr>\n",
       "      <th>4</th>\n",
       "      <td>Hello 🦄 💖 ✨ — The Mix Support Community</td>\n",
       "    </tr>\n",
       "    <tr>\n",
       "      <th>5</th>\n",
       "      <td>Work &amp; Study - Page 2 of 24 - The Mix</td>\n",
       "    </tr>\n",
       "    <tr>\n",
       "      <th>6</th>\n",
       "      <td>How to break up with someone - TheMix.org.uk</td>\n",
       "    </tr>\n",
       "    <tr>\n",
       "      <th>7</th>\n",
       "      <td>Cheapest fags you can buy in the UK? — The Mix Support Community</td>\n",
       "    </tr>\n",
       "    <tr>\n",
       "      <th>8</th>\n",
       "      <td>Talking to your partner about your mental health - The Mix</td>\n",
       "    </tr>\n",
       "    <tr>\n",
       "      <th>9</th>\n",
       "      <td>Recovering after an abortion - TheMix.org.uk</td>\n",
       "    </tr>\n",
       "  </tbody>\n",
       "</table style=\"display:inline\"><table style=\"display:inline\" border=\"1\" class=\"dataframe\">\n",
       "  <thead>\n",
       "    <tr style=\"text-align: right;\">\n",
       "      <th></th>\n",
       "      <th>Pages Previously Viewed</th>\n",
       "    </tr>\n",
       "  </thead>\n",
       "  <tbody>\n",
       "    <tr>\n",
       "      <th>16823</th>\n",
       "      <td>Do I need to apply for settled or pre-settled status? - The Mix</td>\n",
       "    </tr>\n",
       "  </tbody>\n",
       "</table style=\"display:inline\"><table style=\"display:inline\" border=\"1\" class=\"dataframe\">\n",
       "  <thead>\n",
       "    <tr style=\"text-align: right;\">\n",
       "      <th></th>\n",
       "      <th>Test Page</th>\n",
       "      <th>Hit</th>\n",
       "    </tr>\n",
       "  </thead>\n",
       "  <tbody>\n",
       "    <tr>\n",
       "      <th>0</th>\n",
       "      <td>Buying prescription drugs online - The Mix</td>\n",
       "      <td>1</td>\n",
       "    </tr>\n",
       "  </tbody>\n",
       "</table style=\"display:inline\">"
      ]
     },
     "metadata": {},
     "output_type": "display_data"
    }
   ],
   "source": [
    "user_id = '8a126af7234b61961af8b6dd693423ae'\n",
    "print(f\"UserID: {user_id}\")\n",
    "recommendation_for_user(model_warp, user_id)"
   ]
  },
  {
   "cell_type": "code",
   "execution_count": 182,
   "id": "616cc955",
   "metadata": {
    "scrolled": false
   },
   "outputs": [
    {
     "name": "stdout",
     "output_type": "stream",
     "text": [
      "UserID: b1201219c1fb71f9af289258c586f56f\n"
     ]
    },
    {
     "data": {
      "text/html": [
       "<table style=\"display:inline\" border=\"1\" class=\"dataframe\">\n",
       "  <thead>\n",
       "    <tr style=\"text-align: right;\">\n",
       "      <th></th>\n",
       "      <th>Top 10 Recommended Pages</th>\n",
       "    </tr>\n",
       "  </thead>\n",
       "  <tbody>\n",
       "    <tr>\n",
       "      <th>0</th>\n",
       "      <td>chatroom - The Mix</td>\n",
       "    </tr>\n",
       "    <tr>\n",
       "      <th>1</th>\n",
       "      <td>Expert Q&amp;A - Sexplain and Jennifer Niven 28th Sept — The Mix Support Community</td>\n",
       "    </tr>\n",
       "    <tr>\n",
       "      <th>2</th>\n",
       "      <td>Paranoia - The Mix</td>\n",
       "    </tr>\n",
       "    <tr>\n",
       "      <th>3</th>\n",
       "      <td>Movin’ on from The Mix — The Mix Support Community</td>\n",
       "    </tr>\n",
       "    <tr>\n",
       "      <th>4</th>\n",
       "      <td>Genital warts - TheMix.org.uk</td>\n",
       "    </tr>\n",
       "    <tr>\n",
       "      <th>5</th>\n",
       "      <td>Sex in club toilets - The Mix</td>\n",
       "    </tr>\n",
       "    <tr>\n",
       "      <th>6</th>\n",
       "      <td>Favourite Cake - I will bake the winner [I am a hilariously bad baker] — The Mix Support Community</td>\n",
       "    </tr>\n",
       "    <tr>\n",
       "      <th>7</th>\n",
       "      <td>I'm a 14 year old girl and i cant make myself come — The Mix Support Community</td>\n",
       "    </tr>\n",
       "    <tr>\n",
       "      <th>8</th>\n",
       "      <td>Sex &amp; Relationships - Page 2 of 35 - The Mix</td>\n",
       "    </tr>\n",
       "    <tr>\n",
       "      <th>9</th>\n",
       "      <td>Badges: Preferences</td>\n",
       "    </tr>\n",
       "  </tbody>\n",
       "</table style=\"display:inline\"><table style=\"display:inline\" border=\"1\" class=\"dataframe\">\n",
       "  <thead>\n",
       "    <tr style=\"text-align: right;\">\n",
       "      <th></th>\n",
       "      <th>Pages Previously Viewed</th>\n",
       "    </tr>\n",
       "  </thead>\n",
       "  <tbody>\n",
       "    <tr>\n",
       "      <th>21820</th>\n",
       "      <td>Anything Goes — The Mix Support Community</td>\n",
       "    </tr>\n",
       "  </tbody>\n",
       "</table style=\"display:inline\"><table style=\"display:inline\" border=\"1\" class=\"dataframe\">\n",
       "  <thead>\n",
       "    <tr style=\"text-align: right;\">\n",
       "      <th></th>\n",
       "      <th>Test Page</th>\n",
       "      <th>Hit</th>\n",
       "    </tr>\n",
       "  </thead>\n",
       "  <tbody>\n",
       "    <tr>\n",
       "      <th>0</th>\n",
       "      <td>Favourite Cake - I will bake the winner [I am a hilariously bad baker] — The Mix Support Community</td>\n",
       "      <td>1</td>\n",
       "    </tr>\n",
       "  </tbody>\n",
       "</table style=\"display:inline\">"
      ]
     },
     "metadata": {},
     "output_type": "display_data"
    }
   ],
   "source": [
    "user_id = 'b1201219c1fb71f9af289258c586f56f'\n",
    "print(f\"UserID: {user_id}\")\n",
    "recommendation_for_user(model_warp, user_id)"
   ]
  },
  {
   "cell_type": "code",
   "execution_count": 183,
   "id": "ab241863",
   "metadata": {},
   "outputs": [
    {
     "name": "stdout",
     "output_type": "stream",
     "text": [
      "UserID: 0d33d641e363ded62e8fe5618661d4fe\n"
     ]
    },
    {
     "data": {
      "text/html": [
       "<table style=\"display:inline\" border=\"1\" class=\"dataframe\">\n",
       "  <thead>\n",
       "    <tr style=\"text-align: right;\">\n",
       "      <th></th>\n",
       "      <th>Top 10 Recommended Pages</th>\n",
       "    </tr>\n",
       "  </thead>\n",
       "  <tbody>\n",
       "    <tr>\n",
       "      <th>0</th>\n",
       "      <td>Pro rata pay - The Mix</td>\n",
       "    </tr>\n",
       "    <tr>\n",
       "      <th>1</th>\n",
       "      <td>What is polyamory? - The Mix</td>\n",
       "    </tr>\n",
       "    <tr>\n",
       "      <th>2</th>\n",
       "      <td>The Mix are always here to support you - The Mix</td>\n",
       "    </tr>\n",
       "    <tr>\n",
       "      <th>3</th>\n",
       "      <td>Understanding money, with MyBnk: Buying a house or a car and reading your bank statements - The Mix</td>\n",
       "    </tr>\n",
       "    <tr>\n",
       "      <th>4</th>\n",
       "      <td>Family Life - The Mix</td>\n",
       "    </tr>\n",
       "    <tr>\n",
       "      <th>5</th>\n",
       "      <td>Dealing with divorce - The Mix</td>\n",
       "    </tr>\n",
       "    <tr>\n",
       "      <th>6</th>\n",
       "      <td>5 tips for choosing the right student house for you - The Mix</td>\n",
       "    </tr>\n",
       "    <tr>\n",
       "      <th>7</th>\n",
       "      <td>Ambassador voices: Breaking the self-harm stigma - The Mix</td>\n",
       "    </tr>\n",
       "    <tr>\n",
       "      <th>8</th>\n",
       "      <td>Auto-links (full list) — The Mix Support Community</td>\n",
       "    </tr>\n",
       "    <tr>\n",
       "      <th>9</th>\n",
       "      <td>New Poll — The Mix Support Community</td>\n",
       "    </tr>\n",
       "  </tbody>\n",
       "</table style=\"display:inline\"><table style=\"display:inline\" border=\"1\" class=\"dataframe\">\n",
       "  <thead>\n",
       "    <tr style=\"text-align: right;\">\n",
       "      <th></th>\n",
       "      <th>Pages Previously Viewed</th>\n",
       "    </tr>\n",
       "  </thead>\n",
       "  <tbody>\n",
       "    <tr>\n",
       "      <th>1370</th>\n",
       "      <td>The Mix Community</td>\n",
       "    </tr>\n",
       "    <tr>\n",
       "      <th>1371</th>\n",
       "      <td>Health &amp; Wellbeing — The Mix Support Community</td>\n",
       "    </tr>\n",
       "    <tr>\n",
       "      <th>1372</th>\n",
       "      <td>Cautions and warnings - The Mix</td>\n",
       "    </tr>\n",
       "    <tr>\n",
       "      <th>1373</th>\n",
       "      <td>SHOUT — The Mix Support Community</td>\n",
       "    </tr>\n",
       "    <tr>\n",
       "      <th>1374</th>\n",
       "      <td>How body confident are you? — The Mix Support Community</td>\n",
       "    </tr>\n",
       "    <tr>\n",
       "      <th>1375</th>\n",
       "      <td>relatively happy/good news thread - Page 201 — The Mix Support Community</td>\n",
       "    </tr>\n",
       "    <tr>\n",
       "      <th>1376</th>\n",
       "      <td>Get Support - The Mix</td>\n",
       "    </tr>\n",
       "    <tr>\n",
       "      <th>1377</th>\n",
       "      <td>Speak to Our Team - The Mix</td>\n",
       "    </tr>\n",
       "    <tr>\n",
       "      <th>1378</th>\n",
       "      <td>The Mix Counselling Service - The Mix</td>\n",
       "    </tr>\n",
       "    <tr>\n",
       "      <th>1379</th>\n",
       "      <td>Money Works: Being on benefits - The Mix</td>\n",
       "    </tr>\n",
       "    <tr>\n",
       "      <th>1380</th>\n",
       "      <td>Exploring your sexuality? Switchboard LGBT+ Helpline offer their expert advice - The Mix</td>\n",
       "    </tr>\n",
       "    <tr>\n",
       "      <th>1382</th>\n",
       "      <td>Zero hour contracts - The Mix</td>\n",
       "    </tr>\n",
       "    <tr>\n",
       "      <th>1383</th>\n",
       "      <td>Cystitis - The Mix</td>\n",
       "    </tr>\n",
       "    <tr>\n",
       "      <th>1384</th>\n",
       "      <td>Thrush - The Mix</td>\n",
       "    </tr>\n",
       "  </tbody>\n",
       "</table style=\"display:inline\"><table style=\"display:inline\" border=\"1\" class=\"dataframe\">\n",
       "  <thead>\n",
       "    <tr style=\"text-align: right;\">\n",
       "      <th></th>\n",
       "      <th>Test Page</th>\n",
       "      <th>Hit</th>\n",
       "    </tr>\n",
       "  </thead>\n",
       "  <tbody>\n",
       "    <tr>\n",
       "      <th>0</th>\n",
       "      <td>Pro rata pay - The Mix</td>\n",
       "      <td>1</td>\n",
       "    </tr>\n",
       "  </tbody>\n",
       "</table style=\"display:inline\">"
      ]
     },
     "metadata": {},
     "output_type": "display_data"
    }
   ],
   "source": [
    "user_id = '0d33d641e363ded62e8fe5618661d4fe'\n",
    "print(f\"UserID: {user_id}\")\n",
    "recommendation_for_user(model_warp, user_id)"
   ]
  },
  {
   "cell_type": "code",
   "execution_count": 218,
   "id": "d6f3d274",
   "metadata": {},
   "outputs": [
    {
     "name": "stdout",
     "output_type": "stream",
     "text": [
      "UserID: 07bb523a073fb805aa26452a69801966\n"
     ]
    },
    {
     "data": {
      "text/html": [
       "<table style=\"display:inline\" border=\"1\" class=\"dataframe\">\n",
       "  <thead>\n",
       "    <tr style=\"text-align: right;\">\n",
       "      <th></th>\n",
       "      <th>Top 10 Recommended Pages</th>\n",
       "    </tr>\n",
       "  </thead>\n",
       "  <tbody>\n",
       "    <tr>\n",
       "      <th>0</th>\n",
       "      <td>chatroom - The Mix</td>\n",
       "    </tr>\n",
       "    <tr>\n",
       "      <th>1</th>\n",
       "      <td>Connect four! - Page 9 — The Mix Support Community</td>\n",
       "    </tr>\n",
       "    <tr>\n",
       "      <th>2</th>\n",
       "      <td>Body Image and Self-Esteem - The Mix</td>\n",
       "    </tr>\n",
       "    <tr>\n",
       "      <th>3</th>\n",
       "      <td>Introducing the Body &amp; Soul Club - The Mix</td>\n",
       "    </tr>\n",
       "    <tr>\n",
       "      <th>4</th>\n",
       "      <td>General chit chat (OP GreenTea) - Page 542 — The Mix Support Community</td>\n",
       "    </tr>\n",
       "    <tr>\n",
       "      <th>5</th>\n",
       "      <td>The Mix Support Community</td>\n",
       "    </tr>\n",
       "    <tr>\n",
       "      <th>6</th>\n",
       "      <td>how can I deal with my diagnosis? — The Mix Support Community</td>\n",
       "    </tr>\n",
       "    <tr>\n",
       "      <th>7</th>\n",
       "      <td>Change The World — The Mix Support Community</td>\n",
       "    </tr>\n",
       "    <tr>\n",
       "      <th>8</th>\n",
       "      <td>The story of a Mix volunteer who set up her own mental health campaign - The Mix</td>\n",
       "    </tr>\n",
       "    <tr>\n",
       "      <th>9</th>\n",
       "      <td>I’m ugly — The Mix Support Community</td>\n",
       "    </tr>\n",
       "  </tbody>\n",
       "</table style=\"display:inline\"><table style=\"display:inline\" border=\"1\" class=\"dataframe\">\n",
       "  <thead>\n",
       "    <tr style=\"text-align: right;\">\n",
       "      <th></th>\n",
       "      <th>Pages Previously Viewed</th>\n",
       "    </tr>\n",
       "  </thead>\n",
       "  <tbody>\n",
       "    <tr>\n",
       "      <th>808</th>\n",
       "      <td>The Mix - Essential support for under 25s</td>\n",
       "    </tr>\n",
       "    <tr>\n",
       "      <th>809</th>\n",
       "      <td>About Us - The Mix</td>\n",
       "    </tr>\n",
       "    <tr>\n",
       "      <th>810</th>\n",
       "      <td>Meet our team - The Mix</td>\n",
       "    </tr>\n",
       "  </tbody>\n",
       "</table style=\"display:inline\"><table style=\"display:inline\" border=\"1\" class=\"dataframe\">\n",
       "  <thead>\n",
       "    <tr style=\"text-align: right;\">\n",
       "      <th></th>\n",
       "      <th>Test Page</th>\n",
       "      <th>Hit</th>\n",
       "    </tr>\n",
       "  </thead>\n",
       "  <tbody>\n",
       "    <tr>\n",
       "      <th>0</th>\n",
       "      <td>Body Image and Self-Esteem - The Mix</td>\n",
       "      <td>1</td>\n",
       "    </tr>\n",
       "  </tbody>\n",
       "</table style=\"display:inline\">"
      ]
     },
     "metadata": {},
     "output_type": "display_data"
    }
   ],
   "source": [
    "user_id = '07bb523a073fb805aa26452a69801966'\n",
    "print(f\"UserID: {user_id}\")\n",
    "recommendation_for_user(model_warp, user_id)"
   ]
  },
  {
   "cell_type": "code",
   "execution_count": 215,
   "id": "314c82fa",
   "metadata": {
    "scrolled": false
   },
   "outputs": [
    {
     "data": {
      "text/plain": [
       "array(['07338e01542c9284eb4bf330f4607c2b',\n",
       "       '0742dbfc648ca86546a36528b3b79eac',\n",
       "       '077ccc04b2515394cae9c48f135f7e7d',\n",
       "       '07826918c5b1e435cf81a3118db10163',\n",
       "       '0785d26b4dab9c248441f0c9bd7fe83f',\n",
       "       '07939c1831a30a88b1c344e355a4f934',\n",
       "       '07bb0d724ad2a3f055871fec87e425bb',\n",
       "       '07bb523a073fb805aa26452a69801966',\n",
       "       '07bfa7c4b91eafca2a90d630aaf3c655',\n",
       "       '07c0846d71a72ac68227b3c4923d7d14'], dtype=object)"
      ]
     },
     "execution_count": 215,
     "metadata": {},
     "output_type": "execute_result"
    }
   ],
   "source": [
    "ratings.uid.unique()[120:130]"
   ]
  },
  {
   "cell_type": "markdown",
   "id": "b1925c7a",
   "metadata": {},
   "source": [
    "### Evaluation Metrics"
   ]
  },
  {
   "cell_type": "markdown",
   "id": "b72d7e73",
   "metadata": {},
   "source": [
    "#### HR"
   ]
  },
  {
   "cell_type": "code",
   "execution_count": 54,
   "id": "674eda7e",
   "metadata": {},
   "outputs": [],
   "source": [
    "def user_hit_status(model, user_id):\n",
    "    test_pageURL = test_ratings[test_ratings.uid==user_id]['pageURL'].values[0]\n",
    "    n_users, n_items = interactions.shape\n",
    "    user_x = user_dict[user_id]\n",
    "    scores = pd.Series(model.predict(user_x, np.arange(n_items)))\n",
    "    scores.index = interactions.columns\n",
    "\n",
    "\n",
    "    matrix = interactions\n",
    "    mask = (matrix[matrix.index==user_id]==0).values[0]\n",
    "    test_items = list(np.random.choice(matrix.columns[mask], 99)) + [test_pageURL]\n",
    "    hit_items = scores[scores.index.isin(test_items)].sort_values(ascending=False).index[:10]\n",
    "\n",
    "    if test_pageURL in hit_items:\n",
    "        hit_status=1\n",
    "    else:\n",
    "        hit_status=0\n",
    "\n",
    "\n",
    "    return hit_status"
   ]
  },
  {
   "cell_type": "code",
   "execution_count": 55,
   "id": "68e8d784",
   "metadata": {},
   "outputs": [],
   "source": [
    "def hit_ratio(model):\n",
    "    hit_ratio_list = []\n",
    "    for user_id in ratings.uid.unique():\n",
    "        hr = user_hit_status(model,  user_id)\n",
    "        hit_ratio_list.append(hr)\n",
    "\n",
    "    return round(np.mean(hit_ratio_list), 3)"
   ]
  },
  {
   "cell_type": "code",
   "execution_count": 56,
   "id": "226230bb",
   "metadata": {},
   "outputs": [
    {
     "name": "stdout",
     "output_type": "stream",
     "text": [
      "Hit Ratio of lightFM pure collaborative model: 0.849\n"
     ]
    }
   ],
   "source": [
    "hit_ratio(model_warp)\n",
    "\n",
    "print(f\"Hit Ratio of lightFM pure collaborative model: {hit_ratio(model_warp)}\")"
   ]
  },
  {
   "cell_type": "markdown",
   "id": "1704b0b5",
   "metadata": {},
   "source": [
    "#### NDCG "
   ]
  },
  {
   "cell_type": "code",
   "execution_count": 57,
   "id": "f3f7049c",
   "metadata": {},
   "outputs": [],
   "source": [
    "def user_ndcg_score(model, user_id):\n",
    "    test_pageURL = test_ratings[test_ratings.uid==user_id]['pageURL'].values[0]\n",
    "    n_users, n_items = interactions.shape\n",
    "    user_x = user_dict[user_id]\n",
    "    scores = pd.Series(model.predict(user_x, np.arange(n_items)))\n",
    "    scores.index = interactions.columns\n",
    "    scores = pd.DataFrame(scores).rename(columns={0: 'page_score'})\n",
    "    scores['score_rank'] = scores['page_score'].rank(\n",
    "                method='first', ascending=False)\n",
    "\n",
    "    test_rank = scores[scores.index == test_pageURL]['score_rank'][0]\n",
    "    ndcg = math.log(2) / math.log(1 + test_rank)\n",
    "\n",
    "    return round(ndcg, 3)"
   ]
  },
  {
   "cell_type": "code",
   "execution_count": 58,
   "id": "570d5550",
   "metadata": {},
   "outputs": [],
   "source": [
    "def ndcg_ratio(model):\n",
    "    ndcg_list = []\n",
    "    for user_id in ratings.uid.unique():\n",
    "        ndcg = user_ndcg_score(model, user_id)\n",
    "        ndcg_list.append(ndcg)\n",
    "    \n",
    "    return round(np.mean(ndcg_list), 3)"
   ]
  },
  {
   "cell_type": "code",
   "execution_count": 59,
   "id": "6f894568",
   "metadata": {},
   "outputs": [
    {
     "name": "stdout",
     "output_type": "stream",
     "text": [
      "NDCG Ratio of lightFM pure collaborative model: 0.368\n"
     ]
    }
   ],
   "source": [
    "ndcg_ratio(model_warp)\n",
    "\n",
    "print(f\"NDCG Ratio of lightFM pure collaborative model: {ndcg_ratio(model_warp)}\")"
   ]
  },
  {
   "cell_type": "code",
   "execution_count": null,
   "id": "341ba2fe",
   "metadata": {},
   "outputs": [],
   "source": []
  },
  {
   "cell_type": "code",
   "execution_count": null,
   "id": "50121178",
   "metadata": {},
   "outputs": [],
   "source": []
  },
  {
   "cell_type": "code",
   "execution_count": null,
   "id": "2b5dd094",
   "metadata": {},
   "outputs": [],
   "source": []
  },
  {
   "cell_type": "code",
   "execution_count": 60,
   "id": "75438a88",
   "metadata": {},
   "outputs": [
    {
     "name": "stdout",
     "output_type": "stream",
     "text": [
      "Hit Ratio of lightFM pure collaborative model: 0.525\n"
     ]
    }
   ],
   "source": [
    "hit_ratio(model_bpr)\n",
    "\n",
    "print(f\"Hit Ratio of lightFM pure collaborative model: {hit_ratio(model_bpr)}\")"
   ]
  },
  {
   "cell_type": "code",
   "execution_count": 61,
   "id": "e3558df6",
   "metadata": {},
   "outputs": [
    {
     "name": "stdout",
     "output_type": "stream",
     "text": [
      "NDCG Ratio of lightFM pure collaborative model: 0.204\n"
     ]
    }
   ],
   "source": [
    "ndcg_ratio(model_bpr)\n",
    "\n",
    "print(f\"NDCG Ratio of lightFM pure collaborative model: {ndcg_ratio(model_bpr)}\")"
   ]
  },
  {
   "cell_type": "code",
   "execution_count": null,
   "id": "2e096860",
   "metadata": {},
   "outputs": [],
   "source": []
  }
 ],
 "metadata": {
  "kernelspec": {
   "display_name": "Python 3",
   "language": "python",
   "name": "python3"
  },
  "language_info": {
   "codemirror_mode": {
    "name": "ipython",
    "version": 3
   },
   "file_extension": ".py",
   "mimetype": "text/x-python",
   "name": "python",
   "nbconvert_exporter": "python",
   "pygments_lexer": "ipython3",
   "version": "3.8.5"
  }
 },
 "nbformat": 4,
 "nbformat_minor": 5
}
